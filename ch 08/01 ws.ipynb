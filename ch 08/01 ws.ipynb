{
 "cells": [
  {
   "cell_type": "markdown",
   "id": "d796070e-937a-48ea-9953-7d5269402c5b",
   "metadata": {},
   "source": [
    "# WS 01"
   ]
  },
  {
   "cell_type": "code",
   "execution_count": 16,
   "id": "20e388fb-282b-4309-8192-c172b0553ca3",
   "metadata": {},
   "outputs": [],
   "source": [
    "import cv2\n",
    "import numpy as np"
   ]
  },
  {
   "cell_type": "code",
   "execution_count": 17,
   "id": "fadf4733-76e7-481b-9b82-c1f4efd08ec1",
   "metadata": {},
   "outputs": [],
   "source": [
    "image = np.array([[1, 0, 2, 1, 0],\n",
    "                  [0, 2, 3, 0, 1],\n",
    "                  [1, 0, 1, 1, 2],\n",
    "                  [0, 2, 2, 0, 3],                \n",
    "                  [0, 4, 1, 2, 0]])\n",
    "\n",
    "image = image / 5.0"
   ]
  },
  {
   "cell_type": "code",
   "execution_count": 18,
   "id": "793e482e-4b6f-42a5-9d83-c95162d0caaa",
   "metadata": {},
   "outputs": [],
   "source": [
    "kernel1 = np.array([[-1, 0, 1],\n",
    "                    [-1, 0, 1],\n",
    "                    [-1, 0, 1]])\n",
    "\n",
    "im2 = cv2.filter2D(src=image, ddepth=-1, kernel=kernel1)"
   ]
  },
  {
   "cell_type": "code",
   "execution_count": 19,
   "id": "527a1526-fe4b-42ad-bf08-d48a91cbfb85",
   "metadata": {},
   "outputs": [
    {
     "data": {
      "text/plain": [
       "array([[ 0,  7, -3, -6,  0],\n",
       "       [ 0,  4,  0, -3,  0],\n",
       "       [ 0,  5, -3,  0,  0],\n",
       "       [ 0,  3, -3,  0,  0],\n",
       "       [ 0,  5, -6,  0,  0]])"
      ]
     },
     "execution_count": 19,
     "metadata": {},
     "output_type": "execute_result"
    }
   ],
   "source": [
    "im2_int = (im2*5).astype('int')\n",
    "im2_int"
   ]
  },
  {
   "cell_type": "markdown",
   "id": "53d6518b-cc62-4eb0-bf23-f84e870a3703",
   "metadata": {},
   "source": [
    "# ws 02"
   ]
  },
  {
   "cell_type": "code",
   "execution_count": 20,
   "id": "6b46feb0-0621-48c9-a451-7ac675da68ef",
   "metadata": {},
   "outputs": [
    {
     "name": "stdout",
     "output_type": "stream",
     "text": [
      "Could not read image\n"
     ]
    },
    {
     "ename": "error",
     "evalue": "OpenCV(4.10.0) D:\\a\\opencv-python\\opencv-python\\opencv\\modules\\imgproc\\src\\filter.dispatch.cpp:1528: error: (-215:Assertion failed) !_src.empty() in function 'cv::filter2D'\n",
     "output_type": "error",
     "traceback": [
      "\u001b[1;31m---------------------------------------------------------------------------\u001b[0m",
      "\u001b[1;31merror\u001b[0m                                     Traceback (most recent call last)",
      "Cell \u001b[1;32mIn[20], line 28\u001b[0m\n\u001b[0;32m      7\u001b[0m kernel1 \u001b[38;5;241m=\u001b[39m np\u001b[38;5;241m.\u001b[39marray([[\u001b[38;5;241m-\u001b[39m\u001b[38;5;241m1\u001b[39m, \u001b[38;5;241m0\u001b[39m, \u001b[38;5;241m1\u001b[39m], \u001b[38;5;66;03m# \u001b[39;00m\n\u001b[0;32m      8\u001b[0m                     [\u001b[38;5;241m-\u001b[39m\u001b[38;5;241m3\u001b[39m, \u001b[38;5;241m0\u001b[39m, \u001b[38;5;241m3\u001b[39m],\n\u001b[0;32m      9\u001b[0m                     [\u001b[38;5;241m-\u001b[39m\u001b[38;5;241m1\u001b[39m, \u001b[38;5;241m0\u001b[39m, \u001b[38;5;241m1\u001b[39m]])\n\u001b[0;32m     11\u001b[0m \u001b[38;5;66;03m# kernel1 = np.array([[-1,-3, -1], # \u001b[39;00m\n\u001b[0;32m     12\u001b[0m \u001b[38;5;66;03m#                     [0,  0,  0],\u001b[39;00m\n\u001b[0;32m     13\u001b[0m \u001b[38;5;66;03m#                     [1,  3,  1]])\u001b[39;00m\n\u001b[1;32m   (...)\u001b[0m\n\u001b[0;32m     25\u001b[0m \u001b[38;5;66;03m#                     [-1, 8, -1],\u001b[39;00m\n\u001b[0;32m     26\u001b[0m \u001b[38;5;66;03m#                     [-1, -1, -1]])\u001b[39;00m\n\u001b[1;32m---> 28\u001b[0m fea_map \u001b[38;5;241m=\u001b[39m \u001b[43mcv2\u001b[49m\u001b[38;5;241;43m.\u001b[39;49m\u001b[43mfilter2D\u001b[49m\u001b[43m(\u001b[49m\u001b[43msrc\u001b[49m\u001b[38;5;241;43m=\u001b[39;49m\u001b[43mimage\u001b[49m\u001b[43m,\u001b[49m\u001b[43m \u001b[49m\u001b[43mddepth\u001b[49m\u001b[38;5;241;43m=\u001b[39;49m\u001b[38;5;241;43m-\u001b[39;49m\u001b[38;5;241;43m1\u001b[39;49m\u001b[43m,\u001b[49m\u001b[43m \u001b[49m\u001b[43mkernel\u001b[49m\u001b[38;5;241;43m=\u001b[39;49m\u001b[43mkernel1\u001b[49m\u001b[43m)\u001b[49m\n\u001b[0;32m     30\u001b[0m cv2\u001b[38;5;241m.\u001b[39mimshow(\u001b[38;5;124m'\u001b[39m\u001b[38;5;124mOriginal\u001b[39m\u001b[38;5;124m'\u001b[39m, image)\n\u001b[0;32m     31\u001b[0m cv2\u001b[38;5;241m.\u001b[39mimshow(\u001b[38;5;124m'\u001b[39m\u001b[38;5;124mFeature Map\u001b[39m\u001b[38;5;124m'\u001b[39m, fea_map)\n",
      "\u001b[1;31merror\u001b[0m: OpenCV(4.10.0) D:\\a\\opencv-python\\opencv-python\\opencv\\modules\\imgproc\\src\\filter.dispatch.cpp:1528: error: (-215:Assertion failed) !_src.empty() in function 'cv::filter2D'\n"
     ]
    }
   ],
   "source": [
    "image = cv2.imread('../building1.jpg')\n",
    "\n",
    "if image is None:\n",
    "    print('Could not read image')\n",
    "\n",
    "    \n",
    "kernel1 = np.array([[-1, 0, 1], # \n",
    "                    [-3, 0, 3],\n",
    "                    [-1, 0, 1]])\n",
    "    \n",
    "# kernel1 = np.array([[-1,-3, -1], # \n",
    "#                     [0,  0,  0],\n",
    "#                     [1,  3,  1]])\n",
    "\n",
    "\n",
    "# kernel1 = np.array([[0,  1,  3], # \n",
    "#                     [-1,  0, 1],\n",
    "#                     [-3,-1,  0]])\n",
    "\n",
    "# kernel1 = np.array([[-3, -1, 0], # \n",
    "#                     [-1,  0, 1],\n",
    "#                     [0,  1, 3]])\n",
    "\n",
    "# kernel1 = np.array([[-1, -1, -1], # \n",
    "#                     [-1, 8, -1],\n",
    "#                     [-1, -1, -1]])\n",
    "\n",
    "fea_map = cv2.filter2D(src=image, ddepth=-1, kernel=kernel1)\n",
    "\n",
    "cv2.imshow('Original', image)\n",
    "cv2.imshow('Feature Map', fea_map)\n",
    "cv2.imwrite('feature_map1.jpg', fea_map)\n",
    "cv2.waitKey()\n",
    "cv2.destroyAllWindows()"
   ]
  },
  {
   "cell_type": "markdown",
   "id": "d6de44dd-697d-4b12-b53e-512c594ff321",
   "metadata": {},
   "source": [
    "# ws 03"
   ]
  },
  {
   "cell_type": "code",
   "execution_count": null,
   "id": "8dd4fa42-82c1-4eeb-b8aa-0b500b1036d4",
   "metadata": {},
   "outputs": [],
   "source": [
    "import numpy as np\n",
    "from tensorflow.keras import Sequential\n",
    "from tensorflow.keras.layers import MaxPool2D, AveragePooling2D \n",
    " \n",
    "image = np.array([[2, 3, 4, 2], \n",
    "                  [8, 5, 5, 1], \n",
    "                  [6, 7, 9, 4], \n",
    "                  [3, 1, 4, 5]]) \n",
    " \n",
    "arr = image.reshape(1, 4, 4, 1) \n",
    "   \n",
    "model = Sequential() \n",
    "model.add(MaxPool2D(pool_size=(2, 2) )) \n",
    "# model.add(AveragePooling2D(pool_size=(2, 2))) \n",
    " \n",
    "output = model.predict(arr) \n",
    "output = np.squeeze(output) \n",
    "print(output)"
   ]
  },
  {
   "cell_type": "markdown",
   "id": "d3a4ebff-2471-4abe-af35-87f211b6097a",
   "metadata": {},
   "source": [
    "# ws 04"
   ]
  },
  {
   "cell_type": "code",
   "execution_count": null,
   "id": "31b47120-fc30-463b-b094-029a6e75d897",
   "metadata": {},
   "outputs": [],
   "source": [
    "import numpy as np\n",
    "from PIL import Image, ImageOps\n",
    "\n",
    "imgfile = 'feature_map1.jpg'\n",
    "\n",
    "image = Image.open(imgfile).convert('L')\n",
    "image"
   ]
  },
  {
   "cell_type": "code",
   "execution_count": null,
   "id": "28798fb3-c3e7-498b-9406-444cd471bd17",
   "metadata": {},
   "outputs": [],
   "source": [
    "pixel = np.array(image)\n",
    "pixel.shape"
   ]
  },
  {
   "cell_type": "code",
   "execution_count": null,
   "id": "12333dfa-d97c-4f1d-919a-f672d28cedc1",
   "metadata": {},
   "outputs": [],
   "source": [
    "from tensorflow.keras import Sequential\n",
    "from tensorflow.keras.layers import MaxPool2D, AveragePooling2D \n",
    "\n",
    "arr = pixel.reshape(1, 188, 268, 1)  \n",
    "   \n",
    "model = Sequential() \n",
    "model.add(MaxPool2D(pool_size=(2, 2)))\n",
    "# model.add(MaxPool2D(pool_size=(3, 3)))\n",
    "   \n",
    "output = model.predict(arr) \n",
    " \n",
    "output = np.squeeze(output) \n",
    "Image.fromarray(output)"
   ]
  },
  {
   "cell_type": "code",
   "execution_count": null,
   "id": "90bbe913-1c89-42a7-a24a-424041dcae48",
   "metadata": {},
   "outputs": [],
   "source": [
    "output.shape"
   ]
  }
 ],
 "metadata": {
  "kernelspec": {
   "display_name": "Python 3",
   "language": "python",
   "name": "python3"
  },
  "language_info": {
   "codemirror_mode": {
    "name": "ipython",
    "version": 3
   },
   "file_extension": ".py",
   "mimetype": "text/x-python",
   "name": "python",
   "nbconvert_exporter": "python",
   "pygments_lexer": "ipython3",
   "version": "3.11.9"
  }
 },
 "nbformat": 4,
 "nbformat_minor": 5
}
