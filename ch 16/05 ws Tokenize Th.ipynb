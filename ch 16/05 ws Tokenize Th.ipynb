{
 "cells": [
  {
   "cell_type": "markdown",
   "metadata": {
    "id": "id04pqaCl1g2"
   },
   "source": [
    "# ws 05 Tokenize"
   ]
  },
  {
   "cell_type": "markdown",
   "metadata": {
    "id": "LxjyrKlNl_Fn",
    "tags": []
   },
   "source": [
    "## deepcut"
   ]
  },
  {
   "cell_type": "code",
   "execution_count": 1,
   "metadata": {
    "colab": {
     "base_uri": "https://localhost:8080/"
    },
    "executionInfo": {
     "elapsed": 4226,
     "status": "ok",
     "timestamp": 1634336101271,
     "user": {
      "displayName": "JKob San",
      "photoUrl": "https://lh3.googleusercontent.com/a-/AOh14GgnClMV_IVnXVunt7D1mXXMatSQTrEGp72MrhCIeQ=s64",
      "userId": "15910273739366067110"
     },
     "user_tz": -420
    },
    "id": "ZDi-uQooljVw",
    "outputId": "40531528-48a0-4d74-c598-9fe6d76c4cb4",
    "tags": []
   },
   "outputs": [
    {
     "name": "stderr",
     "output_type": "stream",
     "text": [
      "\n",
      "[notice] A new release of pip is available: 24.3.1 -> 25.0\n",
      "[notice] To update, run: python.exe -m pip install --upgrade pip\n"
     ]
    }
   ],
   "source": [
    "!pip install -q deepcut"
   ]
  },
  {
   "cell_type": "code",
   "execution_count": 2,
   "metadata": {
    "colab": {
     "base_uri": "https://localhost:8080/"
    },
    "executionInfo": {
     "elapsed": 339,
     "status": "ok",
     "timestamp": 1634339555335,
     "user": {
      "displayName": "JKob San",
      "photoUrl": "https://lh3.googleusercontent.com/a-/AOh14GgnClMV_IVnXVunt7D1mXXMatSQTrEGp72MrhCIeQ=s64",
      "userId": "15910273739366067110"
     },
     "user_tz": -420
    },
    "id": "OIIR8xTglWtH",
    "outputId": "5fb52ba7-4143-4b5e-b9d0-1d6dd4532596"
   },
   "outputs": [
    {
     "name": "stderr",
     "output_type": "stream",
     "text": [
      "c:\\Users\\ASUS\\AppData\\Local\\Programs\\Python\\Python312\\Lib\\site-packages\\keras\\src\\layers\\core\\embedding.py:90: UserWarning: Argument `input_length` is deprecated. Just remove it.\n",
      "  warnings.warn(\n",
      "c:\\Users\\ASUS\\AppData\\Local\\Programs\\Python\\Python312\\Lib\\site-packages\\keras\\src\\layers\\core\\dense.py:87: UserWarning: Do not pass an `input_shape`/`input_dim` argument to a layer. When using Sequential models, prefer using an `Input(shape)` object as the first layer in the model instead.\n",
      "  super().__init__(activity_regularizer=activity_regularizer, **kwargs)\n"
     ]
    },
    {
     "name": "stdout",
     "output_type": "stream",
     "text": [
      "\u001b[1m2/2\u001b[0m \u001b[32m━━━━━━━━━━━━━━━━━━━━\u001b[0m\u001b[37m\u001b[0m \u001b[1m2s\u001b[0m 1s/step\n",
      "['สาวสาว', 'ตากลม', 'นั่ง', 'ตากลม', 'เขียน', 'โปรแกรม', 'ใน', 'ประเทศไทย']\n"
     ]
    }
   ],
   "source": [
    "import deepcut\n",
    "sentence = 'สาวสาวตากลมนั่งตากลมเขียนโปรแกรมในประเทศไทย'\n",
    "word_tk = deepcut.tokenize(sentence)\n",
    "\n",
    "print(word_tk)"
   ]
  },
  {
   "cell_type": "markdown",
   "metadata": {
    "id": "n9L_52Rdl97v"
   },
   "source": [
    "# pythainlp"
   ]
  },
  {
   "cell_type": "code",
   "execution_count": 3,
   "metadata": {
    "colab": {
     "base_uri": "https://localhost:8080/",
     "height": 474
    },
    "executionInfo": {
     "elapsed": 13016,
     "status": "ok",
     "timestamp": 1634339572877,
     "user": {
      "displayName": "JKob San",
      "photoUrl": "https://lh3.googleusercontent.com/a-/AOh14GgnClMV_IVnXVunt7D1mXXMatSQTrEGp72MrhCIeQ=s64",
      "userId": "15910273739366067110"
     },
     "user_tz": -420
    },
    "id": "A5Gto-holxm3",
    "outputId": "98839c0e-f3d1-492a-ea89-f0c9c83e396e"
   },
   "outputs": [
    {
     "name": "stdout",
     "output_type": "stream",
     "text": [
      "Collecting pythainlp\n",
      "  Downloading pythainlp-5.0.5-py3-none-any.whl.metadata (7.5 kB)\n",
      "Requirement already satisfied: requests>=2.22.0 in c:\\users\\asus\\appdata\\local\\programs\\python\\python312\\lib\\site-packages (from pythainlp) (2.32.3)\n",
      "Requirement already satisfied: tzdata in c:\\users\\asus\\appdata\\local\\programs\\python\\python312\\lib\\site-packages (from pythainlp) (2024.1)\n",
      "Requirement already satisfied: charset-normalizer<4,>=2 in c:\\users\\asus\\appdata\\local\\programs\\python\\python312\\lib\\site-packages (from requests>=2.22.0->pythainlp) (3.3.2)\n",
      "Requirement already satisfied: idna<4,>=2.5 in c:\\users\\asus\\appdata\\local\\programs\\python\\python312\\lib\\site-packages (from requests>=2.22.0->pythainlp) (3.8)\n",
      "Requirement already satisfied: urllib3<3,>=1.21.1 in c:\\users\\asus\\appdata\\local\\programs\\python\\python312\\lib\\site-packages (from requests>=2.22.0->pythainlp) (2.2.3)\n",
      "Requirement already satisfied: certifi>=2017.4.17 in c:\\users\\asus\\appdata\\local\\programs\\python\\python312\\lib\\site-packages (from requests>=2.22.0->pythainlp) (2024.8.30)\n",
      "Downloading pythainlp-5.0.5-py3-none-any.whl (17.9 MB)\n",
      "   ---------------------------------------- 0.0/17.9 MB ? eta -:--:--\n",
      "   -- ------------------------------------- 1.3/17.9 MB 7.4 MB/s eta 0:00:03\n",
      "   ------- -------------------------------- 3.4/17.9 MB 8.7 MB/s eta 0:00:02\n",
      "   ------------ --------------------------- 5.5/17.9 MB 9.1 MB/s eta 0:00:02\n",
      "   ---------------- ----------------------- 7.6/17.9 MB 9.4 MB/s eta 0:00:02\n",
      "   ---------------------- ----------------- 10.0/17.9 MB 9.5 MB/s eta 0:00:01\n",
      "   -------------------------- ------------- 12.1/17.9 MB 9.7 MB/s eta 0:00:01\n",
      "   ------------------------------- -------- 14.2/17.9 MB 9.7 MB/s eta 0:00:01\n",
      "   ------------------------------------ --- 16.5/17.9 MB 9.8 MB/s eta 0:00:01\n",
      "   ---------------------------------------- 17.9/17.9 MB 9.7 MB/s eta 0:00:00\n",
      "Installing collected packages: pythainlp\n",
      "Successfully installed pythainlp-5.0.5\n"
     ]
    },
    {
     "name": "stderr",
     "output_type": "stream",
     "text": [
      "\n",
      "[notice] A new release of pip is available: 24.3.1 -> 25.0\n",
      "[notice] To update, run: python.exe -m pip install --upgrade pip\n"
     ]
    }
   ],
   "source": [
    "!pip install pythainlp"
   ]
  },
  {
   "cell_type": "code",
   "execution_count": 4,
   "metadata": {
    "colab": {
     "base_uri": "https://localhost:8080/"
    },
    "executionInfo": {
     "elapsed": 2740,
     "status": "ok",
     "timestamp": 1634339575600,
     "user": {
      "displayName": "JKob San",
      "photoUrl": "https://lh3.googleusercontent.com/a-/AOh14GgnClMV_IVnXVunt7D1mXXMatSQTrEGp72MrhCIeQ=s64",
      "userId": "15910273739366067110"
     },
     "user_tz": -420
    },
    "id": "nvnjyamzmwbF",
    "outputId": "2afb9aca-9bb7-4b6c-9eb1-4b86d464ea17"
   },
   "outputs": [
    {
     "name": "stdout",
     "output_type": "stream",
     "text": [
      "\u001b[1m2/2\u001b[0m \u001b[32m━━━━━━━━━━━━━━━━━━━━\u001b[0m\u001b[37m\u001b[0m \u001b[1m0s\u001b[0m 7ms/step \n",
      "['สาวสาว', 'ตากลม', 'นั่ง', 'ตากลม', 'เขียน', 'โปรแกรม', 'ใน', 'ประเทศไทย']\n"
     ]
    }
   ],
   "source": [
    "import pythainlp\n",
    "\n",
    "word_tk = pythainlp.tokenize.word_tokenize(sentence, engine='deepcut')\n",
    "print(word_tk)"
   ]
  },
  {
   "cell_type": "markdown",
   "metadata": {
    "id": "s99__DyTn0tl"
   },
   "source": [
    "# attacut"
   ]
  },
  {
   "cell_type": "code",
   "execution_count": 13,
   "metadata": {
    "colab": {
     "base_uri": "https://localhost:8080/"
    },
    "executionInfo": {
     "elapsed": 5829,
     "status": "ok",
     "timestamp": 1634339584632,
     "user": {
      "displayName": "JKob San",
      "photoUrl": "https://lh3.googleusercontent.com/a-/AOh14GgnClMV_IVnXVunt7D1mXXMatSQTrEGp72MrhCIeQ=s64",
      "userId": "15910273739366067110"
     },
     "user_tz": -420
    },
    "id": "kyZ7nbbMnUlZ",
    "outputId": "20ffc0a2-fa58-499c-972b-31c8b341fb71"
   },
   "outputs": [
    {
     "name": "stdout",
     "output_type": "stream",
     "text": [
      "Requirement already satisfied: attacut in c:\\users\\asus\\appdata\\local\\programs\\python\\python312\\lib\\site-packages (1.0.6)\n",
      "Requirement already satisfied: docopt>=0.6.2 in c:\\users\\asus\\appdata\\local\\programs\\python\\python312\\lib\\site-packages (from attacut) (0.6.2)\n",
      "Requirement already satisfied: fire>=0.1.3 in c:\\users\\asus\\appdata\\local\\programs\\python\\python312\\lib\\site-packages (from attacut) (0.7.0)\n",
      "Requirement already satisfied: nptyping>=0.2.0 in c:\\users\\asus\\appdata\\local\\programs\\python\\python312\\lib\\site-packages (from attacut) (2.5.0)\n",
      "Requirement already satisfied: numpy>=1.17.0 in c:\\users\\asus\\appdata\\local\\programs\\python\\python312\\lib\\site-packages (from attacut) (1.26.4)\n",
      "Requirement already satisfied: pyyaml>=5.1.2 in c:\\users\\asus\\appdata\\local\\programs\\python\\python312\\lib\\site-packages (from attacut) (6.0.2)\n",
      "Requirement already satisfied: six>=1.12.0 in c:\\users\\asus\\appdata\\local\\programs\\python\\python312\\lib\\site-packages (from attacut) (1.16.0)\n",
      "Requirement already satisfied: ssg>=0.0.4 in c:\\users\\asus\\appdata\\local\\programs\\python\\python312\\lib\\site-packages (from attacut) (0.0.8)\n",
      "Requirement already satisfied: torch>=1.2.0 in c:\\users\\asus\\appdata\\local\\programs\\python\\python312\\lib\\site-packages (from attacut) (2.5.0)\n",
      "Requirement already satisfied: termcolor in c:\\users\\asus\\appdata\\local\\programs\\python\\python312\\lib\\site-packages (from fire>=0.1.3->attacut) (2.4.0)\n",
      "Requirement already satisfied: python-crfsuite>=0.9.6 in c:\\users\\asus\\appdata\\local\\programs\\python\\python312\\lib\\site-packages (from ssg>=0.0.4->attacut) (0.9.11)\n",
      "Requirement already satisfied: tqdm>=4.32.2 in c:\\users\\asus\\appdata\\local\\programs\\python\\python312\\lib\\site-packages (from ssg>=0.0.4->attacut) (4.66.5)\n",
      "Requirement already satisfied: filelock in c:\\users\\asus\\appdata\\local\\programs\\python\\python312\\lib\\site-packages (from torch>=1.2.0->attacut) (3.16.1)\n",
      "Requirement already satisfied: typing-extensions>=4.8.0 in c:\\users\\asus\\appdata\\local\\programs\\python\\python312\\lib\\site-packages (from torch>=1.2.0->attacut) (4.12.2)\n",
      "Requirement already satisfied: networkx in c:\\users\\asus\\appdata\\local\\programs\\python\\python312\\lib\\site-packages (from torch>=1.2.0->attacut) (3.4.2)\n",
      "Requirement already satisfied: jinja2 in c:\\users\\asus\\appdata\\local\\programs\\python\\python312\\lib\\site-packages (from torch>=1.2.0->attacut) (3.1.4)\n",
      "Requirement already satisfied: fsspec in c:\\users\\asus\\appdata\\local\\programs\\python\\python312\\lib\\site-packages (from torch>=1.2.0->attacut) (2024.10.0)\n",
      "Requirement already satisfied: setuptools in c:\\users\\asus\\appdata\\local\\programs\\python\\python312\\lib\\site-packages (from torch>=1.2.0->attacut) (74.1.2)\n",
      "Requirement already satisfied: sympy==1.13.1 in c:\\users\\asus\\appdata\\local\\programs\\python\\python312\\lib\\site-packages (from torch>=1.2.0->attacut) (1.13.1)\n",
      "Requirement already satisfied: mpmath<1.4,>=1.1.0 in c:\\users\\asus\\appdata\\local\\programs\\python\\python312\\lib\\site-packages (from sympy==1.13.1->torch>=1.2.0->attacut) (1.3.0)\n",
      "Requirement already satisfied: colorama in c:\\users\\asus\\appdata\\roaming\\python\\python312\\site-packages (from tqdm>=4.32.2->ssg>=0.0.4->attacut) (0.4.6)\n",
      "Requirement already satisfied: MarkupSafe>=2.0 in c:\\users\\asus\\appdata\\local\\programs\\python\\python312\\lib\\site-packages (from jinja2->torch>=1.2.0->attacut) (2.1.5)\n"
     ]
    },
    {
     "name": "stderr",
     "output_type": "stream",
     "text": [
      "\n",
      "[notice] A new release of pip is available: 24.3.1 -> 25.0\n",
      "[notice] To update, run: python.exe -m pip install --upgrade pip\n"
     ]
    }
   ],
   "source": [
    "!pip install attacut"
   ]
  },
  {
   "cell_type": "code",
   "execution_count": 14,
   "metadata": {
    "colab": {
     "base_uri": "https://localhost:8080/"
    },
    "executionInfo": {
     "elapsed": 348,
     "status": "ok",
     "timestamp": 1634340157520,
     "user": {
      "displayName": "JKob San",
      "photoUrl": "https://lh3.googleusercontent.com/a-/AOh14GgnClMV_IVnXVunt7D1mXXMatSQTrEGp72MrhCIeQ=s64",
      "userId": "15910273739366067110"
     },
     "user_tz": -420
    },
    "id": "MawruoOjn3XZ",
    "outputId": "f33af671-52ab-4431-ecfd-f163fc569353"
   },
   "outputs": [
    {
     "name": "stdout",
     "output_type": "stream",
     "text": [
      "['สาว', 'สาว', 'ตา', 'กลม', 'นั่ง', 'ตา', 'กลม', 'เขียน', 'โปรแกรม', 'ใน', 'ประเทศไทย']\n"
     ]
    },
    {
     "name": "stderr",
     "output_type": "stream",
     "text": [
      "c:\\Users\\ASUS\\AppData\\Local\\Programs\\Python\\Python312\\Lib\\site-packages\\attacut\\models\\__init__.py:60: FutureWarning: You are using `torch.load` with `weights_only=False` (the current default value), which uses the default pickle module implicitly. It is possible to construct malicious pickle data which will execute arbitrary code during unpickling (See https://github.com/pytorch/pytorch/blob/main/SECURITY.md#untrusted-models for more details). In a future release, the default value for `weights_only` will be flipped to `True`. This limits the functions that could be executed during unpickling. Arbitrary objects will no longer be allowed to be loaded via this mode unless they are explicitly allowlisted by the user via `torch.serialization.add_safe_globals`. We recommend you start setting `weights_only=True` for any use case where you don't have full control of the loaded file. Please open an issue on GitHub for any issues related to this experimental feature.\n",
      "  model.load_state_dict(torch.load(model_path, map_location=\"cpu\"))\n"
     ]
    }
   ],
   "source": [
    "from attacut import tokenize\n",
    "\n",
    "sentence = 'สาวสาวตากลมนั่งตากลมเขียนโปรแกรมในประเทศไทย'\n",
    "word_tk = tokenize(sentence)\n",
    "\n",
    "print(word_tk)"
   ]
  },
  {
   "cell_type": "code",
   "execution_count": 15,
   "metadata": {
    "colab": {
     "base_uri": "https://localhost:8080/"
    },
    "executionInfo": {
     "elapsed": 317,
     "status": "ok",
     "timestamp": 1634339714584,
     "user": {
      "displayName": "JKob San",
      "photoUrl": "https://lh3.googleusercontent.com/a-/AOh14GgnClMV_IVnXVunt7D1mXXMatSQTrEGp72MrhCIeQ=s64",
      "userId": "15910273739366067110"
     },
     "user_tz": -420
    },
    "id": "CAZAYB_yoD0t",
    "outputId": "15766a4b-9597-411c-9ee4-2e261b000b5b"
   },
   "outputs": [
    {
     "data": {
      "text/plain": [
       "2"
      ]
     },
     "execution_count": 15,
     "metadata": {},
     "output_type": "execute_result"
    }
   ],
   "source": [
    "word_tk.index('ตา')"
   ]
  },
  {
   "cell_type": "code",
   "execution_count": 20,
   "metadata": {
    "colab": {
     "base_uri": "https://localhost:8080/"
    },
    "executionInfo": {
     "elapsed": 317,
     "status": "ok",
     "timestamp": 1634339777256,
     "user": {
      "displayName": "JKob San",
      "photoUrl": "https://lh3.googleusercontent.com/a-/AOh14GgnClMV_IVnXVunt7D1mXXMatSQTrEGp72MrhCIeQ=s64",
      "userId": "15910273739366067110"
     },
     "user_tz": -420
    },
    "id": "IzSjddlJMP2W",
    "outputId": "6c5c8b52-5635-4d9f-df47-1bb34a28c60d"
   },
   "outputs": [
    {
     "data": {
      "text/plain": [
       "['กลม', 'ตา', 'นั่ง', 'ประเทศไทย', 'สาว', 'เขียน', 'โปรแกรม', 'ใน']"
      ]
     },
     "execution_count": 20,
     "metadata": {},
     "output_type": "execute_result"
    }
   ],
   "source": [
    "import numpy as np\n",
    "word_tk_unique = np.unique(word_tk)\n",
    "word_tk_unique.tolist()"
   ]
  },
  {
   "cell_type": "code",
   "execution_count": 21,
   "metadata": {
    "colab": {
     "base_uri": "https://localhost:8080/"
    },
    "executionInfo": {
     "elapsed": 5,
     "status": "ok",
     "timestamp": 1634339779394,
     "user": {
      "displayName": "JKob San",
      "photoUrl": "https://lh3.googleusercontent.com/a-/AOh14GgnClMV_IVnXVunt7D1mXXMatSQTrEGp72MrhCIeQ=s64",
      "userId": "15910273739366067110"
     },
     "user_tz": -420
    },
    "id": "zz4PLleMDrmR",
    "outputId": "268eb9f5-b659-4463-b519-ece98cebfb72"
   },
   "outputs": [
    {
     "data": {
      "text/plain": [
       "{'กลม': 1,\n",
       " 'ตา': 2,\n",
       " 'นั่ง': 3,\n",
       " 'ประเทศไทย': 4,\n",
       " 'สาว': 5,\n",
       " 'เขียน': 6,\n",
       " 'โปรแกรม': 7,\n",
       " 'ใน': 8}"
      ]
     },
     "execution_count": 21,
     "metadata": {},
     "output_type": "execute_result"
    }
   ],
   "source": [
    "dict_th = {}\n",
    "def create_thdict(token):\n",
    "    for idx, wd in enumerate(token):\n",
    "        dict_th[wd] = idx+1\n",
    "\n",
    "word_tk_unique.sort()\n",
    "create_thdict(word_tk_unique)\n",
    "dict_th"
   ]
  },
  {
   "cell_type": "code",
   "execution_count": 22,
   "metadata": {
    "colab": {
     "base_uri": "https://localhost:8080/",
     "height": 35
    },
    "executionInfo": {
     "elapsed": 320,
     "status": "ok",
     "timestamp": 1634339799991,
     "user": {
      "displayName": "JKob San",
      "photoUrl": "https://lh3.googleusercontent.com/a-/AOh14GgnClMV_IVnXVunt7D1mXXMatSQTrEGp72MrhCIeQ=s64",
      "userId": "15910273739366067110"
     },
     "user_tz": -420
    },
    "id": "P8TyZ7ASK7K7",
    "outputId": "9ba6ee17-c50a-4589-9d2b-56df3dc1a1a6"
   },
   "outputs": [
    {
     "data": {
      "text/plain": [
       "'สาวสาวตากลมนั่งตากลมเขียนโปรแกรมในประเทศไทย'"
      ]
     },
     "execution_count": 22,
     "metadata": {},
     "output_type": "execute_result"
    }
   ],
   "source": [
    "sentence"
   ]
  },
  {
   "cell_type": "code",
   "execution_count": 23,
   "metadata": {
    "colab": {
     "base_uri": "https://localhost:8080/"
    },
    "executionInfo": {
     "elapsed": 331,
     "status": "ok",
     "timestamp": 1634339821857,
     "user": {
      "displayName": "JKob San",
      "photoUrl": "https://lh3.googleusercontent.com/a-/AOh14GgnClMV_IVnXVunt7D1mXXMatSQTrEGp72MrhCIeQ=s64",
      "userId": "15910273739366067110"
     },
     "user_tz": -420
    },
    "id": "PJvhJaWsN4TS",
    "outputId": "ef279291-7c86-4353-96b4-57575b0a74d7"
   },
   "outputs": [
    {
     "data": {
      "text/plain": [
       "[5, 5, 2, 1, 3, 2, 1, 6, 7, 8, 4]"
      ]
     },
     "execution_count": 23,
     "metadata": {},
     "output_type": "execute_result"
    }
   ],
   "source": [
    "word_enc = []\n",
    "for wdi in word_tk:\n",
    "    word_enc.append(dict_th[wdi])\n",
    "\n",
    "word_enc"
   ]
  },
  {
   "cell_type": "code",
   "execution_count": null,
   "metadata": {
    "id": "k7tVgevoNYCF"
   },
   "outputs": [],
   "source": []
  }
 ],
 "metadata": {
  "colab": {
   "name": "Tokenize_Th.ipynb",
   "provenance": [],
   "toc_visible": true
  },
  "kernelspec": {
   "display_name": "Python 3",
   "language": "python",
   "name": "python3"
  },
  "language_info": {
   "codemirror_mode": {
    "name": "ipython",
    "version": 3
   },
   "file_extension": ".py",
   "mimetype": "text/x-python",
   "name": "python",
   "nbconvert_exporter": "python",
   "pygments_lexer": "ipython3",
   "version": "3.12.5"
  }
 },
 "nbformat": 4,
 "nbformat_minor": 4
}
