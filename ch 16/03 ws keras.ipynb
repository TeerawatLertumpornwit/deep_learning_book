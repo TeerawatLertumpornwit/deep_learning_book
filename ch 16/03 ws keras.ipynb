{
 "cells": [
  {
   "cell_type": "markdown",
   "id": "0034c48b-a3da-420a-a40f-f0143d161190",
   "metadata": {
    "id": "0034c48b-a3da-420a-a40f-f0143d161190"
   },
   "source": [
    "# ws 03 Keras Embedding"
   ]
  },
  {
   "cell_type": "code",
   "execution_count": 52,
   "id": "1c2e2e74-67e7-477d-a23b-fc6323718180",
   "metadata": {
    "colab": {
     "base_uri": "https://localhost:8080/"
    },
    "id": "1c2e2e74-67e7-477d-a23b-fc6323718180",
    "outputId": "2448f991-1095-4906-c48b-d8f5c3172ace"
   },
   "outputs": [
    {
     "data": {
      "text/plain": [
       "['CNN is good.',\n",
       " 'python is easy and good.',\n",
       " 'So good so happy enjoy with Python.']"
      ]
     },
     "execution_count": 52,
     "metadata": {},
     "output_type": "execute_result"
    }
   ],
   "source": [
    "from tensorflow.keras.preprocessing.text import Tokenizer\n",
    "\n",
    "\n",
    "s1 = 'CNN is good.'        \n",
    "s2 = 'python is easy and good.'\n",
    "s3 = 'So good so happy enjoy with Python.'\n",
    "\n",
    "sentences = [s1, s2, s3]\n",
    "sentences"
   ]
  },
  {
   "cell_type": "code",
   "execution_count": 53,
   "id": "481f57cf-8269-4e59-817e-f293d742a41f",
   "metadata": {
    "id": "481f57cf-8269-4e59-817e-f293d742a41f"
   },
   "outputs": [],
   "source": [
    "tk = Tokenizer() \n",
    "\n",
    "tk.fit_on_texts(sentences)"
   ]
  },
  {
   "cell_type": "code",
   "execution_count": 54,
   "id": "14fe79ff-f114-4f97-82d0-f4ae2f105f3f",
   "metadata": {
    "colab": {
     "base_uri": "https://localhost:8080/"
    },
    "id": "14fe79ff-f114-4f97-82d0-f4ae2f105f3f",
    "outputId": "91962f24-6219-4e54-8271-bf749a621314"
   },
   "outputs": [
    {
     "data": {
      "text/plain": [
       "3"
      ]
     },
     "execution_count": 54,
     "metadata": {},
     "output_type": "execute_result"
    }
   ],
   "source": [
    "tk.document_count "
   ]
  },
  {
   "cell_type": "code",
   "execution_count": 55,
   "id": "47578796-c5a5-43d4-992c-23792e1ef77b",
   "metadata": {
    "colab": {
     "base_uri": "https://localhost:8080/"
    },
    "id": "47578796-c5a5-43d4-992c-23792e1ef77b",
    "outputId": "7fd1cb72-04cc-4b6d-c1aa-0c1a50274660"
   },
   "outputs": [
    {
     "data": {
      "text/plain": [
       "defaultdict(int,\n",
       "            {'is': 2,\n",
       "             'cnn': 1,\n",
       "             'good': 3,\n",
       "             'python': 2,\n",
       "             'and': 1,\n",
       "             'easy': 1,\n",
       "             'enjoy': 1,\n",
       "             'with': 1,\n",
       "             'so': 1,\n",
       "             'happy': 1})"
      ]
     },
     "execution_count": 55,
     "metadata": {},
     "output_type": "execute_result"
    }
   ],
   "source": [
    "tk.word_docs "
   ]
  },
  {
   "cell_type": "code",
   "execution_count": 56,
   "id": "8d87650f-9739-4939-95c5-3e4bfff38597",
   "metadata": {
    "colab": {
     "base_uri": "https://localhost:8080/"
    },
    "id": "8d87650f-9739-4939-95c5-3e4bfff38597",
    "outputId": "5e8914a4-2188-4365-9dc8-4f20011bc824"
   },
   "outputs": [
    {
     "data": {
      "text/plain": [
       "OrderedDict([('cnn', 1),\n",
       "             ('is', 2),\n",
       "             ('good', 3),\n",
       "             ('python', 2),\n",
       "             ('easy', 1),\n",
       "             ('and', 1),\n",
       "             ('so', 2),\n",
       "             ('happy', 1),\n",
       "             ('enjoy', 1),\n",
       "             ('with', 1)])"
      ]
     },
     "execution_count": 56,
     "metadata": {},
     "output_type": "execute_result"
    }
   ],
   "source": [
    "tk.word_counts  "
   ]
  },
  {
   "cell_type": "code",
   "execution_count": 57,
   "id": "5386c7af-81c4-4734-aff5-8fd7fb77e0e7",
   "metadata": {
    "colab": {
     "base_uri": "https://localhost:8080/"
    },
    "id": "5386c7af-81c4-4734-aff5-8fd7fb77e0e7",
    "outputId": "7ec24ecb-00e4-4a69-867b-ec7ed8fc73e2"
   },
   "outputs": [
    {
     "data": {
      "text/plain": [
       "odict_items([('cnn', 1), ('is', 2), ('good', 3), ('python', 2), ('easy', 1), ('and', 1), ('so', 2), ('happy', 1), ('enjoy', 1), ('with', 1)])"
      ]
     },
     "execution_count": 57,
     "metadata": {},
     "output_type": "execute_result"
    }
   ],
   "source": [
    "tk.word_counts.items()"
   ]
  },
  {
   "cell_type": "code",
   "execution_count": 58,
   "id": "187dd7bd-77bc-431a-a055-1606346e97de",
   "metadata": {
    "id": "187dd7bd-77bc-431a-a055-1606346e97de",
    "outputId": "96d31728-908d-45dc-f69e-ad76fba15636"
   },
   "outputs": [
    {
     "data": {
      "text/plain": [
       "{'good': 1,\n",
       " 'is': 2,\n",
       " 'python': 3,\n",
       " 'so': 4,\n",
       " 'cnn': 5,\n",
       " 'easy': 6,\n",
       " 'and': 7,\n",
       " 'happy': 8,\n",
       " 'enjoy': 9,\n",
       " 'with': 10}"
      ]
     },
     "execution_count": 58,
     "metadata": {},
     "output_type": "execute_result"
    }
   ],
   "source": [
    "tk.word_index"
   ]
  },
  {
   "cell_type": "code",
   "execution_count": 59,
   "id": "ba69ca8c-5193-4179-9a07-f5666213a360",
   "metadata": {
    "id": "ba69ca8c-5193-4179-9a07-f5666213a360",
    "outputId": "f0e2f1f5-6ebc-4ca3-9860-2957bd56b5fd"
   },
   "outputs": [
    {
     "data": {
      "text/plain": [
       "2"
      ]
     },
     "execution_count": 59,
     "metadata": {},
     "output_type": "execute_result"
    }
   ],
   "source": [
    "tk.word_index['is']"
   ]
  },
  {
   "cell_type": "code",
   "execution_count": 60,
   "id": "b7e552ad-82c4-4d82-8929-e575d296041a",
   "metadata": {
    "id": "b7e552ad-82c4-4d82-8929-e575d296041a",
    "outputId": "fa594c51-abde-4c08-f142-aeec3f2359d7"
   },
   "outputs": [
    {
     "data": {
      "text/plain": [
       "1"
      ]
     },
     "execution_count": 60,
     "metadata": {},
     "output_type": "execute_result"
    }
   ],
   "source": [
    "tk.word_index['good']"
   ]
  },
  {
   "cell_type": "code",
   "execution_count": 61,
   "id": "db75bd40-a492-458c-9a53-a30564e5b2d9",
   "metadata": {
    "id": "db75bd40-a492-458c-9a53-a30564e5b2d9",
    "outputId": "bd88a5c3-b97b-442d-9e7e-4be65f19f6c4"
   },
   "outputs": [
    {
     "data": {
      "text/plain": [
       "[[5, 2, 1], [3, 2, 6, 7, 1], [4, 1, 4, 8, 9, 10, 3]]"
      ]
     },
     "execution_count": 61,
     "metadata": {},
     "output_type": "execute_result"
    }
   ],
   "source": [
    "sents_enc = tk.texts_to_sequences(sentences)\n",
    "sents_enc"
   ]
  },
  {
   "cell_type": "code",
   "execution_count": 62,
   "id": "3a7044d2-1c19-4610-87d1-f676996b8429",
   "metadata": {
    "id": "3a7044d2-1c19-4610-87d1-f676996b8429",
    "outputId": "c6a92acd-2c67-4d69-85c9-bd357d0a6add"
   },
   "outputs": [
    {
     "name": "stdout",
     "output_type": "stream",
     "text": [
      "[[ 5  2  1  0  0  0]\n",
      " [ 3  2  6  7  1  0]\n",
      " [ 4  1  4  8  9 10]]\n"
     ]
    }
   ],
   "source": [
    "from keras.preprocessing.sequence import pad_sequences\n",
    "\n",
    "max_len = 6  # max column len\n",
    "\n",
    "sents_pad = pad_sequences(sents_enc, truncating='post', \n",
    "                          padding='post', maxlen=max_len)\n",
    "print(sents_pad)"
   ]
  },
  {
   "cell_type": "code",
   "execution_count": 63,
   "id": "c97aec07-7411-415b-a7bb-25aff7c7b202",
   "metadata": {
    "id": "c97aec07-7411-415b-a7bb-25aff7c7b202",
    "outputId": "dbd5dbd2-cb7d-4b43-c80f-134be07f9a52"
   },
   "outputs": [
    {
     "name": "stdout",
     "output_type": "stream",
     "text": [
      "CNN is good.\n"
     ]
    },
    {
     "data": {
      "text/plain": [
       "[[5, 2, 1]]"
      ]
     },
     "execution_count": 63,
     "metadata": {},
     "output_type": "execute_result"
    }
   ],
   "source": [
    "print(s1)\n",
    "tk.texts_to_sequences([s1])"
   ]
  },
  {
   "cell_type": "code",
   "execution_count": 64,
   "id": "d8192db4-f496-4e48-98cc-ddd8f2a48601",
   "metadata": {
    "id": "d8192db4-f496-4e48-98cc-ddd8f2a48601",
    "outputId": "c105bb53-2f8e-499c-fbc1-923a313b6e58"
   },
   "outputs": [
    {
     "name": "stdout",
     "output_type": "stream",
     "text": [
      "python is easy and good.\n"
     ]
    },
    {
     "data": {
      "text/plain": [
       "[[3, 2, 6, 7, 1]]"
      ]
     },
     "execution_count": 64,
     "metadata": {},
     "output_type": "execute_result"
    }
   ],
   "source": [
    "print(s2)\n",
    "tk.texts_to_sequences([s2])"
   ]
  },
  {
   "cell_type": "code",
   "execution_count": 65,
   "id": "34ac3085-bb16-4ab8-895d-505a5e7f7769",
   "metadata": {
    "id": "34ac3085-bb16-4ab8-895d-505a5e7f7769",
    "outputId": "7a17e08d-ad75-44e5-dbd3-3a3b5f8af787"
   },
   "outputs": [
    {
     "name": "stdout",
     "output_type": "stream",
     "text": [
      "CNN is good.\n",
      "[[5, 2, 1]]\n",
      "python is easy and good.\n",
      "[[3, 2, 6, 7, 1]]\n",
      "So good so happy enjoy with Python.\n",
      "[[4, 1, 4, 8, 9, 10, 3]]\n"
     ]
    }
   ],
   "source": [
    "for i in sentences:\n",
    "    print(i)\n",
    "    print(tk.texts_to_sequences([i]))"
   ]
  },
  {
   "cell_type": "code",
   "execution_count": 66,
   "id": "8d5573a4-3857-4e14-a0d9-5e252845612f",
   "metadata": {
    "id": "8d5573a4-3857-4e14-a0d9-5e252845612f",
    "outputId": "90c1a504-fe6b-4239-b556-059d6d43d91b"
   },
   "outputs": [
    {
     "name": "stdout",
     "output_type": "stream",
     "text": [
      "[[5, 2, 1],\n",
      " [3, 2, 6, 7, 1],\n",
      " [4, 1, 4, 8, 9, 10, 3]]\n"
     ]
    }
   ],
   "source": [
    "\n",
    "print('[', end ='')\n",
    "for i,lst in enumerate(sents_enc):\n",
    "    if i == 0:\n",
    "        print(f'{lst},')\n",
    "    else:\n",
    "        if i == 1:\n",
    "            print(f' {lst},')\n",
    "        else:\n",
    "            print(f' {lst}]')\n"
   ]
  },
  {
   "cell_type": "markdown",
   "id": "d4fea472-4b72-4c6b-b2ea-bb7136fff961",
   "metadata": {
    "id": "d4fea472-4b72-4c6b-b2ea-bb7136fff961"
   },
   "source": [
    "## Decode"
   ]
  },
  {
   "cell_type": "code",
   "execution_count": 67,
   "id": "687e23c1-9b7e-48ae-91db-1243d118f90b",
   "metadata": {
    "id": "687e23c1-9b7e-48ae-91db-1243d118f90b",
    "outputId": "644f9011-31ea-40f7-a579-a578baaed730"
   },
   "outputs": [
    {
     "data": {
      "text/plain": [
       "['cnn is good',\n",
       " 'python is easy and good',\n",
       " 'so good so happy enjoy with python']"
      ]
     },
     "execution_count": 67,
     "metadata": {},
     "output_type": "execute_result"
    }
   ],
   "source": [
    "tk.sequences_to_texts(sents_enc)"
   ]
  },
  {
   "cell_type": "code",
   "execution_count": 68,
   "id": "eeaa5b1a-1b95-412a-80c5-0b93420a76c7",
   "metadata": {
    "id": "eeaa5b1a-1b95-412a-80c5-0b93420a76c7",
    "outputId": "ebfbe4f5-d1a4-462c-ba4e-76bd95547045"
   },
   "outputs": [
    {
     "data": {
      "text/plain": [
       "['cnn is good', 'python is easy and good', 'so good so happy enjoy with']"
      ]
     },
     "execution_count": 68,
     "metadata": {},
     "output_type": "execute_result"
    }
   ],
   "source": [
    "tk.sequences_to_texts(sents_pad)"
   ]
  },
  {
   "cell_type": "code",
   "execution_count": 69,
   "id": "2b30b311-b9e3-4fde-89b7-19bf239bc4a0",
   "metadata": {
    "id": "2b30b311-b9e3-4fde-89b7-19bf239bc4a0",
    "outputId": "9f5010df-89fc-4b01-d5e9-d5cd9a3e319c"
   },
   "outputs": [],
   "source": [
    "# word_index = unique tokens\n",
    "# vocab_size = len(tk.word_index)+1\n",
    "# vocab_size      # no of words (vocab)"
   ]
  },
  {
   "cell_type": "markdown",
   "id": "529a0477-0124-48e4-b277-53493dc66fa8",
   "metadata": {
    "id": "529a0477-0124-48e4-b277-53493dc66fa8"
   },
   "source": [
    "## Model - Embedding Keras"
   ]
  },
  {
   "cell_type": "code",
   "execution_count": 73,
   "id": "87320ea3-666c-4103-a7cf-1df90fdcda26",
   "metadata": {
    "id": "87320ea3-666c-4103-a7cf-1df90fdcda26",
    "outputId": "15b652ed-a7c3-42ad-f8a4-173f9d4265e2"
   },
   "outputs": [
    {
     "name": "stdout",
     "output_type": "stream",
     "text": [
      "11\n"
     ]
    },
    {
     "data": {
      "text/html": [
       "<pre style=\"white-space:pre;overflow-x:auto;line-height:normal;font-family:Menlo,'DejaVu Sans Mono',consolas,'Courier New',monospace\"><span style=\"font-weight: bold\">Model: \"sequential_5\"</span>\n",
       "</pre>\n"
      ],
      "text/plain": [
       "\u001b[1mModel: \"sequential_5\"\u001b[0m\n"
      ]
     },
     "metadata": {},
     "output_type": "display_data"
    },
    {
     "data": {
      "text/html": [
       "<pre style=\"white-space:pre;overflow-x:auto;line-height:normal;font-family:Menlo,'DejaVu Sans Mono',consolas,'Courier New',monospace\">┏━━━━━━━━━━━━━━━━━━━━━━━━━━━━━━━━━┳━━━━━━━━━━━━━━━━━━━━━━━━┳━━━━━━━━━━━━━━━┓\n",
       "┃<span style=\"font-weight: bold\"> Layer (type)                    </span>┃<span style=\"font-weight: bold\"> Output Shape           </span>┃<span style=\"font-weight: bold\">       Param # </span>┃\n",
       "┡━━━━━━━━━━━━━━━━━━━━━━━━━━━━━━━━━╇━━━━━━━━━━━━━━━━━━━━━━━━╇━━━━━━━━━━━━━━━┩\n",
       "│ embedding_1 (<span style=\"color: #0087ff; text-decoration-color: #0087ff\">Embedding</span>)         │ ?                      │   <span style=\"color: #00af00; text-decoration-color: #00af00\">0</span> (unbuilt) │\n",
       "└─────────────────────────────────┴────────────────────────┴───────────────┘\n",
       "</pre>\n"
      ],
      "text/plain": [
       "┏━━━━━━━━━━━━━━━━━━━━━━━━━━━━━━━━━┳━━━━━━━━━━━━━━━━━━━━━━━━┳━━━━━━━━━━━━━━━┓\n",
       "┃\u001b[1m \u001b[0m\u001b[1mLayer (type)                   \u001b[0m\u001b[1m \u001b[0m┃\u001b[1m \u001b[0m\u001b[1mOutput Shape          \u001b[0m\u001b[1m \u001b[0m┃\u001b[1m \u001b[0m\u001b[1m      Param #\u001b[0m\u001b[1m \u001b[0m┃\n",
       "┡━━━━━━━━━━━━━━━━━━━━━━━━━━━━━━━━━╇━━━━━━━━━━━━━━━━━━━━━━━━╇━━━━━━━━━━━━━━━┩\n",
       "│ embedding_1 (\u001b[38;5;33mEmbedding\u001b[0m)         │ ?                      │   \u001b[38;5;34m0\u001b[0m (unbuilt) │\n",
       "└─────────────────────────────────┴────────────────────────┴───────────────┘\n"
      ]
     },
     "metadata": {},
     "output_type": "display_data"
    },
    {
     "data": {
      "text/html": [
       "<pre style=\"white-space:pre;overflow-x:auto;line-height:normal;font-family:Menlo,'DejaVu Sans Mono',consolas,'Courier New',monospace\"><span style=\"font-weight: bold\"> Total params: </span><span style=\"color: #00af00; text-decoration-color: #00af00\">0</span> (0.00 B)\n",
       "</pre>\n"
      ],
      "text/plain": [
       "\u001b[1m Total params: \u001b[0m\u001b[38;5;34m0\u001b[0m (0.00 B)\n"
      ]
     },
     "metadata": {},
     "output_type": "display_data"
    },
    {
     "data": {
      "text/html": [
       "<pre style=\"white-space:pre;overflow-x:auto;line-height:normal;font-family:Menlo,'DejaVu Sans Mono',consolas,'Courier New',monospace\"><span style=\"font-weight: bold\"> Trainable params: </span><span style=\"color: #00af00; text-decoration-color: #00af00\">0</span> (0.00 B)\n",
       "</pre>\n"
      ],
      "text/plain": [
       "\u001b[1m Trainable params: \u001b[0m\u001b[38;5;34m0\u001b[0m (0.00 B)\n"
      ]
     },
     "metadata": {},
     "output_type": "display_data"
    },
    {
     "data": {
      "text/html": [
       "<pre style=\"white-space:pre;overflow-x:auto;line-height:normal;font-family:Menlo,'DejaVu Sans Mono',consolas,'Courier New',monospace\"><span style=\"font-weight: bold\"> Non-trainable params: </span><span style=\"color: #00af00; text-decoration-color: #00af00\">0</span> (0.00 B)\n",
       "</pre>\n"
      ],
      "text/plain": [
       "\u001b[1m Non-trainable params: \u001b[0m\u001b[38;5;34m0\u001b[0m (0.00 B)\n"
      ]
     },
     "metadata": {},
     "output_type": "display_data"
    }
   ],
   "source": [
    "from tensorflow.keras.models import Sequential\n",
    "from tensorflow.keras.layers import Embedding \n",
    "\n",
    "vocab_size = len(tk.word_index) + 1\n",
    "\n",
    "print(vocab_size)\n",
    "\n",
    "embed_len = 5\n",
    "\n",
    "model = Sequential()\n",
    "model.add(Embedding(vocab_size, embed_len, input_length=max_len))\n",
    "model.compile(optimizer='adam', loss='binary_crossentropy', metrics=['accuracy'])\n",
    "\n",
    "model.summary()  "
   ]
  },
  {
   "cell_type": "code",
   "execution_count": 74,
   "id": "80c1c182-2b13-4c25-a0e8-38959ef78da2",
   "metadata": {
    "id": "80c1c182-2b13-4c25-a0e8-38959ef78da2",
    "outputId": "d954a5ea-82c2-4952-9382-1f011d8d39b9"
   },
   "outputs": [
    {
     "name": "stdout",
     "output_type": "stream",
     "text": [
      "\u001b[1m1/1\u001b[0m \u001b[32m━━━━━━━━━━━━━━━━━━━━\u001b[0m\u001b[37m\u001b[0m \u001b[1m0s\u001b[0m 205ms/step\n",
      "[[[ 0.018 -0.021  0.033  0.002  0.022]\n",
      "  [ 0.049  0.04  -0.032  0.05  -0.014]\n",
      "  [ 0.002  0.015 -0.016  0.021 -0.03 ]\n",
      "  [-0.049  0.036  0.017 -0.002  0.003]\n",
      "  [-0.049  0.036  0.017 -0.002  0.003]\n",
      "  [-0.049  0.036  0.017 -0.002  0.003]]\n",
      "\n",
      " [[ 0.038 -0.031  0.017 -0.001 -0.024]\n",
      "  [ 0.049  0.04  -0.032  0.05  -0.014]\n",
      "  [ 0.031 -0.045  0.041  0.022 -0.006]\n",
      "  [-0.033  0.008 -0.041 -0.004  0.045]\n",
      "  [ 0.002  0.015 -0.016  0.021 -0.03 ]\n",
      "  [-0.049  0.036  0.017 -0.002  0.003]]\n",
      "\n",
      " [[-0.04   0.038  0.024 -0.006 -0.044]\n",
      "  [ 0.002  0.015 -0.016  0.021 -0.03 ]\n",
      "  [-0.04   0.038  0.024 -0.006 -0.044]\n",
      "  [ 0.031  0.039  0.015 -0.015  0.02 ]\n",
      "  [-0.029 -0.033  0.016  0.014  0.038]\n",
      "  [ 0.024 -0.013 -0.045 -0.003 -0.006]]]\n"
     ]
    }
   ],
   "source": [
    "vectors = model.predict(sents_pad)\n",
    "\n",
    "print(vectors.round(3)) "
   ]
  },
  {
   "cell_type": "code",
   "execution_count": 75,
   "id": "66cfa961-72ff-4313-a573-c21b7d6615f8",
   "metadata": {
    "id": "66cfa961-72ff-4313-a573-c21b7d6615f8",
    "outputId": "1a33c75c-57b8-4e0a-c18d-2c6dbf7b41d7"
   },
   "outputs": [
    {
     "data": {
      "text/plain": [
       "(3, 6, 5)"
      ]
     },
     "execution_count": 75,
     "metadata": {},
     "output_type": "execute_result"
    }
   ],
   "source": [
    "vectors.shape"
   ]
  },
  {
   "cell_type": "code",
   "execution_count": 76,
   "id": "06424e7e-4714-4e60-ac34-b8e3750eac40",
   "metadata": {
    "id": "06424e7e-4714-4e60-ac34-b8e3750eac40",
    "outputId": "ec2a8bf1-efa3-460a-8faf-4433d41249d3"
   },
   "outputs": [
    {
     "name": "stdout",
     "output_type": "stream",
     "text": [
      "[ 0.018 -0.021  0.033  0.002  0.022]\n"
     ]
    }
   ],
   "source": [
    "print(vectors[0][0].round(3))\n",
    "# output[0].round(3)"
   ]
  },
  {
   "cell_type": "code",
   "execution_count": 77,
   "id": "d8b6ca2c-9803-46c9-a089-dcd02eba64fc",
   "metadata": {
    "id": "d8b6ca2c-9803-46c9-a089-dcd02eba64fc",
    "outputId": "5cfe139d-0d12-4590-9260-29486ae97d5a"
   },
   "outputs": [
    {
     "data": {
      "text/plain": [
       "array([ 0.038, -0.031,  0.017, -0.001, -0.024], dtype=float32)"
      ]
     },
     "execution_count": 77,
     "metadata": {},
     "output_type": "execute_result"
    }
   ],
   "source": [
    "vectors[1][0].round(3)"
   ]
  },
  {
   "cell_type": "code",
   "execution_count": 78,
   "id": "55320e77-4bc9-4af5-9b1d-cd2fdf2a07b5",
   "metadata": {
    "id": "55320e77-4bc9-4af5-9b1d-cd2fdf2a07b5",
    "outputId": "2d312888-1a7c-4b2b-f680-3bf92e7b74ee"
   },
   "outputs": [
    {
     "name": "stdout",
     "output_type": "stream",
     "text": [
      "sentence   word   Vector\n",
      "----------------------------------------------------\n",
      "     1      cnn [ 0.018 -0.021  0.033  0.002  0.022]\n",
      "     1       is [ 0.049  0.04  -0.032  0.05  -0.014]\n",
      "     1     good [ 0.002  0.015 -0.016  0.021 -0.03 ]\n",
      "     1          [-0.049  0.036  0.017 -0.002  0.003]\n",
      "     1          [-0.049  0.036  0.017 -0.002  0.003]\n",
      "     1          [-0.049  0.036  0.017 -0.002  0.003]\n",
      "     2   python [ 0.038 -0.031  0.017 -0.001 -0.024]\n",
      "     2       is [ 0.049  0.04  -0.032  0.05  -0.014]\n",
      "     2     easy [ 0.031 -0.045  0.041  0.022 -0.006]\n",
      "     2      and [-0.033  0.008 -0.041 -0.004  0.045]\n",
      "     2     good [ 0.002  0.015 -0.016  0.021 -0.03 ]\n",
      "     2          [-0.049  0.036  0.017 -0.002  0.003]\n",
      "     3       so [-0.04   0.038  0.024 -0.006 -0.044]\n",
      "     3     good [ 0.002  0.015 -0.016  0.021 -0.03 ]\n",
      "     3       so [-0.04   0.038  0.024 -0.006 -0.044]\n",
      "     3    happy [ 0.031  0.039  0.015 -0.015  0.02 ]\n",
      "     3    enjoy [-0.029 -0.033  0.016  0.014  0.038]\n",
      "     3     with [ 0.024 -0.013 -0.045 -0.003 -0.006]\n"
     ]
    }
   ],
   "source": [
    "print('sentence   word   Vector')\n",
    "print('----------------------------------------------------')\n",
    "for i, sents in enumerate(vectors):   \n",
    "    for j, word_v in enumerate(sents):\n",
    "        words = tk.sequences_to_texts(sents_pad)[i].split()  \n",
    "        if j < len(words):\n",
    "            print(f'{i+1:6} {words[j]:>8} {word_v.round(3)}')  \n",
    "        else:\n",
    "            print(f'{i+1:6} {\"\":>8} {word_v.round(3)}')      "
   ]
  },
  {
   "cell_type": "code",
   "execution_count": 79,
   "id": "4b8ae665-ee40-421b-9d74-bede6a8042c0",
   "metadata": {
    "id": "4b8ae665-ee40-421b-9d74-bede6a8042c0",
    "outputId": "148410d3-e360-47d2-dcaf-85eb7b5ab2bd"
   },
   "outputs": [
    {
     "data": {
      "text/plain": [
       "dict_keys(['good', 'is', 'python', 'so', 'cnn', 'easy', 'and', 'happy', 'enjoy', 'with'])"
      ]
     },
     "execution_count": 79,
     "metadata": {},
     "output_type": "execute_result"
    }
   ],
   "source": [
    "tk.word_index.keys()\n"
   ]
  },
  {
   "cell_type": "markdown",
   "id": "7a0c777e-dd44-4b86-900a-0eddb2476073",
   "metadata": {
    "id": "0aef2003-e977-4c2a-b27a-9f8d7d6fb100"
   },
   "source": [
    "## ws 04, see \"01 ws word2vec\""
   ]
  },
  {
   "cell_type": "code",
   "execution_count": 80,
   "id": "6d40e8bd-2fad-4c00-9235-937ea71b758d",
   "metadata": {},
   "outputs": [],
   "source": [
    "from gensim.models import Word2Vec\n",
    "model = Word2Vec.load(\n",
    "    'http://www.arts.chula.ac.th/ling/wp-content/uploads/TNCc5model.bin').wv"
   ]
  },
  {
   "cell_type": "code",
   "execution_count": 81,
   "id": "e38fce40",
   "metadata": {},
   "outputs": [
    {
     "data": {
      "text/plain": [
       "100"
      ]
     },
     "execution_count": 81,
     "metadata": {},
     "output_type": "execute_result"
    }
   ],
   "source": [
    "model.vector_size"
   ]
  },
  {
   "cell_type": "code",
   "execution_count": 82,
   "id": "a8908a0d",
   "metadata": {},
   "outputs": [
    {
     "data": {
      "text/plain": [
       "31078"
      ]
     },
     "execution_count": 82,
     "metadata": {},
     "output_type": "execute_result"
    }
   ],
   "source": [
    "len(model.index_to_key)"
   ]
  },
  {
   "cell_type": "code",
   "execution_count": 83,
   "id": "c64abf6c",
   "metadata": {},
   "outputs": [
    {
     "data": {
      "text/plain": [
       "[('แมว', 0.7827969193458557),\n",
       " ('สุนัข', 0.7660499811172485),\n",
       " ('ควาย', 0.7402681112289429),\n",
       " ('ลิง', 0.7233365774154663),\n",
       " ('วัว', 0.6935527920722961),\n",
       " ('กระต่าย', 0.6711753606796265),\n",
       " ('งูเห่า', 0.6605747938156128),\n",
       " ('ไก่', 0.6319968700408936),\n",
       " ('งู', 0.6309268474578857),\n",
       " ('หมาบ้า', 0.6199687123298645)]"
      ]
     },
     "execution_count": 83,
     "metadata": {},
     "output_type": "execute_result"
    }
   ],
   "source": [
    "model.most_similar('หมา')"
   ]
  },
  {
   "cell_type": "code",
   "execution_count": 84,
   "id": "441a8ed8",
   "metadata": {},
   "outputs": [
    {
     "data": {
      "text/plain": [
       "[('คลื่นไส้', 0.7747560143470764),\n",
       " ('สำลัก', 0.7553960680961609),\n",
       " ('หน้ามืด', 0.7404484152793884),\n",
       " ('เป็นลม', 0.7189688682556152),\n",
       " ('ปวดท้อง', 0.7065293192863464),\n",
       " ('อ้วก', 0.7015395164489746),\n",
       " ('ท้องเสีย', 0.689079999923706),\n",
       " ('ตาลาย', 0.6866936683654785),\n",
       " ('ขย้อน', 0.6792916059494019),\n",
       " ('ถ่ายปัสสาวะ', 0.6768748164176941)]"
      ]
     },
     "execution_count": 84,
     "metadata": {},
     "output_type": "execute_result"
    }
   ],
   "source": [
    "model.most_similar('อาเจียน')"
   ]
  },
  {
   "cell_type": "code",
   "execution_count": 85,
   "id": "8c4cca30",
   "metadata": {},
   "outputs": [
    {
     "data": {
      "text/plain": [
       "[('กิน', 0.8338596820831299),\n",
       " ('ทาน', 0.7438191175460815),\n",
       " ('ปรุง', 0.7300216555595398),\n",
       " ('ดื่ม', 0.7109257578849792),\n",
       " ('เสิร์ฟ', 0.6651374697685242)]"
      ]
     },
     "execution_count": 85,
     "metadata": {},
     "output_type": "execute_result"
    }
   ],
   "source": [
    "# model.most_similar('พ่อค้า', topn=5)\n",
    "model.most_similar('รับประทาน', topn=5)"
   ]
  },
  {
   "cell_type": "code",
   "execution_count": 86,
   "id": "fd3369cf",
   "metadata": {},
   "outputs": [
    {
     "data": {
      "text/plain": [
       "[('เด็ก', 0.635191023349762),\n",
       " ('ครรภ์', 0.5767548680305481),\n",
       " ('เด็กหญิง', 0.5542507171630859),\n",
       " ('คลอด', 0.553459882736206),\n",
       " ('ผู้ป่วย', 0.5305246114730835),\n",
       " ('ร่างกาย', 0.5298979878425598),\n",
       " ('อวัยวะ', 0.5297532081604004),\n",
       " ('ลูก', 0.5190483927726746),\n",
       " ('วัย', 0.514176607131958),\n",
       " ('มดลูก', 0.5121011734008789)]"
      ]
     },
     "execution_count": 86,
     "metadata": {},
     "output_type": "execute_result"
    }
   ],
   "source": [
    "model.most_similar('ทารก')"
   ]
  },
  {
   "cell_type": "code",
   "execution_count": 87,
   "id": "fc23bb4a",
   "metadata": {},
   "outputs": [
    {
     "data": {
      "text/plain": [
       "0.54875463"
      ]
     },
     "execution_count": 87,
     "metadata": {},
     "output_type": "execute_result"
    }
   ],
   "source": [
    "model.similarity('รถ','ยานพาหนะ')  # ฟอง"
   ]
  },
  {
   "cell_type": "code",
   "execution_count": 88,
   "id": "76083091",
   "metadata": {},
   "outputs": [
    {
     "name": "stdout",
     "output_type": "stream",
     "text": [
      "'รถ'\t'ยานพาหนะ'\t0.55\n",
      "'รถ'\t'เครื่องบิน'\t0.72\n",
      "'รถ'\t'ข้าวโพด'\t0.13\n",
      "'ปลูก'\t'ข้าวโพด'\t0.46\n"
     ]
    }
   ],
   "source": [
    "pairs = [\n",
    "    ('รถ', 'ยานพาหนะ'),   \n",
    "    ('รถ', 'เครื่องบิน'),   \n",
    "    ('รถ', 'ข้าวโพด'),     \n",
    "    ('ปลูก', 'ข้าวโพด'),        \n",
    "]\n",
    "for w1, w2 in pairs:\n",
    "    print('%r\\t%r\\t%.2f' % (w1, w2, model.similarity(w1, w2)))"
   ]
  },
  {
   "cell_type": "code",
   "execution_count": 89,
   "id": "0ed39a93",
   "metadata": {},
   "outputs": [
    {
     "data": {
      "text/plain": [
       "'หนังสือ'"
      ]
     },
     "execution_count": 89,
     "metadata": {},
     "output_type": "execute_result"
    }
   ],
   "source": [
    "model.doesnt_match(['หนัง','เพลง','หนังสือ','ดนตรี'])"
   ]
  }
 ],
 "metadata": {
  "colab": {
   "name": "keras embed and Word2vec 1.ipynb",
   "provenance": [],
   "toc_visible": true
  },
  "kernelspec": {
   "display_name": "Python 3",
   "language": "python",
   "name": "python3"
  },
  "language_info": {
   "codemirror_mode": {
    "name": "ipython",
    "version": 3
   },
   "file_extension": ".py",
   "mimetype": "text/x-python",
   "name": "python",
   "nbconvert_exporter": "python",
   "pygments_lexer": "ipython3",
   "version": "3.12.5"
  }
 },
 "nbformat": 4,
 "nbformat_minor": 5
}
