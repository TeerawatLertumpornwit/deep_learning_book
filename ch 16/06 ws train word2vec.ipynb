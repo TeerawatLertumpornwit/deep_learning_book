{
 "cells": [
  {
   "cell_type": "markdown",
   "id": "4c0669a2-eff4-4260-a6d5-71cac0f54f8b",
   "metadata": {},
   "source": [
    "# WS 06"
   ]
  },
  {
   "cell_type": "code",
   "execution_count": 1,
   "id": "c9106b9f-9234-48e1-99fb-92e7c52f1af5",
   "metadata": {},
   "outputs": [
    {
     "data": {
      "text/plain": [
       "'4.3.3'"
      ]
     },
     "execution_count": 1,
     "metadata": {},
     "output_type": "execute_result"
    }
   ],
   "source": [
    "import gensim\n",
    "gensim.__version__"
   ]
  },
  {
   "cell_type": "code",
   "execution_count": 2,
   "id": "7bc01791-62d0-436c-91f8-cd0f99e2f25b",
   "metadata": {},
   "outputs": [
    {
     "name": "stdout",
     "output_type": "stream",
     "text": [
      "Requirement already satisfied: gensim in c:\\users\\asus\\appdata\\local\\programs\\python\\python312\\lib\\site-packages (4.3.3)\n",
      "Requirement already satisfied: numpy<2.0,>=1.18.5 in c:\\users\\asus\\appdata\\local\\programs\\python\\python312\\lib\\site-packages (from gensim) (1.26.4)\n",
      "Requirement already satisfied: scipy<1.14.0,>=1.7.0 in c:\\users\\asus\\appdata\\local\\programs\\python\\python312\\lib\\site-packages (from gensim) (1.13.1)\n",
      "Requirement already satisfied: smart-open>=1.8.1 in c:\\users\\asus\\appdata\\local\\programs\\python\\python312\\lib\\site-packages (from gensim) (7.1.0)\n",
      "Requirement already satisfied: wrapt in c:\\users\\asus\\appdata\\local\\programs\\python\\python312\\lib\\site-packages (from smart-open>=1.8.1->gensim) (1.16.0)\n"
     ]
    },
    {
     "name": "stderr",
     "output_type": "stream",
     "text": [
      "\n",
      "[notice] A new release of pip is available: 24.3.1 -> 25.0\n",
      "[notice] To update, run: python.exe -m pip install --upgrade pip\n"
     ]
    }
   ],
   "source": [
    "!pip install --upgrade gensim"
   ]
  },
  {
   "cell_type": "code",
   "execution_count": 3,
   "id": "bde95f18-63fc-47da-9d59-3dbe768ceb95",
   "metadata": {},
   "outputs": [],
   "source": [
    "from gensim.models import Word2Vec\n",
    "from gensim.utils import tokenize\n",
    "from gensim.parsing.preprocessing import remove_stopwords "
   ]
  },
  {
   "cell_type": "code",
   "execution_count": 4,
   "id": "5d6e4a79-2a79-4960-9e3b-c695b098c35c",
   "metadata": {},
   "outputs": [
    {
     "data": {
      "text/plain": [
       "'CNN is great. Python is a good language. You can learn CNN using Python. '"
      ]
     },
     "execution_count": 4,
     "metadata": {},
     "output_type": "execute_result"
    }
   ],
   "source": [
    "s1 = 'CNN is great. ' \n",
    "s2 = 'Python is a good language. ' \n",
    "s3 = 'You can learn CNN using Python. '\n",
    "\n",
    "sents = s1 + s2 + s3  \n",
    "sents"
   ]
  },
  {
   "cell_type": "code",
   "execution_count": 5,
   "id": "10d1627a-c8b5-4ca2-b6b8-d3642677f326",
   "metadata": {},
   "outputs": [
    {
     "data": {
      "text/plain": [
       "[['CNN',\n",
       "  'great',\n",
       "  'Python',\n",
       "  'good',\n",
       "  'language',\n",
       "  'You',\n",
       "  'learn',\n",
       "  'CNN',\n",
       "  'Python']]"
      ]
     },
     "execution_count": 5,
     "metadata": {},
     "output_type": "execute_result"
    }
   ],
   "source": [
    "sents = remove_stopwords(sents)\n",
    "\n",
    "sents_tk = [list(tokenize(sents, deacc = True))]\n",
    "sents_tk"
   ]
  },
  {
   "cell_type": "code",
   "execution_count": 6,
   "id": "03828893-c3b5-4c48-8eef-d3c470df7f4c",
   "metadata": {},
   "outputs": [
    {
     "name": "stdout",
     "output_type": "stream",
     "text": [
      "Word2Vec<vocab=7, vector_size=5, alpha=0.025>\n"
     ]
    }
   ],
   "source": [
    "model = Word2Vec(sents_tk, vector_size=5, window=1, \n",
    "                 min_count=1, sg=0, workers=4, epochs=40)\n",
    "\n",
    "print(model)"
   ]
  },
  {
   "cell_type": "code",
   "execution_count": 7,
   "id": "3aac97ca-1d64-4fe3-8388-555a8ccdc03d",
   "metadata": {},
   "outputs": [
    {
     "name": "stdout",
     "output_type": "stream",
     "text": [
      "0 Python\n",
      "1 CNN\n",
      "2 learn\n",
      "3 You\n",
      "4 language\n",
      "5 good\n",
      "6 great\n"
     ]
    }
   ],
   "source": [
    "for index, word in enumerate(model.wv.index_to_key):\n",
    "    if index == 10:\n",
    "        break\n",
    "    print(index, word)"
   ]
  },
  {
   "cell_type": "code",
   "execution_count": 8,
   "id": "229f7dfa-9422-47b0-8fce-421f37d39576",
   "metadata": {},
   "outputs": [
    {
     "data": {
      "text/plain": [
       "[('great', 0.93242347240448),\n",
       " ('CNN', 0.7743226289749146),\n",
       " ('You', 0.7670735120773315),\n",
       " ('Python', -0.00010633184865582734),\n",
       " ('language', -0.15319672226905823),\n",
       " ('learn', -0.6142301559448242)]"
      ]
     },
     "execution_count": 8,
     "metadata": {},
     "output_type": "execute_result"
    }
   ],
   "source": [
    "model.wv.most_similar('good') "
   ]
  },
  {
   "cell_type": "code",
   "execution_count": 9,
   "id": "bc7e9d22-b635-4877-844b-1f09401ed1c4",
   "metadata": {},
   "outputs": [
    {
     "name": "stdout",
     "output_type": "stream",
     "text": [
      "This word does not appear in this model\n"
     ]
    }
   ],
   "source": [
    "try:\n",
    "    vec_cameroon = model.wv['man']\n",
    "except KeyError:\n",
    "    print(\"This word does not appear in this model\")"
   ]
  },
  {
   "cell_type": "code",
   "execution_count": 10,
   "id": "b30895ba-ad2d-4f99-b78d-03ab2cba0e0e",
   "metadata": {},
   "outputs": [
    {
     "name": "stdout",
     "output_type": "stream",
     "text": [
      "    good  great     0.932\n",
      "     CNN  great     0.851\n",
      "     CNN  good      0.774\n",
      "   learn  Python    0.459\n",
      "language  You      -0.347\n"
     ]
    }
   ],
   "source": [
    "pairs = [\n",
    "    ('good', 'great'),\n",
    "    ('CNN', 'great'),  \n",
    "    ('CNN', 'good'),  \n",
    "    ('learn', 'Python'),\n",
    "    ('language', 'You')]    \n",
    "\n",
    "for w1, w2 in pairs:\n",
    "    print('{:>8}  {:8} {:6.3f}' .format(w1, w2, model.wv.similarity(w1, w2)))"
   ]
  },
  {
   "cell_type": "code",
   "execution_count": 11,
   "id": "95dee2a7-2ede-412e-98cc-a1659954528d",
   "metadata": {},
   "outputs": [],
   "source": [
    "model.save('myword2vec.model')"
   ]
  },
  {
   "cell_type": "code",
   "execution_count": 12,
   "id": "2ad1965a-63ba-4fe6-a948-3d907acdf496",
   "metadata": {},
   "outputs": [
    {
     "data": {
      "text/plain": [
       "[('great', 0.93242347240448),\n",
       " ('CNN', 0.7743226289749146),\n",
       " ('You', 0.7670735120773315),\n",
       " ('Python', -0.00010633184865582734),\n",
       " ('language', -0.15319672226905823),\n",
       " ('learn', -0.6142301559448242)]"
      ]
     },
     "execution_count": 12,
     "metadata": {},
     "output_type": "execute_result"
    }
   ],
   "source": [
    "\n",
    "trained_model = Word2Vec.load('myword2vec.model')\n",
    "trained_model.wv.most_similar('good') "
   ]
  },
  {
   "cell_type": "markdown",
   "id": "39564a78-d960-4e9b-a355-0d5f19367a08",
   "metadata": {},
   "source": [
    "## plot"
   ]
  },
  {
   "cell_type": "code",
   "execution_count": 13,
   "id": "d7b0a7bd-8a2e-4bc9-a8dc-e3792ff9bc7a",
   "metadata": {},
   "outputs": [
    {
     "data": {
      "text/plain": [
       "(7,)"
      ]
     },
     "execution_count": 13,
     "metadata": {},
     "output_type": "execute_result"
    }
   ],
   "source": [
    "import numpy as np\n",
    "import matplotlib.pyplot as plt\n",
    "\n",
    "labels = np.asarray(model.wv.index_to_key)  \n",
    "labels.shape"
   ]
  },
  {
   "cell_type": "code",
   "execution_count": 14,
   "id": "e5371d52-930b-49e2-8141-ae1a5a1f3e86",
   "metadata": {},
   "outputs": [
    {
     "name": "stdout",
     "output_type": "stream",
     "text": [
      "['Python' 'CNN' 'learn' 'You' 'language' 'good' 'great']\n"
     ]
    }
   ],
   "source": [
    "print(labels)"
   ]
  },
  {
   "cell_type": "code",
   "execution_count": 15,
   "id": "85dd7a8d-2653-4820-81e1-da5eaf7b9233",
   "metadata": {},
   "outputs": [
    {
     "data": {
      "text/plain": [
       "(7, 5)"
      ]
     },
     "execution_count": 15,
     "metadata": {},
     "output_type": "execute_result"
    }
   ],
   "source": [
    "vectors = np.asarray(model.wv.vectors)\n",
    "vectors.shape"
   ]
  },
  {
   "cell_type": "code",
   "execution_count": 16,
   "id": "2d023eb5-4016-465e-bfc4-f2b7d9d27322",
   "metadata": {},
   "outputs": [
    {
     "name": "stdout",
     "output_type": "stream",
     "text": [
      "[-0.011  0.005  0.102  0.18  -0.186]\n"
     ]
    }
   ],
   "source": [
    "print(vectors[0].round(3))"
   ]
  },
  {
   "cell_type": "code",
   "execution_count": 17,
   "id": "b82af412-a581-4310-b273-5f1c74331cd5",
   "metadata": {},
   "outputs": [
    {
     "name": "stdout",
     "output_type": "stream",
     "text": [
      "[[-0.011  0.005  0.102  0.18  -0.186]\n",
      " [-0.142  0.129  0.18  -0.1   -0.075]\n",
      " [ 0.148 -0.031 -0.091  0.131 -0.097]\n",
      " [-0.036  0.058  0.02  -0.166 -0.189]\n",
      " [ 0.146  0.101  0.135  0.015  0.127]\n",
      " [-0.068 -0.019  0.115 -0.15  -0.079]\n",
      " [-0.15  -0.019  0.191 -0.146 -0.047]]\n"
     ]
    }
   ],
   "source": [
    "print(vectors.round(3))"
   ]
  },
  {
   "cell_type": "code",
   "execution_count": 18,
   "id": "bb452e25-630a-4b61-a0c6-76cb873d073e",
   "metadata": {},
   "outputs": [
    {
     "data": {
      "text/plain": [
       "'CNN great. Python good language. You learn CNN Python.'"
      ]
     },
     "execution_count": 18,
     "metadata": {},
     "output_type": "execute_result"
    }
   ],
   "source": [
    "sents"
   ]
  },
  {
   "cell_type": "code",
   "execution_count": 19,
   "id": "ab7b5221-c371-4e45-bd40-777b26d7906f",
   "metadata": {},
   "outputs": [
    {
     "data": {
      "image/png": "[encoded data removed]",
      "text/plain": [
       "<Figure size 480x320 with 1 Axes>"
      ]
     },
     "metadata": {},
     "output_type": "display_data"
    }
   ],
   "source": [
    "from sklearn.decomposition import PCA\n",
    "\n",
    "plt.figure(figsize=(4.8, 3.2))\n",
    "\n",
    "pca = PCA(n_components=2)\n",
    "result = pca.fit_transform(vectors)\n",
    "\n",
    "plt.scatter(result[:, 0], result[:, 1])\n",
    "\n",
    "for i, label in enumerate(labels):\n",
    "    plt.annotate(label, xy=(result[i, 0]+.005, result[i, 1]+.005))\n",
    "\n",
    "plt.show()"
   ]
  },
  {
   "cell_type": "code",
   "execution_count": 20,
   "id": "bda11089-02a9-4caf-aa2c-1d2ff2c23917",
   "metadata": {},
   "outputs": [],
   "source": [
    "model.save('myword2vec.model')"
   ]
  },
  {
   "cell_type": "code",
   "execution_count": 21,
   "id": "7999d925",
   "metadata": {},
   "outputs": [
    {
     "data": {
      "text/plain": [
       "[('great', 0.93242347240448),\n",
       " ('CNN', 0.7743226289749146),\n",
       " ('You', 0.7670735120773315),\n",
       " ('Python', -0.00010633184865582734),\n",
       " ('language', -0.15319672226905823),\n",
       " ('learn', -0.6142301559448242)]"
      ]
     },
     "execution_count": 21,
     "metadata": {},
     "output_type": "execute_result"
    }
   ],
   "source": [
    "trained_model = Word2Vec.load('myword2vec.model')\n",
    "trained_model.wv.most_similar('good')"
   ]
  }
 ],
 "metadata": {
  "kernelspec": {
   "display_name": "Python 3",
   "language": "python",
   "name": "python3"
  },
  "language_info": {
   "codemirror_mode": {
    "name": "ipython",
    "version": 3
   },
   "file_extension": ".py",
   "mimetype": "text/x-python",
   "name": "python",
   "nbconvert_exporter": "python",
   "pygments_lexer": "ipython3",
   "version": "3.12.5"
  }
 },
 "nbformat": 4,
 "nbformat_minor": 5
}
