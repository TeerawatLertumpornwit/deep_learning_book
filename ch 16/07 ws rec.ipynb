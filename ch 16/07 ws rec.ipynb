{
 "cells": [
  {
   "cell_type": "markdown",
   "id": "dc973245-baf2-483c-8ce1-cb63e60d942d",
   "metadata": {},
   "source": [
    "# ws 07\n",
    "\n",
    "- download xls data (Online Retail.xlxs)  from : https://archive.ics.uci.edu/ml/machine-learning-databases/00352/"
   ]
  },
  {
   "cell_type": "code",
   "execution_count": 4,
   "id": "01adbe62-aaf6-4983-b959-bffa72ee2b18",
   "metadata": {},
   "outputs": [
    {
     "name": "stdout",
     "output_type": "stream",
     "text": [
      "Requirement already satisfied: tqdm in c:\\users\\asus\\appdata\\local\\programs\\python\\python312\\lib\\site-packages (4.66.5)\n",
      "Requirement already satisfied: colorama in c:\\users\\asus\\appdata\\roaming\\python\\python312\\site-packages (from tqdm) (0.4.6)\n"
     ]
    },
    {
     "name": "stderr",
     "output_type": "stream",
     "text": [
      "\n",
      "[notice] A new release of pip is available: 24.3.1 -> 25.0\n",
      "[notice] To update, run: python.exe -m pip install --upgrade pip\n"
     ]
    },
    {
     "name": "stdout",
     "output_type": "stream",
     "text": [
      "Requirement already satisfied: openpyxl in c:\\users\\asus\\appdata\\local\\programs\\python\\python312\\lib\\site-packages (3.1.5)\n",
      "Requirement already satisfied: et-xmlfile in c:\\users\\asus\\appdata\\local\\programs\\python\\python312\\lib\\site-packages (from openpyxl) (1.1.0)\n"
     ]
    },
    {
     "name": "stderr",
     "output_type": "stream",
     "text": [
      "\n",
      "[notice] A new release of pip is available: 24.3.1 -> 25.0\n",
      "[notice] To update, run: python.exe -m pip install --upgrade pip\n"
     ]
    }
   ],
   "source": [
    "!pip install tqdm\n",
    "!pip install openpyxl"
   ]
  },
  {
   "cell_type": "code",
   "execution_count": 5,
   "id": "5518100d-d841-469d-a9d0-7120410a6ac8",
   "metadata": {},
   "outputs": [],
   "source": [
    "import pandas as pd\n",
    "import numpy as np\n",
    "\n",
    "import matplotlib.pyplot as plt\n",
    "from tqdm import tqdm \n",
    "from gensim.models import Word2Vec \n",
    "from gensim.models.callbacks import CallbackAny2Vec   "
   ]
  },
  {
   "cell_type": "code",
   "execution_count": 6,
   "id": "4f307dd0-7449-4cc6-b094-be4ceec01805",
   "metadata": {},
   "outputs": [],
   "source": [
    "cols = 'a:d, g' #['a:d,']\n",
    "\n",
    "df = pd.read_excel('Online Retail.xlsx', usecols=cols, \n",
    "                   dtype={'CustomerID':str,'InvoiceNo':str})  "
   ]
  },
  {
   "cell_type": "code",
   "execution_count": 7,
   "id": "3954d82f-c1d8-4a32-b7a0-600982f16a42",
   "metadata": {},
   "outputs": [],
   "source": [
    "df = pd.read_excel('Online Retail.xlsx')"
   ]
  },
  {
   "cell_type": "markdown",
   "id": "5d0817fe-3bdc-4e9f-8265-a8112287f94c",
   "metadata": {},
   "source": [
    "# Explore"
   ]
  },
  {
   "cell_type": "code",
   "execution_count": 8,
   "id": "f1a30f38-dc96-4b1a-8123-a152b82e48cd",
   "metadata": {},
   "outputs": [
    {
     "data": {
      "text/html": [
       "<div>\n",
       "<style scoped>\n",
       "    .dataframe tbody tr th:only-of-type {\n",
       "        vertical-align: middle;\n",
       "    }\n",
       "\n",
       "    .dataframe tbody tr th {\n",
       "        vertical-align: top;\n",
       "    }\n",
       "\n",
       "    .dataframe thead th {\n",
       "        text-align: right;\n",
       "    }\n",
       "</style>\n",
       "<table border=\"1\" class=\"dataframe\">\n",
       "  <thead>\n",
       "    <tr style=\"text-align: right;\">\n",
       "      <th></th>\n",
       "      <th>InvoiceNo</th>\n",
       "      <th>StockCode</th>\n",
       "      <th>Description</th>\n",
       "      <th>Quantity</th>\n",
       "      <th>InvoiceDate</th>\n",
       "      <th>UnitPrice</th>\n",
       "      <th>CustomerID</th>\n",
       "      <th>Country</th>\n",
       "    </tr>\n",
       "  </thead>\n",
       "  <tbody>\n",
       "    <tr>\n",
       "      <th>0</th>\n",
       "      <td>536365</td>\n",
       "      <td>85123A</td>\n",
       "      <td>WHITE HANGING HEART T-LIGHT HOLDER</td>\n",
       "      <td>6</td>\n",
       "      <td>2010-12-01 08:26:00</td>\n",
       "      <td>2.55</td>\n",
       "      <td>17850.0</td>\n",
       "      <td>United Kingdom</td>\n",
       "    </tr>\n",
       "    <tr>\n",
       "      <th>1</th>\n",
       "      <td>536365</td>\n",
       "      <td>71053</td>\n",
       "      <td>WHITE METAL LANTERN</td>\n",
       "      <td>6</td>\n",
       "      <td>2010-12-01 08:26:00</td>\n",
       "      <td>3.39</td>\n",
       "      <td>17850.0</td>\n",
       "      <td>United Kingdom</td>\n",
       "    </tr>\n",
       "    <tr>\n",
       "      <th>2</th>\n",
       "      <td>536365</td>\n",
       "      <td>84406B</td>\n",
       "      <td>CREAM CUPID HEARTS COAT HANGER</td>\n",
       "      <td>8</td>\n",
       "      <td>2010-12-01 08:26:00</td>\n",
       "      <td>2.75</td>\n",
       "      <td>17850.0</td>\n",
       "      <td>United Kingdom</td>\n",
       "    </tr>\n",
       "    <tr>\n",
       "      <th>3</th>\n",
       "      <td>536365</td>\n",
       "      <td>84029G</td>\n",
       "      <td>KNITTED UNION FLAG HOT WATER BOTTLE</td>\n",
       "      <td>6</td>\n",
       "      <td>2010-12-01 08:26:00</td>\n",
       "      <td>3.39</td>\n",
       "      <td>17850.0</td>\n",
       "      <td>United Kingdom</td>\n",
       "    </tr>\n",
       "    <tr>\n",
       "      <th>4</th>\n",
       "      <td>536365</td>\n",
       "      <td>84029E</td>\n",
       "      <td>RED WOOLLY HOTTIE WHITE HEART.</td>\n",
       "      <td>6</td>\n",
       "      <td>2010-12-01 08:26:00</td>\n",
       "      <td>3.39</td>\n",
       "      <td>17850.0</td>\n",
       "      <td>United Kingdom</td>\n",
       "    </tr>\n",
       "  </tbody>\n",
       "</table>\n",
       "</div>"
      ],
      "text/plain": [
       "  InvoiceNo StockCode                          Description  Quantity  \\\n",
       "0    536365    85123A   WHITE HANGING HEART T-LIGHT HOLDER         6   \n",
       "1    536365     71053                  WHITE METAL LANTERN         6   \n",
       "2    536365    84406B       CREAM CUPID HEARTS COAT HANGER         8   \n",
       "3    536365    84029G  KNITTED UNION FLAG HOT WATER BOTTLE         6   \n",
       "4    536365    84029E       RED WOOLLY HOTTIE WHITE HEART.         6   \n",
       "\n",
       "          InvoiceDate  UnitPrice  CustomerID         Country  \n",
       "0 2010-12-01 08:26:00       2.55     17850.0  United Kingdom  \n",
       "1 2010-12-01 08:26:00       3.39     17850.0  United Kingdom  \n",
       "2 2010-12-01 08:26:00       2.75     17850.0  United Kingdom  \n",
       "3 2010-12-01 08:26:00       3.39     17850.0  United Kingdom  \n",
       "4 2010-12-01 08:26:00       3.39     17850.0  United Kingdom  "
      ]
     },
     "execution_count": 8,
     "metadata": {},
     "output_type": "execute_result"
    }
   ],
   "source": [
    "df.head()"
   ]
  },
  {
   "cell_type": "code",
   "execution_count": 9,
   "id": "7c840e6d-3822-4deb-a232-065bbb03ca14",
   "metadata": {},
   "outputs": [
    {
     "data": {
      "text/html": [
       "<div>\n",
       "<style scoped>\n",
       "    .dataframe tbody tr th:only-of-type {\n",
       "        vertical-align: middle;\n",
       "    }\n",
       "\n",
       "    .dataframe tbody tr th {\n",
       "        vertical-align: top;\n",
       "    }\n",
       "\n",
       "    .dataframe thead th {\n",
       "        text-align: right;\n",
       "    }\n",
       "</style>\n",
       "<table border=\"1\" class=\"dataframe\">\n",
       "  <thead>\n",
       "    <tr style=\"text-align: right;\">\n",
       "      <th></th>\n",
       "      <th>InvoiceNo</th>\n",
       "      <th>StockCode</th>\n",
       "      <th>Description</th>\n",
       "      <th>Quantity</th>\n",
       "      <th>InvoiceDate</th>\n",
       "      <th>UnitPrice</th>\n",
       "      <th>CustomerID</th>\n",
       "      <th>Country</th>\n",
       "    </tr>\n",
       "  </thead>\n",
       "  <tbody>\n",
       "    <tr>\n",
       "      <th>472379</th>\n",
       "      <td>576686</td>\n",
       "      <td>22689</td>\n",
       "      <td>DOORMAT MERRY CHRISTMAS RED</td>\n",
       "      <td>1</td>\n",
       "      <td>2011-11-16 12:08:00</td>\n",
       "      <td>8.25</td>\n",
       "      <td>16916.0</td>\n",
       "      <td>United Kingdom</td>\n",
       "    </tr>\n",
       "    <tr>\n",
       "      <th>416353</th>\n",
       "      <td>572552</td>\n",
       "      <td>22991</td>\n",
       "      <td>GIRAFFE WOODEN RULER</td>\n",
       "      <td>4</td>\n",
       "      <td>2011-10-24 17:07:00</td>\n",
       "      <td>4.13</td>\n",
       "      <td>14096.0</td>\n",
       "      <td>United Kingdom</td>\n",
       "    </tr>\n",
       "    <tr>\n",
       "      <th>490427</th>\n",
       "      <td>578054</td>\n",
       "      <td>85123A</td>\n",
       "      <td>WHITE HANGING HEART T-LIGHT HOLDER</td>\n",
       "      <td>160</td>\n",
       "      <td>2011-11-22 14:59:00</td>\n",
       "      <td>2.55</td>\n",
       "      <td>14911.0</td>\n",
       "      <td>EIRE</td>\n",
       "    </tr>\n",
       "    <tr>\n",
       "      <th>475918</th>\n",
       "      <td>576927</td>\n",
       "      <td>22580</td>\n",
       "      <td>ADVENT CALENDAR GINGHAM SACK</td>\n",
       "      <td>3</td>\n",
       "      <td>2011-11-17 11:02:00</td>\n",
       "      <td>5.95</td>\n",
       "      <td>12567.0</td>\n",
       "      <td>France</td>\n",
       "    </tr>\n",
       "    <tr>\n",
       "      <th>516681</th>\n",
       "      <td>579941</td>\n",
       "      <td>84077</td>\n",
       "      <td>WORLD WAR 2 GLIDERS ASSTD DESIGNS</td>\n",
       "      <td>48</td>\n",
       "      <td>2011-12-01 10:31:00</td>\n",
       "      <td>0.29</td>\n",
       "      <td>16496.0</td>\n",
       "      <td>United Kingdom</td>\n",
       "    </tr>\n",
       "  </tbody>\n",
       "</table>\n",
       "</div>"
      ],
      "text/plain": [
       "       InvoiceNo StockCode                         Description  Quantity  \\\n",
       "472379    576686     22689        DOORMAT MERRY CHRISTMAS RED          1   \n",
       "416353    572552     22991                GIRAFFE WOODEN RULER         4   \n",
       "490427    578054    85123A  WHITE HANGING HEART T-LIGHT HOLDER       160   \n",
       "475918    576927     22580        ADVENT CALENDAR GINGHAM SACK         3   \n",
       "516681    579941     84077   WORLD WAR 2 GLIDERS ASSTD DESIGNS        48   \n",
       "\n",
       "               InvoiceDate  UnitPrice  CustomerID         Country  \n",
       "472379 2011-11-16 12:08:00       8.25     16916.0  United Kingdom  \n",
       "416353 2011-10-24 17:07:00       4.13     14096.0  United Kingdom  \n",
       "490427 2011-11-22 14:59:00       2.55     14911.0            EIRE  \n",
       "475918 2011-11-17 11:02:00       5.95     12567.0          France  \n",
       "516681 2011-12-01 10:31:00       0.29     16496.0  United Kingdom  "
      ]
     },
     "execution_count": 9,
     "metadata": {},
     "output_type": "execute_result"
    }
   ],
   "source": [
    "df.sample(5)"
   ]
  },
  {
   "cell_type": "code",
   "execution_count": 10,
   "id": "8ed0e4b4-36fd-4251-805a-d1557bb44c62",
   "metadata": {},
   "outputs": [
    {
     "data": {
      "text/html": [
       "<div>\n",
       "<style scoped>\n",
       "    .dataframe tbody tr th:only-of-type {\n",
       "        vertical-align: middle;\n",
       "    }\n",
       "\n",
       "    .dataframe tbody tr th {\n",
       "        vertical-align: top;\n",
       "    }\n",
       "\n",
       "    .dataframe thead th {\n",
       "        text-align: right;\n",
       "    }\n",
       "</style>\n",
       "<table border=\"1\" class=\"dataframe\">\n",
       "  <thead>\n",
       "    <tr style=\"text-align: right;\">\n",
       "      <th></th>\n",
       "      <th>InvoiceNo</th>\n",
       "      <th>StockCode</th>\n",
       "      <th>Description</th>\n",
       "      <th>Quantity</th>\n",
       "      <th>InvoiceDate</th>\n",
       "      <th>UnitPrice</th>\n",
       "      <th>CustomerID</th>\n",
       "      <th>Country</th>\n",
       "    </tr>\n",
       "  </thead>\n",
       "  <tbody>\n",
       "    <tr>\n",
       "      <th>541904</th>\n",
       "      <td>581587</td>\n",
       "      <td>22613</td>\n",
       "      <td>PACK OF 20 SPACEBOY NAPKINS</td>\n",
       "      <td>12</td>\n",
       "      <td>2011-12-09 12:50:00</td>\n",
       "      <td>0.85</td>\n",
       "      <td>12680.0</td>\n",
       "      <td>France</td>\n",
       "    </tr>\n",
       "    <tr>\n",
       "      <th>541905</th>\n",
       "      <td>581587</td>\n",
       "      <td>22899</td>\n",
       "      <td>CHILDREN'S APRON DOLLY GIRL</td>\n",
       "      <td>6</td>\n",
       "      <td>2011-12-09 12:50:00</td>\n",
       "      <td>2.10</td>\n",
       "      <td>12680.0</td>\n",
       "      <td>France</td>\n",
       "    </tr>\n",
       "    <tr>\n",
       "      <th>541906</th>\n",
       "      <td>581587</td>\n",
       "      <td>23254</td>\n",
       "      <td>CHILDRENS CUTLERY DOLLY GIRL</td>\n",
       "      <td>4</td>\n",
       "      <td>2011-12-09 12:50:00</td>\n",
       "      <td>4.15</td>\n",
       "      <td>12680.0</td>\n",
       "      <td>France</td>\n",
       "    </tr>\n",
       "    <tr>\n",
       "      <th>541907</th>\n",
       "      <td>581587</td>\n",
       "      <td>23255</td>\n",
       "      <td>CHILDRENS CUTLERY CIRCUS PARADE</td>\n",
       "      <td>4</td>\n",
       "      <td>2011-12-09 12:50:00</td>\n",
       "      <td>4.15</td>\n",
       "      <td>12680.0</td>\n",
       "      <td>France</td>\n",
       "    </tr>\n",
       "    <tr>\n",
       "      <th>541908</th>\n",
       "      <td>581587</td>\n",
       "      <td>22138</td>\n",
       "      <td>BAKING SET 9 PIECE RETROSPOT</td>\n",
       "      <td>3</td>\n",
       "      <td>2011-12-09 12:50:00</td>\n",
       "      <td>4.95</td>\n",
       "      <td>12680.0</td>\n",
       "      <td>France</td>\n",
       "    </tr>\n",
       "  </tbody>\n",
       "</table>\n",
       "</div>"
      ],
      "text/plain": [
       "       InvoiceNo StockCode                      Description  Quantity  \\\n",
       "541904    581587     22613      PACK OF 20 SPACEBOY NAPKINS        12   \n",
       "541905    581587     22899     CHILDREN'S APRON DOLLY GIRL          6   \n",
       "541906    581587     23254    CHILDRENS CUTLERY DOLLY GIRL          4   \n",
       "541907    581587     23255  CHILDRENS CUTLERY CIRCUS PARADE         4   \n",
       "541908    581587     22138    BAKING SET 9 PIECE RETROSPOT          3   \n",
       "\n",
       "               InvoiceDate  UnitPrice  CustomerID Country  \n",
       "541904 2011-12-09 12:50:00       0.85     12680.0  France  \n",
       "541905 2011-12-09 12:50:00       2.10     12680.0  France  \n",
       "541906 2011-12-09 12:50:00       4.15     12680.0  France  \n",
       "541907 2011-12-09 12:50:00       4.15     12680.0  France  \n",
       "541908 2011-12-09 12:50:00       4.95     12680.0  France  "
      ]
     },
     "execution_count": 10,
     "metadata": {},
     "output_type": "execute_result"
    }
   ],
   "source": [
    "df.tail()"
   ]
  },
  {
   "cell_type": "code",
   "execution_count": 11,
   "id": "6e75b9ff-1b46-4886-9469-41dd74608e4b",
   "metadata": {},
   "outputs": [
    {
     "data": {
      "text/plain": [
       "Quantity\n",
       "-80995    1\n",
       "-74215    1\n",
       "-9600     2\n",
       "-9360     1\n",
       "-9058     1\n",
       "         ..\n",
       " 4800     1\n",
       " 5568     1\n",
       " 12540    1\n",
       " 74215    1\n",
       " 80995    1\n",
       "Length: 722, dtype: int64"
      ]
     },
     "execution_count": 11,
     "metadata": {},
     "output_type": "execute_result"
    }
   ],
   "source": [
    "df[df.Quantity < 0].count()\n",
    "df.groupby('Quantity').size()"
   ]
  },
  {
   "cell_type": "code",
   "execution_count": 12,
   "id": "aaae1f19-3264-4ae9-9d2d-d6e299d56f72",
   "metadata": {},
   "outputs": [
    {
     "data": {
      "text/html": [
       "<div>\n",
       "<style scoped>\n",
       "    .dataframe tbody tr th:only-of-type {\n",
       "        vertical-align: middle;\n",
       "    }\n",
       "\n",
       "    .dataframe tbody tr th {\n",
       "        vertical-align: top;\n",
       "    }\n",
       "\n",
       "    .dataframe thead th {\n",
       "        text-align: right;\n",
       "    }\n",
       "</style>\n",
       "<table border=\"1\" class=\"dataframe\">\n",
       "  <thead>\n",
       "    <tr style=\"text-align: right;\">\n",
       "      <th></th>\n",
       "      <th>InvoiceNo</th>\n",
       "      <th>StockCode</th>\n",
       "      <th>Description</th>\n",
       "      <th>Quantity</th>\n",
       "      <th>InvoiceDate</th>\n",
       "      <th>UnitPrice</th>\n",
       "      <th>CustomerID</th>\n",
       "      <th>Country</th>\n",
       "    </tr>\n",
       "  </thead>\n",
       "  <tbody>\n",
       "    <tr>\n",
       "      <th>540422</th>\n",
       "      <td>C581484</td>\n",
       "      <td>23843</td>\n",
       "      <td>PAPER CRAFT , LITTLE BIRDIE</td>\n",
       "      <td>-80995</td>\n",
       "      <td>2011-12-09 09:27:00</td>\n",
       "      <td>2.08</td>\n",
       "      <td>16446.0</td>\n",
       "      <td>United Kingdom</td>\n",
       "    </tr>\n",
       "    <tr>\n",
       "      <th>61624</th>\n",
       "      <td>C541433</td>\n",
       "      <td>23166</td>\n",
       "      <td>MEDIUM CERAMIC TOP STORAGE JAR</td>\n",
       "      <td>-74215</td>\n",
       "      <td>2011-01-18 10:17:00</td>\n",
       "      <td>1.04</td>\n",
       "      <td>12346.0</td>\n",
       "      <td>United Kingdom</td>\n",
       "    </tr>\n",
       "    <tr>\n",
       "      <th>225530</th>\n",
       "      <td>556691</td>\n",
       "      <td>23005</td>\n",
       "      <td>printing smudges/thrown away</td>\n",
       "      <td>-9600</td>\n",
       "      <td>2011-06-14 10:37:00</td>\n",
       "      <td>0.00</td>\n",
       "      <td>NaN</td>\n",
       "      <td>United Kingdom</td>\n",
       "    </tr>\n",
       "    <tr>\n",
       "      <th>225529</th>\n",
       "      <td>556690</td>\n",
       "      <td>23005</td>\n",
       "      <td>printing smudges/thrown away</td>\n",
       "      <td>-9600</td>\n",
       "      <td>2011-06-14 10:37:00</td>\n",
       "      <td>0.00</td>\n",
       "      <td>NaN</td>\n",
       "      <td>United Kingdom</td>\n",
       "    </tr>\n",
       "    <tr>\n",
       "      <th>4287</th>\n",
       "      <td>C536757</td>\n",
       "      <td>84347</td>\n",
       "      <td>ROTATING SILVER ANGELS T-LIGHT HLDR</td>\n",
       "      <td>-9360</td>\n",
       "      <td>2010-12-02 14:23:00</td>\n",
       "      <td>0.03</td>\n",
       "      <td>15838.0</td>\n",
       "      <td>United Kingdom</td>\n",
       "    </tr>\n",
       "  </tbody>\n",
       "</table>\n",
       "</div>"
      ],
      "text/plain": [
       "       InvoiceNo StockCode                          Description  Quantity  \\\n",
       "540422   C581484     23843          PAPER CRAFT , LITTLE BIRDIE    -80995   \n",
       "61624    C541433     23166       MEDIUM CERAMIC TOP STORAGE JAR    -74215   \n",
       "225530    556691     23005         printing smudges/thrown away     -9600   \n",
       "225529    556690     23005         printing smudges/thrown away     -9600   \n",
       "4287     C536757     84347  ROTATING SILVER ANGELS T-LIGHT HLDR     -9360   \n",
       "\n",
       "               InvoiceDate  UnitPrice  CustomerID         Country  \n",
       "540422 2011-12-09 09:27:00       2.08     16446.0  United Kingdom  \n",
       "61624  2011-01-18 10:17:00       1.04     12346.0  United Kingdom  \n",
       "225530 2011-06-14 10:37:00       0.00         NaN  United Kingdom  \n",
       "225529 2011-06-14 10:37:00       0.00         NaN  United Kingdom  \n",
       "4287   2010-12-02 14:23:00       0.03     15838.0  United Kingdom  "
      ]
     },
     "execution_count": 12,
     "metadata": {},
     "output_type": "execute_result"
    }
   ],
   "source": [
    "df[df.Quantity < -100].sort_values('Quantity', ascending=True).head()"
   ]
  },
  {
   "cell_type": "code",
   "execution_count": 13,
   "id": "965c6a4e-8331-42b6-8ae0-460c2dca8ad6",
   "metadata": {},
   "outputs": [
    {
     "data": {
      "text/plain": [
       "InvoiceNo              object\n",
       "StockCode              object\n",
       "Description            object\n",
       "Quantity                int64\n",
       "InvoiceDate    datetime64[ns]\n",
       "UnitPrice             float64\n",
       "CustomerID            float64\n",
       "Country                object\n",
       "dtype: object"
      ]
     },
     "execution_count": 13,
     "metadata": {},
     "output_type": "execute_result"
    }
   ],
   "source": [
    "df.dtypes"
   ]
  },
  {
   "cell_type": "code",
   "execution_count": 14,
   "id": "538b091e-88cd-48a0-a649-07d29d8264e1",
   "metadata": {},
   "outputs": [
    {
     "data": {
      "text/html": [
       "<div>\n",
       "<style scoped>\n",
       "    .dataframe tbody tr th:only-of-type {\n",
       "        vertical-align: middle;\n",
       "    }\n",
       "\n",
       "    .dataframe tbody tr th {\n",
       "        vertical-align: top;\n",
       "    }\n",
       "\n",
       "    .dataframe thead th {\n",
       "        text-align: right;\n",
       "    }\n",
       "</style>\n",
       "<table border=\"1\" class=\"dataframe\">\n",
       "  <thead>\n",
       "    <tr style=\"text-align: right;\">\n",
       "      <th></th>\n",
       "      <th>Quantity</th>\n",
       "      <th>InvoiceDate</th>\n",
       "      <th>UnitPrice</th>\n",
       "      <th>CustomerID</th>\n",
       "    </tr>\n",
       "  </thead>\n",
       "  <tbody>\n",
       "    <tr>\n",
       "      <th>count</th>\n",
       "      <td>541909.00</td>\n",
       "      <td>541909</td>\n",
       "      <td>541909.00</td>\n",
       "      <td>406829.00</td>\n",
       "    </tr>\n",
       "    <tr>\n",
       "      <th>mean</th>\n",
       "      <td>9.55</td>\n",
       "      <td>2011-07-04 13:34:57.156386048</td>\n",
       "      <td>4.61</td>\n",
       "      <td>15287.69</td>\n",
       "    </tr>\n",
       "    <tr>\n",
       "      <th>min</th>\n",
       "      <td>-80995.00</td>\n",
       "      <td>2010-12-01 08:26:00</td>\n",
       "      <td>-11062.06</td>\n",
       "      <td>12346.00</td>\n",
       "    </tr>\n",
       "    <tr>\n",
       "      <th>25%</th>\n",
       "      <td>1.00</td>\n",
       "      <td>2011-03-28 11:34:00</td>\n",
       "      <td>1.25</td>\n",
       "      <td>13953.00</td>\n",
       "    </tr>\n",
       "    <tr>\n",
       "      <th>50%</th>\n",
       "      <td>3.00</td>\n",
       "      <td>2011-07-19 17:17:00</td>\n",
       "      <td>2.08</td>\n",
       "      <td>15152.00</td>\n",
       "    </tr>\n",
       "    <tr>\n",
       "      <th>75%</th>\n",
       "      <td>10.00</td>\n",
       "      <td>2011-10-19 11:27:00</td>\n",
       "      <td>4.13</td>\n",
       "      <td>16791.00</td>\n",
       "    </tr>\n",
       "    <tr>\n",
       "      <th>max</th>\n",
       "      <td>80995.00</td>\n",
       "      <td>2011-12-09 12:50:00</td>\n",
       "      <td>38970.00</td>\n",
       "      <td>18287.00</td>\n",
       "    </tr>\n",
       "    <tr>\n",
       "      <th>std</th>\n",
       "      <td>218.08</td>\n",
       "      <td>NaN</td>\n",
       "      <td>96.76</td>\n",
       "      <td>1713.60</td>\n",
       "    </tr>\n",
       "  </tbody>\n",
       "</table>\n",
       "</div>"
      ],
      "text/plain": [
       "        Quantity                    InvoiceDate  UnitPrice  CustomerID\n",
       "count  541909.00                         541909  541909.00   406829.00\n",
       "mean        9.55  2011-07-04 13:34:57.156386048       4.61    15287.69\n",
       "min    -80995.00            2010-12-01 08:26:00  -11062.06    12346.00\n",
       "25%         1.00            2011-03-28 11:34:00       1.25    13953.00\n",
       "50%         3.00            2011-07-19 17:17:00       2.08    15152.00\n",
       "75%        10.00            2011-10-19 11:27:00       4.13    16791.00\n",
       "max     80995.00            2011-12-09 12:50:00   38970.00    18287.00\n",
       "std       218.08                            NaN      96.76     1713.60"
      ]
     },
     "execution_count": 14,
     "metadata": {},
     "output_type": "execute_result"
    }
   ],
   "source": [
    "df.describe().round(2)"
   ]
  },
  {
   "cell_type": "code",
   "execution_count": 15,
   "id": "7bd1811a-741a-4ce3-aea9-f91dfd0910b0",
   "metadata": {},
   "outputs": [
    {
     "data": {
      "text/plain": [
       "(541909, 8)"
      ]
     },
     "execution_count": 15,
     "metadata": {},
     "output_type": "execute_result"
    }
   ],
   "source": [
    "df.shape"
   ]
  },
  {
   "cell_type": "code",
   "execution_count": 16,
   "id": "27587567-c1eb-4fe7-902e-6df18e3782b9",
   "metadata": {},
   "outputs": [
    {
     "data": {
      "text/plain": [
       "CustomerID\n",
       "17841.0    7983\n",
       "14911.0    5903\n",
       "14096.0    5128\n",
       "12748.0    4642\n",
       "14606.0    2782\n",
       "15311.0    2491\n",
       "14646.0    2085\n",
       "13089.0    1857\n",
       "13263.0    1677\n",
       "14298.0    1640\n",
       "Name: count, dtype: int64"
      ]
     },
     "execution_count": 16,
     "metadata": {},
     "output_type": "execute_result"
    }
   ],
   "source": [
    "df.CustomerID.value_counts().sort_values(ascending=False).head(10)"
   ]
  },
  {
   "cell_type": "code",
   "execution_count": 17,
   "id": "2a1457e6-7b60-46f0-a4cd-b8b44b6bf5b0",
   "metadata": {},
   "outputs": [
    {
     "data": {
      "text/plain": [
       "CustomerID\n",
       "17841.0    7983\n",
       "14911.0    5903\n",
       "14096.0    5128\n",
       "12748.0    4642\n",
       "14606.0    2782\n",
       "15311.0    2491\n",
       "14646.0    2085\n",
       "13089.0    1857\n",
       "13263.0    1677\n",
       "14298.0    1640\n",
       "Name: InvoiceNo, dtype: int64"
      ]
     },
     "execution_count": 17,
     "metadata": {},
     "output_type": "execute_result"
    }
   ],
   "source": [
    "df.groupby('CustomerID').count().sort_values('InvoiceNo',\n",
    "                                             ascending=False).InvoiceNo.head(10)"
   ]
  },
  {
   "cell_type": "code",
   "execution_count": 18,
   "id": "4ec0f33e-a8ea-4b7c-bdd9-f4e5786a0b3c",
   "metadata": {},
   "outputs": [
    {
     "data": {
      "text/plain": [
       "InvoiceNo\n",
       "573585    1114\n",
       "581219     749\n",
       "581492     731\n",
       "580729     721\n",
       "558475     705\n",
       "579777     687\n",
       "581217     676\n",
       "537434     675\n",
       "580730     662\n",
       "538071     652\n",
       "Name: count, dtype: int64"
      ]
     },
     "execution_count": 18,
     "metadata": {},
     "output_type": "execute_result"
    }
   ],
   "source": [
    "df.InvoiceNo.value_counts().sort_values(ascending=False).head(10)"
   ]
  },
  {
   "cell_type": "code",
   "execution_count": 19,
   "id": "ae0b5904-d897-49c8-9ef2-fe2eebf4b32c",
   "metadata": {},
   "outputs": [
    {
     "data": {
      "text/plain": [
       "InvoiceNo           0\n",
       "StockCode           0\n",
       "Description      1454\n",
       "Quantity            0\n",
       "InvoiceDate         0\n",
       "UnitPrice           0\n",
       "CustomerID     135080\n",
       "Country             0\n",
       "dtype: int64"
      ]
     },
     "execution_count": 19,
     "metadata": {},
     "output_type": "execute_result"
    }
   ],
   "source": [
    "df.isnull().sum()"
   ]
  },
  {
   "cell_type": "code",
   "execution_count": 20,
   "id": "50b4f53d-63c3-445c-9b14-e532d0ebae0a",
   "metadata": {},
   "outputs": [
    {
     "data": {
      "text/plain": [
       "InvoiceNo\n",
       "536365      7\n",
       "536366      2\n",
       "536367     12\n",
       "536368      4\n",
       "536369      1\n",
       "           ..\n",
       "C581484     1\n",
       "C581490     2\n",
       "C581499     1\n",
       "C581568     1\n",
       "C581569     2\n",
       "Length: 25900, dtype: int64"
      ]
     },
     "execution_count": 20,
     "metadata": {},
     "output_type": "execute_result"
    }
   ],
   "source": [
    "df.groupby('InvoiceNo').size()"
   ]
  },
  {
   "cell_type": "code",
   "execution_count": 21,
   "id": "ab2eec01-2672-46a3-a49c-fddb89052a2d",
   "metadata": {},
   "outputs": [
    {
     "data": {
      "text/plain": [
       "CustomerID\n",
       "12346.0      2\n",
       "12347.0    182\n",
       "12348.0     31\n",
       "12349.0     73\n",
       "12350.0     17\n",
       "          ... \n",
       "18280.0     10\n",
       "18281.0      7\n",
       "18282.0     13\n",
       "18283.0    756\n",
       "18287.0     70\n",
       "Length: 4372, dtype: int64"
      ]
     },
     "execution_count": 21,
     "metadata": {},
     "output_type": "execute_result"
    }
   ],
   "source": [
    "df.groupby('CustomerID').size()"
   ]
  },
  {
   "cell_type": "markdown",
   "id": "e7380fd8-3fd0-4113-8e8b-794e14b080cb",
   "metadata": {},
   "source": [
    "# Preprocess"
   ]
  },
  {
   "cell_type": "code",
   "execution_count": 22,
   "id": "00c453ed-7efc-44f9-89f0-d1ed4402854a",
   "metadata": {},
   "outputs": [
    {
     "data": {
      "text/plain": [
       "InvoiceNo      10624\n",
       "StockCode      10624\n",
       "Description     9762\n",
       "Quantity       10624\n",
       "InvoiceDate    10624\n",
       "UnitPrice      10624\n",
       "CustomerID      8905\n",
       "Country        10624\n",
       "dtype: int64"
      ]
     },
     "execution_count": 22,
     "metadata": {},
     "output_type": "execute_result"
    }
   ],
   "source": [
    "df[df.Quantity < 0].count() \n"
   ]
  },
  {
   "cell_type": "code",
   "execution_count": 23,
   "id": "9c3c9edb-f6db-4393-94fd-97fc9934bddc",
   "metadata": {},
   "outputs": [
    {
     "data": {
      "text/plain": [
       "(531285, 8)"
      ]
     },
     "execution_count": 23,
     "metadata": {},
     "output_type": "execute_result"
    }
   ],
   "source": [
    "df = df[df.Quantity > 0] \n",
    "df.shape"
   ]
  },
  {
   "cell_type": "code",
   "execution_count": 24,
   "id": "0ee953e3-f08b-442f-88e8-61ee72478f57",
   "metadata": {},
   "outputs": [
    {
     "data": {
      "text/plain": [
       "InvoiceNo      0\n",
       "StockCode      0\n",
       "Description    0\n",
       "Quantity       0\n",
       "InvoiceDate    0\n",
       "UnitPrice      0\n",
       "CustomerID     0\n",
       "Country        0\n",
       "dtype: int64"
      ]
     },
     "execution_count": 24,
     "metadata": {},
     "output_type": "execute_result"
    }
   ],
   "source": [
    "df[df.Quantity < 1].count()"
   ]
  },
  {
   "cell_type": "code",
   "execution_count": 25,
   "id": "66bca278-11c6-4263-ae1e-738aa7e64ce0",
   "metadata": {},
   "outputs": [
    {
     "data": {
      "text/plain": [
       "InvoiceNo           0\n",
       "StockCode           0\n",
       "Description       592\n",
       "Quantity            0\n",
       "InvoiceDate         0\n",
       "UnitPrice           0\n",
       "CustomerID     133361\n",
       "Country             0\n",
       "dtype: int64"
      ]
     },
     "execution_count": 25,
     "metadata": {},
     "output_type": "execute_result"
    }
   ],
   "source": [
    "df.isnull().sum()"
   ]
  },
  {
   "cell_type": "code",
   "execution_count": 26,
   "id": "8da4e3ba-ca36-4a66-a6e2-f9c801ca0330",
   "metadata": {},
   "outputs": [],
   "source": [
    "df['CustomerID'] = df['CustomerID'].astype(str)\n",
    "df['StockCode'] = df['StockCode'].astype(str)\n",
    "df['InvoiceNo'] = df['InvoiceNo'].astype(str)"
   ]
  },
  {
   "cell_type": "code",
   "execution_count": 27,
   "id": "61238c58-5ef0-40ec-a921-8c163c8db3db",
   "metadata": {},
   "outputs": [
    {
     "data": {
      "text/plain": [
       "InvoiceNo              object\n",
       "StockCode              object\n",
       "Description            object\n",
       "Quantity                int64\n",
       "InvoiceDate    datetime64[ns]\n",
       "UnitPrice             float64\n",
       "CustomerID             object\n",
       "Country                object\n",
       "dtype: object"
      ]
     },
     "execution_count": 27,
     "metadata": {},
     "output_type": "execute_result"
    }
   ],
   "source": [
    "df.dtypes"
   ]
  },
  {
   "cell_type": "code",
   "execution_count": 28,
   "id": "6ac46079-b6de-4cb4-8551-6a6f6b11e160",
   "metadata": {},
   "outputs": [
    {
     "data": {
      "text/html": [
       "<div>\n",
       "<style scoped>\n",
       "    .dataframe tbody tr th:only-of-type {\n",
       "        vertical-align: middle;\n",
       "    }\n",
       "\n",
       "    .dataframe tbody tr th {\n",
       "        vertical-align: top;\n",
       "    }\n",
       "\n",
       "    .dataframe thead th {\n",
       "        text-align: right;\n",
       "    }\n",
       "</style>\n",
       "<table border=\"1\" class=\"dataframe\">\n",
       "  <thead>\n",
       "    <tr style=\"text-align: right;\">\n",
       "      <th></th>\n",
       "      <th>InvoiceNo</th>\n",
       "      <th>StockCode</th>\n",
       "      <th>Description</th>\n",
       "      <th>Quantity</th>\n",
       "      <th>InvoiceDate</th>\n",
       "      <th>UnitPrice</th>\n",
       "      <th>CustomerID</th>\n",
       "      <th>Country</th>\n",
       "    </tr>\n",
       "  </thead>\n",
       "  <tbody>\n",
       "    <tr>\n",
       "      <th>0</th>\n",
       "      <td>536365</td>\n",
       "      <td>85123A</td>\n",
       "      <td>WHITE HANGING HEART T-LIGHT HOLDER</td>\n",
       "      <td>6</td>\n",
       "      <td>2010-12-01 08:26:00</td>\n",
       "      <td>2.55</td>\n",
       "      <td>17850.0</td>\n",
       "      <td>United Kingdom</td>\n",
       "    </tr>\n",
       "    <tr>\n",
       "      <th>1</th>\n",
       "      <td>536365</td>\n",
       "      <td>71053</td>\n",
       "      <td>WHITE METAL LANTERN</td>\n",
       "      <td>6</td>\n",
       "      <td>2010-12-01 08:26:00</td>\n",
       "      <td>3.39</td>\n",
       "      <td>17850.0</td>\n",
       "      <td>United Kingdom</td>\n",
       "    </tr>\n",
       "    <tr>\n",
       "      <th>2</th>\n",
       "      <td>536365</td>\n",
       "      <td>84406B</td>\n",
       "      <td>CREAM CUPID HEARTS COAT HANGER</td>\n",
       "      <td>8</td>\n",
       "      <td>2010-12-01 08:26:00</td>\n",
       "      <td>2.75</td>\n",
       "      <td>17850.0</td>\n",
       "      <td>United Kingdom</td>\n",
       "    </tr>\n",
       "    <tr>\n",
       "      <th>3</th>\n",
       "      <td>536365</td>\n",
       "      <td>84029G</td>\n",
       "      <td>KNITTED UNION FLAG HOT WATER BOTTLE</td>\n",
       "      <td>6</td>\n",
       "      <td>2010-12-01 08:26:00</td>\n",
       "      <td>3.39</td>\n",
       "      <td>17850.0</td>\n",
       "      <td>United Kingdom</td>\n",
       "    </tr>\n",
       "    <tr>\n",
       "      <th>4</th>\n",
       "      <td>536365</td>\n",
       "      <td>84029E</td>\n",
       "      <td>RED WOOLLY HOTTIE WHITE HEART.</td>\n",
       "      <td>6</td>\n",
       "      <td>2010-12-01 08:26:00</td>\n",
       "      <td>3.39</td>\n",
       "      <td>17850.0</td>\n",
       "      <td>United Kingdom</td>\n",
       "    </tr>\n",
       "  </tbody>\n",
       "</table>\n",
       "</div>"
      ],
      "text/plain": [
       "  InvoiceNo StockCode                          Description  Quantity  \\\n",
       "0    536365    85123A   WHITE HANGING HEART T-LIGHT HOLDER         6   \n",
       "1    536365     71053                  WHITE METAL LANTERN         6   \n",
       "2    536365    84406B       CREAM CUPID HEARTS COAT HANGER         8   \n",
       "3    536365    84029G  KNITTED UNION FLAG HOT WATER BOTTLE         6   \n",
       "4    536365    84029E       RED WOOLLY HOTTIE WHITE HEART.         6   \n",
       "\n",
       "          InvoiceDate  UnitPrice CustomerID         Country  \n",
       "0 2010-12-01 08:26:00       2.55    17850.0  United Kingdom  \n",
       "1 2010-12-01 08:26:00       3.39    17850.0  United Kingdom  \n",
       "2 2010-12-01 08:26:00       2.75    17850.0  United Kingdom  \n",
       "3 2010-12-01 08:26:00       3.39    17850.0  United Kingdom  \n",
       "4 2010-12-01 08:26:00       3.39    17850.0  United Kingdom  "
      ]
     },
     "execution_count": 28,
     "metadata": {},
     "output_type": "execute_result"
    }
   ],
   "source": [
    "df.head()"
   ]
  },
  {
   "cell_type": "markdown",
   "id": "839c070b-540d-4fc6-964e-f2081b276fc4",
   "metadata": {},
   "source": [
    "check invoice"
   ]
  },
  {
   "cell_type": "code",
   "execution_count": 29,
   "id": "79420a0e-3c1b-4950-9d85-921bc3fb1a40",
   "metadata": {},
   "outputs": [
    {
     "data": {
      "text/plain": [
       "InvoiceNo\n",
       "A563187       1\n",
       "561392        1\n",
       "561386        1\n",
       "542145        1\n",
       "561372        1\n",
       "           ... \n",
       "558475      705\n",
       "580729      721\n",
       "581492      731\n",
       "581219      749\n",
       "573585     1114\n",
       "Name: Quantity, Length: 20728, dtype: int64"
      ]
     },
     "execution_count": 29,
     "metadata": {},
     "output_type": "execute_result"
    }
   ],
   "source": [
    "df_invo1 = df.groupby('InvoiceNo').count().Quantity.sort_values()\n",
    "df_invo1"
   ]
  },
  {
   "cell_type": "code",
   "execution_count": 30,
   "id": "9adc7adb-d09e-405b-a3cb-f11eb3582ce7",
   "metadata": {},
   "outputs": [
    {
     "data": {
      "text/plain": [
       "['A563187',\n",
       " '561392',\n",
       " '561386',\n",
       " '542145',\n",
       " '561372',\n",
       " '561368',\n",
       " '561365',\n",
       " '561361',\n",
       " '561333',\n",
       " '561327']"
      ]
     },
     "execution_count": 30,
     "metadata": {},
     "output_type": "execute_result"
    }
   ],
   "source": [
    "frame = {'InvoiceNo': df_invo1.index , 'Count': df_invo1.values }\n",
    "  \n",
    "res = pd.DataFrame(frame)\n",
    "invoices_small = res[res.Count <= 1].InvoiceNo.tolist()\n",
    "invoices_small[:10]"
   ]
  },
  {
   "cell_type": "code",
   "execution_count": 31,
   "id": "4f49c869-8057-4b79-967c-2c1dac76a786",
   "metadata": {},
   "outputs": [],
   "source": [
    "df = df[df.InvoiceNo.apply(lambda x: x not in invoices_small)]  "
   ]
  },
  {
   "cell_type": "code",
   "execution_count": 32,
   "id": "fa793124-8f91-4358-bc5e-0b244adcf796",
   "metadata": {},
   "outputs": [
    {
     "data": {
      "text/plain": [
       "(528911, 8)"
      ]
     },
     "execution_count": 32,
     "metadata": {},
     "output_type": "execute_result"
    }
   ],
   "source": [
    "df.shape"
   ]
  },
  {
   "cell_type": "code",
   "execution_count": 33,
   "id": "6831eab9-f417-4444-ad21-7969fdd23ac1",
   "metadata": {},
   "outputs": [
    {
     "data": {
      "text/plain": [
       "InvoiceNo              object\n",
       "StockCode              object\n",
       "Description            object\n",
       "Quantity                int64\n",
       "InvoiceDate    datetime64[ns]\n",
       "UnitPrice             float64\n",
       "CustomerID             object\n",
       "Country                object\n",
       "dtype: object"
      ]
     },
     "execution_count": 33,
     "metadata": {},
     "output_type": "execute_result"
    }
   ],
   "source": [
    "df.dtypes"
   ]
  },
  {
   "cell_type": "code",
   "execution_count": 34,
   "id": "989707c8-6add-4253-8865-67d06581fd88",
   "metadata": {},
   "outputs": [
    {
     "data": {
      "text/plain": [
       "InvoiceNo\n",
       "563208       2\n",
       "565206       2\n",
       "565205       2\n",
       "542889       2\n",
       "554952       2\n",
       "          ... \n",
       "558475     705\n",
       "580729     721\n",
       "581492     731\n",
       "581219     749\n",
       "573585    1114\n",
       "Length: 18354, dtype: int64"
      ]
     },
     "execution_count": 34,
     "metadata": {},
     "output_type": "execute_result"
    }
   ],
   "source": [
    "df.groupby('InvoiceNo').size().sort_values()"
   ]
  },
  {
   "cell_type": "code",
   "execution_count": 35,
   "id": "02b7a489-ae50-475f-9cc5-0f022d05af21",
   "metadata": {},
   "outputs": [
    {
     "data": {
      "text/html": [
       "<div>\n",
       "<style scoped>\n",
       "    .dataframe tbody tr th:only-of-type {\n",
       "        vertical-align: middle;\n",
       "    }\n",
       "\n",
       "    .dataframe tbody tr th {\n",
       "        vertical-align: top;\n",
       "    }\n",
       "\n",
       "    .dataframe thead th {\n",
       "        text-align: right;\n",
       "    }\n",
       "</style>\n",
       "<table border=\"1\" class=\"dataframe\">\n",
       "  <thead>\n",
       "    <tr style=\"text-align: right;\">\n",
       "      <th></th>\n",
       "      <th>InvoiceNo</th>\n",
       "      <th>StockCode</th>\n",
       "      <th>Description</th>\n",
       "      <th>Quantity</th>\n",
       "      <th>InvoiceDate</th>\n",
       "      <th>UnitPrice</th>\n",
       "      <th>CustomerID</th>\n",
       "      <th>Country</th>\n",
       "    </tr>\n",
       "  </thead>\n",
       "  <tbody>\n",
       "    <tr>\n",
       "      <th>0</th>\n",
       "      <td>536365</td>\n",
       "      <td>85123A</td>\n",
       "      <td>WHITE HANGING HEART T-LIGHT HOLDER</td>\n",
       "      <td>6</td>\n",
       "      <td>2010-12-01 08:26:00</td>\n",
       "      <td>2.55</td>\n",
       "      <td>17850.0</td>\n",
       "      <td>United Kingdom</td>\n",
       "    </tr>\n",
       "    <tr>\n",
       "      <th>1</th>\n",
       "      <td>536365</td>\n",
       "      <td>71053</td>\n",
       "      <td>WHITE METAL LANTERN</td>\n",
       "      <td>6</td>\n",
       "      <td>2010-12-01 08:26:00</td>\n",
       "      <td>3.39</td>\n",
       "      <td>17850.0</td>\n",
       "      <td>United Kingdom</td>\n",
       "    </tr>\n",
       "    <tr>\n",
       "      <th>2</th>\n",
       "      <td>536365</td>\n",
       "      <td>84406B</td>\n",
       "      <td>CREAM CUPID HEARTS COAT HANGER</td>\n",
       "      <td>8</td>\n",
       "      <td>2010-12-01 08:26:00</td>\n",
       "      <td>2.75</td>\n",
       "      <td>17850.0</td>\n",
       "      <td>United Kingdom</td>\n",
       "    </tr>\n",
       "    <tr>\n",
       "      <th>3</th>\n",
       "      <td>536365</td>\n",
       "      <td>84029G</td>\n",
       "      <td>KNITTED UNION FLAG HOT WATER BOTTLE</td>\n",
       "      <td>6</td>\n",
       "      <td>2010-12-01 08:26:00</td>\n",
       "      <td>3.39</td>\n",
       "      <td>17850.0</td>\n",
       "      <td>United Kingdom</td>\n",
       "    </tr>\n",
       "    <tr>\n",
       "      <th>4</th>\n",
       "      <td>536365</td>\n",
       "      <td>84029E</td>\n",
       "      <td>RED WOOLLY HOTTIE WHITE HEART.</td>\n",
       "      <td>6</td>\n",
       "      <td>2010-12-01 08:26:00</td>\n",
       "      <td>3.39</td>\n",
       "      <td>17850.0</td>\n",
       "      <td>United Kingdom</td>\n",
       "    </tr>\n",
       "  </tbody>\n",
       "</table>\n",
       "</div>"
      ],
      "text/plain": [
       "  InvoiceNo StockCode                          Description  Quantity  \\\n",
       "0    536365    85123A   WHITE HANGING HEART T-LIGHT HOLDER         6   \n",
       "1    536365     71053                  WHITE METAL LANTERN         6   \n",
       "2    536365    84406B       CREAM CUPID HEARTS COAT HANGER         8   \n",
       "3    536365    84029G  KNITTED UNION FLAG HOT WATER BOTTLE         6   \n",
       "4    536365    84029E       RED WOOLLY HOTTIE WHITE HEART.         6   \n",
       "\n",
       "          InvoiceDate  UnitPrice CustomerID         Country  \n",
       "0 2010-12-01 08:26:00       2.55    17850.0  United Kingdom  \n",
       "1 2010-12-01 08:26:00       3.39    17850.0  United Kingdom  \n",
       "2 2010-12-01 08:26:00       2.75    17850.0  United Kingdom  \n",
       "3 2010-12-01 08:26:00       3.39    17850.0  United Kingdom  \n",
       "4 2010-12-01 08:26:00       3.39    17850.0  United Kingdom  "
      ]
     },
     "execution_count": 35,
     "metadata": {},
     "output_type": "execute_result"
    }
   ],
   "source": [
    "df.head()"
   ]
  },
  {
   "cell_type": "markdown",
   "id": "a5798290-684a-4c56-9bf2-5f524ae174b0",
   "metadata": {},
   "source": [
    "prepare dataset using InvoiceNo"
   ]
  },
  {
   "cell_type": "code",
   "execution_count": 36,
   "id": "eec95211-86af-403c-a8bc-a45e69397b92",
   "metadata": {},
   "outputs": [
    {
     "name": "stdout",
     "output_type": "stream",
     "text": [
      "18354\n"
     ]
    },
    {
     "data": {
      "text/plain": [
       "['536365', '536366', '536367', '536368', '536370', '536372']"
      ]
     },
     "execution_count": 36,
     "metadata": {},
     "output_type": "execute_result"
    }
   ],
   "source": [
    "customers = df.InvoiceNo.unique().tolist()\n",
    "print(len(customers))\n",
    "customers[:6]"
   ]
  },
  {
   "cell_type": "code",
   "execution_count": 37,
   "id": "7963c7e7-c4e6-436b-8809-79b4fa7f3280",
   "metadata": {},
   "outputs": [],
   "source": [
    "# import random\n",
    "# random.shuffle(customers)\n",
    "\n",
    "customers_train = [customers[i] for i in range(round(0.9*len(customers)))]\n",
    "\n",
    "train_df = df[df['InvoiceNo'].isin(customers_train)]  \n",
    "validation_df = df[~df['InvoiceNo'].isin(customers_train)]"
   ]
  },
  {
   "cell_type": "code",
   "execution_count": 38,
   "id": "4d64667d-798e-4477-b1e3-deff22bf2460",
   "metadata": {},
   "outputs": [
    {
     "data": {
      "text/plain": [
       "['536365',\n",
       " '536366',\n",
       " '536367',\n",
       " '536368',\n",
       " '536370',\n",
       " '536372',\n",
       " '536373',\n",
       " '536375']"
      ]
     },
     "execution_count": 38,
     "metadata": {},
     "output_type": "execute_result"
    }
   ],
   "source": [
    "customers_train[:8]"
   ]
  },
  {
   "cell_type": "code",
   "execution_count": 39,
   "id": "8d727ca3-86d9-4f46-a020-d5c5567e90b5",
   "metadata": {},
   "outputs": [
    {
     "data": {
      "text/html": [
       "<div>\n",
       "<style scoped>\n",
       "    .dataframe tbody tr th:only-of-type {\n",
       "        vertical-align: middle;\n",
       "    }\n",
       "\n",
       "    .dataframe tbody tr th {\n",
       "        vertical-align: top;\n",
       "    }\n",
       "\n",
       "    .dataframe thead th {\n",
       "        text-align: right;\n",
       "    }\n",
       "</style>\n",
       "<table border=\"1\" class=\"dataframe\">\n",
       "  <thead>\n",
       "    <tr style=\"text-align: right;\">\n",
       "      <th></th>\n",
       "      <th>InvoiceNo</th>\n",
       "      <th>StockCode</th>\n",
       "      <th>Description</th>\n",
       "      <th>Quantity</th>\n",
       "      <th>InvoiceDate</th>\n",
       "      <th>UnitPrice</th>\n",
       "      <th>CustomerID</th>\n",
       "      <th>Country</th>\n",
       "    </tr>\n",
       "  </thead>\n",
       "  <tbody>\n",
       "    <tr>\n",
       "      <th>0</th>\n",
       "      <td>536365</td>\n",
       "      <td>85123A</td>\n",
       "      <td>WHITE HANGING HEART T-LIGHT HOLDER</td>\n",
       "      <td>6</td>\n",
       "      <td>2010-12-01 08:26:00</td>\n",
       "      <td>2.55</td>\n",
       "      <td>17850.0</td>\n",
       "      <td>United Kingdom</td>\n",
       "    </tr>\n",
       "    <tr>\n",
       "      <th>1</th>\n",
       "      <td>536365</td>\n",
       "      <td>71053</td>\n",
       "      <td>WHITE METAL LANTERN</td>\n",
       "      <td>6</td>\n",
       "      <td>2010-12-01 08:26:00</td>\n",
       "      <td>3.39</td>\n",
       "      <td>17850.0</td>\n",
       "      <td>United Kingdom</td>\n",
       "    </tr>\n",
       "    <tr>\n",
       "      <th>2</th>\n",
       "      <td>536365</td>\n",
       "      <td>84406B</td>\n",
       "      <td>CREAM CUPID HEARTS COAT HANGER</td>\n",
       "      <td>8</td>\n",
       "      <td>2010-12-01 08:26:00</td>\n",
       "      <td>2.75</td>\n",
       "      <td>17850.0</td>\n",
       "      <td>United Kingdom</td>\n",
       "    </tr>\n",
       "    <tr>\n",
       "      <th>3</th>\n",
       "      <td>536365</td>\n",
       "      <td>84029G</td>\n",
       "      <td>KNITTED UNION FLAG HOT WATER BOTTLE</td>\n",
       "      <td>6</td>\n",
       "      <td>2010-12-01 08:26:00</td>\n",
       "      <td>3.39</td>\n",
       "      <td>17850.0</td>\n",
       "      <td>United Kingdom</td>\n",
       "    </tr>\n",
       "    <tr>\n",
       "      <th>4</th>\n",
       "      <td>536365</td>\n",
       "      <td>84029E</td>\n",
       "      <td>RED WOOLLY HOTTIE WHITE HEART.</td>\n",
       "      <td>6</td>\n",
       "      <td>2010-12-01 08:26:00</td>\n",
       "      <td>3.39</td>\n",
       "      <td>17850.0</td>\n",
       "      <td>United Kingdom</td>\n",
       "    </tr>\n",
       "  </tbody>\n",
       "</table>\n",
       "</div>"
      ],
      "text/plain": [
       "  InvoiceNo StockCode                          Description  Quantity  \\\n",
       "0    536365    85123A   WHITE HANGING HEART T-LIGHT HOLDER         6   \n",
       "1    536365     71053                  WHITE METAL LANTERN         6   \n",
       "2    536365    84406B       CREAM CUPID HEARTS COAT HANGER         8   \n",
       "3    536365    84029G  KNITTED UNION FLAG HOT WATER BOTTLE         6   \n",
       "4    536365    84029E       RED WOOLLY HOTTIE WHITE HEART.         6   \n",
       "\n",
       "          InvoiceDate  UnitPrice CustomerID         Country  \n",
       "0 2010-12-01 08:26:00       2.55    17850.0  United Kingdom  \n",
       "1 2010-12-01 08:26:00       3.39    17850.0  United Kingdom  \n",
       "2 2010-12-01 08:26:00       2.75    17850.0  United Kingdom  \n",
       "3 2010-12-01 08:26:00       3.39    17850.0  United Kingdom  \n",
       "4 2010-12-01 08:26:00       3.39    17850.0  United Kingdom  "
      ]
     },
     "execution_count": 39,
     "metadata": {},
     "output_type": "execute_result"
    }
   ],
   "source": [
    "train_df.head()"
   ]
  },
  {
   "cell_type": "code",
   "execution_count": 40,
   "id": "9c0e44a3-2e28-4d37-a3dd-e07e74c2cf8e",
   "metadata": {},
   "outputs": [
    {
     "name": "stderr",
     "output_type": "stream",
     "text": [
      "100%|██████████| 16519/16519 [05:09<00:00, 53.44it/s]\n"
     ]
    }
   ],
   "source": [
    "purchases_train = []\n",
    "\n",
    "# for i in customers_train:\n",
    "for i in tqdm(customers_train):\n",
    "    temp = train_df[train_df.InvoiceNo == i][\"StockCode\"].tolist()\n",
    "    purchases_train.append(temp)"
   ]
  },
  {
   "cell_type": "markdown",
   "id": "66c6ad6b-dc68-4e33-8701-94b0ebfe8a60",
   "metadata": {},
   "source": [
    "Train"
   ]
  },
  {
   "cell_type": "code",
   "execution_count": 41,
   "id": "e6555c3a-92d7-4b22-8510-b1a80bff2d65",
   "metadata": {},
   "outputs": [
    {
     "name": "stdout",
     "output_type": "stream",
     "text": [
      "Epoch #40/40 \n"
     ]
    }
   ],
   "source": [
    "from IPython.display import clear_output\n",
    "\n",
    "class MonitorCallback(CallbackAny2Vec):\n",
    "    def __init__(self):\n",
    "        self.epoch = 0\n",
    "        clear_output(wait=True)\n",
    "        print('Start ...')\n",
    "\n",
    "    def on_epoch_begin(self, model):\n",
    "        pass\n",
    "#         print(\"Epoch #{} start\".format(self.epoch))\n",
    "\n",
    "    def on_epoch_end(self, model):\n",
    "        clear_output(wait=True)\n",
    "        print('Epoch #{}/{} '.format(self.epoch+1, model.epochs) )#\n",
    "        self.epoch += 1\n",
    "\n",
    "monitor = MonitorCallback() \n",
    "\n",
    "\n",
    "model = Word2Vec(purchases_train, vector_size=50, window=5, \n",
    "                 sg=1, workers=4, epochs=40, callbacks=[monitor])\n"
   ]
  },
  {
   "cell_type": "code",
   "execution_count": 42,
   "id": "734589aa-f700-4e6f-a5ed-7099d60920fa",
   "metadata": {},
   "outputs": [],
   "source": [
    "model.save(\"amazon_store.model\")\n"
   ]
  },
  {
   "cell_type": "code",
   "execution_count": 43,
   "id": "67d78bc0-e855-4c43-a816-5856bea88e1c",
   "metadata": {},
   "outputs": [
    {
     "name": "stdout",
     "output_type": "stream",
     "text": [
      "Word2Vec<vocab=3414, vector_size=50, alpha=0.025>\n"
     ]
    }
   ],
   "source": [
    "print(model)"
   ]
  },
  {
   "cell_type": "code",
   "execution_count": 44,
   "id": "8368468b-7e59-4198-801f-b816bce83823",
   "metadata": {},
   "outputs": [
    {
     "data": {
      "text/plain": [
       "['85123A', '85099B', '22423', '47566', '20725', '84879']"
      ]
     },
     "execution_count": 44,
     "metadata": {},
     "output_type": "execute_result"
    }
   ],
   "source": [
    "model.wv.index_to_key[:6]"
   ]
  },
  {
   "cell_type": "code",
   "execution_count": 45,
   "id": "b374ccab-d788-476c-affe-44ec31d01b52",
   "metadata": {},
   "outputs": [
    {
     "data": {
      "text/plain": [
       "array([-0.42021   ,  0.09553128,  0.23212543,  0.23411438,  0.30167037,\n",
       "       -0.38118795,  0.4750327 ,  0.09592564, -0.4071323 , -0.00300595,\n",
       "       -0.6606308 , -0.10534329,  0.42698926,  0.29774043,  0.36882594,\n",
       "        0.32943505,  0.06423474,  0.12797347, -0.03891238, -0.30737734,\n",
       "       -0.11288143, -0.16859297,  0.18108012, -0.31333837,  0.34938222,\n",
       "        0.31929716, -0.3496631 , -0.22832482, -0.1954537 , -0.10151193,\n",
       "        0.70948744, -0.18803835,  0.37119702, -0.3125038 ,  0.00870077,\n",
       "       -0.05971388,  0.07244596,  0.55635655,  0.00672897,  0.16561817,\n",
       "        0.15241906,  0.23694511, -0.30639076,  0.2355627 ,  0.23805241,\n",
       "        0.20359944, -0.32539904, -0.02179639,  0.14069332,  0.18241546],\n",
       "      dtype=float32)"
      ]
     },
     "execution_count": 45,
     "metadata": {},
     "output_type": "execute_result"
    }
   ],
   "source": [
    "model.wv['22423']"
   ]
  },
  {
   "cell_type": "code",
   "execution_count": 46,
   "id": "526ad8df-2a2f-42e3-be5d-ab5df432545b",
   "metadata": {},
   "outputs": [
    {
     "data": {
      "text/plain": [
       "16519"
      ]
     },
     "execution_count": 46,
     "metadata": {},
     "output_type": "execute_result"
    }
   ],
   "source": [
    "len(purchases_train)"
   ]
  },
  {
   "cell_type": "code",
   "execution_count": 47,
   "id": "cb252f21-20be-4dd0-b262-8b2b92617f4a",
   "metadata": {},
   "outputs": [
    {
     "data": {
      "text/plain": [
       "[('22631', 0.6364465951919556),\n",
       " ('22629', 0.6298187971115112),\n",
       " ('22630', 0.6227577328681946),\n",
       " ('22614', 0.6207475662231445),\n",
       " ('21080', 0.6185533404350281)]"
      ]
     },
     "execution_count": 47,
     "metadata": {},
     "output_type": "execute_result"
    }
   ],
   "source": [
    "\n",
    "model.wv.most_similar('22613', topn=5) "
   ]
  },
  {
   "cell_type": "code",
   "execution_count": 48,
   "id": "9577a2f7-1044-477d-8689-44d50a1f2833",
   "metadata": {},
   "outputs": [],
   "source": [
    "products = train_df[[\"StockCode\", \"Description\"]]\n",
    "\n",
    "# products.drop_duplicates(inplace=True, subset='StockCode', keep=\"last\")"
   ]
  },
  {
   "cell_type": "code",
   "execution_count": 49,
   "id": "095b1e88-3f33-4a5c-9981-dc5788beacf1",
   "metadata": {},
   "outputs": [
    {
     "data": {
      "text/html": [
       "<div>\n",
       "<style scoped>\n",
       "    .dataframe tbody tr th:only-of-type {\n",
       "        vertical-align: middle;\n",
       "    }\n",
       "\n",
       "    .dataframe tbody tr th {\n",
       "        vertical-align: top;\n",
       "    }\n",
       "\n",
       "    .dataframe thead th {\n",
       "        text-align: right;\n",
       "    }\n",
       "</style>\n",
       "<table border=\"1\" class=\"dataframe\">\n",
       "  <thead>\n",
       "    <tr style=\"text-align: right;\">\n",
       "      <th></th>\n",
       "      <th>StockCode</th>\n",
       "      <th>Description</th>\n",
       "    </tr>\n",
       "  </thead>\n",
       "  <tbody>\n",
       "    <tr>\n",
       "      <th>0</th>\n",
       "      <td>85123A</td>\n",
       "      <td>WHITE HANGING HEART T-LIGHT HOLDER</td>\n",
       "    </tr>\n",
       "    <tr>\n",
       "      <th>1</th>\n",
       "      <td>71053</td>\n",
       "      <td>WHITE METAL LANTERN</td>\n",
       "    </tr>\n",
       "    <tr>\n",
       "      <th>2</th>\n",
       "      <td>84406B</td>\n",
       "      <td>CREAM CUPID HEARTS COAT HANGER</td>\n",
       "    </tr>\n",
       "    <tr>\n",
       "      <th>3</th>\n",
       "      <td>84029G</td>\n",
       "      <td>KNITTED UNION FLAG HOT WATER BOTTLE</td>\n",
       "    </tr>\n",
       "    <tr>\n",
       "      <th>4</th>\n",
       "      <td>84029E</td>\n",
       "      <td>RED WOOLLY HOTTIE WHITE HEART.</td>\n",
       "    </tr>\n",
       "  </tbody>\n",
       "</table>\n",
       "</div>"
      ],
      "text/plain": [
       "  StockCode                          Description\n",
       "0    85123A   WHITE HANGING HEART T-LIGHT HOLDER\n",
       "1     71053                  WHITE METAL LANTERN\n",
       "2    84406B       CREAM CUPID HEARTS COAT HANGER\n",
       "3    84029G  KNITTED UNION FLAG HOT WATER BOTTLE\n",
       "4    84029E       RED WOOLLY HOTTIE WHITE HEART."
      ]
     },
     "execution_count": 49,
     "metadata": {},
     "output_type": "execute_result"
    }
   ],
   "source": [
    "products[:5]"
   ]
  },
  {
   "cell_type": "code",
   "execution_count": 50,
   "id": "dc1f645b-6738-4175-bbf9-6c04a2677053",
   "metadata": {},
   "outputs": [
    {
     "data": {
      "text/plain": [
       "['PACK OF 20 SPACEBOY NAPKINS',\n",
       " 'PACK OF 20 SPACEBOY NAPKINS',\n",
       " 'PACK OF 20 SPACEBOY NAPKINS',\n",
       " 'PACK OF 20 SPACEBOY NAPKINS',\n",
       " 'PACK OF 20 SPACEBOY NAPKINS',\n",
       " 'PACK OF 20 SPACEBOY NAPKINS',\n",
       " 'PACK OF 20 SPACEBOY NAPKINS',\n",
       " 'PACK OF 20 SPACEBOY NAPKINS',\n",
       " 'PACK OF 20 SPACEBOY NAPKINS',\n",
       " 'PACK OF 20 SPACEBOY NAPKINS',\n",
       " 'PACK OF 20 SPACEBOY NAPKINS',\n",
       " 'PACK OF 20 SPACEBOY NAPKINS',\n",
       " 'PACK OF 20 SPACEBOY NAPKINS',\n",
       " 'PACK OF 20 SPACEBOY NAPKINS',\n",
       " 'PACK OF 20 SPACEBOY NAPKINS',\n",
       " 'PACK OF 20 SPACEBOY NAPKINS',\n",
       " 'PACK OF 20 SPACEBOY NAPKINS',\n",
       " 'PACK OF 20 SPACEBOY NAPKINS',\n",
       " 'PACK OF 20 SPACEBOY NAPKINS',\n",
       " 'PACK OF 20 SPACEBOY NAPKINS',\n",
       " 'PACK OF 20 SPACEBOY NAPKINS',\n",
       " 'PACK OF 20 SPACEBOY NAPKINS',\n",
       " 'PACK OF 20 SPACEBOY NAPKINS',\n",
       " 'PACK OF 20 SPACEBOY NAPKINS',\n",
       " 'PACK OF 20 SPACEBOY NAPKINS',\n",
       " 'PACK OF 20 SPACEBOY NAPKINS',\n",
       " 'PACK OF 20 SPACEBOY NAPKINS',\n",
       " 'PACK OF 20 SPACEBOY NAPKINS',\n",
       " 'PACK OF 20 SPACEBOY NAPKINS',\n",
       " 'PACK OF 20 SPACEBOY NAPKINS',\n",
       " 'PACK OF 20 SPACEBOY NAPKINS',\n",
       " 'PACK OF 20 SPACEBOY NAPKINS',\n",
       " 'PACK OF 20 SPACEBOY NAPKINS',\n",
       " 'PACK OF 20 SPACEBOY NAPKINS',\n",
       " 'PACK OF 20 SPACEBOY NAPKINS',\n",
       " 'PACK OF 20 SPACEBOY NAPKINS',\n",
       " 'PACK OF 20 SPACEBOY NAPKINS',\n",
       " 'PACK OF 20 SPACEBOY NAPKINS',\n",
       " 'PACK OF 20 SPACEBOY NAPKINS',\n",
       " 'PACK OF 20 SPACEBOY NAPKINS',\n",
       " 'PACK OF 20 SPACEBOY NAPKINS',\n",
       " 'PACK OF 20 SPACEBOY NAPKINS',\n",
       " 'PACK OF 20 SPACEBOY NAPKINS',\n",
       " 'PACK OF 20 SPACEBOY NAPKINS',\n",
       " 'PACK OF 20 SPACEBOY NAPKINS',\n",
       " 'PACK OF 20 SPACEBOY NAPKINS',\n",
       " 'PACK OF 20 SPACEBOY NAPKINS',\n",
       " 'PACK OF 20 SPACEBOY NAPKINS',\n",
       " 'PACK OF 20 SPACEBOY NAPKINS',\n",
       " 'PACK OF 20 SPACEBOY NAPKINS',\n",
       " 'PACK OF 20 SPACEBOY NAPKINS',\n",
       " 'PACK OF 20 SPACEBOY NAPKINS',\n",
       " 'PACK OF 20 SPACEBOY NAPKINS',\n",
       " 'PACK OF 20 SPACEBOY NAPKINS',\n",
       " 'PACK OF 20 SPACEBOY NAPKINS',\n",
       " 'PACK OF 20 SPACEBOY NAPKINS',\n",
       " 'PACK OF 20 SPACEBOY NAPKINS',\n",
       " 'PACK OF 20 SPACEBOY NAPKINS',\n",
       " 'PACK OF 20 SPACEBOY NAPKINS',\n",
       " 'PACK OF 20 SPACEBOY NAPKINS',\n",
       " 'PACK OF 20 SPACEBOY NAPKINS',\n",
       " 'PACK OF 20 SPACEBOY NAPKINS',\n",
       " 'PACK OF 20 SPACEBOY NAPKINS',\n",
       " 'PACK OF 20 SPACEBOY NAPKINS',\n",
       " 'PACK OF 20 SPACEBOY NAPKINS',\n",
       " 'PACK OF 20 SPACEBOY NAPKINS',\n",
       " 'PACK OF 20 SPACEBOY NAPKINS',\n",
       " 'PACK OF 20 SPACEBOY NAPKINS',\n",
       " 'PACK OF 20 SPACEBOY NAPKINS',\n",
       " 'PACK OF 20 SPACEBOY NAPKINS',\n",
       " 'PACK OF 20 SPACEBOY NAPKINS',\n",
       " 'PACK OF 20 SPACEBOY NAPKINS',\n",
       " 'PACK OF 20 SPACEBOY NAPKINS',\n",
       " 'PACK OF 20 SPACEBOY NAPKINS',\n",
       " 'PACK OF 20 SPACEBOY NAPKINS',\n",
       " 'PACK OF 20 SPACEBOY NAPKINS',\n",
       " 'PACK OF 20 SPACEBOY NAPKINS',\n",
       " 'PACK OF 20 SPACEBOY NAPKINS',\n",
       " 'PACK OF 20 SPACEBOY NAPKINS',\n",
       " 'PACK OF 20 SPACEBOY NAPKINS',\n",
       " 'PACK OF 20 SPACEBOY NAPKINS',\n",
       " 'PACK OF 20 SPACEBOY NAPKINS',\n",
       " 'PACK OF 20 SPACEBOY NAPKINS',\n",
       " 'PACK OF 20 SPACEBOY NAPKINS',\n",
       " 'PACK OF 20 SPACEBOY NAPKINS',\n",
       " 'PACK OF 20 SPACEBOY NAPKINS',\n",
       " 'PACK OF 20 SPACEBOY NAPKINS',\n",
       " 'PACK OF 20 SPACEBOY NAPKINS',\n",
       " 'PACK OF 20 SPACEBOY NAPKINS',\n",
       " 'PACK OF 20 SPACEBOY NAPKINS',\n",
       " 'PACK OF 20 SPACEBOY NAPKINS',\n",
       " 'PACK OF 20 SPACEBOY NAPKINS',\n",
       " 'PACK OF 20 SPACEBOY NAPKINS',\n",
       " 'PACK OF 20 SPACEBOY NAPKINS',\n",
       " 'PACK OF 20 SPACEBOY NAPKINS',\n",
       " 'PACK OF 20 SPACEBOY NAPKINS',\n",
       " 'PACK OF 20 SPACEBOY NAPKINS',\n",
       " 'PACK OF 20 SPACEBOY NAPKINS',\n",
       " 'PACK OF 20 SPACEBOY NAPKINS',\n",
       " 'PACK OF 20 SPACEBOY NAPKINS',\n",
       " 'PACK OF 20 SPACEBOY NAPKINS',\n",
       " 'PACK OF 20 SPACEBOY NAPKINS',\n",
       " 'PACK OF 20 SPACEBOY NAPKINS',\n",
       " 'PACK OF 20 SPACEBOY NAPKINS',\n",
       " 'PACK OF 20 SPACEBOY NAPKINS',\n",
       " 'PACK OF 20 SPACEBOY NAPKINS',\n",
       " 'PACK OF 20 SPACEBOY NAPKINS',\n",
       " 'PACK OF 20 SPACEBOY NAPKINS',\n",
       " 'PACK OF 20 SPACEBOY NAPKINS',\n",
       " 'PACK OF 20 SPACEBOY NAPKINS',\n",
       " 'PACK OF 20 SPACEBOY NAPKINS',\n",
       " 'PACK OF 20 SPACEBOY NAPKINS',\n",
       " 'PACK OF 20 SPACEBOY NAPKINS',\n",
       " 'PACK OF 20 SPACEBOY NAPKINS',\n",
       " 'PACK OF 20 SPACEBOY NAPKINS',\n",
       " 'PACK OF 20 SPACEBOY NAPKINS',\n",
       " 'PACK OF 20 SPACEBOY NAPKINS',\n",
       " 'PACK OF 20 SPACEBOY NAPKINS',\n",
       " 'PACK OF 20 SPACEBOY NAPKINS',\n",
       " 'PACK OF 20 SPACEBOY NAPKINS',\n",
       " 'PACK OF 20 SPACEBOY NAPKINS',\n",
       " 'PACK OF 20 SPACEBOY NAPKINS',\n",
       " 'PACK OF 20 SPACEBOY NAPKINS',\n",
       " 'PACK OF 20 SPACEBOY NAPKINS',\n",
       " 'PACK OF 20 SPACEBOY NAPKINS',\n",
       " 'PACK OF 20 SPACEBOY NAPKINS',\n",
       " 'PACK OF 20 SPACEBOY NAPKINS',\n",
       " 'PACK OF 20 SPACEBOY NAPKINS',\n",
       " 'PACK OF 20 SPACEBOY NAPKINS',\n",
       " 'PACK OF 20 SPACEBOY NAPKINS',\n",
       " 'PACK OF 20 SPACEBOY NAPKINS',\n",
       " 'PACK OF 20 SPACEBOY NAPKINS',\n",
       " 'PACK OF 20 SPACEBOY NAPKINS',\n",
       " 'PACK OF 20 SPACEBOY NAPKINS']"
      ]
     },
     "execution_count": 50,
     "metadata": {},
     "output_type": "execute_result"
    }
   ],
   "source": [
    "products_dict = products.groupby('StockCode')['Description'].apply(list).to_dict()\n",
    "\n",
    "products_dict['22613']"
   ]
  },
  {
   "cell_type": "code",
   "execution_count": 51,
   "id": "2f756408-90af-4cb8-9a2b-7d65a21d9ac9",
   "metadata": {},
   "outputs": [
    {
     "name": "stdout",
     "output_type": "stream",
     "text": [
      "Shopping: 22613 PACK OF 20 SPACEBOY NAPKINS\n",
      "--------------------------------------------\n",
      "22631  CIRCUS PARADE LUNCH BOX              0.636\n",
      "22629  SPACEBOY LUNCH BOX                   0.630\n",
      "22630  DOLLY GIRL LUNCH BOX                 0.623\n",
      "22614  PACK OF 12 SPACEBOY TISSUES          0.621\n",
      "21080  SET/20 RED RETROSPOT PAPER NAPKINS   0.619\n"
     ]
    }
   ],
   "source": [
    "sku_now = '22613' \n",
    "\n",
    "similars = model.wv.most_similar(sku_now, topn=7) # \n",
    "\n",
    "print('Shopping:', sku_now, products_dict[sku_now][0])\n",
    "print('--------------------------------------------')\n",
    "\n",
    "for i in similars:\n",
    "    if i[1] > 0.6:\n",
    "        print('{:6} {:36} {:.3f}'.format(i[0], products_dict[i[0]][0], i[1]))"
   ]
  },
  {
   "cell_type": "code",
   "execution_count": 52,
   "id": "0ff19496-6f8a-471d-89bb-d5342b462fda",
   "metadata": {},
   "outputs": [
    {
     "name": "stdout",
     "output_type": "stream",
     "text": [
      "Shopping: ['84997B', '22630'] ['RED 3 PIECE RETROSPOT CUTLERY SET', 'RED 3 PIECE RETROSPOT CUTLERY SET', 'RED 3 PIECE RETROSPOT CUTLERY SET', 'RED 3 PIECE RETROSPOT CUTLERY SET', 'RED 3 PIECE RETROSPOT CUTLERY SET', 'RED 3 PIECE RETROSPOT CUTLERY SET', 'RED 3 PIECE RETROSPOT CUTLERY SET', 'RED 3 PIECE RETROSPOT CUTLERY SET', 'RED 3 PIECE RETROSPOT CUTLERY SET', 'RED 3 PIECE RETROSPOT CUTLERY SET', 'RED 3 PIECE RETROSPOT CUTLERY SET', 'RED 3 PIECE RETROSPOT CUTLERY SET', 'RED 3 PIECE RETROSPOT CUTLERY SET', 'RED 3 PIECE RETROSPOT CUTLERY SET', 'RED 3 PIECE RETROSPOT CUTLERY SET', 'RED 3 PIECE RETROSPOT CUTLERY SET', 'RED 3 PIECE RETROSPOT CUTLERY SET', 'RED 3 PIECE RETROSPOT CUTLERY SET', 'RED 3 PIECE RETROSPOT CUTLERY SET', 'RED 3 PIECE RETROSPOT CUTLERY SET', 'RED 3 PIECE RETROSPOT CUTLERY SET', 'RED 3 PIECE RETROSPOT CUTLERY SET', 'RED 3 PIECE RETROSPOT CUTLERY SET', 'RED 3 PIECE RETROSPOT CUTLERY SET', 'RED 3 PIECE RETROSPOT CUTLERY SET', 'RED 3 PIECE RETROSPOT CUTLERY SET', 'RED 3 PIECE RETROSPOT CUTLERY SET', 'RED 3 PIECE RETROSPOT CUTLERY SET', 'RED 3 PIECE RETROSPOT CUTLERY SET', 'RED 3 PIECE RETROSPOT CUTLERY SET', 'RED 3 PIECE RETROSPOT CUTLERY SET', 'RED 3 PIECE RETROSPOT CUTLERY SET', 'RED 3 PIECE RETROSPOT CUTLERY SET', 'RED 3 PIECE RETROSPOT CUTLERY SET', 'RED 3 PIECE RETROSPOT CUTLERY SET', 'RED 3 PIECE RETROSPOT CUTLERY SET', 'RED 3 PIECE RETROSPOT CUTLERY SET', 'RED 3 PIECE RETROSPOT CUTLERY SET', 'RED 3 PIECE RETROSPOT CUTLERY SET', 'RED 3 PIECE RETROSPOT CUTLERY SET', 'RED 3 PIECE RETROSPOT CUTLERY SET', 'RED 3 PIECE RETROSPOT CUTLERY SET', 'RED 3 PIECE RETROSPOT CUTLERY SET', 'RED 3 PIECE RETROSPOT CUTLERY SET', 'RED 3 PIECE RETROSPOT CUTLERY SET', 'RED 3 PIECE RETROSPOT CUTLERY SET', 'RED 3 PIECE RETROSPOT CUTLERY SET', 'RED 3 PIECE RETROSPOT CUTLERY SET', 'RED 3 PIECE RETROSPOT CUTLERY SET', 'RED 3 PIECE RETROSPOT CUTLERY SET', 'RED 3 PIECE RETROSPOT CUTLERY SET', 'RED 3 PIECE RETROSPOT CUTLERY SET', 'RED 3 PIECE RETROSPOT CUTLERY SET', 'RED 3 PIECE RETROSPOT CUTLERY SET', 'RED 3 PIECE RETROSPOT CUTLERY SET', 'RED 3 PIECE RETROSPOT CUTLERY SET', 'RED 3 PIECE RETROSPOT CUTLERY SET', 'RED 3 PIECE RETROSPOT CUTLERY SET', 'RED 3 PIECE RETROSPOT CUTLERY SET', 'RED 3 PIECE RETROSPOT CUTLERY SET', 'RED 3 PIECE RETROSPOT CUTLERY SET', 'RED 3 PIECE RETROSPOT CUTLERY SET', 'RED 3 PIECE RETROSPOT CUTLERY SET', 'RED 3 PIECE RETROSPOT CUTLERY SET', 'RED 3 PIECE RETROSPOT CUTLERY SET', 'RED 3 PIECE RETROSPOT CUTLERY SET', 'RED 3 PIECE RETROSPOT CUTLERY SET', 'RED 3 PIECE RETROSPOT CUTLERY SET', 'RED 3 PIECE RETROSPOT CUTLERY SET', 'RED 3 PIECE RETROSPOT CUTLERY SET', 'RED 3 PIECE RETROSPOT CUTLERY SET', 'RED 3 PIECE RETROSPOT CUTLERY SET', 'RED 3 PIECE RETROSPOT CUTLERY SET', 'RED 3 PIECE RETROSPOT CUTLERY SET', 'RED 3 PIECE RETROSPOT CUTLERY SET', 'RED 3 PIECE RETROSPOT CUTLERY SET', 'RED 3 PIECE RETROSPOT CUTLERY SET', 'RED 3 PIECE RETROSPOT CUTLERY SET', 'RED 3 PIECE RETROSPOT CUTLERY SET', 'RED 3 PIECE RETROSPOT CUTLERY SET', 'RED 3 PIECE RETROSPOT CUTLERY SET', 'RED 3 PIECE RETROSPOT CUTLERY SET', 'RED 3 PIECE RETROSPOT CUTLERY SET', 'RED 3 PIECE RETROSPOT CUTLERY SET', 'RED 3 PIECE RETROSPOT CUTLERY SET', 'RED 3 PIECE RETROSPOT CUTLERY SET', 'RED 3 PIECE RETROSPOT CUTLERY SET', 'RED 3 PIECE RETROSPOT CUTLERY SET', 'RED 3 PIECE RETROSPOT CUTLERY SET', 'RED 3 PIECE RETROSPOT CUTLERY SET', 'RED 3 PIECE RETROSPOT CUTLERY SET', 'RED 3 PIECE RETROSPOT CUTLERY SET', 'RED 3 PIECE RETROSPOT CUTLERY SET', 'RED 3 PIECE RETROSPOT CUTLERY SET', 'RED 3 PIECE RETROSPOT CUTLERY SET', 'RED 3 PIECE RETROSPOT CUTLERY SET', 'RED 3 PIECE RETROSPOT CUTLERY SET', 'RED 3 PIECE RETROSPOT CUTLERY SET', 'RED 3 PIECE RETROSPOT CUTLERY SET', 'RED 3 PIECE RETROSPOT CUTLERY SET', 'RED 3 PIECE RETROSPOT CUTLERY SET', 'RED 3 PIECE RETROSPOT CUTLERY SET', 'CHILDRENS CUTLERY RETROSPOT RED ', 'RED 3 PIECE RETROSPOT CUTLERY SET', 'RED 3 PIECE RETROSPOT CUTLERY SET', 'CHILDRENS CUTLERY RETROSPOT RED ', 'CHILDRENS CUTLERY RETROSPOT RED ', 'CHILDRENS CUTLERY RETROSPOT RED ', 'CHILDRENS CUTLERY RETROSPOT RED ', 'RED 3 PIECE RETROSPOT CUTLERY SET', 'CHILDRENS CUTLERY RETROSPOT RED ', 'RED 3 PIECE RETROSPOT CUTLERY SET', 'CHILDRENS CUTLERY RETROSPOT RED ', 'CHILDRENS CUTLERY RETROSPOT RED ', 'CHILDRENS CUTLERY RETROSPOT RED ', 'RED 3 PIECE RETROSPOT CUTLERY SET', 'RED 3 PIECE RETROSPOT CUTLERY SET', 'RED 3 PIECE RETROSPOT CUTLERY SET', 'CHILDRENS CUTLERY RETROSPOT RED ', 'CHILDRENS CUTLERY RETROSPOT RED ', 'CHILDRENS CUTLERY RETROSPOT RED ', 'CHILDRENS CUTLERY RETROSPOT RED ', 'CHILDRENS CUTLERY RETROSPOT RED ', 'CHILDRENS CUTLERY RETROSPOT RED ', 'CHILDRENS CUTLERY RETROSPOT RED ', 'CHILDRENS CUTLERY RETROSPOT RED ', 'CHILDRENS CUTLERY RETROSPOT RED ', 'CHILDRENS CUTLERY RETROSPOT RED ', 'CHILDRENS CUTLERY RETROSPOT RED ', 'CHILDRENS CUTLERY RETROSPOT RED ', 'CHILDRENS CUTLERY RETROSPOT RED ', 'CHILDRENS CUTLERY RETROSPOT RED ', 'CHILDRENS CUTLERY RETROSPOT RED ', 'CHILDRENS CUTLERY RETROSPOT RED ', 'CHILDRENS CUTLERY RETROSPOT RED ', 'CHILDRENS CUTLERY RETROSPOT RED ', 'CHILDRENS CUTLERY RETROSPOT RED ', 'CHILDRENS CUTLERY RETROSPOT RED ', 'CHILDRENS CUTLERY RETROSPOT RED ', 'CHILDRENS CUTLERY RETROSPOT RED ', 'CHILDRENS CUTLERY RETROSPOT RED ', 'CHILDRENS CUTLERY RETROSPOT RED ', 'CHILDRENS CUTLERY RETROSPOT RED ', 'CHILDRENS CUTLERY RETROSPOT RED ', 'CHILDRENS CUTLERY RETROSPOT RED ', 'CHILDRENS CUTLERY RETROSPOT RED ', 'CHILDRENS CUTLERY RETROSPOT RED ', 'CHILDRENS CUTLERY RETROSPOT RED ', 'CHILDRENS CUTLERY RETROSPOT RED ', 'CHILDRENS CUTLERY RETROSPOT RED ', 'CHILDRENS CUTLERY RETROSPOT RED ', 'CHILDRENS CUTLERY RETROSPOT RED ', 'CHILDRENS CUTLERY RETROSPOT RED ', 'CHILDRENS CUTLERY RETROSPOT RED ', 'CHILDRENS CUTLERY RETROSPOT RED ', 'CHILDRENS CUTLERY RETROSPOT RED ', 'CHILDRENS CUTLERY RETROSPOT RED ', 'CHILDRENS CUTLERY RETROSPOT RED ', 'CHILDRENS CUTLERY RETROSPOT RED ', 'CHILDRENS CUTLERY RETROSPOT RED ', 'CHILDRENS CUTLERY RETROSPOT RED ', 'CHILDRENS CUTLERY RETROSPOT RED ', 'CHILDRENS CUTLERY RETROSPOT RED ', 'CHILDRENS CUTLERY RETROSPOT RED ', 'CHILDRENS CUTLERY RETROSPOT RED ', 'CHILDRENS CUTLERY RETROSPOT RED ', 'CHILDRENS CUTLERY RETROSPOT RED ', 'CHILDRENS CUTLERY RETROSPOT RED ', 'CHILDRENS CUTLERY RETROSPOT RED ', 'CHILDRENS CUTLERY RETROSPOT RED ', 'CHILDRENS CUTLERY RETROSPOT RED ', 'CHILDRENS CUTLERY RETROSPOT RED ', 'CHILDRENS CUTLERY RETROSPOT RED ', 'CHILDRENS CUTLERY RETROSPOT RED ', 'CHILDRENS CUTLERY RETROSPOT RED ', 'CHILDRENS CUTLERY RETROSPOT RED ', 'CHILDRENS CUTLERY RETROSPOT RED ', 'CHILDRENS CUTLERY RETROSPOT RED ', 'CHILDRENS CUTLERY RETROSPOT RED ', 'CHILDRENS CUTLERY RETROSPOT RED ', 'CHILDRENS CUTLERY RETROSPOT RED ', 'CHILDRENS CUTLERY RETROSPOT RED ', 'CHILDRENS CUTLERY RETROSPOT RED ', 'CHILDRENS CUTLERY RETROSPOT RED ', 'CHILDRENS CUTLERY RETROSPOT RED ', 'CHILDRENS CUTLERY RETROSPOT RED ', 'CHILDRENS CUTLERY RETROSPOT RED ', 'CHILDRENS CUTLERY RETROSPOT RED ', 'CHILDRENS CUTLERY RETROSPOT RED ', 'CHILDRENS CUTLERY RETROSPOT RED ', 'CHILDRENS CUTLERY RETROSPOT RED ', 'CHILDRENS CUTLERY RETROSPOT RED ', 'CHILDRENS CUTLERY RETROSPOT RED ', 'CHILDRENS CUTLERY RETROSPOT RED ', 'CHILDRENS CUTLERY RETROSPOT RED ', 'CHILDRENS CUTLERY RETROSPOT RED ', 'CHILDRENS CUTLERY RETROSPOT RED ', 'CHILDRENS CUTLERY RETROSPOT RED ', 'CHILDRENS CUTLERY RETROSPOT RED ', 'CHILDRENS CUTLERY RETROSPOT RED ', 'CHILDRENS CUTLERY RETROSPOT RED ', 'CHILDRENS CUTLERY RETROSPOT RED ', 'CHILDRENS CUTLERY RETROSPOT RED ', 'CHILDRENS CUTLERY RETROSPOT RED ', 'CHILDRENS CUTLERY RETROSPOT RED ', 'CHILDRENS CUTLERY RETROSPOT RED ', 'CHILDRENS CUTLERY RETROSPOT RED ', 'CHILDRENS CUTLERY RETROSPOT RED ', 'CHILDRENS CUTLERY RETROSPOT RED ', 'CHILDRENS CUTLERY RETROSPOT RED ', 'CHILDRENS CUTLERY RETROSPOT RED ', 'CHILDRENS CUTLERY RETROSPOT RED ', 'CHILDRENS CUTLERY RETROSPOT RED ', 'CHILDRENS CUTLERY RETROSPOT RED ', 'CHILDRENS CUTLERY RETROSPOT RED ', 'CHILDRENS CUTLERY RETROSPOT RED ', 'CHILDRENS CUTLERY RETROSPOT RED ', 'CHILDRENS CUTLERY RETROSPOT RED ', 'CHILDRENS CUTLERY RETROSPOT RED ', 'CHILDRENS CUTLERY RETROSPOT RED ', 'CHILDRENS CUTLERY RETROSPOT RED ', 'CHILDRENS CUTLERY RETROSPOT RED ', 'CHILDRENS CUTLERY RETROSPOT RED ', 'CHILDRENS CUTLERY RETROSPOT RED ', 'CHILDRENS CUTLERY RETROSPOT RED ', 'CHILDRENS CUTLERY RETROSPOT RED ', 'CHILDRENS CUTLERY RETROSPOT RED ', 'CHILDRENS CUTLERY RETROSPOT RED ', 'CHILDRENS CUTLERY RETROSPOT RED ', 'CHILDRENS CUTLERY RETROSPOT RED ', 'CHILDRENS CUTLERY RETROSPOT RED ', 'CHILDRENS CUTLERY RETROSPOT RED ', 'CHILDRENS CUTLERY RETROSPOT RED ', 'CHILDRENS CUTLERY RETROSPOT RED ', 'CHILDRENS CUTLERY RETROSPOT RED ', 'CHILDRENS CUTLERY RETROSPOT RED ', 'CHILDRENS CUTLERY RETROSPOT RED ', 'CHILDRENS CUTLERY RETROSPOT RED ', 'CHILDRENS CUTLERY RETROSPOT RED ', 'CHILDRENS CUTLERY RETROSPOT RED ', 'CHILDRENS CUTLERY RETROSPOT RED ', 'CHILDRENS CUTLERY RETROSPOT RED ', 'CHILDRENS CUTLERY RETROSPOT RED ', 'CHILDRENS CUTLERY RETROSPOT RED ', 'CHILDRENS CUTLERY RETROSPOT RED ', 'CHILDRENS CUTLERY RETROSPOT RED ', 'CHILDRENS CUTLERY RETROSPOT RED ', 'CHILDRENS CUTLERY RETROSPOT RED ', 'CHILDRENS CUTLERY RETROSPOT RED ', 'CHILDRENS CUTLERY RETROSPOT RED ', 'CHILDRENS CUTLERY RETROSPOT RED ', 'CHILDRENS CUTLERY RETROSPOT RED ', 'CHILDRENS CUTLERY RETROSPOT RED ', 'CHILDRENS CUTLERY RETROSPOT RED ', 'CHILDRENS CUTLERY RETROSPOT RED ', 'CHILDRENS CUTLERY RETROSPOT RED ', 'CHILDRENS CUTLERY RETROSPOT RED ', 'CHILDRENS CUTLERY RETROSPOT RED ', 'CHILDRENS CUTLERY RETROSPOT RED ', 'CHILDRENS CUTLERY RETROSPOT RED ', 'CHILDRENS CUTLERY RETROSPOT RED ', 'CHILDRENS CUTLERY RETROSPOT RED ', 'CHILDRENS CUTLERY RETROSPOT RED ', 'CHILDRENS CUTLERY RETROSPOT RED ', 'CHILDRENS CUTLERY RETROSPOT RED ', 'CHILDRENS CUTLERY RETROSPOT RED ', 'CHILDRENS CUTLERY RETROSPOT RED ', 'CHILDRENS CUTLERY RETROSPOT RED ', 'CHILDRENS CUTLERY RETROSPOT RED ', 'CHILDRENS CUTLERY RETROSPOT RED ', 'CHILDRENS CUTLERY RETROSPOT RED ', 'CHILDRENS CUTLERY RETROSPOT RED ', 'CHILDRENS CUTLERY RETROSPOT RED ', 'CHILDRENS CUTLERY RETROSPOT RED ', 'CHILDRENS CUTLERY RETROSPOT RED ', 'CHILDRENS CUTLERY RETROSPOT RED ', 'CHILDRENS CUTLERY RETROSPOT RED ', 'CHILDRENS CUTLERY RETROSPOT RED ', 'CHILDRENS CUTLERY RETROSPOT RED ', 'CHILDRENS CUTLERY RETROSPOT RED ', 'CHILDRENS CUTLERY RETROSPOT RED ', 'CHILDRENS CUTLERY RETROSPOT RED ', 'CHILDRENS CUTLERY RETROSPOT RED ', 'CHILDRENS CUTLERY RETROSPOT RED ', 'CHILDRENS CUTLERY RETROSPOT RED ', 'CHILDRENS CUTLERY RETROSPOT RED ', 'CHILDRENS CUTLERY RETROSPOT RED ', 'CHILDRENS CUTLERY RETROSPOT RED ', 'CHILDRENS CUTLERY RETROSPOT RED ', 'CHILDRENS CUTLERY RETROSPOT RED ', 'CHILDRENS CUTLERY RETROSPOT RED ', 'CHILDRENS CUTLERY RETROSPOT RED ', 'CHILDRENS CUTLERY RETROSPOT RED ', 'CHILDRENS CUTLERY RETROSPOT RED ', 'CHILDRENS CUTLERY RETROSPOT RED ', 'CHILDRENS CUTLERY RETROSPOT RED ', 'CHILDRENS CUTLERY RETROSPOT RED ', 'CHILDRENS CUTLERY RETROSPOT RED ', 'CHILDRENS CUTLERY RETROSPOT RED ', 'CHILDRENS CUTLERY RETROSPOT RED ', 'CHILDRENS CUTLERY RETROSPOT RED ', 'CHILDRENS CUTLERY RETROSPOT RED ', 'CHILDRENS CUTLERY RETROSPOT RED ', 'CHILDRENS CUTLERY RETROSPOT RED ', 'CHILDRENS CUTLERY RETROSPOT RED ', 'CHILDRENS CUTLERY RETROSPOT RED ', 'CHILDRENS CUTLERY RETROSPOT RED ', 'CHILDRENS CUTLERY RETROSPOT RED ', 'CHILDRENS CUTLERY RETROSPOT RED ', 'CHILDRENS CUTLERY RETROSPOT RED ', 'CHILDRENS CUTLERY RETROSPOT RED ', 'CHILDRENS CUTLERY RETROSPOT RED ', 'CHILDRENS CUTLERY RETROSPOT RED ', 'CHILDRENS CUTLERY RETROSPOT RED ', 'CHILDRENS CUTLERY RETROSPOT RED ', 'CHILDRENS CUTLERY RETROSPOT RED ', 'CHILDRENS CUTLERY RETROSPOT RED ', 'CHILDRENS CUTLERY RETROSPOT RED ', 'CHILDRENS CUTLERY RETROSPOT RED ', 'CHILDRENS CUTLERY RETROSPOT RED ', 'CHILDRENS CUTLERY RETROSPOT RED ', 'CHILDRENS CUTLERY RETROSPOT RED ', 'CHILDRENS CUTLERY RETROSPOT RED ', 'CHILDRENS CUTLERY RETROSPOT RED ', 'CHILDRENS CUTLERY RETROSPOT RED ', 'CHILDRENS CUTLERY RETROSPOT RED ', 'CHILDRENS CUTLERY RETROSPOT RED ', 'CHILDRENS CUTLERY RETROSPOT RED ', 'CHILDRENS CUTLERY RETROSPOT RED ', 'CHILDRENS CUTLERY RETROSPOT RED ', 'CHILDRENS CUTLERY RETROSPOT RED ', 'CHILDRENS CUTLERY RETROSPOT RED ', 'CHILDRENS CUTLERY RETROSPOT RED ', 'CHILDRENS CUTLERY RETROSPOT RED ', 'CHILDRENS CUTLERY RETROSPOT RED ', 'CHILDRENS CUTLERY RETROSPOT RED ', 'CHILDRENS CUTLERY RETROSPOT RED ', 'CHILDRENS CUTLERY RETROSPOT RED ', 'CHILDRENS CUTLERY RETROSPOT RED ', 'CHILDRENS CUTLERY RETROSPOT RED ', 'CHILDRENS CUTLERY RETROSPOT RED ', 'CHILDRENS CUTLERY RETROSPOT RED ', 'CHILDRENS CUTLERY RETROSPOT RED ', 'CHILDRENS CUTLERY RETROSPOT RED ', 'CHILDRENS CUTLERY RETROSPOT RED ', 'CHILDRENS CUTLERY RETROSPOT RED ', 'CHILDRENS CUTLERY RETROSPOT RED ', 'CHILDRENS CUTLERY RETROSPOT RED ', 'CHILDRENS CUTLERY RETROSPOT RED ', 'CHILDRENS CUTLERY RETROSPOT RED ', 'CHILDRENS CUTLERY RETROSPOT RED ', 'CHILDRENS CUTLERY RETROSPOT RED '] ['DOLLY GIRL LUNCH BOX', 'DOLLY GIRL LUNCH BOX', 'DOLLY GIRL LUNCH BOX', 'DOLLY GIRL LUNCH BOX', 'DOLLY GIRL LUNCH BOX', 'DOLLY GIRL LUNCH BOX', 'DOLLY GIRL LUNCH BOX', 'DOLLY GIRL LUNCH BOX', 'DOLLY GIRL LUNCH BOX', 'DOLLY GIRL LUNCH BOX', 'DOLLY GIRL LUNCH BOX', 'DOLLY GIRL LUNCH BOX', 'DOLLY GIRL LUNCH BOX', 'DOLLY GIRL LUNCH BOX', 'DOLLY GIRL LUNCH BOX', 'DOLLY GIRL LUNCH BOX', 'DOLLY GIRL LUNCH BOX', 'DOLLY GIRL LUNCH BOX', 'DOLLY GIRL LUNCH BOX', 'DOLLY GIRL LUNCH BOX', 'DOLLY GIRL LUNCH BOX', 'DOLLY GIRL LUNCH BOX', 'DOLLY GIRL LUNCH BOX', 'DOLLY GIRL LUNCH BOX', 'DOLLY GIRL LUNCH BOX', 'DOLLY GIRL LUNCH BOX', 'DOLLY GIRL LUNCH BOX', 'DOLLY GIRL LUNCH BOX', 'DOLLY GIRL LUNCH BOX', 'DOLLY GIRL LUNCH BOX', 'DOLLY GIRL LUNCH BOX', 'DOLLY GIRL LUNCH BOX', 'DOLLY GIRL LUNCH BOX', 'DOLLY GIRL LUNCH BOX', 'DOLLY GIRL LUNCH BOX', 'DOLLY GIRL LUNCH BOX', 'DOLLY GIRL LUNCH BOX', 'DOLLY GIRL LUNCH BOX', 'DOLLY GIRL LUNCH BOX', 'DOLLY GIRL LUNCH BOX', 'DOLLY GIRL LUNCH BOX', 'DOLLY GIRL LUNCH BOX', 'DOLLY GIRL LUNCH BOX', 'DOLLY GIRL LUNCH BOX', 'DOLLY GIRL LUNCH BOX', 'DOLLY GIRL LUNCH BOX', 'DOLLY GIRL LUNCH BOX', 'DOLLY GIRL LUNCH BOX', 'DOLLY GIRL LUNCH BOX', 'DOLLY GIRL LUNCH BOX', 'DOLLY GIRL LUNCH BOX', 'DOLLY GIRL LUNCH BOX', 'DOLLY GIRL LUNCH BOX', 'DOLLY GIRL LUNCH BOX', 'DOLLY GIRL LUNCH BOX', 'DOLLY GIRL LUNCH BOX', 'DOLLY GIRL LUNCH BOX', 'DOLLY GIRL LUNCH BOX', 'DOLLY GIRL LUNCH BOX', 'DOLLY GIRL LUNCH BOX', 'DOLLY GIRL LUNCH BOX', 'DOLLY GIRL LUNCH BOX', 'DOLLY GIRL LUNCH BOX', 'DOLLY GIRL LUNCH BOX', 'DOLLY GIRL LUNCH BOX', 'DOLLY GIRL LUNCH BOX', 'DOLLY GIRL LUNCH BOX', 'DOLLY GIRL LUNCH BOX', 'DOLLY GIRL LUNCH BOX', 'DOLLY GIRL LUNCH BOX', 'DOLLY GIRL LUNCH BOX', 'DOLLY GIRL LUNCH BOX', 'DOLLY GIRL LUNCH BOX', 'DOLLY GIRL LUNCH BOX', 'DOLLY GIRL LUNCH BOX', 'DOLLY GIRL LUNCH BOX', 'DOLLY GIRL LUNCH BOX', 'DOLLY GIRL LUNCH BOX', 'DOLLY GIRL LUNCH BOX', 'DOLLY GIRL LUNCH BOX', 'DOLLY GIRL LUNCH BOX', 'DOLLY GIRL LUNCH BOX', 'DOLLY GIRL LUNCH BOX', 'DOLLY GIRL LUNCH BOX', 'DOLLY GIRL LUNCH BOX', 'DOLLY GIRL LUNCH BOX', 'DOLLY GIRL LUNCH BOX', 'DOLLY GIRL LUNCH BOX', 'DOLLY GIRL LUNCH BOX', 'DOLLY GIRL LUNCH BOX', 'DOLLY GIRL LUNCH BOX', 'DOLLY GIRL LUNCH BOX', 'DOLLY GIRL LUNCH BOX', 'DOLLY GIRL LUNCH BOX', 'DOLLY GIRL LUNCH BOX', 'DOLLY GIRL LUNCH BOX', 'DOLLY GIRL LUNCH BOX', 'DOLLY GIRL LUNCH BOX', 'DOLLY GIRL LUNCH BOX', 'DOLLY GIRL LUNCH BOX', 'DOLLY GIRL LUNCH BOX', 'DOLLY GIRL LUNCH BOX', 'DOLLY GIRL LUNCH BOX', 'DOLLY GIRL LUNCH BOX', 'DOLLY GIRL LUNCH BOX', 'DOLLY GIRL LUNCH BOX', 'DOLLY GIRL LUNCH BOX', 'DOLLY GIRL LUNCH BOX', 'DOLLY GIRL LUNCH BOX', 'DOLLY GIRL LUNCH BOX', 'DOLLY GIRL LUNCH BOX', 'DOLLY GIRL LUNCH BOX', 'DOLLY GIRL LUNCH BOX', 'DOLLY GIRL LUNCH BOX', 'DOLLY GIRL LUNCH BOX', 'DOLLY GIRL LUNCH BOX', 'DOLLY GIRL LUNCH BOX', 'DOLLY GIRL LUNCH BOX', 'DOLLY GIRL LUNCH BOX', 'DOLLY GIRL LUNCH BOX', 'DOLLY GIRL LUNCH BOX', 'DOLLY GIRL LUNCH BOX', 'DOLLY GIRL LUNCH BOX', 'DOLLY GIRL LUNCH BOX', 'DOLLY GIRL LUNCH BOX', 'DOLLY GIRL LUNCH BOX', 'DOLLY GIRL LUNCH BOX', 'DOLLY GIRL LUNCH BOX', 'DOLLY GIRL LUNCH BOX', 'DOLLY GIRL LUNCH BOX', 'DOLLY GIRL LUNCH BOX', 'DOLLY GIRL LUNCH BOX', 'DOLLY GIRL LUNCH BOX', 'DOLLY GIRL LUNCH BOX', 'DOLLY GIRL LUNCH BOX', 'DOLLY GIRL LUNCH BOX', 'DOLLY GIRL LUNCH BOX', 'DOLLY GIRL LUNCH BOX', 'DOLLY GIRL LUNCH BOX', 'DOLLY GIRL LUNCH BOX', 'DOLLY GIRL LUNCH BOX', 'DOLLY GIRL LUNCH BOX', 'DOLLY GIRL LUNCH BOX', 'DOLLY GIRL LUNCH BOX', 'DOLLY GIRL LUNCH BOX', 'DOLLY GIRL LUNCH BOX', 'DOLLY GIRL LUNCH BOX', 'DOLLY GIRL LUNCH BOX', 'DOLLY GIRL LUNCH BOX', 'DOLLY GIRL LUNCH BOX', 'DOLLY GIRL LUNCH BOX', 'DOLLY GIRL LUNCH BOX', 'DOLLY GIRL LUNCH BOX', 'DOLLY GIRL LUNCH BOX', 'DOLLY GIRL LUNCH BOX', 'DOLLY GIRL LUNCH BOX', 'DOLLY GIRL LUNCH BOX', 'DOLLY GIRL LUNCH BOX', 'DOLLY GIRL LUNCH BOX', 'DOLLY GIRL LUNCH BOX', 'DOLLY GIRL LUNCH BOX', 'DOLLY GIRL LUNCH BOX', 'DOLLY GIRL LUNCH BOX', 'DOLLY GIRL LUNCH BOX', 'DOLLY GIRL LUNCH BOX', 'DOLLY GIRL LUNCH BOX', 'DOLLY GIRL LUNCH BOX', 'DOLLY GIRL LUNCH BOX', 'DOLLY GIRL LUNCH BOX', 'DOLLY GIRL LUNCH BOX', 'DOLLY GIRL LUNCH BOX', 'DOLLY GIRL LUNCH BOX', 'DOLLY GIRL LUNCH BOX', 'DOLLY GIRL LUNCH BOX', 'DOLLY GIRL LUNCH BOX', 'DOLLY GIRL LUNCH BOX', 'DOLLY GIRL LUNCH BOX', 'DOLLY GIRL LUNCH BOX', 'DOLLY GIRL LUNCH BOX', 'DOLLY GIRL LUNCH BOX', 'DOLLY GIRL LUNCH BOX', 'DOLLY GIRL LUNCH BOX', 'DOLLY GIRL LUNCH BOX', 'DOLLY GIRL LUNCH BOX', 'DOLLY GIRL LUNCH BOX', 'DOLLY GIRL LUNCH BOX', 'DOLLY GIRL LUNCH BOX', 'DOLLY GIRL LUNCH BOX', 'DOLLY GIRL LUNCH BOX', 'DOLLY GIRL LUNCH BOX', 'DOLLY GIRL LUNCH BOX', 'DOLLY GIRL LUNCH BOX', 'DOLLY GIRL LUNCH BOX', 'DOLLY GIRL LUNCH BOX', 'DOLLY GIRL LUNCH BOX', 'DOLLY GIRL LUNCH BOX', 'DOLLY GIRL LUNCH BOX', 'DOLLY GIRL LUNCH BOX', 'DOLLY GIRL LUNCH BOX', 'DOLLY GIRL LUNCH BOX', 'DOLLY GIRL LUNCH BOX', 'DOLLY GIRL LUNCH BOX', 'DOLLY GIRL LUNCH BOX', 'DOLLY GIRL LUNCH BOX', 'DOLLY GIRL LUNCH BOX', 'DOLLY GIRL LUNCH BOX', 'DOLLY GIRL LUNCH BOX', 'DOLLY GIRL LUNCH BOX', 'DOLLY GIRL LUNCH BOX', 'DOLLY GIRL LUNCH BOX', 'DOLLY GIRL LUNCH BOX', 'DOLLY GIRL LUNCH BOX', 'DOLLY GIRL LUNCH BOX', 'DOLLY GIRL LUNCH BOX', 'DOLLY GIRL LUNCH BOX', 'DOLLY GIRL LUNCH BOX', 'DOLLY GIRL LUNCH BOX', 'DOLLY GIRL LUNCH BOX', 'DOLLY GIRL LUNCH BOX', 'DOLLY GIRL LUNCH BOX', 'DOLLY GIRL LUNCH BOX', 'DOLLY GIRL LUNCH BOX', 'DOLLY GIRL LUNCH BOX', 'DOLLY GIRL LUNCH BOX', 'DOLLY GIRL LUNCH BOX', 'DOLLY GIRL LUNCH BOX', 'DOLLY GIRL LUNCH BOX', 'DOLLY GIRL LUNCH BOX', 'DOLLY GIRL LUNCH BOX', 'DOLLY GIRL LUNCH BOX', 'DOLLY GIRL LUNCH BOX', 'DOLLY GIRL LUNCH BOX', 'DOLLY GIRL LUNCH BOX', 'DOLLY GIRL LUNCH BOX', 'DOLLY GIRL LUNCH BOX', 'DOLLY GIRL LUNCH BOX', 'DOLLY GIRL LUNCH BOX', 'DOLLY GIRL LUNCH BOX', 'DOLLY GIRL LUNCH BOX', 'DOLLY GIRL LUNCH BOX', 'DOLLY GIRL LUNCH BOX', 'DOLLY GIRL LUNCH BOX', 'DOLLY GIRL LUNCH BOX', 'DOLLY GIRL LUNCH BOX', 'DOLLY GIRL LUNCH BOX', 'DOLLY GIRL LUNCH BOX', 'DOLLY GIRL LUNCH BOX', 'DOLLY GIRL LUNCH BOX', 'DOLLY GIRL LUNCH BOX', 'DOLLY GIRL LUNCH BOX', 'DOLLY GIRL LUNCH BOX', 'DOLLY GIRL LUNCH BOX', 'DOLLY GIRL LUNCH BOX', 'DOLLY GIRL LUNCH BOX', 'DOLLY GIRL LUNCH BOX', 'DOLLY GIRL LUNCH BOX', 'DOLLY GIRL LUNCH BOX', 'DOLLY GIRL LUNCH BOX', 'DOLLY GIRL LUNCH BOX', 'DOLLY GIRL LUNCH BOX', 'DOLLY GIRL LUNCH BOX', 'DOLLY GIRL LUNCH BOX', 'DOLLY GIRL LUNCH BOX', 'DOLLY GIRL LUNCH BOX', 'DOLLY GIRL LUNCH BOX', 'DOLLY GIRL LUNCH BOX', 'DOLLY GIRL LUNCH BOX', 'DOLLY GIRL LUNCH BOX', 'DOLLY GIRL LUNCH BOX', 'DOLLY GIRL LUNCH BOX', 'DOLLY GIRL LUNCH BOX', 'DOLLY GIRL LUNCH BOX', 'DOLLY GIRL LUNCH BOX', 'DOLLY GIRL LUNCH BOX', 'DOLLY GIRL LUNCH BOX', 'DOLLY GIRL LUNCH BOX', 'DOLLY GIRL LUNCH BOX', 'DOLLY GIRL LUNCH BOX', 'DOLLY GIRL LUNCH BOX', 'DOLLY GIRL LUNCH BOX', 'DOLLY GIRL LUNCH BOX', 'DOLLY GIRL LUNCH BOX', 'DOLLY GIRL LUNCH BOX', 'DOLLY GIRL LUNCH BOX', 'DOLLY GIRL LUNCH BOX', 'DOLLY GIRL LUNCH BOX', 'DOLLY GIRL LUNCH BOX', 'DOLLY GIRL LUNCH BOX', 'DOLLY GIRL LUNCH BOX', 'DOLLY GIRL LUNCH BOX', 'DOLLY GIRL LUNCH BOX', 'DOLLY GIRL LUNCH BOX', 'DOLLY GIRL LUNCH BOX', 'DOLLY GIRL LUNCH BOX', 'DOLLY GIRL LUNCH BOX', 'DOLLY GIRL LUNCH BOX', 'DOLLY GIRL LUNCH BOX', 'DOLLY GIRL LUNCH BOX', 'DOLLY GIRL LUNCH BOX', 'DOLLY GIRL LUNCH BOX', 'DOLLY GIRL LUNCH BOX', 'DOLLY GIRL LUNCH BOX', 'DOLLY GIRL LUNCH BOX', 'DOLLY GIRL LUNCH BOX', 'DOLLY GIRL LUNCH BOX', 'DOLLY GIRL LUNCH BOX', 'DOLLY GIRL LUNCH BOX', 'DOLLY GIRL LUNCH BOX', 'DOLLY GIRL LUNCH BOX', 'DOLLY GIRL LUNCH BOX', 'DOLLY GIRL LUNCH BOX', 'DOLLY GIRL LUNCH BOX', 'DOLLY GIRL LUNCH BOX', 'DOLLY GIRL LUNCH BOX', 'DOLLY GIRL LUNCH BOX', 'DOLLY GIRL LUNCH BOX', 'DOLLY GIRL LUNCH BOX', 'DOLLY GIRL LUNCH BOX', 'DOLLY GIRL LUNCH BOX', 'DOLLY GIRL LUNCH BOX', 'DOLLY GIRL LUNCH BOX', 'DOLLY GIRL LUNCH BOX', 'DOLLY GIRL LUNCH BOX', 'DOLLY GIRL LUNCH BOX', 'DOLLY GIRL LUNCH BOX', 'DOLLY GIRL LUNCH BOX', 'DOLLY GIRL LUNCH BOX', 'DOLLY GIRL LUNCH BOX', 'DOLLY GIRL LUNCH BOX', 'DOLLY GIRL LUNCH BOX', 'DOLLY GIRL LUNCH BOX', 'DOLLY GIRL LUNCH BOX', 'DOLLY GIRL LUNCH BOX', 'DOLLY GIRL LUNCH BOX', 'DOLLY GIRL LUNCH BOX', 'DOLLY GIRL LUNCH BOX', 'DOLLY GIRL LUNCH BOX', 'DOLLY GIRL LUNCH BOX', 'DOLLY GIRL LUNCH BOX', 'DOLLY GIRL LUNCH BOX', 'DOLLY GIRL LUNCH BOX', 'DOLLY GIRL LUNCH BOX', 'DOLLY GIRL LUNCH BOX', 'DOLLY GIRL LUNCH BOX', 'DOLLY GIRL LUNCH BOX', 'DOLLY GIRL LUNCH BOX', 'DOLLY GIRL LUNCH BOX', 'DOLLY GIRL LUNCH BOX', 'DOLLY GIRL LUNCH BOX', 'DOLLY GIRL LUNCH BOX', 'DOLLY GIRL LUNCH BOX', 'DOLLY GIRL LUNCH BOX', 'DOLLY GIRL LUNCH BOX', 'DOLLY GIRL LUNCH BOX', 'DOLLY GIRL LUNCH BOX', 'DOLLY GIRL LUNCH BOX', 'DOLLY GIRL LUNCH BOX', 'DOLLY GIRL LUNCH BOX', 'DOLLY GIRL LUNCH BOX', 'DOLLY GIRL LUNCH BOX', 'DOLLY GIRL LUNCH BOX', 'DOLLY GIRL LUNCH BOX', 'DOLLY GIRL LUNCH BOX', 'DOLLY GIRL LUNCH BOX', 'DOLLY GIRL LUNCH BOX', 'DOLLY GIRL LUNCH BOX', 'DOLLY GIRL LUNCH BOX', 'DOLLY GIRL LUNCH BOX', 'DOLLY GIRL LUNCH BOX', 'DOLLY GIRL LUNCH BOX', 'DOLLY GIRL LUNCH BOX', 'DOLLY GIRL LUNCH BOX', 'DOLLY GIRL LUNCH BOX', 'DOLLY GIRL LUNCH BOX', 'DOLLY GIRL LUNCH BOX', 'DOLLY GIRL LUNCH BOX', 'DOLLY GIRL LUNCH BOX', 'DOLLY GIRL LUNCH BOX', 'DOLLY GIRL LUNCH BOX', 'DOLLY GIRL LUNCH BOX', 'DOLLY GIRL LUNCH BOX', 'DOLLY GIRL LUNCH BOX', 'DOLLY GIRL LUNCH BOX', 'DOLLY GIRL LUNCH BOX', 'DOLLY GIRL LUNCH BOX', 'DOLLY GIRL LUNCH BOX', 'DOLLY GIRL LUNCH BOX', 'DOLLY GIRL LUNCH BOX', 'DOLLY GIRL LUNCH BOX', 'DOLLY GIRL LUNCH BOX', 'DOLLY GIRL LUNCH BOX', 'DOLLY GIRL LUNCH BOX', 'DOLLY GIRL LUNCH BOX', 'DOLLY GIRL LUNCH BOX', 'DOLLY GIRL LUNCH BOX', 'DOLLY GIRL LUNCH BOX', 'DOLLY GIRL LUNCH BOX', 'DOLLY GIRL LUNCH BOX', 'DOLLY GIRL LUNCH BOX', 'DOLLY GIRL LUNCH BOX', 'DOLLY GIRL LUNCH BOX', 'DOLLY GIRL LUNCH BOX', 'DOLLY GIRL LUNCH BOX', 'DOLLY GIRL LUNCH BOX', 'DOLLY GIRL LUNCH BOX', 'DOLLY GIRL LUNCH BOX', 'DOLLY GIRL LUNCH BOX', 'DOLLY GIRL LUNCH BOX', 'DOLLY GIRL LUNCH BOX', 'DOLLY GIRL LUNCH BOX', 'DOLLY GIRL LUNCH BOX', 'DOLLY GIRL LUNCH BOX', 'DOLLY GIRL LUNCH BOX', 'DOLLY GIRL LUNCH BOX', 'DOLLY GIRL LUNCH BOX', 'DOLLY GIRL LUNCH BOX', 'DOLLY GIRL LUNCH BOX', 'DOLLY GIRL LUNCH BOX', 'DOLLY GIRL LUNCH BOX', 'DOLLY GIRL LUNCH BOX', 'DOLLY GIRL LUNCH BOX', 'DOLLY GIRL LUNCH BOX', 'DOLLY GIRL LUNCH BOX', 'DOLLY GIRL LUNCH BOX', 'DOLLY GIRL LUNCH BOX', 'DOLLY GIRL LUNCH BOX', 'DOLLY GIRL LUNCH BOX', 'DOLLY GIRL LUNCH BOX', 'DOLLY GIRL LUNCH BOX', 'DOLLY GIRL LUNCH BOX', 'DOLLY GIRL LUNCH BOX', 'DOLLY GIRL LUNCH BOX', 'DOLLY GIRL LUNCH BOX', 'DOLLY GIRL LUNCH BOX', 'DOLLY GIRL LUNCH BOX', 'DOLLY GIRL LUNCH BOX', 'DOLLY GIRL LUNCH BOX', 'DOLLY GIRL LUNCH BOX', 'DOLLY GIRL LUNCH BOX', 'DOLLY GIRL LUNCH BOX', 'DOLLY GIRL LUNCH BOX', 'DOLLY GIRL LUNCH BOX', 'DOLLY GIRL LUNCH BOX', 'DOLLY GIRL LUNCH BOX', 'DOLLY GIRL LUNCH BOX', 'DOLLY GIRL LUNCH BOX', 'DOLLY GIRL LUNCH BOX', 'DOLLY GIRL LUNCH BOX', 'DOLLY GIRL LUNCH BOX', 'DOLLY GIRL LUNCH BOX', 'DOLLY GIRL LUNCH BOX', 'DOLLY GIRL LUNCH BOX', 'DOLLY GIRL LUNCH BOX', 'DOLLY GIRL LUNCH BOX', 'DOLLY GIRL LUNCH BOX', 'DOLLY GIRL LUNCH BOX', 'DOLLY GIRL LUNCH BOX', 'DOLLY GIRL LUNCH BOX', 'DOLLY GIRL LUNCH BOX', 'DOLLY GIRL LUNCH BOX', 'DOLLY GIRL LUNCH BOX', 'DOLLY GIRL LUNCH BOX', 'DOLLY GIRL LUNCH BOX', 'DOLLY GIRL LUNCH BOX', 'DOLLY GIRL LUNCH BOX', 'DOLLY GIRL LUNCH BOX', 'DOLLY GIRL LUNCH BOX', 'DOLLY GIRL LUNCH BOX', 'DOLLY GIRL LUNCH BOX', 'DOLLY GIRL LUNCH BOX', 'DOLLY GIRL LUNCH BOX', 'DOLLY GIRL LUNCH BOX', 'DOLLY GIRL LUNCH BOX', 'DOLLY GIRL LUNCH BOX', 'DOLLY GIRL LUNCH BOX', 'DOLLY GIRL LUNCH BOX', 'DOLLY GIRL LUNCH BOX', 'DOLLY GIRL LUNCH BOX', 'DOLLY GIRL LUNCH BOX', 'DOLLY GIRL LUNCH BOX', 'DOLLY GIRL LUNCH BOX', 'DOLLY GIRL LUNCH BOX', 'DOLLY GIRL LUNCH BOX', 'DOLLY GIRL LUNCH BOX', 'DOLLY GIRL LUNCH BOX', 'DOLLY GIRL LUNCH BOX', 'DOLLY GIRL LUNCH BOX', 'DOLLY GIRL LUNCH BOX', 'DOLLY GIRL LUNCH BOX', 'DOLLY GIRL LUNCH BOX', 'DOLLY GIRL LUNCH BOX', 'DOLLY GIRL LUNCH BOX', 'DOLLY GIRL LUNCH BOX', 'DOLLY GIRL LUNCH BOX', 'DOLLY GIRL LUNCH BOX', 'DOLLY GIRL LUNCH BOX', 'DOLLY GIRL LUNCH BOX', 'DOLLY GIRL LUNCH BOX', 'DOLLY GIRL LUNCH BOX', 'DOLLY GIRL LUNCH BOX', 'DOLLY GIRL LUNCH BOX', 'DOLLY GIRL LUNCH BOX', 'DOLLY GIRL LUNCH BOX', 'DOLLY GIRL LUNCH BOX', 'DOLLY GIRL LUNCH BOX', 'DOLLY GIRL LUNCH BOX', 'DOLLY GIRL LUNCH BOX', 'DOLLY GIRL LUNCH BOX', 'DOLLY GIRL LUNCH BOX', 'DOLLY GIRL LUNCH BOX', 'DOLLY GIRL LUNCH BOX', 'DOLLY GIRL LUNCH BOX', 'DOLLY GIRL LUNCH BOX', 'DOLLY GIRL LUNCH BOX', 'DOLLY GIRL LUNCH BOX', 'DOLLY GIRL LUNCH BOX', 'DOLLY GIRL LUNCH BOX', 'DOLLY GIRL LUNCH BOX', 'DOLLY GIRL LUNCH BOX', 'DOLLY GIRL LUNCH BOX', 'DOLLY GIRL LUNCH BOX', 'DOLLY GIRL LUNCH BOX', 'DOLLY GIRL LUNCH BOX', 'DOLLY GIRL LUNCH BOX', 'DOLLY GIRL LUNCH BOX', 'DOLLY GIRL LUNCH BOX', 'DOLLY GIRL LUNCH BOX', 'DOLLY GIRL LUNCH BOX', 'DOLLY GIRL LUNCH BOX', 'DOLLY GIRL LUNCH BOX', 'DOLLY GIRL LUNCH BOX', 'DOLLY GIRL LUNCH BOX', 'DOLLY GIRL LUNCH BOX', 'DOLLY GIRL LUNCH BOX', 'DOLLY GIRL LUNCH BOX', 'DOLLY GIRL LUNCH BOX', 'DOLLY GIRL LUNCH BOX', 'DOLLY GIRL LUNCH BOX', 'DOLLY GIRL LUNCH BOX', 'DOLLY GIRL LUNCH BOX', 'DOLLY GIRL LUNCH BOX', 'DOLLY GIRL LUNCH BOX', 'DOLLY GIRL LUNCH BOX', 'DOLLY GIRL LUNCH BOX', 'DOLLY GIRL LUNCH BOX', 'DOLLY GIRL LUNCH BOX', 'DOLLY GIRL LUNCH BOX', 'DOLLY GIRL LUNCH BOX', 'DOLLY GIRL LUNCH BOX', 'DOLLY GIRL LUNCH BOX', 'DOLLY GIRL LUNCH BOX', 'DOLLY GIRL LUNCH BOX', 'DOLLY GIRL LUNCH BOX', 'DOLLY GIRL LUNCH BOX', 'DOLLY GIRL LUNCH BOX', 'DOLLY GIRL LUNCH BOX', 'DOLLY GIRL LUNCH BOX', 'DOLLY GIRL LUNCH BOX', 'DOLLY GIRL LUNCH BOX', 'DOLLY GIRL LUNCH BOX', 'DOLLY GIRL LUNCH BOX', 'DOLLY GIRL LUNCH BOX', 'DOLLY GIRL LUNCH BOX', 'DOLLY GIRL LUNCH BOX', 'DOLLY GIRL LUNCH BOX', 'DOLLY GIRL LUNCH BOX', 'DOLLY GIRL LUNCH BOX', 'DOLLY GIRL LUNCH BOX', 'DOLLY GIRL LUNCH BOX', 'DOLLY GIRL LUNCH BOX', 'DOLLY GIRL LUNCH BOX', 'DOLLY GIRL LUNCH BOX', 'DOLLY GIRL LUNCH BOX', 'DOLLY GIRL LUNCH BOX', 'DOLLY GIRL LUNCH BOX', 'DOLLY GIRL LUNCH BOX', 'DOLLY GIRL LUNCH BOX', 'DOLLY GIRL LUNCH BOX', 'DOLLY GIRL LUNCH BOX', 'DOLLY GIRL LUNCH BOX', 'DOLLY GIRL LUNCH BOX', 'DOLLY GIRL LUNCH BOX', 'DOLLY GIRL LUNCH BOX', 'DOLLY GIRL LUNCH BOX', 'DOLLY GIRL LUNCH BOX', 'DOLLY GIRL LUNCH BOX', 'DOLLY GIRL LUNCH BOX', 'DOLLY GIRL LUNCH BOX', 'DOLLY GIRL LUNCH BOX', 'DOLLY GIRL LUNCH BOX', 'DOLLY GIRL LUNCH BOX', 'DOLLY GIRL LUNCH BOX', 'DOLLY GIRL LUNCH BOX', 'DOLLY GIRL LUNCH BOX', 'DOLLY GIRL LUNCH BOX', 'DOLLY GIRL LUNCH BOX', 'DOLLY GIRL LUNCH BOX', 'DOLLY GIRL LUNCH BOX', 'DOLLY GIRL LUNCH BOX', 'DOLLY GIRL LUNCH BOX', 'DOLLY GIRL LUNCH BOX', 'DOLLY GIRL LUNCH BOX', 'DOLLY GIRL LUNCH BOX', 'DOLLY GIRL LUNCH BOX', 'DOLLY GIRL LUNCH BOX', 'DOLLY GIRL LUNCH BOX', 'DOLLY GIRL LUNCH BOX', 'DOLLY GIRL LUNCH BOX', 'DOLLY GIRL LUNCH BOX', 'DOLLY GIRL LUNCH BOX', 'DOLLY GIRL LUNCH BOX', 'DOLLY GIRL LUNCH BOX', 'DOLLY GIRL LUNCH BOX', 'DOLLY GIRL LUNCH BOX', 'DOLLY GIRL LUNCH BOX', 'DOLLY GIRL LUNCH BOX', 'DOLLY GIRL LUNCH BOX', 'DOLLY GIRL LUNCH BOX', 'DOLLY GIRL LUNCH BOX', 'DOLLY GIRL LUNCH BOX', 'DOLLY GIRL LUNCH BOX', 'DOLLY GIRL LUNCH BOX', 'DOLLY GIRL LUNCH BOX', 'DOLLY GIRL LUNCH BOX', 'DOLLY GIRL LUNCH BOX', 'DOLLY GIRL LUNCH BOX', 'DOLLY GIRL LUNCH BOX', 'DOLLY GIRL LUNCH BOX', 'DOLLY GIRL LUNCH BOX', 'DOLLY GIRL LUNCH BOX', 'DOLLY GIRL LUNCH BOX', 'DOLLY GIRL LUNCH BOX', 'DOLLY GIRL LUNCH BOX', 'DOLLY GIRL LUNCH BOX', 'DOLLY GIRL LUNCH BOX', 'DOLLY GIRL LUNCH BOX', 'DOLLY GIRL LUNCH BOX', 'DOLLY GIRL LUNCH BOX', 'DOLLY GIRL LUNCH BOX', 'DOLLY GIRL LUNCH BOX', 'DOLLY GIRL LUNCH BOX', 'DOLLY GIRL LUNCH BOX', 'DOLLY GIRL LUNCH BOX', 'DOLLY GIRL LUNCH BOX', 'DOLLY GIRL LUNCH BOX', 'DOLLY GIRL LUNCH BOX', 'DOLLY GIRL LUNCH BOX', 'DOLLY GIRL LUNCH BOX', 'DOLLY GIRL LUNCH BOX', 'DOLLY GIRL LUNCH BOX', 'DOLLY GIRL LUNCH BOX', 'DOLLY GIRL LUNCH BOX', 'DOLLY GIRL LUNCH BOX', 'DOLLY GIRL LUNCH BOX', 'DOLLY GIRL LUNCH BOX', 'DOLLY GIRL LUNCH BOX', 'DOLLY GIRL LUNCH BOX', 'DOLLY GIRL LUNCH BOX', 'DOLLY GIRL LUNCH BOX', 'DOLLY GIRL LUNCH BOX', 'DOLLY GIRL LUNCH BOX', 'DOLLY GIRL LUNCH BOX', 'DOLLY GIRL LUNCH BOX', 'DOLLY GIRL LUNCH BOX', 'DOLLY GIRL LUNCH BOX', 'DOLLY GIRL LUNCH BOX', 'DOLLY GIRL LUNCH BOX', 'DOLLY GIRL LUNCH BOX', 'DOLLY GIRL LUNCH BOX', 'DOLLY GIRL LUNCH BOX', 'DOLLY GIRL LUNCH BOX', 'DOLLY GIRL LUNCH BOX', 'DOLLY GIRL LUNCH BOX', 'DOLLY GIRL LUNCH BOX', 'DOLLY GIRL LUNCH BOX', 'DOLLY GIRL LUNCH BOX', 'DOLLY GIRL LUNCH BOX', 'DOLLY GIRL LUNCH BOX', 'DOLLY GIRL LUNCH BOX', 'DOLLY GIRL LUNCH BOX', 'DOLLY GIRL LUNCH BOX', 'DOLLY GIRL LUNCH BOX', 'DOLLY GIRL LUNCH BOX', 'DOLLY GIRL LUNCH BOX', 'DOLLY GIRL LUNCH BOX', 'DOLLY GIRL LUNCH BOX', 'DOLLY GIRL LUNCH BOX', 'DOLLY GIRL LUNCH BOX', 'DOLLY GIRL LUNCH BOX', 'DOLLY GIRL LUNCH BOX', 'DOLLY GIRL LUNCH BOX', 'DOLLY GIRL LUNCH BOX', 'DOLLY GIRL LUNCH BOX', 'DOLLY GIRL LUNCH BOX', 'DOLLY GIRL LUNCH BOX', 'DOLLY GIRL LUNCH BOX', 'DOLLY GIRL LUNCH BOX', 'DOLLY GIRL LUNCH BOX', 'DOLLY GIRL LUNCH BOX', 'DOLLY GIRL LUNCH BOX', 'DOLLY GIRL LUNCH BOX', 'DOLLY GIRL LUNCH BOX', 'DOLLY GIRL LUNCH BOX', 'DOLLY GIRL LUNCH BOX', 'DOLLY GIRL LUNCH BOX', 'DOLLY GIRL LUNCH BOX', 'DOLLY GIRL LUNCH BOX', 'DOLLY GIRL LUNCH BOX', 'DOLLY GIRL LUNCH BOX', 'DOLLY GIRL LUNCH BOX', 'DOLLY GIRL LUNCH BOX', 'DOLLY GIRL LUNCH BOX', 'DOLLY GIRL LUNCH BOX', 'DOLLY GIRL LUNCH BOX', 'DOLLY GIRL LUNCH BOX', 'DOLLY GIRL LUNCH BOX', 'DOLLY GIRL LUNCH BOX', 'DOLLY GIRL LUNCH BOX', 'DOLLY GIRL LUNCH BOX', 'DOLLY GIRL LUNCH BOX', 'DOLLY GIRL LUNCH BOX', 'DOLLY GIRL LUNCH BOX', 'DOLLY GIRL LUNCH BOX', 'DOLLY GIRL LUNCH BOX', 'DOLLY GIRL LUNCH BOX', 'DOLLY GIRL LUNCH BOX', 'DOLLY GIRL LUNCH BOX', 'DOLLY GIRL LUNCH BOX', 'DOLLY GIRL LUNCH BOX', 'DOLLY GIRL LUNCH BOX', 'DOLLY GIRL LUNCH BOX', 'DOLLY GIRL LUNCH BOX', 'DOLLY GIRL LUNCH BOX', 'DOLLY GIRL LUNCH BOX', 'DOLLY GIRL LUNCH BOX', 'DOLLY GIRL LUNCH BOX', 'DOLLY GIRL LUNCH BOX', 'DOLLY GIRL LUNCH BOX', 'DOLLY GIRL LUNCH BOX', 'DOLLY GIRL LUNCH BOX', 'DOLLY GIRL LUNCH BOX', 'DOLLY GIRL LUNCH BOX', 'DOLLY GIRL LUNCH BOX', 'DOLLY GIRL LUNCH BOX', 'DOLLY GIRL LUNCH BOX', 'DOLLY GIRL LUNCH BOX', 'DOLLY GIRL LUNCH BOX', 'DOLLY GIRL LUNCH BOX', 'DOLLY GIRL LUNCH BOX', 'DOLLY GIRL LUNCH BOX', 'DOLLY GIRL LUNCH BOX', 'DOLLY GIRL LUNCH BOX', 'DOLLY GIRL LUNCH BOX', 'DOLLY GIRL LUNCH BOX', 'DOLLY GIRL LUNCH BOX', 'DOLLY GIRL LUNCH BOX', 'DOLLY GIRL LUNCH BOX', 'DOLLY GIRL LUNCH BOX', 'DOLLY GIRL LUNCH BOX', 'DOLLY GIRL LUNCH BOX', 'DOLLY GIRL LUNCH BOX', 'DOLLY GIRL LUNCH BOX', 'DOLLY GIRL LUNCH BOX', 'DOLLY GIRL LUNCH BOX', 'DOLLY GIRL LUNCH BOX', 'DOLLY GIRL LUNCH BOX', 'DOLLY GIRL LUNCH BOX', 'DOLLY GIRL LUNCH BOX', 'DOLLY GIRL LUNCH BOX', 'DOLLY GIRL LUNCH BOX', 'DOLLY GIRL LUNCH BOX', 'DOLLY GIRL LUNCH BOX', 'DOLLY GIRL LUNCH BOX', 'DOLLY GIRL LUNCH BOX', 'DOLLY GIRL LUNCH BOX', 'DOLLY GIRL LUNCH BOX', 'DOLLY GIRL LUNCH BOX', 'DOLLY GIRL LUNCH BOX', 'DOLLY GIRL LUNCH BOX', 'DOLLY GIRL LUNCH BOX', 'DOLLY GIRL LUNCH BOX', 'DOLLY GIRL LUNCH BOX', 'DOLLY GIRL LUNCH BOX', 'DOLLY GIRL LUNCH BOX', 'DOLLY GIRL LUNCH BOX', 'DOLLY GIRL LUNCH BOX', 'DOLLY GIRL LUNCH BOX', 'DOLLY GIRL LUNCH BOX', 'DOLLY GIRL LUNCH BOX']\n",
      "--------------------------------------------\n",
      "22629  SPACEBOY LUNCH BOX                   0.822\n",
      "84997D PINK 3 PIECE POLKADOT CUTLERY SET    0.818\n",
      "84997C BLUE 3 PIECE POLKADOT CUTLERY SET    0.787\n",
      "22631  CIRCUS PARADE LUNCH BOX              0.777\n",
      "84997A GREEN 3 PIECE POLKADOT CUTLERY SET   0.764\n"
     ]
    }
   ],
   "source": [
    "sks = ['84997B','22630']\n",
    "similars = model.wv.most_similar(sks, topn=5) #  \n",
    "\n",
    "print('Shopping:', sks, products_dict[sks[0]],\n",
    "      products_dict[sks[1]] )\n",
    "print('--------------------------------------------')\n",
    "\n",
    "for i in similars:\n",
    "    if i[1] > 0.6:\n",
    "        print('{:6} {:36} {:.3f}'.format(i[0], products_dict[i[0]][0], i[1]))\n"
   ]
  },
  {
   "cell_type": "code",
   "execution_count": 53,
   "id": "7883400d-8eba-4c36-9c4a-59e4fce539e0",
   "metadata": {},
   "outputs": [
    {
     "data": {
      "text/plain": [
       "['HOT WATER BOTTLE KEEP CALM',\n",
       " 'HOT WATER BOTTLE KEEP CALM',\n",
       " 'HOT WATER BOTTLE KEEP CALM',\n",
       " 'HOT WATER BOTTLE KEEP CALM',\n",
       " 'HOT WATER BOTTLE KEEP CALM',\n",
       " 'HOT WATER BOTTLE KEEP CALM',\n",
       " 'HOT WATER BOTTLE KEEP CALM',\n",
       " 'HOT WATER BOTTLE KEEP CALM',\n",
       " 'HOT WATER BOTTLE KEEP CALM',\n",
       " 'HOT WATER BOTTLE KEEP CALM',\n",
       " 'HOT WATER BOTTLE KEEP CALM',\n",
       " 'HOT WATER BOTTLE KEEP CALM',\n",
       " 'HOT WATER BOTTLE KEEP CALM',\n",
       " 'HOT WATER BOTTLE KEEP CALM',\n",
       " 'HOT WATER BOTTLE KEEP CALM',\n",
       " 'HOT WATER BOTTLE KEEP CALM',\n",
       " 'HOT WATER BOTTLE KEEP CALM',\n",
       " 'HOT WATER BOTTLE KEEP CALM',\n",
       " 'HOT WATER BOTTLE KEEP CALM',\n",
       " 'HOT WATER BOTTLE KEEP CALM',\n",
       " 'HOT WATER BOTTLE KEEP CALM',\n",
       " 'HOT WATER BOTTLE KEEP CALM',\n",
       " 'HOT WATER BOTTLE KEEP CALM',\n",
       " 'HOT WATER BOTTLE KEEP CALM',\n",
       " 'HOT WATER BOTTLE KEEP CALM',\n",
       " 'HOT WATER BOTTLE KEEP CALM',\n",
       " 'HOT WATER BOTTLE KEEP CALM',\n",
       " 'HOT WATER BOTTLE KEEP CALM',\n",
       " 'HOT WATER BOTTLE KEEP CALM',\n",
       " 'HOT WATER BOTTLE KEEP CALM',\n",
       " 'HOT WATER BOTTLE KEEP CALM',\n",
       " 'HOT WATER BOTTLE KEEP CALM',\n",
       " 'HOT WATER BOTTLE KEEP CALM',\n",
       " 'HOT WATER BOTTLE KEEP CALM',\n",
       " 'HOT WATER BOTTLE KEEP CALM',\n",
       " 'HOT WATER BOTTLE KEEP CALM',\n",
       " 'HOT WATER BOTTLE KEEP CALM',\n",
       " 'HOT WATER BOTTLE KEEP CALM',\n",
       " 'HOT WATER BOTTLE KEEP CALM',\n",
       " 'HOT WATER BOTTLE KEEP CALM',\n",
       " 'HOT WATER BOTTLE KEEP CALM',\n",
       " 'HOT WATER BOTTLE KEEP CALM',\n",
       " 'HOT WATER BOTTLE KEEP CALM',\n",
       " 'HOT WATER BOTTLE KEEP CALM',\n",
       " 'HOT WATER BOTTLE KEEP CALM',\n",
       " 'HOT WATER BOTTLE KEEP CALM',\n",
       " 'HOT WATER BOTTLE KEEP CALM',\n",
       " 'HOT WATER BOTTLE KEEP CALM',\n",
       " 'HOT WATER BOTTLE KEEP CALM',\n",
       " 'HOT WATER BOTTLE KEEP CALM',\n",
       " 'HOT WATER BOTTLE KEEP CALM',\n",
       " 'HOT WATER BOTTLE KEEP CALM',\n",
       " 'HOT WATER BOTTLE KEEP CALM',\n",
       " 'HOT WATER BOTTLE KEEP CALM',\n",
       " 'HOT WATER BOTTLE KEEP CALM',\n",
       " 'HOT WATER BOTTLE KEEP CALM',\n",
       " 'HOT WATER BOTTLE KEEP CALM',\n",
       " 'HOT WATER BOTTLE KEEP CALM',\n",
       " 'HOT WATER BOTTLE KEEP CALM',\n",
       " 'HOT WATER BOTTLE KEEP CALM',\n",
       " 'HOT WATER BOTTLE KEEP CALM',\n",
       " 'HOT WATER BOTTLE KEEP CALM',\n",
       " 'HOT WATER BOTTLE KEEP CALM',\n",
       " 'HOT WATER BOTTLE KEEP CALM',\n",
       " 'HOT WATER BOTTLE KEEP CALM',\n",
       " 'HOT WATER BOTTLE KEEP CALM',\n",
       " 'HOT WATER BOTTLE KEEP CALM',\n",
       " 'HOT WATER BOTTLE KEEP CALM',\n",
       " 'HOT WATER BOTTLE KEEP CALM',\n",
       " 'HOT WATER BOTTLE KEEP CALM',\n",
       " 'HOT WATER BOTTLE KEEP CALM',\n",
       " 'HOT WATER BOTTLE KEEP CALM',\n",
       " 'HOT WATER BOTTLE KEEP CALM',\n",
       " 'HOT WATER BOTTLE KEEP CALM',\n",
       " 'HOT WATER BOTTLE KEEP CALM',\n",
       " 'HOT WATER BOTTLE KEEP CALM',\n",
       " 'HOT WATER BOTTLE KEEP CALM',\n",
       " 'HOT WATER BOTTLE KEEP CALM',\n",
       " 'HOT WATER BOTTLE KEEP CALM',\n",
       " 'HOT WATER BOTTLE KEEP CALM',\n",
       " 'HOT WATER BOTTLE KEEP CALM',\n",
       " 'HOT WATER BOTTLE KEEP CALM',\n",
       " 'HOT WATER BOTTLE KEEP CALM',\n",
       " 'HOT WATER BOTTLE KEEP CALM',\n",
       " 'HOT WATER BOTTLE KEEP CALM',\n",
       " 'HOT WATER BOTTLE KEEP CALM',\n",
       " 'HOT WATER BOTTLE KEEP CALM',\n",
       " 'HOT WATER BOTTLE KEEP CALM',\n",
       " 'HOT WATER BOTTLE KEEP CALM',\n",
       " 'HOT WATER BOTTLE KEEP CALM',\n",
       " 'HOT WATER BOTTLE KEEP CALM',\n",
       " 'HOT WATER BOTTLE KEEP CALM',\n",
       " 'HOT WATER BOTTLE KEEP CALM',\n",
       " 'HOT WATER BOTTLE KEEP CALM',\n",
       " 'HOT WATER BOTTLE KEEP CALM',\n",
       " 'HOT WATER BOTTLE KEEP CALM',\n",
       " 'HOT WATER BOTTLE KEEP CALM',\n",
       " 'HOT WATER BOTTLE KEEP CALM',\n",
       " 'HOT WATER BOTTLE KEEP CALM',\n",
       " 'HOT WATER BOTTLE KEEP CALM',\n",
       " 'HOT WATER BOTTLE KEEP CALM',\n",
       " 'HOT WATER BOTTLE KEEP CALM',\n",
       " 'HOT WATER BOTTLE KEEP CALM',\n",
       " 'HOT WATER BOTTLE KEEP CALM',\n",
       " 'HOT WATER BOTTLE KEEP CALM',\n",
       " 'HOT WATER BOTTLE KEEP CALM',\n",
       " 'HOT WATER BOTTLE KEEP CALM',\n",
       " 'HOT WATER BOTTLE KEEP CALM',\n",
       " 'HOT WATER BOTTLE KEEP CALM',\n",
       " 'HOT WATER BOTTLE KEEP CALM',\n",
       " 'HOT WATER BOTTLE KEEP CALM',\n",
       " 'HOT WATER BOTTLE KEEP CALM',\n",
       " 'HOT WATER BOTTLE KEEP CALM',\n",
       " 'HOT WATER BOTTLE KEEP CALM',\n",
       " 'HOT WATER BOTTLE KEEP CALM',\n",
       " 'HOT WATER BOTTLE KEEP CALM',\n",
       " 'HOT WATER BOTTLE KEEP CALM',\n",
       " 'HOT WATER BOTTLE KEEP CALM',\n",
       " 'HOT WATER BOTTLE KEEP CALM',\n",
       " 'HOT WATER BOTTLE KEEP CALM',\n",
       " 'HOT WATER BOTTLE KEEP CALM',\n",
       " 'HOT WATER BOTTLE KEEP CALM',\n",
       " 'HOT WATER BOTTLE KEEP CALM',\n",
       " 'HOT WATER BOTTLE KEEP CALM',\n",
       " 'HOT WATER BOTTLE KEEP CALM',\n",
       " 'HOT WATER BOTTLE KEEP CALM',\n",
       " 'HOT WATER BOTTLE KEEP CALM',\n",
       " 'HOT WATER BOTTLE KEEP CALM',\n",
       " 'HOT WATER BOTTLE KEEP CALM',\n",
       " 'HOT WATER BOTTLE KEEP CALM',\n",
       " 'HOT WATER BOTTLE KEEP CALM',\n",
       " 'HOT WATER BOTTLE KEEP CALM',\n",
       " 'HOT WATER BOTTLE KEEP CALM',\n",
       " 'HOT WATER BOTTLE KEEP CALM',\n",
       " 'HOT WATER BOTTLE KEEP CALM',\n",
       " 'HOT WATER BOTTLE KEEP CALM',\n",
       " 'HOT WATER BOTTLE KEEP CALM',\n",
       " 'HOT WATER BOTTLE KEEP CALM',\n",
       " 'HOT WATER BOTTLE KEEP CALM',\n",
       " 'HOT WATER BOTTLE KEEP CALM',\n",
       " 'HOT WATER BOTTLE KEEP CALM',\n",
       " 'HOT WATER BOTTLE KEEP CALM',\n",
       " 'HOT WATER BOTTLE KEEP CALM',\n",
       " 'HOT WATER BOTTLE KEEP CALM',\n",
       " 'HOT WATER BOTTLE KEEP CALM',\n",
       " 'HOT WATER BOTTLE KEEP CALM',\n",
       " 'HOT WATER BOTTLE KEEP CALM',\n",
       " 'HOT WATER BOTTLE KEEP CALM',\n",
       " 'HOT WATER BOTTLE KEEP CALM',\n",
       " 'HOT WATER BOTTLE KEEP CALM',\n",
       " 'HOT WATER BOTTLE KEEP CALM',\n",
       " 'HOT WATER BOTTLE KEEP CALM',\n",
       " 'HOT WATER BOTTLE KEEP CALM',\n",
       " 'HOT WATER BOTTLE KEEP CALM',\n",
       " 'HOT WATER BOTTLE KEEP CALM',\n",
       " 'HOT WATER BOTTLE KEEP CALM',\n",
       " 'HOT WATER BOTTLE KEEP CALM',\n",
       " 'HOT WATER BOTTLE KEEP CALM',\n",
       " 'HOT WATER BOTTLE KEEP CALM',\n",
       " 'HOT WATER BOTTLE KEEP CALM',\n",
       " 'HOT WATER BOTTLE KEEP CALM',\n",
       " 'HOT WATER BOTTLE KEEP CALM',\n",
       " 'HOT WATER BOTTLE KEEP CALM',\n",
       " 'HOT WATER BOTTLE KEEP CALM',\n",
       " 'HOT WATER BOTTLE KEEP CALM',\n",
       " 'HOT WATER BOTTLE KEEP CALM',\n",
       " 'HOT WATER BOTTLE KEEP CALM',\n",
       " 'HOT WATER BOTTLE KEEP CALM',\n",
       " 'HOT WATER BOTTLE KEEP CALM',\n",
       " 'HOT WATER BOTTLE KEEP CALM',\n",
       " 'HOT WATER BOTTLE KEEP CALM',\n",
       " 'HOT WATER BOTTLE KEEP CALM',\n",
       " 'HOT WATER BOTTLE KEEP CALM',\n",
       " 'HOT WATER BOTTLE KEEP CALM',\n",
       " 'HOT WATER BOTTLE KEEP CALM',\n",
       " 'HOT WATER BOTTLE KEEP CALM',\n",
       " 'HOT WATER BOTTLE KEEP CALM',\n",
       " 'HOT WATER BOTTLE KEEP CALM',\n",
       " 'HOT WATER BOTTLE KEEP CALM',\n",
       " 'HOT WATER BOTTLE KEEP CALM',\n",
       " 'HOT WATER BOTTLE KEEP CALM',\n",
       " 'HOT WATER BOTTLE KEEP CALM',\n",
       " 'HOT WATER BOTTLE KEEP CALM',\n",
       " 'HOT WATER BOTTLE KEEP CALM',\n",
       " 'HOT WATER BOTTLE KEEP CALM',\n",
       " 'HOT WATER BOTTLE KEEP CALM',\n",
       " 'HOT WATER BOTTLE KEEP CALM',\n",
       " 'HOT WATER BOTTLE KEEP CALM',\n",
       " 'HOT WATER BOTTLE KEEP CALM',\n",
       " 'HOT WATER BOTTLE KEEP CALM',\n",
       " 'HOT WATER BOTTLE KEEP CALM',\n",
       " 'HOT WATER BOTTLE KEEP CALM',\n",
       " 'HOT WATER BOTTLE KEEP CALM',\n",
       " 'HOT WATER BOTTLE KEEP CALM',\n",
       " 'HOT WATER BOTTLE KEEP CALM',\n",
       " 'HOT WATER BOTTLE KEEP CALM',\n",
       " 'HOT WATER BOTTLE KEEP CALM',\n",
       " 'HOT WATER BOTTLE KEEP CALM',\n",
       " 'HOT WATER BOTTLE KEEP CALM',\n",
       " 'HOT WATER BOTTLE KEEP CALM',\n",
       " 'HOT WATER BOTTLE KEEP CALM',\n",
       " 'HOT WATER BOTTLE KEEP CALM',\n",
       " 'HOT WATER BOTTLE KEEP CALM',\n",
       " 'HOT WATER BOTTLE KEEP CALM',\n",
       " 'HOT WATER BOTTLE KEEP CALM',\n",
       " 'HOT WATER BOTTLE KEEP CALM',\n",
       " 'HOT WATER BOTTLE KEEP CALM',\n",
       " 'HOT WATER BOTTLE KEEP CALM',\n",
       " 'HOT WATER BOTTLE KEEP CALM',\n",
       " 'HOT WATER BOTTLE KEEP CALM',\n",
       " 'HOT WATER BOTTLE KEEP CALM',\n",
       " 'HOT WATER BOTTLE KEEP CALM',\n",
       " 'HOT WATER BOTTLE KEEP CALM',\n",
       " 'HOT WATER BOTTLE KEEP CALM',\n",
       " 'HOT WATER BOTTLE KEEP CALM',\n",
       " 'HOT WATER BOTTLE KEEP CALM',\n",
       " 'HOT WATER BOTTLE KEEP CALM',\n",
       " 'HOT WATER BOTTLE KEEP CALM',\n",
       " 'HOT WATER BOTTLE KEEP CALM',\n",
       " 'HOT WATER BOTTLE KEEP CALM',\n",
       " 'HOT WATER BOTTLE KEEP CALM',\n",
       " 'HOT WATER BOTTLE KEEP CALM',\n",
       " 'HOT WATER BOTTLE KEEP CALM',\n",
       " 'HOT WATER BOTTLE KEEP CALM',\n",
       " 'HOT WATER BOTTLE KEEP CALM',\n",
       " 'HOT WATER BOTTLE KEEP CALM',\n",
       " 'HOT WATER BOTTLE KEEP CALM',\n",
       " 'HOT WATER BOTTLE KEEP CALM',\n",
       " 'HOT WATER BOTTLE KEEP CALM',\n",
       " 'HOT WATER BOTTLE KEEP CALM',\n",
       " 'HOT WATER BOTTLE KEEP CALM',\n",
       " 'HOT WATER BOTTLE KEEP CALM',\n",
       " 'HOT WATER BOTTLE KEEP CALM',\n",
       " 'HOT WATER BOTTLE KEEP CALM',\n",
       " 'HOT WATER BOTTLE KEEP CALM',\n",
       " 'HOT WATER BOTTLE KEEP CALM',\n",
       " 'HOT WATER BOTTLE KEEP CALM',\n",
       " 'HOT WATER BOTTLE KEEP CALM',\n",
       " 'HOT WATER BOTTLE KEEP CALM',\n",
       " 'HOT WATER BOTTLE KEEP CALM',\n",
       " 'HOT WATER BOTTLE KEEP CALM',\n",
       " 'HOT WATER BOTTLE KEEP CALM',\n",
       " 'HOT WATER BOTTLE KEEP CALM',\n",
       " 'HOT WATER BOTTLE KEEP CALM',\n",
       " 'HOT WATER BOTTLE KEEP CALM',\n",
       " 'HOT WATER BOTTLE KEEP CALM',\n",
       " 'HOT WATER BOTTLE KEEP CALM',\n",
       " 'HOT WATER BOTTLE KEEP CALM',\n",
       " 'HOT WATER BOTTLE KEEP CALM',\n",
       " 'HOT WATER BOTTLE KEEP CALM',\n",
       " 'HOT WATER BOTTLE KEEP CALM',\n",
       " 'HOT WATER BOTTLE KEEP CALM',\n",
       " 'HOT WATER BOTTLE KEEP CALM',\n",
       " 'HOT WATER BOTTLE KEEP CALM',\n",
       " 'HOT WATER BOTTLE KEEP CALM',\n",
       " 'HOT WATER BOTTLE KEEP CALM',\n",
       " 'HOT WATER BOTTLE KEEP CALM',\n",
       " 'HOT WATER BOTTLE KEEP CALM',\n",
       " 'HOT WATER BOTTLE KEEP CALM',\n",
       " 'HOT WATER BOTTLE KEEP CALM',\n",
       " 'HOT WATER BOTTLE KEEP CALM',\n",
       " 'HOT WATER BOTTLE KEEP CALM',\n",
       " 'HOT WATER BOTTLE KEEP CALM',\n",
       " 'HOT WATER BOTTLE KEEP CALM',\n",
       " 'HOT WATER BOTTLE KEEP CALM',\n",
       " 'HOT WATER BOTTLE KEEP CALM',\n",
       " 'HOT WATER BOTTLE KEEP CALM',\n",
       " 'HOT WATER BOTTLE KEEP CALM',\n",
       " 'HOT WATER BOTTLE KEEP CALM',\n",
       " 'HOT WATER BOTTLE KEEP CALM',\n",
       " 'HOT WATER BOTTLE KEEP CALM',\n",
       " 'HOT WATER BOTTLE KEEP CALM',\n",
       " 'HOT WATER BOTTLE KEEP CALM',\n",
       " 'HOT WATER BOTTLE KEEP CALM',\n",
       " 'HOT WATER BOTTLE KEEP CALM',\n",
       " 'HOT WATER BOTTLE KEEP CALM',\n",
       " 'HOT WATER BOTTLE KEEP CALM',\n",
       " 'HOT WATER BOTTLE KEEP CALM',\n",
       " 'HOT WATER BOTTLE KEEP CALM',\n",
       " 'HOT WATER BOTTLE KEEP CALM',\n",
       " 'HOT WATER BOTTLE KEEP CALM',\n",
       " 'HOT WATER BOTTLE KEEP CALM',\n",
       " 'HOT WATER BOTTLE KEEP CALM',\n",
       " 'HOT WATER BOTTLE KEEP CALM',\n",
       " 'HOT WATER BOTTLE KEEP CALM',\n",
       " 'HOT WATER BOTTLE KEEP CALM',\n",
       " 'HOT WATER BOTTLE KEEP CALM',\n",
       " 'HOT WATER BOTTLE KEEP CALM',\n",
       " 'HOT WATER BOTTLE KEEP CALM',\n",
       " 'HOT WATER BOTTLE KEEP CALM',\n",
       " 'HOT WATER BOTTLE KEEP CALM',\n",
       " 'HOT WATER BOTTLE KEEP CALM',\n",
       " 'HOT WATER BOTTLE KEEP CALM',\n",
       " 'HOT WATER BOTTLE KEEP CALM',\n",
       " 'HOT WATER BOTTLE KEEP CALM',\n",
       " 'HOT WATER BOTTLE KEEP CALM',\n",
       " 'HOT WATER BOTTLE KEEP CALM',\n",
       " 'HOT WATER BOTTLE KEEP CALM',\n",
       " 'HOT WATER BOTTLE KEEP CALM',\n",
       " 'HOT WATER BOTTLE KEEP CALM',\n",
       " 'HOT WATER BOTTLE KEEP CALM',\n",
       " 'HOT WATER BOTTLE KEEP CALM',\n",
       " 'HOT WATER BOTTLE KEEP CALM',\n",
       " 'HOT WATER BOTTLE KEEP CALM',\n",
       " 'HOT WATER BOTTLE KEEP CALM',\n",
       " 'HOT WATER BOTTLE KEEP CALM',\n",
       " 'HOT WATER BOTTLE KEEP CALM',\n",
       " 'HOT WATER BOTTLE KEEP CALM',\n",
       " 'HOT WATER BOTTLE KEEP CALM',\n",
       " 'HOT WATER BOTTLE KEEP CALM',\n",
       " 'HOT WATER BOTTLE KEEP CALM',\n",
       " 'HOT WATER BOTTLE KEEP CALM',\n",
       " 'HOT WATER BOTTLE KEEP CALM',\n",
       " 'HOT WATER BOTTLE KEEP CALM',\n",
       " 'HOT WATER BOTTLE KEEP CALM',\n",
       " 'HOT WATER BOTTLE KEEP CALM',\n",
       " 'HOT WATER BOTTLE KEEP CALM',\n",
       " 'HOT WATER BOTTLE KEEP CALM',\n",
       " 'HOT WATER BOTTLE KEEP CALM',\n",
       " 'HOT WATER BOTTLE KEEP CALM',\n",
       " 'HOT WATER BOTTLE KEEP CALM',\n",
       " 'HOT WATER BOTTLE KEEP CALM',\n",
       " 'HOT WATER BOTTLE KEEP CALM',\n",
       " 'HOT WATER BOTTLE KEEP CALM',\n",
       " 'HOT WATER BOTTLE KEEP CALM',\n",
       " 'HOT WATER BOTTLE KEEP CALM',\n",
       " 'HOT WATER BOTTLE KEEP CALM',\n",
       " 'HOT WATER BOTTLE KEEP CALM',\n",
       " 'HOT WATER BOTTLE KEEP CALM',\n",
       " 'HOT WATER BOTTLE KEEP CALM',\n",
       " 'HOT WATER BOTTLE KEEP CALM',\n",
       " 'HOT WATER BOTTLE KEEP CALM',\n",
       " 'HOT WATER BOTTLE KEEP CALM',\n",
       " 'HOT WATER BOTTLE KEEP CALM',\n",
       " 'HOT WATER BOTTLE KEEP CALM',\n",
       " 'HOT WATER BOTTLE KEEP CALM',\n",
       " 'HOT WATER BOTTLE KEEP CALM',\n",
       " 'HOT WATER BOTTLE KEEP CALM',\n",
       " 'HOT WATER BOTTLE KEEP CALM',\n",
       " 'HOT WATER BOTTLE KEEP CALM',\n",
       " 'HOT WATER BOTTLE KEEP CALM',\n",
       " 'HOT WATER BOTTLE KEEP CALM',\n",
       " 'HOT WATER BOTTLE KEEP CALM',\n",
       " 'HOT WATER BOTTLE KEEP CALM',\n",
       " 'HOT WATER BOTTLE KEEP CALM',\n",
       " 'HOT WATER BOTTLE KEEP CALM',\n",
       " 'HOT WATER BOTTLE KEEP CALM',\n",
       " 'HOT WATER BOTTLE KEEP CALM',\n",
       " 'HOT WATER BOTTLE KEEP CALM',\n",
       " 'HOT WATER BOTTLE KEEP CALM',\n",
       " 'HOT WATER BOTTLE KEEP CALM',\n",
       " 'HOT WATER BOTTLE KEEP CALM',\n",
       " 'HOT WATER BOTTLE KEEP CALM',\n",
       " 'HOT WATER BOTTLE KEEP CALM',\n",
       " 'HOT WATER BOTTLE KEEP CALM',\n",
       " 'HOT WATER BOTTLE KEEP CALM',\n",
       " 'HOT WATER BOTTLE KEEP CALM',\n",
       " 'HOT WATER BOTTLE KEEP CALM',\n",
       " 'HOT WATER BOTTLE KEEP CALM',\n",
       " 'HOT WATER BOTTLE KEEP CALM',\n",
       " 'HOT WATER BOTTLE KEEP CALM',\n",
       " 'HOT WATER BOTTLE KEEP CALM',\n",
       " 'HOT WATER BOTTLE KEEP CALM',\n",
       " 'HOT WATER BOTTLE KEEP CALM',\n",
       " 'HOT WATER BOTTLE KEEP CALM',\n",
       " 'HOT WATER BOTTLE KEEP CALM',\n",
       " 'HOT WATER BOTTLE KEEP CALM',\n",
       " 'HOT WATER BOTTLE KEEP CALM',\n",
       " 'HOT WATER BOTTLE KEEP CALM',\n",
       " 'HOT WATER BOTTLE KEEP CALM',\n",
       " 'HOT WATER BOTTLE KEEP CALM',\n",
       " 'HOT WATER BOTTLE KEEP CALM',\n",
       " 'HOT WATER BOTTLE KEEP CALM',\n",
       " 'HOT WATER BOTTLE KEEP CALM',\n",
       " 'HOT WATER BOTTLE KEEP CALM',\n",
       " 'HOT WATER BOTTLE KEEP CALM',\n",
       " 'HOT WATER BOTTLE KEEP CALM',\n",
       " 'HOT WATER BOTTLE KEEP CALM',\n",
       " 'HOT WATER BOTTLE KEEP CALM',\n",
       " 'HOT WATER BOTTLE KEEP CALM',\n",
       " 'HOT WATER BOTTLE KEEP CALM',\n",
       " 'HOT WATER BOTTLE KEEP CALM',\n",
       " 'HOT WATER BOTTLE KEEP CALM',\n",
       " 'HOT WATER BOTTLE KEEP CALM',\n",
       " 'HOT WATER BOTTLE KEEP CALM',\n",
       " 'HOT WATER BOTTLE KEEP CALM',\n",
       " 'HOT WATER BOTTLE KEEP CALM',\n",
       " 'HOT WATER BOTTLE KEEP CALM',\n",
       " 'HOT WATER BOTTLE KEEP CALM',\n",
       " 'HOT WATER BOTTLE KEEP CALM',\n",
       " 'HOT WATER BOTTLE KEEP CALM',\n",
       " 'HOT WATER BOTTLE KEEP CALM',\n",
       " 'HOT WATER BOTTLE KEEP CALM',\n",
       " 'HOT WATER BOTTLE KEEP CALM',\n",
       " 'HOT WATER BOTTLE KEEP CALM',\n",
       " 'HOT WATER BOTTLE KEEP CALM',\n",
       " 'HOT WATER BOTTLE KEEP CALM',\n",
       " 'HOT WATER BOTTLE KEEP CALM',\n",
       " 'HOT WATER BOTTLE KEEP CALM',\n",
       " 'HOT WATER BOTTLE KEEP CALM',\n",
       " 'HOT WATER BOTTLE KEEP CALM',\n",
       " 'HOT WATER BOTTLE KEEP CALM',\n",
       " 'HOT WATER BOTTLE KEEP CALM',\n",
       " 'HOT WATER BOTTLE KEEP CALM',\n",
       " 'HOT WATER BOTTLE KEEP CALM',\n",
       " 'HOT WATER BOTTLE KEEP CALM',\n",
       " 'HOT WATER BOTTLE KEEP CALM',\n",
       " 'HOT WATER BOTTLE KEEP CALM',\n",
       " 'HOT WATER BOTTLE KEEP CALM',\n",
       " 'HOT WATER BOTTLE KEEP CALM',\n",
       " 'HOT WATER BOTTLE KEEP CALM',\n",
       " 'HOT WATER BOTTLE KEEP CALM',\n",
       " 'HOT WATER BOTTLE KEEP CALM',\n",
       " 'HOT WATER BOTTLE KEEP CALM',\n",
       " 'HOT WATER BOTTLE KEEP CALM',\n",
       " 'HOT WATER BOTTLE KEEP CALM',\n",
       " 'HOT WATER BOTTLE KEEP CALM',\n",
       " 'HOT WATER BOTTLE KEEP CALM',\n",
       " 'HOT WATER BOTTLE KEEP CALM',\n",
       " 'HOT WATER BOTTLE KEEP CALM',\n",
       " 'HOT WATER BOTTLE KEEP CALM',\n",
       " 'HOT WATER BOTTLE KEEP CALM',\n",
       " 'HOT WATER BOTTLE KEEP CALM',\n",
       " 'HOT WATER BOTTLE KEEP CALM',\n",
       " 'HOT WATER BOTTLE KEEP CALM',\n",
       " 'HOT WATER BOTTLE KEEP CALM',\n",
       " 'HOT WATER BOTTLE KEEP CALM',\n",
       " 'HOT WATER BOTTLE KEEP CALM',\n",
       " 'HOT WATER BOTTLE KEEP CALM',\n",
       " 'HOT WATER BOTTLE KEEP CALM',\n",
       " 'HOT WATER BOTTLE KEEP CALM',\n",
       " 'HOT WATER BOTTLE KEEP CALM',\n",
       " 'HOT WATER BOTTLE KEEP CALM',\n",
       " 'HOT WATER BOTTLE KEEP CALM',\n",
       " 'HOT WATER BOTTLE KEEP CALM',\n",
       " 'HOT WATER BOTTLE KEEP CALM',\n",
       " 'HOT WATER BOTTLE KEEP CALM',\n",
       " 'HOT WATER BOTTLE KEEP CALM',\n",
       " 'HOT WATER BOTTLE KEEP CALM',\n",
       " 'HOT WATER BOTTLE KEEP CALM',\n",
       " 'HOT WATER BOTTLE KEEP CALM',\n",
       " 'HOT WATER BOTTLE KEEP CALM',\n",
       " 'HOT WATER BOTTLE KEEP CALM',\n",
       " 'HOT WATER BOTTLE KEEP CALM',\n",
       " 'HOT WATER BOTTLE KEEP CALM',\n",
       " 'HOT WATER BOTTLE KEEP CALM',\n",
       " 'HOT WATER BOTTLE KEEP CALM',\n",
       " 'HOT WATER BOTTLE KEEP CALM',\n",
       " 'HOT WATER BOTTLE KEEP CALM',\n",
       " 'HOT WATER BOTTLE KEEP CALM',\n",
       " 'HOT WATER BOTTLE KEEP CALM',\n",
       " 'HOT WATER BOTTLE KEEP CALM',\n",
       " 'HOT WATER BOTTLE KEEP CALM',\n",
       " 'HOT WATER BOTTLE KEEP CALM',\n",
       " 'HOT WATER BOTTLE KEEP CALM',\n",
       " 'HOT WATER BOTTLE KEEP CALM',\n",
       " 'HOT WATER BOTTLE KEEP CALM',\n",
       " 'HOT WATER BOTTLE KEEP CALM',\n",
       " 'HOT WATER BOTTLE KEEP CALM',\n",
       " 'HOT WATER BOTTLE KEEP CALM',\n",
       " 'HOT WATER BOTTLE KEEP CALM',\n",
       " 'HOT WATER BOTTLE KEEP CALM',\n",
       " 'HOT WATER BOTTLE KEEP CALM',\n",
       " 'HOT WATER BOTTLE KEEP CALM',\n",
       " 'HOT WATER BOTTLE KEEP CALM',\n",
       " 'HOT WATER BOTTLE KEEP CALM',\n",
       " 'HOT WATER BOTTLE KEEP CALM',\n",
       " 'HOT WATER BOTTLE KEEP CALM',\n",
       " 'HOT WATER BOTTLE KEEP CALM',\n",
       " 'HOT WATER BOTTLE KEEP CALM',\n",
       " 'HOT WATER BOTTLE KEEP CALM',\n",
       " 'HOT WATER BOTTLE KEEP CALM',\n",
       " 'HOT WATER BOTTLE KEEP CALM',\n",
       " 'HOT WATER BOTTLE KEEP CALM',\n",
       " 'HOT WATER BOTTLE KEEP CALM',\n",
       " 'HOT WATER BOTTLE KEEP CALM',\n",
       " 'HOT WATER BOTTLE KEEP CALM',\n",
       " 'HOT WATER BOTTLE KEEP CALM',\n",
       " 'HOT WATER BOTTLE KEEP CALM',\n",
       " 'HOT WATER BOTTLE KEEP CALM',\n",
       " 'HOT WATER BOTTLE KEEP CALM',\n",
       " 'HOT WATER BOTTLE KEEP CALM',\n",
       " 'HOT WATER BOTTLE KEEP CALM',\n",
       " 'HOT WATER BOTTLE KEEP CALM',\n",
       " 'HOT WATER BOTTLE KEEP CALM',\n",
       " 'HOT WATER BOTTLE KEEP CALM',\n",
       " 'HOT WATER BOTTLE KEEP CALM',\n",
       " 'HOT WATER BOTTLE KEEP CALM',\n",
       " 'HOT WATER BOTTLE KEEP CALM',\n",
       " 'HOT WATER BOTTLE KEEP CALM',\n",
       " 'HOT WATER BOTTLE KEEP CALM',\n",
       " 'HOT WATER BOTTLE KEEP CALM',\n",
       " 'HOT WATER BOTTLE KEEP CALM',\n",
       " 'HOT WATER BOTTLE KEEP CALM',\n",
       " 'HOT WATER BOTTLE KEEP CALM',\n",
       " 'HOT WATER BOTTLE KEEP CALM',\n",
       " 'HOT WATER BOTTLE KEEP CALM',\n",
       " 'HOT WATER BOTTLE KEEP CALM',\n",
       " 'HOT WATER BOTTLE KEEP CALM',\n",
       " 'HOT WATER BOTTLE KEEP CALM',\n",
       " 'HOT WATER BOTTLE KEEP CALM',\n",
       " 'HOT WATER BOTTLE KEEP CALM',\n",
       " 'HOT WATER BOTTLE KEEP CALM',\n",
       " 'HOT WATER BOTTLE KEEP CALM',\n",
       " 'HOT WATER BOTTLE KEEP CALM',\n",
       " 'HOT WATER BOTTLE KEEP CALM',\n",
       " 'HOT WATER BOTTLE KEEP CALM',\n",
       " 'HOT WATER BOTTLE KEEP CALM',\n",
       " 'HOT WATER BOTTLE KEEP CALM',\n",
       " 'HOT WATER BOTTLE KEEP CALM',\n",
       " 'HOT WATER BOTTLE KEEP CALM',\n",
       " 'HOT WATER BOTTLE KEEP CALM',\n",
       " 'HOT WATER BOTTLE KEEP CALM',\n",
       " 'HOT WATER BOTTLE KEEP CALM',\n",
       " 'HOT WATER BOTTLE KEEP CALM',\n",
       " 'HOT WATER BOTTLE KEEP CALM',\n",
       " 'HOT WATER BOTTLE KEEP CALM',\n",
       " 'HOT WATER BOTTLE KEEP CALM',\n",
       " 'HOT WATER BOTTLE KEEP CALM',\n",
       " 'HOT WATER BOTTLE KEEP CALM',\n",
       " 'HOT WATER BOTTLE KEEP CALM',\n",
       " 'HOT WATER BOTTLE KEEP CALM',\n",
       " 'HOT WATER BOTTLE KEEP CALM',\n",
       " 'HOT WATER BOTTLE KEEP CALM',\n",
       " 'HOT WATER BOTTLE KEEP CALM',\n",
       " 'HOT WATER BOTTLE KEEP CALM',\n",
       " 'HOT WATER BOTTLE KEEP CALM',\n",
       " 'HOT WATER BOTTLE KEEP CALM',\n",
       " 'HOT WATER BOTTLE KEEP CALM',\n",
       " 'HOT WATER BOTTLE KEEP CALM',\n",
       " 'HOT WATER BOTTLE KEEP CALM',\n",
       " 'HOT WATER BOTTLE KEEP CALM',\n",
       " 'HOT WATER BOTTLE KEEP CALM',\n",
       " 'HOT WATER BOTTLE KEEP CALM',\n",
       " 'HOT WATER BOTTLE KEEP CALM',\n",
       " 'HOT WATER BOTTLE KEEP CALM',\n",
       " 'HOT WATER BOTTLE KEEP CALM',\n",
       " 'HOT WATER BOTTLE KEEP CALM',\n",
       " 'HOT WATER BOTTLE KEEP CALM',\n",
       " 'HOT WATER BOTTLE KEEP CALM',\n",
       " 'HOT WATER BOTTLE KEEP CALM',\n",
       " 'HOT WATER BOTTLE KEEP CALM',\n",
       " 'HOT WATER BOTTLE KEEP CALM',\n",
       " 'HOT WATER BOTTLE KEEP CALM',\n",
       " 'HOT WATER BOTTLE KEEP CALM',\n",
       " 'HOT WATER BOTTLE KEEP CALM',\n",
       " 'HOT WATER BOTTLE KEEP CALM',\n",
       " 'HOT WATER BOTTLE KEEP CALM',\n",
       " 'HOT WATER BOTTLE KEEP CALM',\n",
       " 'HOT WATER BOTTLE KEEP CALM',\n",
       " 'HOT WATER BOTTLE KEEP CALM',\n",
       " 'HOT WATER BOTTLE KEEP CALM',\n",
       " 'HOT WATER BOTTLE KEEP CALM',\n",
       " 'HOT WATER BOTTLE KEEP CALM',\n",
       " 'HOT WATER BOTTLE KEEP CALM',\n",
       " 'HOT WATER BOTTLE KEEP CALM',\n",
       " 'HOT WATER BOTTLE KEEP CALM',\n",
       " 'HOT WATER BOTTLE KEEP CALM',\n",
       " 'HOT WATER BOTTLE KEEP CALM',\n",
       " 'HOT WATER BOTTLE KEEP CALM',\n",
       " 'HOT WATER BOTTLE KEEP CALM',\n",
       " 'HOT WATER BOTTLE KEEP CALM',\n",
       " 'HOT WATER BOTTLE KEEP CALM',\n",
       " 'HOT WATER BOTTLE KEEP CALM',\n",
       " 'HOT WATER BOTTLE KEEP CALM',\n",
       " 'HOT WATER BOTTLE KEEP CALM',\n",
       " 'HOT WATER BOTTLE KEEP CALM',\n",
       " 'HOT WATER BOTTLE KEEP CALM',\n",
       " 'HOT WATER BOTTLE KEEP CALM',\n",
       " 'HOT WATER BOTTLE KEEP CALM',\n",
       " 'HOT WATER BOTTLE KEEP CALM']"
      ]
     },
     "execution_count": 53,
     "metadata": {},
     "output_type": "execute_result"
    }
   ],
   "source": [
    "products_dict['22534']\n",
    "products_dict['23355']"
   ]
  },
  {
   "cell_type": "code",
   "execution_count": 54,
   "id": "bc7e9d22-b635-4877-844b-1f09401ed1c4",
   "metadata": {},
   "outputs": [
    {
     "name": "stdout",
     "output_type": "stream",
     "text": [
      "This word does not appear in this model\n"
     ]
    }
   ],
   "source": [
    "try:\n",
    "    vec_cameroon = model.wv['man']\n",
    "except KeyError:\n",
    "    print(\"This word does not appear in this model\")"
   ]
  },
  {
   "cell_type": "markdown",
   "id": "3c32007e-9356-4ab5-b917-017805c59162",
   "metadata": {},
   "source": [
    "## Plot"
   ]
  },
  {
   "cell_type": "code",
   "execution_count": 55,
   "id": "61ed8916-d998-4346-8626-865f5b8fec01",
   "metadata": {},
   "outputs": [
    {
     "data": {
      "text/plain": [
       "(3414,)"
      ]
     },
     "execution_count": 55,
     "metadata": {},
     "output_type": "execute_result"
    }
   ],
   "source": [
    "labels = np.asarray(model.wv.index_to_key) \n",
    "labels.shape"
   ]
  },
  {
   "cell_type": "code",
   "execution_count": 56,
   "id": "afacabf0-f193-44e0-98db-3e278ff31d48",
   "metadata": {},
   "outputs": [
    {
     "data": {
      "text/plain": [
       "array(['85123A', '85099B', '22423', '47566', '20725', '84879', '22720',\n",
       "       '21212', '22383', '22197'], dtype='<U12')"
      ]
     },
     "execution_count": 56,
     "metadata": {},
     "output_type": "execute_result"
    }
   ],
   "source": [
    "labels[:10]"
   ]
  },
  {
   "cell_type": "code",
   "execution_count": 57,
   "id": "16f285c2-268d-4f8e-85c7-6858083d2287",
   "metadata": {},
   "outputs": [
    {
     "data": {
      "text/plain": [
       "(3414, 50)"
      ]
     },
     "execution_count": 57,
     "metadata": {},
     "output_type": "execute_result"
    }
   ],
   "source": [
    "vectors = np.asarray(model.wv.vectors)\n",
    "vectors.shape"
   ]
  },
  {
   "cell_type": "code",
   "execution_count": 58,
   "id": "29dc749e-d599-4058-9937-6d772584b014",
   "metadata": {},
   "outputs": [
    {
     "data": {
      "image/png": "[encoded data removed]",
      "text/plain": [
       "<Figure size 650x450 with 1 Axes>"
      ]
     },
     "metadata": {},
     "output_type": "display_data"
    }
   ],
   "source": [
    "from sklearn.decomposition import PCA\n",
    "\n",
    "lst_chk = ['22613','20780','23355','71053','90191','82482','15036','15044C'] \n",
    "\n",
    "pca = PCA(n_components=2)\n",
    "result = pca.fit_transform(vectors)\n",
    "\n",
    "plt.figure(figsize=(6.5+0, 4.5+0))\n",
    "plt.scatter(result[:, 0], result[:, 1], s=10, alpha=.8, c='c')\n",
    "\n",
    "for i, label in enumerate(labels):\n",
    "    if label in lst_chk:\n",
    "        plt.scatter(result[i][0], result[i][1], s=40, c='b')\n",
    "        plt.annotate(label, xy=(result[i, 0]+.01, result[i, 1]+.01))\n",
    "\n",
    "plt.tight_layout()\n",
    "plt.show()"
   ]
  },
  {
   "cell_type": "code",
   "execution_count": null,
   "id": "0dfe2abc-b26a-4c1a-af0b-4b9876508ee6",
   "metadata": {},
   "outputs": [],
   "source": []
  }
 ],
 "metadata": {
  "kernelspec": {
   "display_name": "Python 3",
   "language": "python",
   "name": "python3"
  },
  "language_info": {
   "codemirror_mode": {
    "name": "ipython",
    "version": 3
   },
   "file_extension": ".py",
   "mimetype": "text/x-python",
   "name": "python",
   "nbconvert_exporter": "python",
   "pygments_lexer": "ipython3",
   "version": "3.12.5"
  }
 },
 "nbformat": 4,
 "nbformat_minor": 5
}
