{
 "cells": [
  {
   "cell_type": "markdown",
   "metadata": {},
   "source": [
    "# WS 01"
   ]
  },
  {
   "cell_type": "code",
   "execution_count": 1,
   "metadata": {},
   "outputs": [],
   "source": [
    "import numpy as np"
   ]
  },
  {
   "cell_type": "code",
   "execution_count": 2,
   "metadata": {},
   "outputs": [
    {
     "name": "stdout",
     "output_type": "stream",
     "text": [
      "[0.5]\n"
     ]
    }
   ],
   "source": [
    "w0 = -.5\n",
    "\n",
    "x = [[1], \n",
    "     [1]]\n",
    "\n",
    "w = [.5, .5]  \n",
    "\n",
    "w = np.array(w)\n",
    "x = np.array(x)\n",
    "\n",
    "s = w0 + np.dot(w, x)\n",
    "\n",
    "print(s)"
   ]
  },
  {
   "cell_type": "markdown",
   "metadata": {},
   "source": [
    "# WS 02"
   ]
  },
  {
   "cell_type": "code",
   "execution_count": 3,
   "metadata": {},
   "outputs": [
    {
     "name": "stdout",
     "output_type": "stream",
     "text": [
      "[0.]\n"
     ]
    }
   ],
   "source": [
    "w0 = -.5\n",
    "\n",
    "x = [[1], \n",
    "     [1]]\n",
    "\n",
    "\n",
    "x = [[0], \n",
    "     [1]]\n",
    "\n",
    "# W = weight\n",
    "W = [[.4, .4]]\n",
    "\n",
    "W = np.array(W)\n",
    "x = np.array(x)\n",
    "\n",
    "s = w0 + np.dot(w, x)\n",
    "\n",
    "print(s)"
   ]
  },
  {
   "cell_type": "markdown",
   "metadata": {},
   "source": [
    "# ws 03"
   ]
  },
  {
   "cell_type": "code",
   "execution_count": 4,
   "metadata": {},
   "outputs": [
    {
     "name": "stdout",
     "output_type": "stream",
     "text": [
      "output y=0   [s=-0.5]\n",
      "output y=1   [s=0.0]\n",
      "output y=1   [s=0.0]\n",
      "output y=1   [s=0.5]\n"
     ]
    }
   ],
   "source": [
    "def and_gate(x1, x2):\n",
    "    w0 = -0.5  # bias\n",
    "    w1 = 0.5\n",
    "    w2 = 0.5\n",
    "  \n",
    "    threshold = 0.0 \n",
    "    \n",
    "    s = w0 + (w1 * x1) + (w2 * x2) \n",
    "\n",
    "    if s >= threshold:\n",
    "        result = 1\n",
    "    else:\n",
    "        result = 0\n",
    "        \n",
    "    print('output y={}   [s={}]' . format(result, s))\n",
    "\n",
    "and_gate(0, 0)\n",
    "and_gate(0, 1)\n",
    "and_gate(1, 0)\n",
    "and_gate(1, 1)"
   ]
  },
  {
   "cell_type": "markdown",
   "metadata": {},
   "source": [
    "# ws 04"
   ]
  },
  {
   "cell_type": "code",
   "execution_count": 5,
   "metadata": {},
   "outputs": [
    {
     "name": "stdout",
     "output_type": "stream",
     "text": [
      "output y=0   [s=-0.5]\n",
      "output y=1   [s=0.0]\n",
      "output y=1   [s=0.0]\n",
      "output y=1   [s=0.5]\n"
     ]
    }
   ],
   "source": [
    "def or_gate(x1, x2):\n",
    "    w0 = -0.5  # bias\n",
    "    w1 = 0.5  \n",
    "    w2 = 0.5\n",
    "     \n",
    "    threshold = 0.0  \n",
    "    \n",
    "    s = w0 + (w1 * x1) + (w2 * x2) \n",
    "    if s >= threshold:\n",
    "        result = 1\n",
    "    else:\n",
    "        result = 0\n",
    "        \n",
    "    print('output y={}   [s={}]' . format(result, s))\n",
    "\n",
    "or_gate(0, 0)\n",
    "or_gate(0, 1)\n",
    "or_gate(1, 0)\n",
    "or_gate(1, 1)"
   ]
  },
  {
   "cell_type": "code",
   "execution_count": 6,
   "metadata": {},
   "outputs": [],
   "source": [
    "# ws 05 use the same code"
   ]
  },
  {
   "cell_type": "markdown",
   "metadata": {},
   "source": [
    "# WS 06"
   ]
  },
  {
   "cell_type": "code",
   "execution_count": 7,
   "metadata": {},
   "outputs": [
    {
     "name": "stdout",
     "output_type": "stream",
     "text": [
      "output y=0   [s=-1.0]\n",
      "output y=0   [s=-1.9]\n",
      "output y=0   [s=-0.34999999999999987]\n",
      "output y=1   [s=0.20000000000000018]\n",
      "output y=1   [s=1.35]\n"
     ]
    }
   ],
   "source": [
    "def is_lemon(x1, x2):\n",
    "    w0 = -3.5\n",
    "    w1 = 0.2\n",
    "    w2 = 0.5\n",
    "    threshold = 0.0\n",
    "    \n",
    "    s = w0 + (w1 * x1) + (w2 * x2)\n",
    "    if s >= threshold:\n",
    "        result = 1\n",
    "    else:\n",
    "        result = 0\n",
    "        \n",
    "    print('output y={}   [s={}]' . format(result, s))\n",
    "\n",
    "is_lemon(2, 4.2)\n",
    "is_lemon(3, 2)\n",
    "is_lemon(8, 3.1)\n",
    "is_lemon(8, 4.2)\n",
    "is_lemon(8, 6.5)\n"
   ]
  },
  {
   "cell_type": "code",
   "execution_count": null,
   "metadata": {},
   "outputs": [],
   "source": []
  }
 ],
 "metadata": {
  "kernelspec": {
   "display_name": "Python 3 (ipykernel)",
   "language": "python",
   "name": "python3"
  },
  "language_info": {
   "codemirror_mode": {
    "name": "ipython",
    "version": 3
   },
   "file_extension": ".py",
   "mimetype": "text/x-python",
   "name": "python",
   "nbconvert_exporter": "python",
   "pygments_lexer": "ipython3",
   "version": "3.12.5"
  }
 },
 "nbformat": 4,
 "nbformat_minor": 4
}
