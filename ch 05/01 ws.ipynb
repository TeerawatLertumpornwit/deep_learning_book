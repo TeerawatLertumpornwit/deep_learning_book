{
 "cells": [
  {
   "cell_type": "markdown",
   "metadata": {},
   "source": [
    "# WS 01 02"
   ]
  },
  {
   "cell_type": "code",
   "execution_count": 17,
   "metadata": {},
   "outputs": [],
   "source": [
    "import numpy as np\n",
    "\n",
    "X = [[0, 0], \n",
    "     [0, 1], \n",
    "     [1, 0], \n",
    "     [1, 1]]\n",
    "\n",
    "X_train = np.array(X) \n",
    "\n",
    "y = [0, 0, 0, 1] \n",
    "#y = [0, 1, 1, 1] \n",
    "#y = [0, 1, 1, 0] \n",
    "y_train = np.array(y)"
   ]
  },
  {
   "cell_type": "code",
   "execution_count": 18,
   "metadata": {},
   "outputs": [
    {
     "name": "stdout",
     "output_type": "stream",
     "text": [
      "score: 1.0\n",
      "predicted: [0 0 0 1]\n",
      "target:    [0 0 0 1]\n"
     ]
    }
   ],
   "source": [
    "from sklearn.linear_model import Perceptron\n",
    "\n",
    "model = Perceptron(tol=1e-3, random_state=0, verbose=False)\n",
    "#model = Perceptron(tol=1e-3, random_state=0, verbose=True)\n",
    "model.fit(X_train, y_train)\n",
    "\n",
    "print('score:', model.score(X_train, y_train)) \n",
    "print('predicted:', model.predict(X_train))\n",
    "print('target:   ', np.array(y))"
   ]
  },
  {
   "cell_type": "code",
   "execution_count": 19,
   "metadata": {},
   "outputs": [
    {
     "name": "stdout",
     "output_type": "stream",
     "text": [
      "weight [w1 w2] = [2. 2.]\n",
      "w0 (bias) = -2.0\n"
     ]
    }
   ],
   "source": [
    "print('weight [w1 w2] =',model.coef_[0]) \n",
    "print('w0 (bias) =',model.intercept_[0])"
   ]
  },
  {
   "cell_type": "code",
   "execution_count": 20,
   "metadata": {},
   "outputs": [
    {
     "name": "stdout",
     "output_type": "stream",
     "text": [
      "-- Epoch 1\n",
      "Norm: 0.00, NNZs: 0, Bias: -1.000000, T: 4, Avg. loss: 0.750000\n",
      "Total training time: 0.00 seconds.\n",
      "-- Epoch 2\n",
      "Norm: 1.41, NNZs: 2, Bias: 0.000000, T: 8, Avg. loss: 0.250000\n",
      "Total training time: 0.00 seconds.\n",
      "-- Epoch 3\n",
      "Norm: 0.00, NNZs: 0, Bias: -2.000000, T: 12, Avg. loss: 0.250000\n",
      "Total training time: 0.00 seconds.\n",
      "-- Epoch 4\n",
      "Norm: 1.41, NNZs: 2, Bias: -1.000000, T: 16, Avg. loss: 0.500000\n",
      "Total training time: 0.00 seconds.\n",
      "-- Epoch 5\n",
      "Norm: 1.00, NNZs: 1, Bias: -2.000000, T: 20, Avg. loss: 0.000000\n",
      "Total training time: 0.00 seconds.\n",
      "-- Epoch 6\n",
      "Norm: 2.24, NNZs: 2, Bias: -1.000000, T: 24, Avg. loss: 0.250000\n",
      "Total training time: 0.00 seconds.\n",
      "-- Epoch 7\n",
      "Norm: 1.00, NNZs: 1, Bias: -3.000000, T: 28, Avg. loss: 0.000000\n",
      "Total training time: 0.00 seconds.\n",
      "-- Epoch 8\n",
      "Norm: 2.24, NNZs: 2, Bias: -2.000000, T: 32, Avg. loss: 0.500000\n",
      "Total training time: 0.00 seconds.\n",
      "-- Epoch 9\n",
      "Norm: 1.41, NNZs: 2, Bias: -3.000000, T: 36, Avg. loss: 0.000000\n",
      "Total training time: 0.00 seconds.\n",
      "-- Epoch 10\n",
      "Norm: 2.83, NNZs: 2, Bias: -2.000000, T: 40, Avg. loss: 0.250000\n",
      "Total training time: 0.00 seconds.\n",
      "Convergence after 10 epochs took 0.00 seconds\n",
      "score: 1.0\n",
      "predicted: [0 0 0 1]\n",
      "target:    [0 0 0 1]\n"
     ]
    }
   ],
   "source": [
    "from sklearn.linear_model import Perceptron\n",
    "\n",
    "#model = Perceptron(tol=1e-3, random_state=0, verbose=False)\n",
    "model = Perceptron(tol=1e-3, random_state=0, verbose=True)\n",
    "model.fit(X_train, y_train)\n",
    "\n",
    "print('score:', model.score(X_train, y_train)) \n",
    "print('predicted:', model.predict(X_train))\n",
    "print('target:   ', np.array(y))"
   ]
  }
 ],
 "metadata": {
  "kernelspec": {
   "display_name": "Python 3 (ipykernel)",
   "language": "python",
   "name": "python3"
  },
  "language_info": {
   "codemirror_mode": {
    "name": "ipython",
    "version": 3
   },
   "file_extension": ".py",
   "mimetype": "text/x-python",
   "name": "python",
   "nbconvert_exporter": "python",
   "pygments_lexer": "ipython3",
   "version": "3.11.undefined"
  }
 },
 "nbformat": 4,
 "nbformat_minor": 4
}
