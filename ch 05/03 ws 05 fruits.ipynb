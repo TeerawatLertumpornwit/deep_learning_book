{
 "cells": [
  {
   "cell_type": "markdown",
   "id": "6774f218-907b-4e0d-8c61-380eebc2a5ff",
   "metadata": {},
   "source": [
    "# WS 05"
   ]
  },
  {
   "cell_type": "code",
   "execution_count": 177,
   "id": "c6036186-e645-4ef1-a017-110292ed6758",
   "metadata": {},
   "outputs": [],
   "source": [
    "import numpy as np\n",
    "import pandas as pd\n",
    "import seaborn as sns\n",
    "import matplotlib.pyplot as plt"
   ]
  },
  {
   "cell_type": "code",
   "execution_count": 178,
   "id": "287b1062-29a6-4cba-840e-952cdefb347b",
   "metadata": {},
   "outputs": [
    {
     "data": {
      "text/html": [
       "<div>\n",
       "<style scoped>\n",
       "    .dataframe tbody tr th:only-of-type {\n",
       "        vertical-align: middle;\n",
       "    }\n",
       "\n",
       "    .dataframe tbody tr th {\n",
       "        vertical-align: top;\n",
       "    }\n",
       "\n",
       "    .dataframe thead th {\n",
       "        text-align: right;\n",
       "    }\n",
       "</style>\n",
       "<table border=\"1\" class=\"dataframe\">\n",
       "  <thead>\n",
       "    <tr style=\"text-align: right;\">\n",
       "      <th></th>\n",
       "      <th>m</th>\n",
       "      <th>d</th>\n",
       "      <th>target</th>\n",
       "    </tr>\n",
       "  </thead>\n",
       "  <tbody>\n",
       "    <tr>\n",
       "      <th>3</th>\n",
       "      <td>6.6</td>\n",
       "      <td>3.2</td>\n",
       "      <td>0</td>\n",
       "    </tr>\n",
       "    <tr>\n",
       "      <th>7</th>\n",
       "      <td>7.0</td>\n",
       "      <td>4.8</td>\n",
       "      <td>1</td>\n",
       "    </tr>\n",
       "    <tr>\n",
       "      <th>6</th>\n",
       "      <td>8.2</td>\n",
       "      <td>4.4</td>\n",
       "      <td>1</td>\n",
       "    </tr>\n",
       "    <tr>\n",
       "      <th>2</th>\n",
       "      <td>6.5</td>\n",
       "      <td>5.5</td>\n",
       "      <td>0</td>\n",
       "    </tr>\n",
       "    <tr>\n",
       "      <th>10</th>\n",
       "      <td>8.9</td>\n",
       "      <td>5.2</td>\n",
       "      <td>0</td>\n",
       "    </tr>\n",
       "    <tr>\n",
       "      <th>4</th>\n",
       "      <td>6.9</td>\n",
       "      <td>5.9</td>\n",
       "      <td>0</td>\n",
       "    </tr>\n",
       "  </tbody>\n",
       "</table>\n",
       "</div>"
      ],
      "text/plain": [
       "      m    d  target\n",
       "3   6.6  3.2       0\n",
       "7   7.0  4.8       1\n",
       "6   8.2  4.4       1\n",
       "2   6.5  5.5       0\n",
       "10  8.9  5.2       0\n",
       "4   6.9  5.9       0"
      ]
     },
     "execution_count": 178,
     "metadata": {},
     "output_type": "execute_result"
    }
   ],
   "source": [
    "df = pd.read_csv('../datasets/fruit2class.csv')\n",
    "\n",
    "df.sample(7)\n",
    "\n",
    "df.sample(6,random_state=1)"
   ]
  },
  {
   "cell_type": "code",
   "execution_count": 179,
   "id": "ea2a8982-b98d-40a0-ae85-9babf5df435e",
   "metadata": {},
   "outputs": [
    {
     "data": {
      "text/plain": [
       "m         0\n",
       "d         0\n",
       "target    0\n",
       "dtype: int64"
      ]
     },
     "execution_count": 179,
     "metadata": {},
     "output_type": "execute_result"
    }
   ],
   "source": [
    "df.isnull().sum()"
   ]
  },
  {
   "cell_type": "code",
   "execution_count": 180,
   "id": "3b043571-dc29-4309-844e-a19554d9a61e",
   "metadata": {},
   "outputs": [
    {
     "data": {
      "text/plain": [
       "array([0, 1], dtype=int64)"
      ]
     },
     "execution_count": 180,
     "metadata": {},
     "output_type": "execute_result"
    }
   ],
   "source": [
    "df.target.unique()"
   ]
  },
  {
   "cell_type": "code",
   "execution_count": 181,
   "id": "4e802f0a-16f2-4d90-9007-997c92aae015",
   "metadata": {},
   "outputs": [
    {
     "data": {
      "image/png": "[encoded data removed]",
      "text/plain": [
       "<Figure size 640x480 with 1 Axes>"
      ]
     },
     "metadata": {},
     "output_type": "display_data"
    }
   ],
   "source": [
    "sns.scatterplot(x='m', y='d', data=df, hue='target', style='target',s=140)#, palette='Set1') \n",
    "\n",
    "plt.show()"
   ]
  },
  {
   "cell_type": "code",
   "execution_count": 182,
   "id": "4c27164d-75bf-45fd-9723-3d5db9cad714",
   "metadata": {},
   "outputs": [],
   "source": [
    "X = df.drop('target', axis=1)\n",
    "y = df.target"
   ]
  },
  {
   "cell_type": "code",
   "execution_count": 183,
   "id": "35094d0e-1181-4878-b628-8c8e51a8b640",
   "metadata": {},
   "outputs": [],
   "source": [
    "from sklearn.preprocessing import StandardScaler\n",
    "sc = StandardScaler()\n",
    "\n",
    "X_train = sc.fit_transform(X)\n",
    "\n",
    "y_train = y"
   ]
  },
  {
   "cell_type": "code",
   "execution_count": 184,
   "id": "c4635d6f-ef84-4931-b04e-4546329e9642",
   "metadata": {},
   "outputs": [
    {
     "data": {
      "text/html": [
       "<div>\n",
       "<style scoped>\n",
       "    .dataframe tbody tr th:only-of-type {\n",
       "        vertical-align: middle;\n",
       "    }\n",
       "\n",
       "    .dataframe tbody tr th {\n",
       "        vertical-align: top;\n",
       "    }\n",
       "\n",
       "    .dataframe thead th {\n",
       "        text-align: right;\n",
       "    }\n",
       "</style>\n",
       "<table border=\"1\" class=\"dataframe\">\n",
       "  <thead>\n",
       "    <tr style=\"text-align: right;\">\n",
       "      <th></th>\n",
       "      <th>d</th>\n",
       "      <th>m</th>\n",
       "      <th>target</th>\n",
       "    </tr>\n",
       "  </thead>\n",
       "  <tbody>\n",
       "    <tr>\n",
       "      <th>3</th>\n",
       "      <td>-0.736514</td>\n",
       "      <td>-1.398477</td>\n",
       "      <td>0</td>\n",
       "    </tr>\n",
       "    <tr>\n",
       "      <th>7</th>\n",
       "      <td>-0.352246</td>\n",
       "      <td>0.340562</td>\n",
       "      <td>1</td>\n",
       "    </tr>\n",
       "    <tr>\n",
       "      <th>6</th>\n",
       "      <td>0.800559</td>\n",
       "      <td>-0.094198</td>\n",
       "      <td>1</td>\n",
       "    </tr>\n",
       "    <tr>\n",
       "      <th>2</th>\n",
       "      <td>-0.832581</td>\n",
       "      <td>1.101391</td>\n",
       "      <td>0</td>\n",
       "    </tr>\n",
       "    <tr>\n",
       "      <th>10</th>\n",
       "      <td>1.473028</td>\n",
       "      <td>0.775322</td>\n",
       "      <td>0</td>\n",
       "    </tr>\n",
       "    <tr>\n",
       "      <th>4</th>\n",
       "      <td>-0.448313</td>\n",
       "      <td>1.536151</td>\n",
       "      <td>0</td>\n",
       "    </tr>\n",
       "  </tbody>\n",
       "</table>\n",
       "</div>"
      ],
      "text/plain": [
       "           d         m  target\n",
       "3  -0.736514 -1.398477       0\n",
       "7  -0.352246  0.340562       1\n",
       "6   0.800559 -0.094198       1\n",
       "2  -0.832581  1.101391       0\n",
       "10  1.473028  0.775322       0\n",
       "4  -0.448313  1.536151       0"
      ]
     },
     "execution_count": 184,
     "metadata": {},
     "output_type": "execute_result"
    }
   ],
   "source": [
    "df_sc = pd.DataFrame(X_train, columns=['d','m'])\n",
    "df_sc['target'] = y_train\n",
    "df_sc.head(8)\n",
    "df_sc.sample(6,random_state=1)"
   ]
  },
  {
   "cell_type": "code",
   "execution_count": 185,
   "id": "de6c2695-418a-428e-8bb0-0f599fe8bfa4",
   "metadata": {},
   "outputs": [],
   "source": [
    "# df.sample(6,random_state=1)"
   ]
  },
  {
   "cell_type": "code",
   "execution_count": 186,
   "id": "1a8bb93b-a9c6-46c7-bd4d-531322d27e80",
   "metadata": {},
   "outputs": [
    {
     "name": "stdout",
     "output_type": "stream",
     "text": [
      "score: 1.0000\n",
      "actual y:  [0 0 0 0 0 0 1 1 1 1 0 0 0 0 0]\n",
      "predicted: [0 0 0 0 0 0 1 1 1 1 0 0 0 0 0]\n"
     ]
    },
    {
     "name": "stderr",
     "output_type": "stream",
     "text": [
      "C:\\Users\\ASUS\\AppData\\Local\\Packages\\PythonSoftwareFoundation.Python.3.11_qbz5n2kfra8p0\\LocalCache\\local-packages\\Python311\\site-packages\\sklearn\\neural_network\\_multilayer_perceptron.py:690: ConvergenceWarning: Stochastic Optimizer: Maximum iterations (2000) reached and the optimization hasn't converged yet.\n",
      "  warnings.warn(\n"
     ]
    }
   ],
   "source": [
    "from sklearn.neural_network import MLPClassifier\n",
    "\n",
    "#hidden = 100\n",
    "#iter = 2000\n",
    "hidden = 4\n",
    "iter = 2000\n",
    "\n",
    "model = MLPClassifier(hidden_layer_sizes=(hidden), max_iter=iter, random_state=1) \n",
    "\n",
    "model.fit(X_train, y_train)\n",
    "\n",
    "print('score: {:.4f}'.format(model.score(X_train, y_train)))\n",
    "#print('score:', model.score(X_train, y_train).round(4)) \n",
    "print('actual y: ', np.array(y))\n",
    "print('predicted:', model.predict(X_train)) "
   ]
  },
  {
   "cell_type": "code",
   "execution_count": 187,
   "id": "3a611832-996c-402d-aa4e-a07b0971d39e",
   "metadata": {},
   "outputs": [
    {
     "name": "stdout",
     "output_type": "stream",
     "text": [
      "Score -> 1.0000\n",
      "[[11  0]\n",
      " [ 0  4]]\n"
     ]
    }
   ],
   "source": [
    "from sklearn.metrics import classification_report, confusion_matrix\n",
    "\n",
    "y_predict = model.predict(X_train)\n",
    "\n",
    "print('Score -> {:.4f}' . format(model.score(X_train, y_train)))\n",
    "# print(classification_report(y_train, y_predict))\n",
    "print(confusion_matrix(y_train, y_predict))"
   ]
  },
  {
   "cell_type": "code",
   "execution_count": 188,
   "id": "083f5dd4-1656-4d5f-bdd7-bbb8973d1ac4",
   "metadata": {},
   "outputs": [
    {
     "data": {
      "image/png": "[encoded data removed]",
      "text/plain": [
       "<Figure size 450x350 with 1 Axes>"
      ]
     },
     "metadata": {},
     "output_type": "display_data"
    }
   ],
   "source": [
    "from mlxtend.plotting import plot_decision_regions\n",
    "\n",
    "plt.figure(figsize=(4.5, 3.5))\n",
    "plot_decision_regions(X_train, np.array(y_train), clf=model, legend=2) \n",
    "\n",
    "plt.title('MLP: 2 Classes (hidden layer: {})'.format(hidden))\n",
    "plt.xticks([])\n",
    "plt.yticks([])\n",
    "plt.xlabel('m (gram)')\n",
    "plt.ylabel('d (diameter)')\n",
    "\n",
    "plt.show()"
   ]
  },
  {
   "cell_type": "code",
   "execution_count": 189,
   "id": "8cadd015-b8d1-4fbd-862e-e745d06e971b",
   "metadata": {},
   "outputs": [
    {
     "data": {
      "text/plain": [
       "[(2, 4), (4, 1)]"
      ]
     },
     "execution_count": 189,
     "metadata": {},
     "output_type": "execute_result"
    }
   ],
   "source": [
    "[coef.shape for coef in model.coefs_]"
   ]
  },
  {
   "cell_type": "code",
   "execution_count": 190,
   "id": "191ad85a-a2ea-4433-ac50-1b1f80180254",
   "metadata": {},
   "outputs": [
    {
     "data": {
      "image/png": "[encoded data removed]",
      "text/plain": [
       "<Figure size 500x300 with 1 Axes>"
      ]
     },
     "metadata": {},
     "output_type": "display_data"
    }
   ],
   "source": [
    "plt.figure(figsize=(5,3))\n",
    "plt.title('Loss curve')\n",
    "plt.xlabel('Iteration')\n",
    "plt.plot(model.loss_curve_)\n",
    "plt.tight_layout()\n",
    "plt.show()"
   ]
  },
  {
   "cell_type": "markdown",
   "id": "198fe308-b5f1-4c5d-a92d-9d7fec2cbba9",
   "metadata": {},
   "source": [
    "# ws 06 3 cls"
   ]
  },
  {
   "cell_type": "code",
   "execution_count": 191,
   "id": "432a8659-0bd2-48dd-b675-d909632e4f81",
   "metadata": {},
   "outputs": [
    {
     "data": {
      "text/html": [
       "<div>\n",
       "<style scoped>\n",
       "    .dataframe tbody tr th:only-of-type {\n",
       "        vertical-align: middle;\n",
       "    }\n",
       "\n",
       "    .dataframe tbody tr th {\n",
       "        vertical-align: top;\n",
       "    }\n",
       "\n",
       "    .dataframe thead th {\n",
       "        text-align: right;\n",
       "    }\n",
       "</style>\n",
       "<table border=\"1\" class=\"dataframe\">\n",
       "  <thead>\n",
       "    <tr style=\"text-align: right;\">\n",
       "      <th></th>\n",
       "      <th>m</th>\n",
       "      <th>d</th>\n",
       "      <th>target</th>\n",
       "    </tr>\n",
       "  </thead>\n",
       "  <tbody>\n",
       "    <tr>\n",
       "      <th>3</th>\n",
       "      <td>6.6</td>\n",
       "      <td>3.2</td>\n",
       "      <td>0</td>\n",
       "    </tr>\n",
       "    <tr>\n",
       "      <th>7</th>\n",
       "      <td>7.0</td>\n",
       "      <td>4.8</td>\n",
       "      <td>1</td>\n",
       "    </tr>\n",
       "    <tr>\n",
       "      <th>6</th>\n",
       "      <td>8.2</td>\n",
       "      <td>4.4</td>\n",
       "      <td>1</td>\n",
       "    </tr>\n",
       "    <tr>\n",
       "      <th>2</th>\n",
       "      <td>6.5</td>\n",
       "      <td>5.5</td>\n",
       "      <td>0</td>\n",
       "    </tr>\n",
       "    <tr>\n",
       "      <th>10</th>\n",
       "      <td>8.9</td>\n",
       "      <td>5.2</td>\n",
       "      <td>2</td>\n",
       "    </tr>\n",
       "    <tr>\n",
       "      <th>4</th>\n",
       "      <td>6.9</td>\n",
       "      <td>5.9</td>\n",
       "      <td>0</td>\n",
       "    </tr>\n",
       "  </tbody>\n",
       "</table>\n",
       "</div>"
      ],
      "text/plain": [
       "      m    d  target\n",
       "3   6.6  3.2       0\n",
       "7   7.0  4.8       1\n",
       "6   8.2  4.4       1\n",
       "2   6.5  5.5       0\n",
       "10  8.9  5.2       2\n",
       "4   6.9  5.9       0"
      ]
     },
     "execution_count": 191,
     "metadata": {},
     "output_type": "execute_result"
    }
   ],
   "source": [
    "df = pd.read_csv('../datasets/fruit3class.csv')\n",
    "\n",
    "df.sample(7)\n",
    "\n",
    "df.sample(6,random_state=1)"
   ]
  },
  {
   "cell_type": "code",
   "execution_count": 192,
   "id": "4f92c697-4375-44b5-90e8-c7f1e501e3b4",
   "metadata": {},
   "outputs": [
    {
     "data": {
      "image/png": "[encoded data removed]",
      "text/plain": [
       "<Figure size 640x480 with 1 Axes>"
      ]
     },
     "metadata": {},
     "output_type": "display_data"
    }
   ],
   "source": [
    "sns.scatterplot(x='m', y='d', data=df, hue='target', style='target',s=140)#, palette='Set1') \n",
    "\n",
    "plt.show()"
   ]
  },
  {
   "cell_type": "code",
   "execution_count": 193,
   "id": "496f7c62-3b85-476d-86bd-a457d94a4789",
   "metadata": {},
   "outputs": [],
   "source": [
    "X = df.drop('target', axis=1)\n",
    "y = df.target"
   ]
  },
  {
   "cell_type": "code",
   "execution_count": 194,
   "id": "de3a15d2-6107-46d9-b071-18442431c492",
   "metadata": {},
   "outputs": [],
   "source": [
    "from sklearn.preprocessing import StandardScaler\n",
    "sc = StandardScaler()\n",
    "\n",
    "X_train = sc.fit_transform(X)\n",
    "\n",
    "y_train = y"
   ]
  },
  {
   "cell_type": "code",
   "execution_count": 195,
   "id": "a9513414-9772-4bb5-9cd7-1dcf80299219",
   "metadata": {},
   "outputs": [
    {
     "name": "stdout",
     "output_type": "stream",
     "text": [
      "score: 1.0000\n",
      "actual y:  [0 0 0 0 0 0 1 1 1 1 2 2 0 0 0]\n",
      "predicted: [0 0 0 0 0 0 1 1 1 1 2 2 0 0 0]\n"
     ]
    }
   ],
   "source": [
    "from sklearn.neural_network import MLPClassifier\n",
    "\n",
    "#hidden = 100\n",
    "hidden = 30\n",
    "iter = 2500\n",
    "\n",
    "model = MLPClassifier(hidden_layer_sizes=(hidden), max_iter=iter, random_state=1) \n",
    "\n",
    "model.fit(X_train, y_train)\n",
    "\n",
    "print('score: {:.4f}'.format(model.score(X_train, y_train)))\n",
    "#print('score:', model.score(X_train, y_train).round(4)) \n",
    "print('actual y: ', np.array(y))\n",
    "print('predicted:', model.predict(X_train)) "
   ]
  },
  {
   "cell_type": "code",
   "execution_count": 196,
   "id": "a2f6b37e-ab08-409a-8417-06b3cc1ba035",
   "metadata": {},
   "outputs": [],
   "source": [
    "# plot code is the same as above"
   ]
  },
  {
   "cell_type": "code",
   "execution_count": 197,
   "id": "6049e195-4689-4fd6-b9f0-1c4b9817b836",
   "metadata": {},
   "outputs": [
    {
     "data": {
      "image/png": "[encoded data removed]",
      "text/plain": [
       "<Figure size 450x350 with 1 Axes>"
      ]
     },
     "metadata": {},
     "output_type": "display_data"
    }
   ],
   "source": [
    "from mlxtend.plotting import plot_decision_regions\n",
    "\n",
    "plt.figure(figsize=(4.5, 3.5))\n",
    "plot_decision_regions(X_train, np.array(y_train), clf=model, legend=2) \n",
    "\n",
    "plt.title('MLP: 2 Classes (hidden layer: {})'.format(hidden))\n",
    "plt.xticks([])\n",
    "plt.yticks([])\n",
    "plt.xlabel('m (gram)')\n",
    "plt.ylabel('d (diameter)')\n",
    "\n",
    "plt.show()"
   ]
  },
  {
   "cell_type": "markdown",
   "id": "cb3ffd3d-fdcd-43fb-ae0e-6f4bdf6553c8",
   "metadata": {},
   "source": [
    "# Predict"
   ]
  },
  {
   "cell_type": "code",
   "execution_count": 198,
   "id": "c3397b61-6b91-496c-84ad-435d612564c9",
   "metadata": {},
   "outputs": [
    {
     "data": {
      "text/plain": [
       "[[8.4, 5.2], [6.8, 4.2]]"
      ]
     },
     "execution_count": 198,
     "metadata": {},
     "output_type": "execute_result"
    }
   ],
   "source": [
    "X_new = [8.4, 5]\n",
    "X_new = [[8.4, 5.2], \n",
    "         [6.8 , 4.2]]\n",
    "X_new"
   ]
  },
  {
   "cell_type": "code",
   "execution_count": 199,
   "id": "e8155f1f-3c8f-497e-9a49-105caf9deb3e",
   "metadata": {},
   "outputs": [
    {
     "name": "stderr",
     "output_type": "stream",
     "text": [
      "C:\\Users\\ASUS\\AppData\\Local\\Packages\\PythonSoftwareFoundation.Python.3.11_qbz5n2kfra8p0\\LocalCache\\local-packages\\Python311\\site-packages\\sklearn\\base.py:493: UserWarning: X does not have valid feature names, but StandardScaler was fitted with feature names\n",
      "  warnings.warn(\n"
     ]
    },
    {
     "data": {
      "text/plain": [
       "array([[ 0.99269274,  0.77532161],\n",
       "       [-0.54437989, -0.31157784]])"
      ]
     },
     "execution_count": 199,
     "metadata": {},
     "output_type": "execute_result"
    }
   ],
   "source": [
    "X_new_sc = sc.transform(X_new)\n",
    "X_new_sc"
   ]
  },
  {
   "cell_type": "code",
   "execution_count": 200,
   "id": "ca2b3b0d-0955-4549-8f98-c2701efae09e",
   "metadata": {},
   "outputs": [
    {
     "data": {
      "text/plain": [
       "array([2, 1], dtype=int64)"
      ]
     },
     "execution_count": 200,
     "metadata": {},
     "output_type": "execute_result"
    }
   ],
   "source": [
    "model.predict(X_new_sc)"
   ]
  },
  {
   "cell_type": "code",
   "execution_count": 201,
   "id": "035fd296-f0fc-46a3-9dc1-f7f3dc341e7b",
   "metadata": {},
   "outputs": [
    {
     "data": {
      "image/png": "[encoded data removed]",
      "text/plain": [
       "<Figure size 450x350 with 1 Axes>"
      ]
     },
     "metadata": {},
     "output_type": "display_data"
    }
   ],
   "source": [
    "plt.figure(figsize=(4.5, 3.5))\n",
    "plot_decision_regions(X_train, np.array(y_train), clf=model,\n",
    "                      legend=2)\n",
    "\n",
    "plt.title('MLP: Prediction') \n",
    "plt.xticks([])\n",
    "plt.yticks([])\n",
    "plt.xlabel('m (gram)')\n",
    "plt.ylabel('d (diameter)')\n",
    "\n",
    "plt.scatter(X_new_sc[:,0], X_new_sc[:,1], marker='o', s=120, c='r')\n",
    "plt.show()"
   ]
  },
  {
   "cell_type": "code",
   "execution_count": null,
   "id": "4c9bd8ae-12c2-4d02-bffe-8c60a222bfab",
   "metadata": {},
   "outputs": [],
   "source": []
  }
 ],
 "metadata": {
  "kernelspec": {
   "display_name": "Python 3 (ipykernel)",
   "language": "python",
   "name": "python3"
  },
  "language_info": {
   "codemirror_mode": {
    "name": "ipython",
    "version": 3
   },
   "file_extension": ".py",
   "mimetype": "text/x-python",
   "name": "python",
   "nbconvert_exporter": "python",
   "pygments_lexer": "ipython3",
   "version": "3.11.9"
  }
 },
 "nbformat": 4,
 "nbformat_minor": 5
}
