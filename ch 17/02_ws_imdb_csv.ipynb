{
  "cells": [
    {
      "cell_type": "markdown",
      "metadata": {
        "id": "Xkf244BTRIn0"
      },
      "source": [
        "# ws 02 IMDB csv\n",
        "\n",
        "- download csv - https://www.kaggle.com/lakshmi25npathi/imdb-dataset-of-50k-movie-reviews/version/1\n"
      ]
    },
    {
      "cell_type": "code",
      "execution_count": 1,
      "metadata": {
        "colab": {
          "base_uri": "https://localhost:8080/"
        },
        "id": "U-8RnUVzRpOY",
        "outputId": "a3b5b735-4749-4fa0-ff03-595a3cf7a64f"
      },
      "outputs": [
        {
          "output_type": "execute_result",
          "data": {
            "text/plain": [
              "('4.3.3', '1.26.4')"
            ]
          },
          "metadata": {},
          "execution_count": 1
        }
      ],
      "source": [
        "import numpy as np\n",
        "import pandas as pd\n",
        "import gensim\n",
        "'''from keras.preprocessing.text import Tokenizer\n",
        "from keras.preprocessing.sequence import pad_sequences\n",
        "from keras.models import Sequential\n",
        "from keras.layers import Embedding, Bidirectional, GRU, LSTM, Dense'''\n",
        "from tensorflow.keras.preprocessing.text import Tokenizer\n",
        "from tensorflow.keras.preprocessing.sequence import pad_sequences\n",
        "from tensorflow.keras.models import Sequential\n",
        "from tensorflow.keras.layers import Embedding, Bidirectional, GRU, LSTM, Dense\n",
        "\n",
        "gensim.__version__ , np.__version__"
      ]
    },
    {
      "cell_type": "code",
      "execution_count": 2,
      "metadata": {
        "colab": {
          "base_uri": "https://localhost:8080/"
        },
        "id": "s6WLNGHkPeIH",
        "outputId": "665e8dff-f6a0-4c89-bf27-4c04965b7a3d"
      },
      "outputs": [
        {
          "output_type": "stream",
          "name": "stdout",
          "text": [
            "Requirement already satisfied: gensim in /usr/local/lib/python3.11/dist-packages (4.3.3)\n",
            "Requirement already satisfied: numpy<2.0,>=1.18.5 in /usr/local/lib/python3.11/dist-packages (from gensim) (1.26.4)\n",
            "Requirement already satisfied: scipy<1.14.0,>=1.7.0 in /usr/local/lib/python3.11/dist-packages (from gensim) (1.13.1)\n",
            "Requirement already satisfied: smart-open>=1.8.1 in /usr/local/lib/python3.11/dist-packages (from gensim) (7.1.0)\n",
            "Requirement already satisfied: wrapt in /usr/local/lib/python3.11/dist-packages (from smart-open>=1.8.1->gensim) (1.17.2)\n"
          ]
        }
      ],
      "source": [
        "!pip install --upgrade gensim"
      ]
    },
    {
      "cell_type": "markdown",
      "metadata": {
        "id": "1u8B1GRndwp7"
      },
      "source": [
        "## Load pre-trained"
      ]
    },
    {
      "cell_type": "code",
      "execution_count": 3,
      "metadata": {
        "colab": {
          "base_uri": "https://localhost:8080/"
        },
        "id": "w52dzVwAkyA3",
        "outputId": "11784314-3606-4f5d-c053-6ca19b19bea1"
      },
      "outputs": [
        {
          "output_type": "stream",
          "name": "stdout",
          "text": [
            "[==================================================] 100.0% 128.1/128.1MB downloaded\n"
          ]
        },
        {
          "output_type": "execute_result",
          "data": {
            "text/plain": [
              "<gensim.models.keyedvectors.KeyedVectors at 0x7a70aed44890>"
            ]
          },
          "metadata": {},
          "execution_count": 3
        }
      ],
      "source": [
        "import gensim.downloader as api\n",
        "\n",
        "wv = api.load('glove-wiki-gigaword-100')\n",
        "wv"
      ]
    },
    {
      "cell_type": "code",
      "execution_count": 4,
      "metadata": {
        "colab": {
          "base_uri": "https://localhost:8080/"
        },
        "id": "i56eFK59_lBp",
        "outputId": "2b6bf3e9-8d6a-4b2f-9358-890729cd435f"
      },
      "outputs": [
        {
          "output_type": "execute_result",
          "data": {
            "text/plain": [
              "400000"
            ]
          },
          "metadata": {},
          "execution_count": 4
        }
      ],
      "source": [
        "len(wv.index_to_key)"
      ]
    },
    {
      "cell_type": "code",
      "execution_count": 5,
      "metadata": {
        "colab": {
          "base_uri": "https://localhost:8080/"
        },
        "id": "rRRI2NFf_pq6",
        "outputId": "ddc271a0-df4b-4201-ab81-ed01295cc364"
      },
      "outputs": [
        {
          "output_type": "execute_result",
          "data": {
            "text/plain": [
              "100"
            ]
          },
          "metadata": {},
          "execution_count": 5
        }
      ],
      "source": [
        "wv.vector_size"
      ]
    },
    {
      "cell_type": "code",
      "execution_count": 6,
      "metadata": {
        "colab": {
          "base_uri": "https://localhost:8080/"
        },
        "id": "-WqjD2AKlqPp",
        "outputId": "7795c741-33e8-41c2-d2ba-c659f3ca09ad"
      },
      "outputs": [
        {
          "output_type": "execute_result",
          "data": {
            "text/plain": [
              "[('awful', 0.921971321105957),\n",
              " ('terrible', 0.919477105140686),\n",
              " ('horrendous', 0.8366580605506897),\n",
              " ('dreadful', 0.8184822797775269),\n",
              " ('horrific', 0.8176026344299316),\n",
              " ('horrifying', 0.8023055791854858),\n",
              " ('appalling', 0.7695969939231873),\n",
              " ('tragic', 0.7407631874084473),\n",
              " ('disgusting', 0.7368147373199463),\n",
              " ('ugly', 0.7360007762908936)]"
            ]
          },
          "metadata": {},
          "execution_count": 6
        }
      ],
      "source": [
        "wv.similar_by_word('horrible')"
      ]
    },
    {
      "cell_type": "code",
      "execution_count": 7,
      "metadata": {
        "colab": {
          "base_uri": "https://localhost:8080/"
        },
        "id": "a7cRbWIPi3zo",
        "outputId": "9632fdf2-d969-4326-d907-1abf3d1cadfb"
      },
      "outputs": [
        {
          "output_type": "execute_result",
          "data": {
            "text/plain": [
              "[('film', 0.9055121541023254),\n",
              " ('movies', 0.8959327340126038),\n",
              " ('films', 0.866355299949646),\n",
              " ('hollywood', 0.8239826560020447),\n",
              " ('comedy', 0.8141382932662964),\n",
              " ('drama', 0.7655293941497803),\n",
              " ('sequel', 0.7644566893577576),\n",
              " ('starring', 0.7473922967910767),\n",
              " ('remake', 0.7330190539360046),\n",
              " ('shows', 0.716720700263977)]"
            ]
          },
          "metadata": {},
          "execution_count": 7
        }
      ],
      "source": [
        "wv.similar_by_word('movie')"
      ]
    },
    {
      "cell_type": "code",
      "execution_count": 8,
      "metadata": {
        "colab": {
          "base_uri": "https://localhost:8080/"
        },
        "id": "sttMOeGvjVtL",
        "outputId": "e06ad712-6a02-4c6a-a582-2a76dfc9cead"
      },
      "outputs": [
        {
          "output_type": "execute_result",
          "data": {
            "text/plain": [
              "[('shit', 0.6642228364944458),\n",
              " ('fucking', 0.6362317800521851),\n",
              " ('whack', 0.6277898550033569),\n",
              " ('baloney', 0.5797702074050903),\n",
              " ('fuck', 0.5778754353523254),\n",
              " ('heck', 0.5700293779373169),\n",
              " ('damn', 0.5665410161018372),\n",
              " ('craziness', 0.5653018355369568)]"
            ]
          },
          "metadata": {},
          "execution_count": 8
        }
      ],
      "source": [
        "wv.most_similar('crap',topn=8)"
      ]
    },
    {
      "cell_type": "markdown",
      "metadata": {
        "id": "Xqo-XCVv1E_4"
      },
      "source": [
        " Upload CSV"
      ]
    },
    {
      "cell_type": "code",
      "execution_count": 9,
      "metadata": {
        "colab": {
          "base_uri": "https://localhost:8080/",
          "height": 90
        },
        "id": "7tZuPpwqBi2M",
        "outputId": "21d48a26-33b2-4d56-d1d3-d46afedbd076"
      },
      "outputs": [
        {
          "output_type": "display_data",
          "data": {
            "text/plain": [
              "<IPython.core.display.HTML object>"
            ],
            "text/html": [
              "\n",
              "     <input type=\"file\" id=\"files-688b9c43-157b-4a31-886e-d96128a58142\" name=\"files[]\" multiple disabled\n",
              "        style=\"border:none\" />\n",
              "     <output id=\"result-688b9c43-157b-4a31-886e-d96128a58142\">\n",
              "      Upload widget is only available when the cell has been executed in the\n",
              "      current browser session. Please rerun this cell to enable.\n",
              "      </output>\n",
              "      <script>// Copyright 2017 Google LLC\n",
              "//\n",
              "// Licensed under the Apache License, Version 2.0 (the \"License\");\n",
              "// you may not use this file except in compliance with the License.\n",
              "// You may obtain a copy of the License at\n",
              "//\n",
              "//      http://www.apache.org/licenses/LICENSE-2.0\n",
              "//\n",
              "// Unless required by applicable law or agreed to in writing, software\n",
              "// distributed under the License is distributed on an \"AS IS\" BASIS,\n",
              "// WITHOUT WARRANTIES OR CONDITIONS OF ANY KIND, either express or implied.\n",
              "// See the License for the specific language governing permissions and\n",
              "// limitations under the License.\n",
              "\n",
              "/**\n",
              " * @fileoverview Helpers for google.colab Python module.\n",
              " */\n",
              "(function(scope) {\n",
              "function span(text, styleAttributes = {}) {\n",
              "  const element = document.createElement('span');\n",
              "  element.textContent = text;\n",
              "  for (const key of Object.keys(styleAttributes)) {\n",
              "    element.style[key] = styleAttributes[key];\n",
              "  }\n",
              "  return element;\n",
              "}\n",
              "\n",
              "// Max number of bytes which will be uploaded at a time.\n",
              "const MAX_PAYLOAD_SIZE = 100 * 1024;\n",
              "\n",
              "function _uploadFiles(inputId, outputId) {\n",
              "  const steps = uploadFilesStep(inputId, outputId);\n",
              "  const outputElement = document.getElementById(outputId);\n",
              "  // Cache steps on the outputElement to make it available for the next call\n",
              "  // to uploadFilesContinue from Python.\n",
              "  outputElement.steps = steps;\n",
              "\n",
              "  return _uploadFilesContinue(outputId);\n",
              "}\n",
              "\n",
              "// This is roughly an async generator (not supported in the browser yet),\n",
              "// where there are multiple asynchronous steps and the Python side is going\n",
              "// to poll for completion of each step.\n",
              "// This uses a Promise to block the python side on completion of each step,\n",
              "// then passes the result of the previous step as the input to the next step.\n",
              "function _uploadFilesContinue(outputId) {\n",
              "  const outputElement = document.getElementById(outputId);\n",
              "  const steps = outputElement.steps;\n",
              "\n",
              "  const next = steps.next(outputElement.lastPromiseValue);\n",
              "  return Promise.resolve(next.value.promise).then((value) => {\n",
              "    // Cache the last promise value to make it available to the next\n",
              "    // step of the generator.\n",
              "    outputElement.lastPromiseValue = value;\n",
              "    return next.value.response;\n",
              "  });\n",
              "}\n",
              "\n",
              "/**\n",
              " * Generator function which is called between each async step of the upload\n",
              " * process.\n",
              " * @param {string} inputId Element ID of the input file picker element.\n",
              " * @param {string} outputId Element ID of the output display.\n",
              " * @return {!Iterable<!Object>} Iterable of next steps.\n",
              " */\n",
              "function* uploadFilesStep(inputId, outputId) {\n",
              "  const inputElement = document.getElementById(inputId);\n",
              "  inputElement.disabled = false;\n",
              "\n",
              "  const outputElement = document.getElementById(outputId);\n",
              "  outputElement.innerHTML = '';\n",
              "\n",
              "  const pickedPromise = new Promise((resolve) => {\n",
              "    inputElement.addEventListener('change', (e) => {\n",
              "      resolve(e.target.files);\n",
              "    });\n",
              "  });\n",
              "\n",
              "  const cancel = document.createElement('button');\n",
              "  inputElement.parentElement.appendChild(cancel);\n",
              "  cancel.textContent = 'Cancel upload';\n",
              "  const cancelPromise = new Promise((resolve) => {\n",
              "    cancel.onclick = () => {\n",
              "      resolve(null);\n",
              "    };\n",
              "  });\n",
              "\n",
              "  // Wait for the user to pick the files.\n",
              "  const files = yield {\n",
              "    promise: Promise.race([pickedPromise, cancelPromise]),\n",
              "    response: {\n",
              "      action: 'starting',\n",
              "    }\n",
              "  };\n",
              "\n",
              "  cancel.remove();\n",
              "\n",
              "  // Disable the input element since further picks are not allowed.\n",
              "  inputElement.disabled = true;\n",
              "\n",
              "  if (!files) {\n",
              "    return {\n",
              "      response: {\n",
              "        action: 'complete',\n",
              "      }\n",
              "    };\n",
              "  }\n",
              "\n",
              "  for (const file of files) {\n",
              "    const li = document.createElement('li');\n",
              "    li.append(span(file.name, {fontWeight: 'bold'}));\n",
              "    li.append(span(\n",
              "        `(${file.type || 'n/a'}) - ${file.size} bytes, ` +\n",
              "        `last modified: ${\n",
              "            file.lastModifiedDate ? file.lastModifiedDate.toLocaleDateString() :\n",
              "                                    'n/a'} - `));\n",
              "    const percent = span('0% done');\n",
              "    li.appendChild(percent);\n",
              "\n",
              "    outputElement.appendChild(li);\n",
              "\n",
              "    const fileDataPromise = new Promise((resolve) => {\n",
              "      const reader = new FileReader();\n",
              "      reader.onload = (e) => {\n",
              "        resolve(e.target.result);\n",
              "      };\n",
              "      reader.readAsArrayBuffer(file);\n",
              "    });\n",
              "    // Wait for the data to be ready.\n",
              "    let fileData = yield {\n",
              "      promise: fileDataPromise,\n",
              "      response: {\n",
              "        action: 'continue',\n",
              "      }\n",
              "    };\n",
              "\n",
              "    // Use a chunked sending to avoid message size limits. See b/62115660.\n",
              "    let position = 0;\n",
              "    do {\n",
              "      const length = Math.min(fileData.byteLength - position, MAX_PAYLOAD_SIZE);\n",
              "      const chunk = new Uint8Array(fileData, position, length);\n",
              "      position += length;\n",
              "\n",
              "      const base64 = btoa(String.fromCharCode.apply(null, chunk));\n",
              "      yield {\n",
              "        response: {\n",
              "          action: 'append',\n",
              "          file: file.name,\n",
              "          data: base64,\n",
              "        },\n",
              "      };\n",
              "\n",
              "      let percentDone = fileData.byteLength === 0 ?\n",
              "          100 :\n",
              "          Math.round((position / fileData.byteLength) * 100);\n",
              "      percent.textContent = `${percentDone}% done`;\n",
              "\n",
              "    } while (position < fileData.byteLength);\n",
              "  }\n",
              "\n",
              "  // All done.\n",
              "  yield {\n",
              "    response: {\n",
              "      action: 'complete',\n",
              "    }\n",
              "  };\n",
              "}\n",
              "\n",
              "scope.google = scope.google || {};\n",
              "scope.google.colab = scope.google.colab || {};\n",
              "scope.google.colab._files = {\n",
              "  _uploadFiles,\n",
              "  _uploadFilesContinue,\n",
              "};\n",
              "})(self);\n",
              "</script> "
            ]
          },
          "metadata": {}
        },
        {
          "output_type": "stream",
          "name": "stdout",
          "text": [
            "Saving IMDB Dataset.csv to IMDB Dataset.csv\n",
            "'IMDB Dataset.csv'   \u001b[0m\u001b[01;34msample_data\u001b[0m/\n"
          ]
        }
      ],
      "source": [
        "# upload IMDb CSV\n",
        "from google.colab import files\n",
        "\n",
        "uploaded = files.upload()\n",
        "%ls"
      ]
    },
    {
      "cell_type": "code",
      "execution_count": 10,
      "metadata": {
        "id": "-X-1SXr-noTZ",
        "colab": {
          "base_uri": "https://localhost:8080/",
          "height": 206
        },
        "outputId": "82513c06-53c3-4740-e656-54d35290709c"
      },
      "outputs": [
        {
          "output_type": "execute_result",
          "data": {
            "text/plain": [
              "                                              review sentiment\n",
              "0  One of the other reviewers has mentioned that ...  positive\n",
              "1  A wonderful little production. <br /><br />The...  positive\n",
              "2  I thought this was a wonderful way to spend ti...  positive\n",
              "3  Basically there's a family where a little boy ...  negative\n",
              "4  Petter Mattei's \"Love in the Time of Money\" is...  positive"
            ],
            "text/html": [
              "\n",
              "  <div id=\"df-c2b2ddd3-9101-470b-ac02-e6f7e706ad7a\" class=\"colab-df-container\">\n",
              "    <div>\n",
              "<style scoped>\n",
              "    .dataframe tbody tr th:only-of-type {\n",
              "        vertical-align: middle;\n",
              "    }\n",
              "\n",
              "    .dataframe tbody tr th {\n",
              "        vertical-align: top;\n",
              "    }\n",
              "\n",
              "    .dataframe thead th {\n",
              "        text-align: right;\n",
              "    }\n",
              "</style>\n",
              "<table border=\"1\" class=\"dataframe\">\n",
              "  <thead>\n",
              "    <tr style=\"text-align: right;\">\n",
              "      <th></th>\n",
              "      <th>review</th>\n",
              "      <th>sentiment</th>\n",
              "    </tr>\n",
              "  </thead>\n",
              "  <tbody>\n",
              "    <tr>\n",
              "      <th>0</th>\n",
              "      <td>One of the other reviewers has mentioned that ...</td>\n",
              "      <td>positive</td>\n",
              "    </tr>\n",
              "    <tr>\n",
              "      <th>1</th>\n",
              "      <td>A wonderful little production. &lt;br /&gt;&lt;br /&gt;The...</td>\n",
              "      <td>positive</td>\n",
              "    </tr>\n",
              "    <tr>\n",
              "      <th>2</th>\n",
              "      <td>I thought this was a wonderful way to spend ti...</td>\n",
              "      <td>positive</td>\n",
              "    </tr>\n",
              "    <tr>\n",
              "      <th>3</th>\n",
              "      <td>Basically there's a family where a little boy ...</td>\n",
              "      <td>negative</td>\n",
              "    </tr>\n",
              "    <tr>\n",
              "      <th>4</th>\n",
              "      <td>Petter Mattei's \"Love in the Time of Money\" is...</td>\n",
              "      <td>positive</td>\n",
              "    </tr>\n",
              "  </tbody>\n",
              "</table>\n",
              "</div>\n",
              "    <div class=\"colab-df-buttons\">\n",
              "\n",
              "  <div class=\"colab-df-container\">\n",
              "    <button class=\"colab-df-convert\" onclick=\"convertToInteractive('df-c2b2ddd3-9101-470b-ac02-e6f7e706ad7a')\"\n",
              "            title=\"Convert this dataframe to an interactive table.\"\n",
              "            style=\"display:none;\">\n",
              "\n",
              "  <svg xmlns=\"http://www.w3.org/2000/svg\" height=\"24px\" viewBox=\"0 -960 960 960\">\n",
              "    <path d=\"M120-120v-720h720v720H120Zm60-500h600v-160H180v160Zm220 220h160v-160H400v160Zm0 220h160v-160H400v160ZM180-400h160v-160H180v160Zm440 0h160v-160H620v160ZM180-180h160v-160H180v160Zm440 0h160v-160H620v160Z\"/>\n",
              "  </svg>\n",
              "    </button>\n",
              "\n",
              "  <style>\n",
              "    .colab-df-container {\n",
              "      display:flex;\n",
              "      gap: 12px;\n",
              "    }\n",
              "\n",
              "    .colab-df-convert {\n",
              "      background-color: #E8F0FE;\n",
              "      border: none;\n",
              "      border-radius: 50%;\n",
              "      cursor: pointer;\n",
              "      display: none;\n",
              "      fill: #1967D2;\n",
              "      height: 32px;\n",
              "      padding: 0 0 0 0;\n",
              "      width: 32px;\n",
              "    }\n",
              "\n",
              "    .colab-df-convert:hover {\n",
              "      background-color: #E2EBFA;\n",
              "      box-shadow: 0px 1px 2px rgba(60, 64, 67, 0.3), 0px 1px 3px 1px rgba(60, 64, 67, 0.15);\n",
              "      fill: #174EA6;\n",
              "    }\n",
              "\n",
              "    .colab-df-buttons div {\n",
              "      margin-bottom: 4px;\n",
              "    }\n",
              "\n",
              "    [theme=dark] .colab-df-convert {\n",
              "      background-color: #3B4455;\n",
              "      fill: #D2E3FC;\n",
              "    }\n",
              "\n",
              "    [theme=dark] .colab-df-convert:hover {\n",
              "      background-color: #434B5C;\n",
              "      box-shadow: 0px 1px 3px 1px rgba(0, 0, 0, 0.15);\n",
              "      filter: drop-shadow(0px 1px 2px rgba(0, 0, 0, 0.3));\n",
              "      fill: #FFFFFF;\n",
              "    }\n",
              "  </style>\n",
              "\n",
              "    <script>\n",
              "      const buttonEl =\n",
              "        document.querySelector('#df-c2b2ddd3-9101-470b-ac02-e6f7e706ad7a button.colab-df-convert');\n",
              "      buttonEl.style.display =\n",
              "        google.colab.kernel.accessAllowed ? 'block' : 'none';\n",
              "\n",
              "      async function convertToInteractive(key) {\n",
              "        const element = document.querySelector('#df-c2b2ddd3-9101-470b-ac02-e6f7e706ad7a');\n",
              "        const dataTable =\n",
              "          await google.colab.kernel.invokeFunction('convertToInteractive',\n",
              "                                                    [key], {});\n",
              "        if (!dataTable) return;\n",
              "\n",
              "        const docLinkHtml = 'Like what you see? Visit the ' +\n",
              "          '<a target=\"_blank\" href=https://colab.research.google.com/notebooks/data_table.ipynb>data table notebook</a>'\n",
              "          + ' to learn more about interactive tables.';\n",
              "        element.innerHTML = '';\n",
              "        dataTable['output_type'] = 'display_data';\n",
              "        await google.colab.output.renderOutput(dataTable, element);\n",
              "        const docLink = document.createElement('div');\n",
              "        docLink.innerHTML = docLinkHtml;\n",
              "        element.appendChild(docLink);\n",
              "      }\n",
              "    </script>\n",
              "  </div>\n",
              "\n",
              "\n",
              "<div id=\"df-f33851d3-a440-4da0-ae52-92bcdf0617df\">\n",
              "  <button class=\"colab-df-quickchart\" onclick=\"quickchart('df-f33851d3-a440-4da0-ae52-92bcdf0617df')\"\n",
              "            title=\"Suggest charts\"\n",
              "            style=\"display:none;\">\n",
              "\n",
              "<svg xmlns=\"http://www.w3.org/2000/svg\" height=\"24px\"viewBox=\"0 0 24 24\"\n",
              "     width=\"24px\">\n",
              "    <g>\n",
              "        <path d=\"M19 3H5c-1.1 0-2 .9-2 2v14c0 1.1.9 2 2 2h14c1.1 0 2-.9 2-2V5c0-1.1-.9-2-2-2zM9 17H7v-7h2v7zm4 0h-2V7h2v10zm4 0h-2v-4h2v4z\"/>\n",
              "    </g>\n",
              "</svg>\n",
              "  </button>\n",
              "\n",
              "<style>\n",
              "  .colab-df-quickchart {\n",
              "      --bg-color: #E8F0FE;\n",
              "      --fill-color: #1967D2;\n",
              "      --hover-bg-color: #E2EBFA;\n",
              "      --hover-fill-color: #174EA6;\n",
              "      --disabled-fill-color: #AAA;\n",
              "      --disabled-bg-color: #DDD;\n",
              "  }\n",
              "\n",
              "  [theme=dark] .colab-df-quickchart {\n",
              "      --bg-color: #3B4455;\n",
              "      --fill-color: #D2E3FC;\n",
              "      --hover-bg-color: #434B5C;\n",
              "      --hover-fill-color: #FFFFFF;\n",
              "      --disabled-bg-color: #3B4455;\n",
              "      --disabled-fill-color: #666;\n",
              "  }\n",
              "\n",
              "  .colab-df-quickchart {\n",
              "    background-color: var(--bg-color);\n",
              "    border: none;\n",
              "    border-radius: 50%;\n",
              "    cursor: pointer;\n",
              "    display: none;\n",
              "    fill: var(--fill-color);\n",
              "    height: 32px;\n",
              "    padding: 0;\n",
              "    width: 32px;\n",
              "  }\n",
              "\n",
              "  .colab-df-quickchart:hover {\n",
              "    background-color: var(--hover-bg-color);\n",
              "    box-shadow: 0 1px 2px rgba(60, 64, 67, 0.3), 0 1px 3px 1px rgba(60, 64, 67, 0.15);\n",
              "    fill: var(--button-hover-fill-color);\n",
              "  }\n",
              "\n",
              "  .colab-df-quickchart-complete:disabled,\n",
              "  .colab-df-quickchart-complete:disabled:hover {\n",
              "    background-color: var(--disabled-bg-color);\n",
              "    fill: var(--disabled-fill-color);\n",
              "    box-shadow: none;\n",
              "  }\n",
              "\n",
              "  .colab-df-spinner {\n",
              "    border: 2px solid var(--fill-color);\n",
              "    border-color: transparent;\n",
              "    border-bottom-color: var(--fill-color);\n",
              "    animation:\n",
              "      spin 1s steps(1) infinite;\n",
              "  }\n",
              "\n",
              "  @keyframes spin {\n",
              "    0% {\n",
              "      border-color: transparent;\n",
              "      border-bottom-color: var(--fill-color);\n",
              "      border-left-color: var(--fill-color);\n",
              "    }\n",
              "    20% {\n",
              "      border-color: transparent;\n",
              "      border-left-color: var(--fill-color);\n",
              "      border-top-color: var(--fill-color);\n",
              "    }\n",
              "    30% {\n",
              "      border-color: transparent;\n",
              "      border-left-color: var(--fill-color);\n",
              "      border-top-color: var(--fill-color);\n",
              "      border-right-color: var(--fill-color);\n",
              "    }\n",
              "    40% {\n",
              "      border-color: transparent;\n",
              "      border-right-color: var(--fill-color);\n",
              "      border-top-color: var(--fill-color);\n",
              "    }\n",
              "    60% {\n",
              "      border-color: transparent;\n",
              "      border-right-color: var(--fill-color);\n",
              "    }\n",
              "    80% {\n",
              "      border-color: transparent;\n",
              "      border-right-color: var(--fill-color);\n",
              "      border-bottom-color: var(--fill-color);\n",
              "    }\n",
              "    90% {\n",
              "      border-color: transparent;\n",
              "      border-bottom-color: var(--fill-color);\n",
              "    }\n",
              "  }\n",
              "</style>\n",
              "\n",
              "  <script>\n",
              "    async function quickchart(key) {\n",
              "      const quickchartButtonEl =\n",
              "        document.querySelector('#' + key + ' button');\n",
              "      quickchartButtonEl.disabled = true;  // To prevent multiple clicks.\n",
              "      quickchartButtonEl.classList.add('colab-df-spinner');\n",
              "      try {\n",
              "        const charts = await google.colab.kernel.invokeFunction(\n",
              "            'suggestCharts', [key], {});\n",
              "      } catch (error) {\n",
              "        console.error('Error during call to suggestCharts:', error);\n",
              "      }\n",
              "      quickchartButtonEl.classList.remove('colab-df-spinner');\n",
              "      quickchartButtonEl.classList.add('colab-df-quickchart-complete');\n",
              "    }\n",
              "    (() => {\n",
              "      let quickchartButtonEl =\n",
              "        document.querySelector('#df-f33851d3-a440-4da0-ae52-92bcdf0617df button');\n",
              "      quickchartButtonEl.style.display =\n",
              "        google.colab.kernel.accessAllowed ? 'block' : 'none';\n",
              "    })();\n",
              "  </script>\n",
              "</div>\n",
              "\n",
              "    </div>\n",
              "  </div>\n"
            ],
            "application/vnd.google.colaboratory.intrinsic+json": {
              "type": "dataframe",
              "variable_name": "df",
              "summary": "{\n  \"name\": \"df\",\n  \"rows\": 50000,\n  \"fields\": [\n    {\n      \"column\": \"review\",\n      \"properties\": {\n        \"dtype\": \"string\",\n        \"num_unique_values\": 49582,\n        \"samples\": [\n          \"\\\"Soul Plane\\\" is a horrible attempt at comedy that only should appeal people with thick skulls, bloodshot eyes and furry pawns. <br /><br />The plot is not only incoherent but also non-existent, acting is mostly sub sub-par with a gang of highly moronic and dreadful characters thrown in for bad measure, jokes are often spotted miles ahead and almost never even a bit amusing. This movie lacks any structure and is full of racial stereotypes that must have seemed old even in the fifties, the only thing it really has going for it is some pretty ladies, but really, if you want that you can rent something from the \\\"Adult\\\" section. OK?<br /><br />I can hardly see anything here to recommend since you'll probably have a lot a better and productive time chasing rats with a sledgehammer or inventing waterproof teabags or whatever.<br /><br />2/10\",\n          \"Guest from the Future tells a fascinating story of time travel, friendship, battle of good and evil -- all with a small budget, child actors, and few special effects. Something for Spielberg and Lucas to learn from. ;) A sixth-grader Kolya \\\"Nick\\\" Gerasimov finds a time machine in the basement of a decrepit building and travels 100 years into the future. He discovers a near-perfect, utopian society where robots play guitars and write poetry, everyone is kind to each other and people enjoy everything technology has to offer. Alice is the daughter of a prominent scientist who invented a device called Mielophone that allows to read minds of humans and animals. The device can be put to both good and bad use, depending on whose hands it falls into. When two evil space pirates from Saturn who want to rule the universe attempt to steal Mielophone, it falls into the hands of 20th century school boy Nick. With the pirates hot on his tracks, he travels back to his time, followed by the pirates, and Alice. Chaos, confusion and funny situations follow as the luckless pirates try to blend in with the earthlings. Alice enrolls in the same school Nick goes to and demonstrates superhuman abilities in PE class. The catch is, Alice doesn't know what Nick looks like, while the pirates do. Also, the pirates are able to change their appearance and turn literally into anyone. (Hmm, I wonder if this is where James Cameron got the idea for Terminator...) Who gets to Nick -- and Mielophone -- first? Excellent plot, non-stop adventures, and great soundtrack. I wish Hollywood made kid movies like this one...\",\n          \"\\\"National Treasure\\\" (2004) is a thoroughly misguided hodge-podge of plot entanglements that borrow from nearly every cloak and dagger government conspiracy clich\\u00e9 that has ever been written. The film stars Nicholas Cage as Benjamin Franklin Gates (how precious is that, I ask you?); a seemingly normal fellow who, for no other reason than being of a lineage of like-minded misguided fortune hunters, decides to steal a 'national treasure' that has been hidden by the United States founding fathers. After a bit of subtext and background that plays laughably (unintentionally) like Indiana Jones meets The Patriot, the film degenerates into one misguided whimsy after another \\u0096 attempting to create a 'Stanley Goodspeed' regurgitation of Nicholas Cage and launch the whole convoluted mess forward with a series of high octane, but disconnected misadventures.<br /><br />The relevancy and logic to having George Washington and his motley crew of patriots burying a king's ransom someplace on native soil, and then, going through the meticulous plan of leaving clues scattered throughout U.S. currency art work, is something that director Jon Turteltaub never quite gets around to explaining. Couldn't Washington found better usage for such wealth during the start up of the country? Hence, we are left with a mystery built on top of an enigma that is already on shaky ground by the time Ben appoints himself the new custodian of this untold wealth. Ben's intentions are noble \\u0096 if confusing. He's set on protecting the treasure. For who and when?\\u0085your guess is as good as mine.<br /><br />But there are a few problems with Ben's crusade. First up, his friend, Ian Holmes (Sean Bean) decides that he can't wait for Ben to make up his mind about stealing the Declaration of Independence from the National Archives (oh, yeah \\u0096 brilliant idea!). Presumably, the back of that famous document holds the secret answer to the ultimate fortune. So Ian tries to kill Ben. The assassination attempt is, of course, unsuccessful, if overly melodramatic. It also affords Ben the opportunity to pick up, and pick on, the very sultry curator of the archives, Abigail Chase (Diane Kruger). She thinks Ben is clearly a nut \\u0096 at least at the beginning. But true to action/romance form, Abby's resolve melts quicker than you can say, \\\"is that the Hope Diamond?\\\" The film moves into full X-File-ish mode, as the FBI, mistakenly believing that Ben is behind the theft, retaliate in various benign ways that lead to a multi-layering of action sequences reminiscent of Mission Impossible meets The Fugitive. Honestly, don't those guys ever get 'intelligence' information that is correct? In the final analysis, \\\"National Treasure\\\" isn't great film making, so much as it's a patchwork rehash of tired old bits from other movies, woven together from scraps, the likes of which would make IL' Betsy Ross blush.<br /><br />The Buena Vista DVD delivers a far more generous treatment than this film is deserving of. The anamorphic widescreen picture exhibits a very smooth and finely detailed image with very rich colors, natural flesh tones, solid blacks and clean whites. The stylized image is also free of blemishes and digital enhancements. The audio is 5.1 and delivers a nice sonic boom to your side and rear speakers with intensity and realism. Extras include a host of promotional junket material that is rather deep and over the top in its explanation of how and why this film was made. If only, as an audience, we had had more clarification as to why Ben and co. were chasing after an illusive treasure, this might have been one good flick. Extras conclude with the theatrical trailer, audio commentary and deleted scenes. Not for the faint-hearted \\u0096 just the thick-headed.\"\n        ],\n        \"semantic_type\": \"\",\n        \"description\": \"\"\n      }\n    },\n    {\n      \"column\": \"sentiment\",\n      \"properties\": {\n        \"dtype\": \"category\",\n        \"num_unique_values\": 2,\n        \"samples\": [\n          \"negative\",\n          \"positive\"\n        ],\n        \"semantic_type\": \"\",\n        \"description\": \"\"\n      }\n    }\n  ]\n}"
            }
          },
          "metadata": {},
          "execution_count": 10
        }
      ],
      "source": [
        "df = pd.read_csv('IMDB Dataset.csv', encoding='utf-8')\n",
        "df.head()"
      ]
    },
    {
      "cell_type": "code",
      "execution_count": 11,
      "metadata": {
        "colab": {
          "base_uri": "https://localhost:8080/",
          "height": 363
        },
        "id": "ZsHWDnzpqKvw",
        "outputId": "1dd6c30d-6c5e-4625-cf7e-03e7a6e4fab1"
      },
      "outputs": [
        {
          "output_type": "execute_result",
          "data": {
            "text/plain": [
              "                                                  review sentiment  label\n",
              "33312  The (DVD)movie \"The Tempest\", directed by Jack...  negative      0\n",
              "46521  Sam Fuller's excellent PICK UP ON SOUTH STREET...  positive      1\n",
              "28710  Steven Seagal played in many action movies. Mo...  negative      0\n",
              "12980  However closely the movie is to the comics, it...  positive      1\n",
              "22090  I remember seeing the very first trailer for U...  negative      0\n",
              "9378   While I have never been a fan of the original ...  negative      0\n",
              "33883  This movie is awful. At the end of it you will...  negative      0\n",
              "33079  This film is harmless escapist fun. Something ...  positive      1\n",
              "41905  Water shows the plight of Indian widows in the...  negative      0\n",
              "35978  Wow You guys are way too nice!!!Corny,Corny,Co...  negative      0"
            ],
            "text/html": [
              "\n",
              "  <div id=\"df-f662fb6d-8db6-482a-8d06-a9381e132d0b\" class=\"colab-df-container\">\n",
              "    <div>\n",
              "<style scoped>\n",
              "    .dataframe tbody tr th:only-of-type {\n",
              "        vertical-align: middle;\n",
              "    }\n",
              "\n",
              "    .dataframe tbody tr th {\n",
              "        vertical-align: top;\n",
              "    }\n",
              "\n",
              "    .dataframe thead th {\n",
              "        text-align: right;\n",
              "    }\n",
              "</style>\n",
              "<table border=\"1\" class=\"dataframe\">\n",
              "  <thead>\n",
              "    <tr style=\"text-align: right;\">\n",
              "      <th></th>\n",
              "      <th>review</th>\n",
              "      <th>sentiment</th>\n",
              "      <th>label</th>\n",
              "    </tr>\n",
              "  </thead>\n",
              "  <tbody>\n",
              "    <tr>\n",
              "      <th>33312</th>\n",
              "      <td>The (DVD)movie \"The Tempest\", directed by Jack...</td>\n",
              "      <td>negative</td>\n",
              "      <td>0</td>\n",
              "    </tr>\n",
              "    <tr>\n",
              "      <th>46521</th>\n",
              "      <td>Sam Fuller's excellent PICK UP ON SOUTH STREET...</td>\n",
              "      <td>positive</td>\n",
              "      <td>1</td>\n",
              "    </tr>\n",
              "    <tr>\n",
              "      <th>28710</th>\n",
              "      <td>Steven Seagal played in many action movies. Mo...</td>\n",
              "      <td>negative</td>\n",
              "      <td>0</td>\n",
              "    </tr>\n",
              "    <tr>\n",
              "      <th>12980</th>\n",
              "      <td>However closely the movie is to the comics, it...</td>\n",
              "      <td>positive</td>\n",
              "      <td>1</td>\n",
              "    </tr>\n",
              "    <tr>\n",
              "      <th>22090</th>\n",
              "      <td>I remember seeing the very first trailer for U...</td>\n",
              "      <td>negative</td>\n",
              "      <td>0</td>\n",
              "    </tr>\n",
              "    <tr>\n",
              "      <th>9378</th>\n",
              "      <td>While I have never been a fan of the original ...</td>\n",
              "      <td>negative</td>\n",
              "      <td>0</td>\n",
              "    </tr>\n",
              "    <tr>\n",
              "      <th>33883</th>\n",
              "      <td>This movie is awful. At the end of it you will...</td>\n",
              "      <td>negative</td>\n",
              "      <td>0</td>\n",
              "    </tr>\n",
              "    <tr>\n",
              "      <th>33079</th>\n",
              "      <td>This film is harmless escapist fun. Something ...</td>\n",
              "      <td>positive</td>\n",
              "      <td>1</td>\n",
              "    </tr>\n",
              "    <tr>\n",
              "      <th>41905</th>\n",
              "      <td>Water shows the plight of Indian widows in the...</td>\n",
              "      <td>negative</td>\n",
              "      <td>0</td>\n",
              "    </tr>\n",
              "    <tr>\n",
              "      <th>35978</th>\n",
              "      <td>Wow You guys are way too nice!!!Corny,Corny,Co...</td>\n",
              "      <td>negative</td>\n",
              "      <td>0</td>\n",
              "    </tr>\n",
              "  </tbody>\n",
              "</table>\n",
              "</div>\n",
              "    <div class=\"colab-df-buttons\">\n",
              "\n",
              "  <div class=\"colab-df-container\">\n",
              "    <button class=\"colab-df-convert\" onclick=\"convertToInteractive('df-f662fb6d-8db6-482a-8d06-a9381e132d0b')\"\n",
              "            title=\"Convert this dataframe to an interactive table.\"\n",
              "            style=\"display:none;\">\n",
              "\n",
              "  <svg xmlns=\"http://www.w3.org/2000/svg\" height=\"24px\" viewBox=\"0 -960 960 960\">\n",
              "    <path d=\"M120-120v-720h720v720H120Zm60-500h600v-160H180v160Zm220 220h160v-160H400v160Zm0 220h160v-160H400v160ZM180-400h160v-160H180v160Zm440 0h160v-160H620v160ZM180-180h160v-160H180v160Zm440 0h160v-160H620v160Z\"/>\n",
              "  </svg>\n",
              "    </button>\n",
              "\n",
              "  <style>\n",
              "    .colab-df-container {\n",
              "      display:flex;\n",
              "      gap: 12px;\n",
              "    }\n",
              "\n",
              "    .colab-df-convert {\n",
              "      background-color: #E8F0FE;\n",
              "      border: none;\n",
              "      border-radius: 50%;\n",
              "      cursor: pointer;\n",
              "      display: none;\n",
              "      fill: #1967D2;\n",
              "      height: 32px;\n",
              "      padding: 0 0 0 0;\n",
              "      width: 32px;\n",
              "    }\n",
              "\n",
              "    .colab-df-convert:hover {\n",
              "      background-color: #E2EBFA;\n",
              "      box-shadow: 0px 1px 2px rgba(60, 64, 67, 0.3), 0px 1px 3px 1px rgba(60, 64, 67, 0.15);\n",
              "      fill: #174EA6;\n",
              "    }\n",
              "\n",
              "    .colab-df-buttons div {\n",
              "      margin-bottom: 4px;\n",
              "    }\n",
              "\n",
              "    [theme=dark] .colab-df-convert {\n",
              "      background-color: #3B4455;\n",
              "      fill: #D2E3FC;\n",
              "    }\n",
              "\n",
              "    [theme=dark] .colab-df-convert:hover {\n",
              "      background-color: #434B5C;\n",
              "      box-shadow: 0px 1px 3px 1px rgba(0, 0, 0, 0.15);\n",
              "      filter: drop-shadow(0px 1px 2px rgba(0, 0, 0, 0.3));\n",
              "      fill: #FFFFFF;\n",
              "    }\n",
              "  </style>\n",
              "\n",
              "    <script>\n",
              "      const buttonEl =\n",
              "        document.querySelector('#df-f662fb6d-8db6-482a-8d06-a9381e132d0b button.colab-df-convert');\n",
              "      buttonEl.style.display =\n",
              "        google.colab.kernel.accessAllowed ? 'block' : 'none';\n",
              "\n",
              "      async function convertToInteractive(key) {\n",
              "        const element = document.querySelector('#df-f662fb6d-8db6-482a-8d06-a9381e132d0b');\n",
              "        const dataTable =\n",
              "          await google.colab.kernel.invokeFunction('convertToInteractive',\n",
              "                                                    [key], {});\n",
              "        if (!dataTable) return;\n",
              "\n",
              "        const docLinkHtml = 'Like what you see? Visit the ' +\n",
              "          '<a target=\"_blank\" href=https://colab.research.google.com/notebooks/data_table.ipynb>data table notebook</a>'\n",
              "          + ' to learn more about interactive tables.';\n",
              "        element.innerHTML = '';\n",
              "        dataTable['output_type'] = 'display_data';\n",
              "        await google.colab.output.renderOutput(dataTable, element);\n",
              "        const docLink = document.createElement('div');\n",
              "        docLink.innerHTML = docLinkHtml;\n",
              "        element.appendChild(docLink);\n",
              "      }\n",
              "    </script>\n",
              "  </div>\n",
              "\n",
              "\n",
              "<div id=\"df-0435c857-182d-45a5-af58-3d139964f5b9\">\n",
              "  <button class=\"colab-df-quickchart\" onclick=\"quickchart('df-0435c857-182d-45a5-af58-3d139964f5b9')\"\n",
              "            title=\"Suggest charts\"\n",
              "            style=\"display:none;\">\n",
              "\n",
              "<svg xmlns=\"http://www.w3.org/2000/svg\" height=\"24px\"viewBox=\"0 0 24 24\"\n",
              "     width=\"24px\">\n",
              "    <g>\n",
              "        <path d=\"M19 3H5c-1.1 0-2 .9-2 2v14c0 1.1.9 2 2 2h14c1.1 0 2-.9 2-2V5c0-1.1-.9-2-2-2zM9 17H7v-7h2v7zm4 0h-2V7h2v10zm4 0h-2v-4h2v4z\"/>\n",
              "    </g>\n",
              "</svg>\n",
              "  </button>\n",
              "\n",
              "<style>\n",
              "  .colab-df-quickchart {\n",
              "      --bg-color: #E8F0FE;\n",
              "      --fill-color: #1967D2;\n",
              "      --hover-bg-color: #E2EBFA;\n",
              "      --hover-fill-color: #174EA6;\n",
              "      --disabled-fill-color: #AAA;\n",
              "      --disabled-bg-color: #DDD;\n",
              "  }\n",
              "\n",
              "  [theme=dark] .colab-df-quickchart {\n",
              "      --bg-color: #3B4455;\n",
              "      --fill-color: #D2E3FC;\n",
              "      --hover-bg-color: #434B5C;\n",
              "      --hover-fill-color: #FFFFFF;\n",
              "      --disabled-bg-color: #3B4455;\n",
              "      --disabled-fill-color: #666;\n",
              "  }\n",
              "\n",
              "  .colab-df-quickchart {\n",
              "    background-color: var(--bg-color);\n",
              "    border: none;\n",
              "    border-radius: 50%;\n",
              "    cursor: pointer;\n",
              "    display: none;\n",
              "    fill: var(--fill-color);\n",
              "    height: 32px;\n",
              "    padding: 0;\n",
              "    width: 32px;\n",
              "  }\n",
              "\n",
              "  .colab-df-quickchart:hover {\n",
              "    background-color: var(--hover-bg-color);\n",
              "    box-shadow: 0 1px 2px rgba(60, 64, 67, 0.3), 0 1px 3px 1px rgba(60, 64, 67, 0.15);\n",
              "    fill: var(--button-hover-fill-color);\n",
              "  }\n",
              "\n",
              "  .colab-df-quickchart-complete:disabled,\n",
              "  .colab-df-quickchart-complete:disabled:hover {\n",
              "    background-color: var(--disabled-bg-color);\n",
              "    fill: var(--disabled-fill-color);\n",
              "    box-shadow: none;\n",
              "  }\n",
              "\n",
              "  .colab-df-spinner {\n",
              "    border: 2px solid var(--fill-color);\n",
              "    border-color: transparent;\n",
              "    border-bottom-color: var(--fill-color);\n",
              "    animation:\n",
              "      spin 1s steps(1) infinite;\n",
              "  }\n",
              "\n",
              "  @keyframes spin {\n",
              "    0% {\n",
              "      border-color: transparent;\n",
              "      border-bottom-color: var(--fill-color);\n",
              "      border-left-color: var(--fill-color);\n",
              "    }\n",
              "    20% {\n",
              "      border-color: transparent;\n",
              "      border-left-color: var(--fill-color);\n",
              "      border-top-color: var(--fill-color);\n",
              "    }\n",
              "    30% {\n",
              "      border-color: transparent;\n",
              "      border-left-color: var(--fill-color);\n",
              "      border-top-color: var(--fill-color);\n",
              "      border-right-color: var(--fill-color);\n",
              "    }\n",
              "    40% {\n",
              "      border-color: transparent;\n",
              "      border-right-color: var(--fill-color);\n",
              "      border-top-color: var(--fill-color);\n",
              "    }\n",
              "    60% {\n",
              "      border-color: transparent;\n",
              "      border-right-color: var(--fill-color);\n",
              "    }\n",
              "    80% {\n",
              "      border-color: transparent;\n",
              "      border-right-color: var(--fill-color);\n",
              "      border-bottom-color: var(--fill-color);\n",
              "    }\n",
              "    90% {\n",
              "      border-color: transparent;\n",
              "      border-bottom-color: var(--fill-color);\n",
              "    }\n",
              "  }\n",
              "</style>\n",
              "\n",
              "  <script>\n",
              "    async function quickchart(key) {\n",
              "      const quickchartButtonEl =\n",
              "        document.querySelector('#' + key + ' button');\n",
              "      quickchartButtonEl.disabled = true;  // To prevent multiple clicks.\n",
              "      quickchartButtonEl.classList.add('colab-df-spinner');\n",
              "      try {\n",
              "        const charts = await google.colab.kernel.invokeFunction(\n",
              "            'suggestCharts', [key], {});\n",
              "      } catch (error) {\n",
              "        console.error('Error during call to suggestCharts:', error);\n",
              "      }\n",
              "      quickchartButtonEl.classList.remove('colab-df-spinner');\n",
              "      quickchartButtonEl.classList.add('colab-df-quickchart-complete');\n",
              "    }\n",
              "    (() => {\n",
              "      let quickchartButtonEl =\n",
              "        document.querySelector('#df-0435c857-182d-45a5-af58-3d139964f5b9 button');\n",
              "      quickchartButtonEl.style.display =\n",
              "        google.colab.kernel.accessAllowed ? 'block' : 'none';\n",
              "    })();\n",
              "  </script>\n",
              "</div>\n",
              "\n",
              "    </div>\n",
              "  </div>\n"
            ],
            "application/vnd.google.colaboratory.intrinsic+json": {
              "type": "dataframe",
              "summary": "{\n  \"name\": \"df\",\n  \"rows\": 10,\n  \"fields\": [\n    {\n      \"column\": \"review\",\n      \"properties\": {\n        \"dtype\": \"string\",\n        \"num_unique_values\": 10,\n        \"samples\": [\n          \"Water shows the plight of Indian widows in the late 1930s, says in the end that the problem still exists largely by giving statistics in the end, refers to Gandhi several times in the movie before finally having a scene depicting him and does nothing extra ordinarily innovative or new in the movie. Yes, the cinematography is pretty impressive but that cannot be the soul of any movie for me. <br /><br />India has had several problems like many other nations but it has got rid of many of these problems at large. What if a movie is made on racism in America in a particular year which ends with 'x number of Americans still experience racism today'. <br /><br />a) How would it be relevant, and, b) How would it be some thing so extra ordinary being depicted in cinema.<br /><br />A view I read from a Deepa Mehta interview was that this movie is being interpreted as a voice for the marginalised every where. From reviews I read every where, the common thing I am hearing is how the director did a great job and was brave in bringing a problem to the world. The movie is more about a specific problem a society faced (and has got rid of through reforms at large). <br /><br />I do not see any thing earth shattering about the movie. Moreover, the movie lacked soul and shifted between the plots of Chuiyya and Kalyani. Sarala, the young Sri Lankan actress, portrayed the role of Chuiyya superbly and that was the only thing which impressed me about the movie, sadly.\",\n          \"Sam Fuller's excellent PICK UP ON SOUTH STREET is the pick of the bunch from a number of early 50's Cold War-influenced low-budget noir vehicles. With a running length of under 80 minutes, PICK UP ON SOUTH STREET is tough, gritty, explosive and endlessly entertaining.<br /><br />Widmark stars as pickpocket Skip McCoy, who has already been picked up three times. Yet McCoy can't keep his wandering fingers out of trouble- and trouble is exactly what he slides into when he grifts the wallet of gangster's moll Candy (Jean Peters). Candy's wallet contains a roll of microfilm invaluable to the Communist movement, and it's her last job for ex-boyfriend Richard Kiley to make the delivery. However, when Widmark lifts it, Peters must do whatever it takes to re-claim the film she (initially) knows nothing about.<br /><br />It's a tasty set-up, with Widmark's character, while not the psycho of KISS OF DEATH, a real live-wire, unpredictable and tough, yet curiously charming.When Bogart or Mitchum stepped into a film noir role you knew what you were going to get: a lone anti-hero maintaining his moral integrity and winning out in the end (Bogart), or an overly-laconic guy who allows himself to be drawn into a trap (Mitchum). With Widmark you just don't know what you are going to get, and with his incredibly modern acting style (his films always hold up well) he is amazing to watch. Here he is torn between making a big score for himself by selling the film, or handing it over to the police and fighting the \\\"Commies\\\" on the right side of the law. And he still has to pretend he never pickpocketed Peters to avoid the fatal fourth rap on his sheet.<br /><br />Peters gets her best role as the moll-with-a-heart-of-gold Candy. Widmark's unpredictability is perhaps best expressed in his scenes with Peters; the gorgeous tramp quickly (and rather unbelievably- the romance angle is rather rushed)falls under Widmark's spell, yet Widmark alternates between kissing her or slapping her around. Peters hard-edged beauty, yet lack of over-lacquered Hollywood glamour (Lana Turner would never have worked well in this role), is a major asset to the film. Candy is not innocent, yet she's very vulnerable, constantly being passed between and slapped around by men. Widmark knocks her cold on first meeting and wakes her by pouring beer over her face, yet by the final act he's a lot more tender to her (after she cops one hell of a going-over from Kiley). The scene in the hospital with Peters and Widmark shouldn't work, but it does.<br /><br />Thelma Ritter is brilliant as stoolie Moe, well-deserving of her Oscar nomination. Ritter's performance, like everything else in the film, is gritty, real and heartbreakingly honest. Her death scene is stunning. Fuller's camera movements and location settings are particularly interesting. Fuller loved a good close-up, and PICK UP ON SOUTH STREET is full of uncomfortable, cloistering tight shots that only enhance the tension of the plot. Fuller isn't afraid to let the camera linger on a shot for longer than standard Old-Hollywood really allowed, yet stunningly pulls away from Ritter's death scene to give the audience maximum impact. The urban locales and unusual, confronting camera angles give PICK UP ON SOUTH STREET, a bold, uncompromisingly modern look.<br /><br />10/10.\",\n          \"While I have never been a fan of the original Scooby-Doo (due to its horrid production values), it appears like Shakespeare compared to this pile of crap brought to us by Hanna-Barbera! Without a doubt, Scrappy-Doo is about the most annoying and awful character created for children (and this includes the Teletubbies as well as Tommy the Tapeworm). Whose bright idea was it to create some sort of short mutant dog and enable it to speak and then saddle the Scooby-Doo characters with it?! Whoever it is deserves to die or watch this show (I think death is preferable). The bottom line is that the little dog is simply unfunny, annoying and grates on the nerves--and this is only in the BETTER episodes!! After many years, it would have been better to just end the franchise than create this mess! I can see why in the live-action Scooby-Doo movie they made the villain Scrappy-Doo--since practically everyone hates him!\"\n        ],\n        \"semantic_type\": \"\",\n        \"description\": \"\"\n      }\n    },\n    {\n      \"column\": \"sentiment\",\n      \"properties\": {\n        \"dtype\": \"category\",\n        \"num_unique_values\": 2,\n        \"samples\": [\n          \"positive\",\n          \"negative\"\n        ],\n        \"semantic_type\": \"\",\n        \"description\": \"\"\n      }\n    },\n    {\n      \"column\": \"label\",\n      \"properties\": {\n        \"dtype\": \"number\",\n        \"std\": 0,\n        \"min\": 0,\n        \"max\": 1,\n        \"num_unique_values\": 2,\n        \"samples\": [\n          1,\n          0\n        ],\n        \"semantic_type\": \"\",\n        \"description\": \"\"\n      }\n    }\n  ]\n}"
            }
          },
          "metadata": {},
          "execution_count": 11
        }
      ],
      "source": [
        "df['label'] = np.where(df.sentiment == 'positive', 1, 0)\n",
        "df.sample(10)"
      ]
    },
    {
      "cell_type": "markdown",
      "metadata": {
        "id": "G9_gH3qDbMKb"
      },
      "source": [
        " Preprocess and Tokenizer"
      ]
    },
    {
      "cell_type": "code",
      "execution_count": 12,
      "metadata": {
        "id": "xYxh1-lnBzbc"
      },
      "outputs": [],
      "source": [
        "df['review2'] = df.review.str.lower()"
      ]
    },
    {
      "cell_type": "code",
      "execution_count": 13,
      "metadata": {
        "colab": {
          "base_uri": "https://localhost:8080/",
          "height": 175
        },
        "id": "aJJmPzdvMje4",
        "outputId": "fdf1eb60-c8f8-4e02-9f7a-3b8f42a0a2f1"
      },
      "outputs": [
        {
          "output_type": "execute_result",
          "data": {
            "text/plain": [
              "                                                  review sentiment  label  \\\n",
              "1      A wonderful little production. <br /><br />The...  positive      1   \n",
              "25319  WE FAW DOWN <br /><br />Aspect ratio: 1.33:1<b...  negative      0   \n",
              "19574  <br /><br />The play has been heavily edited a...  negative      0   \n",
              "49804  ***May Contain Spoilers*** OK, it wasn't exact...  positive      1   \n",
              "\n",
              "                                                 review2  \n",
              "1      a wonderful little production. <br /><br />the...  \n",
              "25319  we faw down <br /><br />aspect ratio: 1.33:1<b...  \n",
              "19574  <br /><br />the play has been heavily edited a...  \n",
              "49804  ***may contain spoilers*** ok, it wasn't exact...  "
            ],
            "text/html": [
              "\n",
              "  <div id=\"df-44bf714a-42a7-45ad-923b-bb9a6f205622\" class=\"colab-df-container\">\n",
              "    <div>\n",
              "<style scoped>\n",
              "    .dataframe tbody tr th:only-of-type {\n",
              "        vertical-align: middle;\n",
              "    }\n",
              "\n",
              "    .dataframe tbody tr th {\n",
              "        vertical-align: top;\n",
              "    }\n",
              "\n",
              "    .dataframe thead th {\n",
              "        text-align: right;\n",
              "    }\n",
              "</style>\n",
              "<table border=\"1\" class=\"dataframe\">\n",
              "  <thead>\n",
              "    <tr style=\"text-align: right;\">\n",
              "      <th></th>\n",
              "      <th>review</th>\n",
              "      <th>sentiment</th>\n",
              "      <th>label</th>\n",
              "      <th>review2</th>\n",
              "    </tr>\n",
              "  </thead>\n",
              "  <tbody>\n",
              "    <tr>\n",
              "      <th>1</th>\n",
              "      <td>A wonderful little production. &lt;br /&gt;&lt;br /&gt;The...</td>\n",
              "      <td>positive</td>\n",
              "      <td>1</td>\n",
              "      <td>a wonderful little production. &lt;br /&gt;&lt;br /&gt;the...</td>\n",
              "    </tr>\n",
              "    <tr>\n",
              "      <th>25319</th>\n",
              "      <td>WE FAW DOWN &lt;br /&gt;&lt;br /&gt;Aspect ratio: 1.33:1&lt;b...</td>\n",
              "      <td>negative</td>\n",
              "      <td>0</td>\n",
              "      <td>we faw down &lt;br /&gt;&lt;br /&gt;aspect ratio: 1.33:1&lt;b...</td>\n",
              "    </tr>\n",
              "    <tr>\n",
              "      <th>19574</th>\n",
              "      <td>&lt;br /&gt;&lt;br /&gt;The play has been heavily edited a...</td>\n",
              "      <td>negative</td>\n",
              "      <td>0</td>\n",
              "      <td>&lt;br /&gt;&lt;br /&gt;the play has been heavily edited a...</td>\n",
              "    </tr>\n",
              "    <tr>\n",
              "      <th>49804</th>\n",
              "      <td>***May Contain Spoilers*** OK, it wasn't exact...</td>\n",
              "      <td>positive</td>\n",
              "      <td>1</td>\n",
              "      <td>***may contain spoilers*** ok, it wasn't exact...</td>\n",
              "    </tr>\n",
              "  </tbody>\n",
              "</table>\n",
              "</div>\n",
              "    <div class=\"colab-df-buttons\">\n",
              "\n",
              "  <div class=\"colab-df-container\">\n",
              "    <button class=\"colab-df-convert\" onclick=\"convertToInteractive('df-44bf714a-42a7-45ad-923b-bb9a6f205622')\"\n",
              "            title=\"Convert this dataframe to an interactive table.\"\n",
              "            style=\"display:none;\">\n",
              "\n",
              "  <svg xmlns=\"http://www.w3.org/2000/svg\" height=\"24px\" viewBox=\"0 -960 960 960\">\n",
              "    <path d=\"M120-120v-720h720v720H120Zm60-500h600v-160H180v160Zm220 220h160v-160H400v160Zm0 220h160v-160H400v160ZM180-400h160v-160H180v160Zm440 0h160v-160H620v160ZM180-180h160v-160H180v160Zm440 0h160v-160H620v160Z\"/>\n",
              "  </svg>\n",
              "    </button>\n",
              "\n",
              "  <style>\n",
              "    .colab-df-container {\n",
              "      display:flex;\n",
              "      gap: 12px;\n",
              "    }\n",
              "\n",
              "    .colab-df-convert {\n",
              "      background-color: #E8F0FE;\n",
              "      border: none;\n",
              "      border-radius: 50%;\n",
              "      cursor: pointer;\n",
              "      display: none;\n",
              "      fill: #1967D2;\n",
              "      height: 32px;\n",
              "      padding: 0 0 0 0;\n",
              "      width: 32px;\n",
              "    }\n",
              "\n",
              "    .colab-df-convert:hover {\n",
              "      background-color: #E2EBFA;\n",
              "      box-shadow: 0px 1px 2px rgba(60, 64, 67, 0.3), 0px 1px 3px 1px rgba(60, 64, 67, 0.15);\n",
              "      fill: #174EA6;\n",
              "    }\n",
              "\n",
              "    .colab-df-buttons div {\n",
              "      margin-bottom: 4px;\n",
              "    }\n",
              "\n",
              "    [theme=dark] .colab-df-convert {\n",
              "      background-color: #3B4455;\n",
              "      fill: #D2E3FC;\n",
              "    }\n",
              "\n",
              "    [theme=dark] .colab-df-convert:hover {\n",
              "      background-color: #434B5C;\n",
              "      box-shadow: 0px 1px 3px 1px rgba(0, 0, 0, 0.15);\n",
              "      filter: drop-shadow(0px 1px 2px rgba(0, 0, 0, 0.3));\n",
              "      fill: #FFFFFF;\n",
              "    }\n",
              "  </style>\n",
              "\n",
              "    <script>\n",
              "      const buttonEl =\n",
              "        document.querySelector('#df-44bf714a-42a7-45ad-923b-bb9a6f205622 button.colab-df-convert');\n",
              "      buttonEl.style.display =\n",
              "        google.colab.kernel.accessAllowed ? 'block' : 'none';\n",
              "\n",
              "      async function convertToInteractive(key) {\n",
              "        const element = document.querySelector('#df-44bf714a-42a7-45ad-923b-bb9a6f205622');\n",
              "        const dataTable =\n",
              "          await google.colab.kernel.invokeFunction('convertToInteractive',\n",
              "                                                    [key], {});\n",
              "        if (!dataTable) return;\n",
              "\n",
              "        const docLinkHtml = 'Like what you see? Visit the ' +\n",
              "          '<a target=\"_blank\" href=https://colab.research.google.com/notebooks/data_table.ipynb>data table notebook</a>'\n",
              "          + ' to learn more about interactive tables.';\n",
              "        element.innerHTML = '';\n",
              "        dataTable['output_type'] = 'display_data';\n",
              "        await google.colab.output.renderOutput(dataTable, element);\n",
              "        const docLink = document.createElement('div');\n",
              "        docLink.innerHTML = docLinkHtml;\n",
              "        element.appendChild(docLink);\n",
              "      }\n",
              "    </script>\n",
              "  </div>\n",
              "\n",
              "\n",
              "<div id=\"df-11c37fd2-84e0-4f30-b8c0-9e97606c6c39\">\n",
              "  <button class=\"colab-df-quickchart\" onclick=\"quickchart('df-11c37fd2-84e0-4f30-b8c0-9e97606c6c39')\"\n",
              "            title=\"Suggest charts\"\n",
              "            style=\"display:none;\">\n",
              "\n",
              "<svg xmlns=\"http://www.w3.org/2000/svg\" height=\"24px\"viewBox=\"0 0 24 24\"\n",
              "     width=\"24px\">\n",
              "    <g>\n",
              "        <path d=\"M19 3H5c-1.1 0-2 .9-2 2v14c0 1.1.9 2 2 2h14c1.1 0 2-.9 2-2V5c0-1.1-.9-2-2-2zM9 17H7v-7h2v7zm4 0h-2V7h2v10zm4 0h-2v-4h2v4z\"/>\n",
              "    </g>\n",
              "</svg>\n",
              "  </button>\n",
              "\n",
              "<style>\n",
              "  .colab-df-quickchart {\n",
              "      --bg-color: #E8F0FE;\n",
              "      --fill-color: #1967D2;\n",
              "      --hover-bg-color: #E2EBFA;\n",
              "      --hover-fill-color: #174EA6;\n",
              "      --disabled-fill-color: #AAA;\n",
              "      --disabled-bg-color: #DDD;\n",
              "  }\n",
              "\n",
              "  [theme=dark] .colab-df-quickchart {\n",
              "      --bg-color: #3B4455;\n",
              "      --fill-color: #D2E3FC;\n",
              "      --hover-bg-color: #434B5C;\n",
              "      --hover-fill-color: #FFFFFF;\n",
              "      --disabled-bg-color: #3B4455;\n",
              "      --disabled-fill-color: #666;\n",
              "  }\n",
              "\n",
              "  .colab-df-quickchart {\n",
              "    background-color: var(--bg-color);\n",
              "    border: none;\n",
              "    border-radius: 50%;\n",
              "    cursor: pointer;\n",
              "    display: none;\n",
              "    fill: var(--fill-color);\n",
              "    height: 32px;\n",
              "    padding: 0;\n",
              "    width: 32px;\n",
              "  }\n",
              "\n",
              "  .colab-df-quickchart:hover {\n",
              "    background-color: var(--hover-bg-color);\n",
              "    box-shadow: 0 1px 2px rgba(60, 64, 67, 0.3), 0 1px 3px 1px rgba(60, 64, 67, 0.15);\n",
              "    fill: var(--button-hover-fill-color);\n",
              "  }\n",
              "\n",
              "  .colab-df-quickchart-complete:disabled,\n",
              "  .colab-df-quickchart-complete:disabled:hover {\n",
              "    background-color: var(--disabled-bg-color);\n",
              "    fill: var(--disabled-fill-color);\n",
              "    box-shadow: none;\n",
              "  }\n",
              "\n",
              "  .colab-df-spinner {\n",
              "    border: 2px solid var(--fill-color);\n",
              "    border-color: transparent;\n",
              "    border-bottom-color: var(--fill-color);\n",
              "    animation:\n",
              "      spin 1s steps(1) infinite;\n",
              "  }\n",
              "\n",
              "  @keyframes spin {\n",
              "    0% {\n",
              "      border-color: transparent;\n",
              "      border-bottom-color: var(--fill-color);\n",
              "      border-left-color: var(--fill-color);\n",
              "    }\n",
              "    20% {\n",
              "      border-color: transparent;\n",
              "      border-left-color: var(--fill-color);\n",
              "      border-top-color: var(--fill-color);\n",
              "    }\n",
              "    30% {\n",
              "      border-color: transparent;\n",
              "      border-left-color: var(--fill-color);\n",
              "      border-top-color: var(--fill-color);\n",
              "      border-right-color: var(--fill-color);\n",
              "    }\n",
              "    40% {\n",
              "      border-color: transparent;\n",
              "      border-right-color: var(--fill-color);\n",
              "      border-top-color: var(--fill-color);\n",
              "    }\n",
              "    60% {\n",
              "      border-color: transparent;\n",
              "      border-right-color: var(--fill-color);\n",
              "    }\n",
              "    80% {\n",
              "      border-color: transparent;\n",
              "      border-right-color: var(--fill-color);\n",
              "      border-bottom-color: var(--fill-color);\n",
              "    }\n",
              "    90% {\n",
              "      border-color: transparent;\n",
              "      border-bottom-color: var(--fill-color);\n",
              "    }\n",
              "  }\n",
              "</style>\n",
              "\n",
              "  <script>\n",
              "    async function quickchart(key) {\n",
              "      const quickchartButtonEl =\n",
              "        document.querySelector('#' + key + ' button');\n",
              "      quickchartButtonEl.disabled = true;  // To prevent multiple clicks.\n",
              "      quickchartButtonEl.classList.add('colab-df-spinner');\n",
              "      try {\n",
              "        const charts = await google.colab.kernel.invokeFunction(\n",
              "            'suggestCharts', [key], {});\n",
              "      } catch (error) {\n",
              "        console.error('Error during call to suggestCharts:', error);\n",
              "      }\n",
              "      quickchartButtonEl.classList.remove('colab-df-spinner');\n",
              "      quickchartButtonEl.classList.add('colab-df-quickchart-complete');\n",
              "    }\n",
              "    (() => {\n",
              "      let quickchartButtonEl =\n",
              "        document.querySelector('#df-11c37fd2-84e0-4f30-b8c0-9e97606c6c39 button');\n",
              "      quickchartButtonEl.style.display =\n",
              "        google.colab.kernel.accessAllowed ? 'block' : 'none';\n",
              "    })();\n",
              "  </script>\n",
              "</div>\n",
              "\n",
              "    </div>\n",
              "  </div>\n"
            ],
            "application/vnd.google.colaboratory.intrinsic+json": {
              "type": "dataframe",
              "summary": "{\n  \"name\": \"df\",\n  \"rows\": 4,\n  \"fields\": [\n    {\n      \"column\": \"review\",\n      \"properties\": {\n        \"dtype\": \"string\",\n        \"num_unique_values\": 4,\n        \"samples\": [\n          \"WE FAW DOWN <br /><br />Aspect ratio: 1.33:1<br /><br />Sound format: Silent<br /><br />(Black and white - Short film)<br /><br />Stan 'n' Ollie get mixed up with a couple of floozies (Kay Deslys and Vera White) after setting out to visit a theatre which burns down in their absence! Needless to say, their tyrannical wives (Vivien Oakland and Bess Flowers) are not amused...<br /><br />Leo McCarey's OK comedy laid the narrative framework for William Seiter's masterpiece SONS OF THE DESERT (1934), with L&H playing brow-beaten victims of circumstance, forced to tell a monstrous lie which backfires in spectacular fashion. Much of it is very funny, especially the scene in which Stan is teased by Deslys, leading to a violent game of push and shove. However, some of the fun is undercut by Oakland and Flowers, playing their roles completely straight, which adds an element of unpleasantness to the 'henpecked husband' scenario. Originally released in the UK as WE SLIP UP.\",\n          \"***May Contain Spoilers*** OK, it wasn't exactly as good as expected in fact it was a lot different than I had thought it would be but it still turned out to be a pretty good movie.<br /><br />I usually don't care too much for that type of music but in this movie it worked perfectly (I mean duh he's a rock star) but anyway I loved Stuart Townsend in this, and Aaliyah, although she had a small part in the movie was amazing.<br /><br />And even though Tom Cruise played Lestat in the Interview with a Vampire, I have to admit that I am glad he turned down the role even though I normally hate when they use different people to play the same characters in like sequels and stuff.<br /><br />Overall, the movie was great and I enjoyed watching it, even if there were parts that could have been better. Great vampire movie.\",\n          \"A wonderful little production. <br /><br />The filming technique is very unassuming- very old-time-BBC fashion and gives a comforting, and sometimes discomforting, sense of realism to the entire piece. <br /><br />The actors are extremely well chosen- Michael Sheen not only \\\"has got all the polari\\\" but he has all the voices down pat too! You can truly see the seamless editing guided by the references to Williams' diary entries, not only is it well worth the watching but it is a terrificly written and performed piece. A masterful production about one of the great master's of comedy and his life. <br /><br />The realism really comes home with the little things: the fantasy of the guard which, rather than use the traditional 'dream' techniques remains solid then disappears. It plays on our knowledge and our senses, particularly with the scenes concerning Orton and Halliwell and the sets (particularly of their flat with Halliwell's murals decorating every surface) are terribly well done.\"\n        ],\n        \"semantic_type\": \"\",\n        \"description\": \"\"\n      }\n    },\n    {\n      \"column\": \"sentiment\",\n      \"properties\": {\n        \"dtype\": \"string\",\n        \"num_unique_values\": 2,\n        \"samples\": [\n          \"negative\",\n          \"positive\"\n        ],\n        \"semantic_type\": \"\",\n        \"description\": \"\"\n      }\n    },\n    {\n      \"column\": \"label\",\n      \"properties\": {\n        \"dtype\": \"number\",\n        \"std\": 0,\n        \"min\": 0,\n        \"max\": 1,\n        \"num_unique_values\": 2,\n        \"samples\": [\n          0,\n          1\n        ],\n        \"semantic_type\": \"\",\n        \"description\": \"\"\n      }\n    },\n    {\n      \"column\": \"review2\",\n      \"properties\": {\n        \"dtype\": \"string\",\n        \"num_unique_values\": 4,\n        \"samples\": [\n          \"we faw down <br /><br />aspect ratio: 1.33:1<br /><br />sound format: silent<br /><br />(black and white - short film)<br /><br />stan 'n' ollie get mixed up with a couple of floozies (kay deslys and vera white) after setting out to visit a theatre which burns down in their absence! needless to say, their tyrannical wives (vivien oakland and bess flowers) are not amused...<br /><br />leo mccarey's ok comedy laid the narrative framework for william seiter's masterpiece sons of the desert (1934), with l&h playing brow-beaten victims of circumstance, forced to tell a monstrous lie which backfires in spectacular fashion. much of it is very funny, especially the scene in which stan is teased by deslys, leading to a violent game of push and shove. however, some of the fun is undercut by oakland and flowers, playing their roles completely straight, which adds an element of unpleasantness to the 'henpecked husband' scenario. originally released in the uk as we slip up.\",\n          \"***may contain spoilers*** ok, it wasn't exactly as good as expected in fact it was a lot different than i had thought it would be but it still turned out to be a pretty good movie.<br /><br />i usually don't care too much for that type of music but in this movie it worked perfectly (i mean duh he's a rock star) but anyway i loved stuart townsend in this, and aaliyah, although she had a small part in the movie was amazing.<br /><br />and even though tom cruise played lestat in the interview with a vampire, i have to admit that i am glad he turned down the role even though i normally hate when they use different people to play the same characters in like sequels and stuff.<br /><br />overall, the movie was great and i enjoyed watching it, even if there were parts that could have been better. great vampire movie.\"\n        ],\n        \"semantic_type\": \"\",\n        \"description\": \"\"\n      }\n    }\n  ]\n}"
            }
          },
          "metadata": {},
          "execution_count": 13
        }
      ],
      "source": [
        "df.iloc[[1,25319,19574,49804]]"
      ]
    },
    {
      "cell_type": "code",
      "execution_count": 14,
      "metadata": {
        "id": "04ua24CGHDQi"
      },
      "outputs": [],
      "source": [
        "# !pip install beautifulsoup4\n",
        "from bs4 import BeautifulSoup\n",
        "\n",
        "def remove_tag(x):\n",
        "    soup = BeautifulSoup(x)\n",
        "    return soup.get_text()\n",
        "\n",
        "df['review2'] = df.review2.apply(remove_tag)"
      ]
    },
    {
      "cell_type": "code",
      "execution_count": 15,
      "metadata": {
        "id": "BFuSUQQv-m6Z"
      },
      "outputs": [],
      "source": [
        "from gensim.parsing.preprocessing import remove_stopwords\n",
        "df['review2'] = df.review2.apply(remove_stopwords) #"
      ]
    },
    {
      "cell_type": "code",
      "execution_count": 16,
      "metadata": {
        "id": "RAhUgibsqKf2"
      },
      "outputs": [],
      "source": [
        "tk = Tokenizer() #\n",
        "\n",
        "tk.fit_on_texts(df.review2)"
      ]
    },
    {
      "cell_type": "code",
      "execution_count": 17,
      "metadata": {
        "id": "haO4edKJ8l5p",
        "colab": {
          "base_uri": "https://localhost:8080/"
        },
        "outputId": "5a627a57-c195-4882-efa5-b3e02cf468c9"
      },
      "outputs": [
        {
          "output_type": "execute_result",
          "data": {
            "text/plain": [
              "{'movie': 1,\n",
              " 'film': 2,\n",
              " 'like': 3,\n",
              " \"it's\": 4,\n",
              " 'good': 5,\n",
              " 'it': 6,\n",
              " 'the': 7,\n",
              " 'time': 8,\n",
              " 'story': 9,\n",
              " 'bad': 10,\n",
              " 'great': 11,\n",
              " 'people': 12,\n",
              " \"don't\": 13,\n",
              " 'way': 14,\n",
              " 'movies': 15,\n",
              " 'think': 16,\n",
              " 'characters': 17,\n",
              " 'watch': 18,\n",
              " 'films': 19,\n",
              " 'seen': 20,\n",
              " 'character': 21,\n",
              " 'plot': 22,\n",
              " 'love': 23,\n",
              " 'acting': 24,\n",
              " 'life': 25,\n",
              " 'best': 26,\n",
              " 'know': 27,\n",
              " 'little': 28,\n",
              " 'i': 29,\n",
              " 'this': 30,\n",
              " 'better': 31,\n",
              " 'end': 32,\n",
              " 'man': 33,\n",
              " 'scene': 34,\n",
              " 'and': 35,\n",
              " 'scenes': 36,\n",
              " 'well': 37,\n",
              " 'real': 38,\n",
              " \"i'm\": 39,\n",
              " 'watching': 40,\n",
              " 'thing': 41,\n",
              " \"doesn't\": 42,\n",
              " 'actors': 43,\n",
              " 'years': 44,\n",
              " 'funny': 45,\n",
              " \"didn't\": 46,\n",
              " 'old': 47,\n",
              " 'work': 48,\n",
              " 'actually': 49,\n",
              " '10': 50,\n",
              " 'makes': 51,\n",
              " 'look': 52,\n",
              " 'director': 53,\n",
              " 'all': 54,\n",
              " 'going': 55,\n",
              " 'new': 56,\n",
              " 'lot': 57,\n",
              " 'one': 58,\n",
              " 'cast': 59,\n",
              " 'things': 60,\n",
              " 'want': 61,\n",
              " 'pretty': 62,\n",
              " 'world': 63,\n",
              " 'horror': 64,\n",
              " \"can't\": 65,\n",
              " 'young': 66,\n",
              " 'got': 67,\n",
              " 'thought': 68,\n",
              " 'big': 69,\n",
              " 'fact': 70,\n",
              " 'long': 71,\n",
              " 'that': 72,\n",
              " \"that's\": 73,\n",
              " \"i've\": 74,\n",
              " 'in': 75,\n",
              " 'right': 76,\n",
              " 'comedy': 77,\n",
              " 'series': 78,\n",
              " 'action': 79,\n",
              " 'music': 80,\n",
              " 'times': 81,\n",
              " 'saw': 82,\n",
              " 'original': 83,\n",
              " \"isn't\": 84,\n",
              " 'role': 85,\n",
              " 'come': 86,\n",
              " 'gets': 87,\n",
              " 'interesting': 88,\n",
              " 'guy': 89,\n",
              " 'point': 90,\n",
              " \"there's\": 91,\n",
              " 'is': 92,\n",
              " 'far': 93,\n",
              " 'bit': 94,\n",
              " 'a': 95,\n",
              " 'me': 96,\n",
              " 'script': 97,\n",
              " 'minutes': 98,\n",
              " 'feel': 99,\n",
              " 'making': 100,\n",
              " '2': 101,\n",
              " 'family': 102,\n",
              " \"he's\": 103,\n",
              " 'probably': 104,\n",
              " 'tv': 105,\n",
              " 'performance': 106,\n",
              " 'kind': 107,\n",
              " 'away': 108,\n",
              " 'but': 109,\n",
              " 'however': 110,\n",
              " 'fun': 111,\n",
              " 'worst': 112,\n",
              " 'sure': 113,\n",
              " 'hard': 114,\n",
              " 'girl': 115,\n",
              " 'played': 116,\n",
              " 'out': 117,\n",
              " 'day': 118,\n",
              " 'them': 119,\n",
              " 'on': 120,\n",
              " 'looking': 121,\n",
              " 'woman': 122,\n",
              " 'screen': 123,\n",
              " 'there': 124,\n",
              " 'especially': 125,\n",
              " 'him': 126,\n",
              " 'believe': 127,\n",
              " 'up': 128,\n",
              " 'having': 129,\n",
              " 'trying': 130,\n",
              " 'course': 131,\n",
              " 'dvd': 132,\n",
              " 'set': 133,\n",
              " 'so': 134,\n",
              " 'goes': 135,\n",
              " 'comes': 136,\n",
              " 'ending': 137,\n",
              " 'maybe': 138,\n",
              " 'place': 139,\n",
              " 'book': 140,\n",
              " 'here': 141,\n",
              " 'shows': 142,\n",
              " 'worth': 143,\n",
              " 'different': 144,\n",
              " 'you': 145,\n",
              " 'main': 146,\n",
              " 'sense': 147,\n",
              " 'american': 148,\n",
              " 'reason': 149,\n",
              " 'looks': 150,\n",
              " 'effects': 151,\n",
              " 'watched': 152,\n",
              " 'true': 153,\n",
              " 'play': 154,\n",
              " 'money': 155,\n",
              " 'actor': 156,\n",
              " \"wasn't\": 157,\n",
              " 'job': 158,\n",
              " 'war': 159,\n",
              " 'again': 160,\n",
              " 'plays': 161,\n",
              " 'high': 162,\n",
              " 'instead': 163,\n",
              " 'year': 164,\n",
              " 'said': 165,\n",
              " 'half': 166,\n",
              " 'later': 167,\n",
              " 'takes': 168,\n",
              " 'audience': 169,\n",
              " 'special': 170,\n",
              " '1': 171,\n",
              " 'beautiful': 172,\n",
              " 'left': 173,\n",
              " 'seeing': 174,\n",
              " 'john': 175,\n",
              " 'night': 176,\n",
              " 'black': 177,\n",
              " 'version': 178,\n",
              " 'shot': 179,\n",
              " 'excellent': 180,\n",
              " 'idea': 181,\n",
              " 'house': 182,\n",
              " 'mind': 183,\n",
              " 'star': 184,\n",
              " 'wife': 185,\n",
              " 'fan': 186,\n",
              " 'death': 187,\n",
              " 'not': 188,\n",
              " 'simply': 189,\n",
              " 'nice': 190,\n",
              " 'budget': 191,\n",
              " 'poor': 192,\n",
              " 'completely': 193,\n",
              " 'short': 194,\n",
              " 'second': 195,\n",
              " \"you're\": 196,\n",
              " '3': 197,\n",
              " 'read': 198,\n",
              " 'help': 199,\n",
              " 'home': 200,\n",
              " 'men': 201,\n",
              " 'line': 202,\n",
              " 'boring': 203,\n",
              " 'dead': 204,\n",
              " 'friends': 205,\n",
              " 'kids': 206,\n",
              " 'production': 207,\n",
              " 'try': 208,\n",
              " 'enjoy': 209,\n",
              " 'camera': 210,\n",
              " 'wrong': 211,\n",
              " 'use': 212,\n",
              " 'given': 213,\n",
              " 'low': 214,\n",
              " 'classic': 215,\n",
              " 'father': 216,\n",
              " 'need': 217,\n",
              " 'stupid': 218,\n",
              " 'her': 219,\n",
              " 'performances': 220,\n",
              " 'school': 221,\n",
              " 'hollywood': 222,\n",
              " 'rest': 223,\n",
              " 'truly': 224,\n",
              " 'awful': 225,\n",
              " 'video': 226,\n",
              " 'couple': 227,\n",
              " 'start': 228,\n",
              " 'sex': 229,\n",
              " 'recommend': 230,\n",
              " 'to': 231,\n",
              " 'women': 232,\n",
              " 'let': 233,\n",
              " 'tell': 234,\n",
              " 'too': 235,\n",
              " 'terrible': 236,\n",
              " 'mean': 237,\n",
              " 'remember': 238,\n",
              " 'came': 239,\n",
              " 'getting': 240,\n",
              " 'understand': 241,\n",
              " 'as': 242,\n",
              " 'moments': 243,\n",
              " 'face': 244,\n",
              " 'wonderful': 245,\n",
              " 'playing': 246,\n",
              " 'human': 247,\n",
              " 'style': 248,\n",
              " 'small': 249,\n",
              " 'episode': 250,\n",
              " 'perfect': 251,\n",
              " 'person': 252,\n",
              " 'now': 253,\n",
              " 'early': 254,\n",
              " 'definitely': 255,\n",
              " 'written': 256,\n",
              " 'stars': 257,\n",
              " 'head': 258,\n",
              " 'lines': 259,\n",
              " 'dialogue': 260,\n",
              " 'gives': 261,\n",
              " 'show': 262,\n",
              " 'piece': 263,\n",
              " \"couldn't\": 264,\n",
              " 'went': 265,\n",
              " 'finally': 266,\n",
              " 'mother': 267,\n",
              " 'case': 268,\n",
              " 'title': 269,\n",
              " 'absolutely': 270,\n",
              " 'off': 271,\n",
              " 'yes': 272,\n",
              " 'boy': 273,\n",
              " 'live': 274,\n",
              " 'laugh': 275,\n",
              " 'certainly': 276,\n",
              " 'liked': 277,\n",
              " 'worse': 278,\n",
              " 'oh': 279,\n",
              " 'entertaining': 280,\n",
              " 'sort': 281,\n",
              " 'if': 282,\n",
              " 'loved': 283,\n",
              " 'lost': 284,\n",
              " 'called': 285,\n",
              " 'hope': 286,\n",
              " 'picture': 287,\n",
              " 'felt': 288,\n",
              " 'entire': 289,\n",
              " 'mr': 290,\n",
              " 'based': 291,\n",
              " 'supposed': 292,\n",
              " 'overall': 293,\n",
              " 'cinema': 294,\n",
              " 'for': 295,\n",
              " 'no': 296,\n",
              " 'friend': 297,\n",
              " 'guys': 298,\n",
              " 'sound': 299,\n",
              " 'problem': 300,\n",
              " 'drama': 301,\n",
              " 'waste': 302,\n",
              " 'white': 303,\n",
              " 'beginning': 304,\n",
              " '4': 305,\n",
              " '5': 306,\n",
              " 'fans': 307,\n",
              " 'totally': 308,\n",
              " 'dark': 309,\n",
              " 'care': 310,\n",
              " 'though': 311,\n",
              " 'humor': 312,\n",
              " 'with': 313,\n",
              " 'wanted': 314,\n",
              " \"she's\": 315,\n",
              " 'direction': 316,\n",
              " 'children': 317,\n",
              " 'game': 318,\n",
              " 'despite': 319,\n",
              " 'lives': 320,\n",
              " 'lead': 321,\n",
              " 'guess': 322,\n",
              " 'example': 323,\n",
              " 'final': 324,\n",
              " 'turn': 325,\n",
              " \"you'll\": 326,\n",
              " 'evil': 327,\n",
              " 'of': 328,\n",
              " 'unfortunately': 329,\n",
              " 'able': 330,\n",
              " 'quality': 331,\n",
              " \"i'd\": 332,\n",
              " 'days': 333,\n",
              " 'history': 334,\n",
              " 'made': 335,\n",
              " 'fine': 336,\n",
              " 'wants': 337,\n",
              " 'heart': 338,\n",
              " 'horrible': 339,\n",
              " 'writing': 340,\n",
              " 'amazing': 341,\n",
              " 'over': 342,\n",
              " 'flick': 343,\n",
              " 'b': 344,\n",
              " 'killer': 345,\n",
              " 'run': 346,\n",
              " 'son': 347,\n",
              " '\\x96': 348,\n",
              " 'michael': 349,\n",
              " 'works': 350,\n",
              " 'close': 351,\n",
              " \"they're\": 352,\n",
              " 'act': 353,\n",
              " 'kill': 354,\n",
              " 'art': 355,\n",
              " 'be': 356,\n",
              " 'matter': 357,\n",
              " 'or': 358,\n",
              " 'tries': 359,\n",
              " 'what': 360,\n",
              " \"won't\": 361,\n",
              " 'past': 362,\n",
              " 'town': 363,\n",
              " 'turns': 364,\n",
              " 'enjoyed': 365,\n",
              " 'brilliant': 366,\n",
              " 'gave': 367,\n",
              " 'parts': 368,\n",
              " 'stuff': 369,\n",
              " 'do': 370,\n",
              " 'genre': 371,\n",
              " 'car': 372,\n",
              " 'eyes': 373,\n",
              " 'favorite': 374,\n",
              " 'directed': 375,\n",
              " 'late': 376,\n",
              " 'hand': 377,\n",
              " 'expect': 378,\n",
              " 'soon': 379,\n",
              " 'hour': 380,\n",
              " 'obviously': 381,\n",
              " 'killed': 382,\n",
              " 'thinking': 383,\n",
              " 'actress': 384,\n",
              " 'viewer': 385,\n",
              " 'girls': 386,\n",
              " 'child': 387,\n",
              " 'starts': 388,\n",
              " 'city': 389,\n",
              " 'was': 390,\n",
              " 'decent': 391,\n",
              " 'who': 392,\n",
              " 'highly': 393,\n",
              " 'stop': 394,\n",
              " 'type': 395,\n",
              " 'self': 396,\n",
              " 'god': 397,\n",
              " 'says': 398,\n",
              " 'group': 399,\n",
              " 'voice': 400,\n",
              " 'which': 401,\n",
              " 'took': 402,\n",
              " 'known': 403,\n",
              " 'kid': 404,\n",
              " 'blood': 405,\n",
              " 'heard': 406,\n",
              " 'happens': 407,\n",
              " 'then': 408,\n",
              " 'fight': 409,\n",
              " 'feeling': 410,\n",
              " 'experience': 411,\n",
              " 'also': 412,\n",
              " 'coming': 413,\n",
              " 'slow': 414,\n",
              " 'etc': 415,\n",
              " 'daughter': 416,\n",
              " 'writer': 417,\n",
              " 'stories': 418,\n",
              " 'moment': 419,\n",
              " 'leave': 420,\n",
              " 'told': 421,\n",
              " 'extremely': 422,\n",
              " 'score': 423,\n",
              " 'violence': 424,\n",
              " 'police': 425,\n",
              " 'more': 426,\n",
              " 'involved': 427,\n",
              " 'strong': 428,\n",
              " 'lack': 429,\n",
              " 'chance': 430,\n",
              " 'hit': 431,\n",
              " 'wonder': 432,\n",
              " 'hilarious': 433,\n",
              " 'roles': 434,\n",
              " 's': 435,\n",
              " 'particularly': 436,\n",
              " 'happen': 437,\n",
              " 'ok': 438,\n",
              " 'first': 439,\n",
              " 'including': 440,\n",
              " 'save': 441,\n",
              " 'living': 442,\n",
              " 'looked': 443,\n",
              " \"wouldn't\": 444,\n",
              " 'see': 445,\n",
              " 'crap': 446,\n",
              " 'simple': 447,\n",
              " 'murder': 448,\n",
              " 'cool': 449,\n",
              " 'obvious': 450,\n",
              " 'happened': 451,\n",
              " 'complete': 452,\n",
              " 'cut': 453,\n",
              " 'age': 454,\n",
              " 'hell': 455,\n",
              " 'attempt': 456,\n",
              " 'ago': 457,\n",
              " 'gore': 458,\n",
              " 'song': 459,\n",
              " 'shown': 460,\n",
              " 'taken': 461,\n",
              " 'much': 462,\n",
              " 'english': 463,\n",
              " 'james': 464,\n",
              " 'robert': 465,\n",
              " 'seriously': 466,\n",
              " 'david': 467,\n",
              " 'released': 468,\n",
              " 'reality': 469,\n",
              " 'opening': 470,\n",
              " 'jokes': 471,\n",
              " 'hero': 472,\n",
              " 'exactly': 473,\n",
              " 'today': 474,\n",
              " 'possible': 475,\n",
              " 'sad': 476,\n",
              " 'brother': 477,\n",
              " 'saying': 478,\n",
              " 'number': 479,\n",
              " 'career': 480,\n",
              " \"film's\": 481,\n",
              " 'usually': 482,\n",
              " 'hours': 483,\n",
              " 'cinematography': 484,\n",
              " 'talent': 485,\n",
              " 'view': 486,\n",
              " 'say': 487,\n",
              " 'running': 488,\n",
              " 'annoying': 489,\n",
              " 'relationship': 490,\n",
              " 'documentary': 491,\n",
              " 'wish': 492,\n",
              " 'order': 493,\n",
              " 'huge': 494,\n",
              " 'anyway': 495,\n",
              " 'shots': 496,\n",
              " 'ridiculous': 497,\n",
              " 'taking': 498,\n",
              " 'light': 499,\n",
              " 'important': 500,\n",
              " 'body': 501,\n",
              " 'middle': 502,\n",
              " 'level': 503,\n",
              " 'ends': 504,\n",
              " 'started': 505,\n",
              " 'female': 506,\n",
              " 'husband': 507,\n",
              " 'power': 508,\n",
              " \"i'll\": 509,\n",
              " 'word': 510,\n",
              " 'major': 511,\n",
              " 'turned': 512,\n",
              " 'opinion': 513,\n",
              " 'change': 514,\n",
              " 'usual': 515,\n",
              " 'scary': 516,\n",
              " 'silly': 517,\n",
              " 'rating': 518,\n",
              " 'somewhat': 519,\n",
              " 'happy': 520,\n",
              " 'ones': 521,\n",
              " 'words': 522,\n",
              " 'room': 523,\n",
              " 'knows': 524,\n",
              " 'knew': 525,\n",
              " 'country': 526,\n",
              " 'disappointed': 527,\n",
              " 'novel': 528,\n",
              " 'talking': 529,\n",
              " 'apparently': 530,\n",
              " 'non': 531,\n",
              " 'strange': 532,\n",
              " 'attention': 533,\n",
              " 'single': 534,\n",
              " 'finds': 535,\n",
              " 'basically': 536,\n",
              " 'ever': 537,\n",
              " 'cheap': 538,\n",
              " 'modern': 539,\n",
              " 'jack': 540,\n",
              " 'musical': 541,\n",
              " 'television': 542,\n",
              " 'problems': 543,\n",
              " 'why': 544,\n",
              " 'miss': 545,\n",
              " 'episodes': 546,\n",
              " 'clearly': 547,\n",
              " 'back': 548,\n",
              " 'local': 549,\n",
              " 'about': 550,\n",
              " '7': 551,\n",
              " 'british': 552,\n",
              " 'thriller': 553,\n",
              " 'talk': 554,\n",
              " 'events': 555,\n",
              " 'sequence': 556,\n",
              " \"aren't\": 557,\n",
              " 'class': 558,\n",
              " 'french': 559,\n",
              " 'other': 560,\n",
              " 'moving': 561,\n",
              " 'before': 562,\n",
              " 'fast': 563,\n",
              " 'earth': 564,\n",
              " 'tells': 565,\n",
              " 'review': 566,\n",
              " 'predictable': 567,\n",
              " 'team': 568,\n",
              " 'songs': 569,\n",
              " 'comic': 570,\n",
              " 'straight': 571,\n",
              " 'die': 572,\n",
              " '8': 573,\n",
              " 'add': 574,\n",
              " 'dialog': 575,\n",
              " 'sets': 576,\n",
              " 'entertainment': 577,\n",
              " 'future': 578,\n",
              " 'down': 579,\n",
              " 'enjoyable': 580,\n",
              " 'appears': 581,\n",
              " 'near': 582,\n",
              " 'space': 583,\n",
              " 'easily': 584,\n",
              " 'hate': 585,\n",
              " 'soundtrack': 586,\n",
              " 'bring': 587,\n",
              " 'giving': 588,\n",
              " 'lots': 589,\n",
              " 'similar': 590,\n",
              " 'romantic': 591,\n",
              " 'george': 592,\n",
              " 'supporting': 593,\n",
              " 'release': 594,\n",
              " 'mention': 595,\n",
              " 'filmed': 596,\n",
              " 'message': 597,\n",
              " 'sequel': 598,\n",
              " 'clear': 599,\n",
              " 'falls': 600,\n",
              " 'needs': 601,\n",
              " \"haven't\": 602,\n",
              " 'dull': 603,\n",
              " 'bunch': 604,\n",
              " 'suspense': 605,\n",
              " 'surprised': 606,\n",
              " 'eye': 607,\n",
              " 'showing': 608,\n",
              " 'together': 609,\n",
              " 'tried': 610,\n",
              " 'sorry': 611,\n",
              " 'certain': 612,\n",
              " 'working': 613,\n",
              " 'easy': 614,\n",
              " 'ways': 615,\n",
              " 'theme': 616,\n",
              " 'theater': 617,\n",
              " 'named': 618,\n",
              " \"what's\": 619,\n",
              " 'storyline': 620,\n",
              " 'monster': 621,\n",
              " 'king': 622,\n",
              " 'stay': 623,\n",
              " 'effort': 624,\n",
              " 'fall': 625,\n",
              " 'minute': 626,\n",
              " 'stand': 627,\n",
              " 'did': 628,\n",
              " 'gone': 629,\n",
              " 'rock': 630,\n",
              " 'feature': 631,\n",
              " 'comments': 632,\n",
              " '9': 633,\n",
              " 'buy': 634,\n",
              " 'tale': 635,\n",
              " 'sister': 636,\n",
              " 'typical': 637,\n",
              " 'editing': 638,\n",
              " 't': 639,\n",
              " 'avoid': 640,\n",
              " 'mystery': 641,\n",
              " 'deal': 642,\n",
              " 'dr': 643,\n",
              " 'doubt': 644,\n",
              " 'fantastic': 645,\n",
              " 'kept': 646,\n",
              " 'nearly': 647,\n",
              " 'feels': 648,\n",
              " 'subject': 649,\n",
              " 'viewing': 650,\n",
              " 'elements': 651,\n",
              " 'oscar': 652,\n",
              " 'points': 653,\n",
              " 'realistic': 654,\n",
              " 'means': 655,\n",
              " 'okay': 656,\n",
              " 'greatest': 657,\n",
              " 'parents': 658,\n",
              " 'famous': 659,\n",
              " 'check': 660,\n",
              " 'imagine': 661,\n",
              " 'richard': 662,\n",
              " 'crime': 663,\n",
              " 'rent': 664,\n",
              " 'viewers': 665,\n",
              " 'form': 666,\n",
              " 'peter': 667,\n",
              " 'actual': 668,\n",
              " 'general': 669,\n",
              " 'lady': 670,\n",
              " 'dog': 671,\n",
              " 'at': 672,\n",
              " 'follow': 673,\n",
              " 'done': 674,\n",
              " 'believable': 675,\n",
              " 'period': 676,\n",
              " 'red': 677,\n",
              " 'brought': 678,\n",
              " 'material': 679,\n",
              " 'enough': 680,\n",
              " \"'\": 681,\n",
              " 'forget': 682,\n",
              " 'begins': 683,\n",
              " 'animation': 684,\n",
              " 'reviews': 685,\n",
              " 'paul': 686,\n",
              " \"you've\": 687,\n",
              " 'he': 688,\n",
              " 'leads': 689,\n",
              " 'figure': 690,\n",
              " 'weak': 691,\n",
              " 'surprise': 692,\n",
              " 'sit': 693,\n",
              " 'hear': 694,\n",
              " 'average': 695,\n",
              " 'sequences': 696,\n",
              " 'open': 697,\n",
              " 'killing': 698,\n",
              " 'atmosphere': 699,\n",
              " 'eventually': 700,\n",
              " 'wait': 701,\n",
              " 'premise': 702,\n",
              " 'learn': 703,\n",
              " '20': 704,\n",
              " 'tom': 705,\n",
              " 'sci': 706,\n",
              " 'deep': 707,\n",
              " 'fi': 708,\n",
              " 'expected': 709,\n",
              " 'particular': 710,\n",
              " 'lame': 711,\n",
              " 'poorly': 712,\n",
              " 'note': 713,\n",
              " 'dance': 714,\n",
              " 'imdb': 715,\n",
              " 'shame': 716,\n",
              " 'situation': 717,\n",
              " 're': 718,\n",
              " 'york': 719,\n",
              " 'box': 720,\n",
              " 'truth': 721,\n",
              " 'decided': 722,\n",
              " 'free': 723,\n",
              " 'hot': 724,\n",
              " \"who's\": 725,\n",
              " 'difficult': 726,\n",
              " 'either': 727,\n",
              " 'needed': 728,\n",
              " 'season': 729,\n",
              " 'acted': 730,\n",
              " 'part': 731,\n",
              " 'leaves': 732,\n",
              " 'romance': 733,\n",
              " 'emotional': 734,\n",
              " 'possibly': 735,\n",
              " 'gay': 736,\n",
              " 'are': 737,\n",
              " 'boys': 738,\n",
              " 'footage': 739,\n",
              " 'sexual': 740,\n",
              " 'write': 741,\n",
              " 'something': 742,\n",
              " 'western': 743,\n",
              " 'credits': 744,\n",
              " 'doctor': 745,\n",
              " 'reading': 746,\n",
              " 'forced': 747,\n",
              " 'memorable': 748,\n",
              " 'begin': 749,\n",
              " 'air': 750,\n",
              " 'crew': 751,\n",
              " 'question': 752,\n",
              " 'two': 753,\n",
              " 'meet': 754,\n",
              " 'male': 755,\n",
              " 'society': 756,\n",
              " 'meets': 757,\n",
              " \"let's\": 758,\n",
              " 'plus': 759,\n",
              " 'cheesy': 760,\n",
              " 'hands': 761,\n",
              " 'superb': 762,\n",
              " 'screenplay': 763,\n",
              " 'beauty': 764,\n",
              " 'street': 765,\n",
              " 'interested': 766,\n",
              " 'features': 767,\n",
              " 'perfectly': 768,\n",
              " 'laughs': 769,\n",
              " 'masterpiece': 770,\n",
              " 'nature': 771,\n",
              " 'stage': 772,\n",
              " 'effect': 773,\n",
              " 'forward': 774,\n",
              " 'comment': 775,\n",
              " 'previous': 776,\n",
              " 'e': 777,\n",
              " 'badly': 778,\n",
              " 'sounds': 779,\n",
              " 'japanese': 780,\n",
              " 'weird': 781,\n",
              " 'really': 782,\n",
              " 'personal': 783,\n",
              " 'island': 784,\n",
              " 'inside': 785,\n",
              " 'quickly': 786,\n",
              " 'total': 787,\n",
              " 'keeps': 788,\n",
              " 'result': 789,\n",
              " 'my': 790,\n",
              " 'america': 791,\n",
              " 'crazy': 792,\n",
              " 'battle': 793,\n",
              " 'setting': 794,\n",
              " 'earlier': 795,\n",
              " 'worked': 796,\n",
              " 'incredibly': 797,\n",
              " 'himself': 798,\n",
              " 'background': 799,\n",
              " 'mess': 800,\n",
              " 'cop': 801,\n",
              " 'writers': 802,\n",
              " 'realize': 803,\n",
              " 'dumb': 804,\n",
              " 'unique': 805,\n",
              " 'copy': 806,\n",
              " 'lee': 807,\n",
              " 'else': 808,\n",
              " 'powerful': 809,\n",
              " 'mark': 810,\n",
              " 'business': 811,\n",
              " 'older': 812,\n",
              " 'rate': 813,\n",
              " 'dramatic': 814,\n",
              " 'pay': 815,\n",
              " 'directors': 816,\n",
              " 'girlfriend': 817,\n",
              " 'following': 818,\n",
              " 'joke': 819,\n",
              " 'plenty': 820,\n",
              " 'directing': 821,\n",
              " 'baby': 822,\n",
              " 'creepy': 823,\n",
              " 'development': 824,\n",
              " 'appear': 825,\n",
              " 'brings': 826,\n",
              " 'dream': 827,\n",
              " 'ask': 828,\n",
              " 'water': 829,\n",
              " 'rich': 830,\n",
              " 'admit': 831,\n",
              " 'apart': 832,\n",
              " 'fairly': 833,\n",
              " 'joe': 834,\n",
              " 'political': 835,\n",
              " 'leading': 836,\n",
              " 'reasons': 837,\n",
              " 'portrayed': 838,\n",
              " 'spent': 839,\n",
              " 'telling': 840,\n",
              " 'cover': 841,\n",
              " 'fighting': 842,\n",
              " 'present': 843,\n",
              " 'wasted': 844,\n",
              " 'outside': 845,\n",
              " 'fails': 846,\n",
              " 'deserves': 847,\n",
              " 'era': 848,\n",
              " 'gun': 849,\n",
              " 'yet': 850,\n",
              " 'success': 851,\n",
              " 'party': 852,\n",
              " 'break': 853,\n",
              " \"'the\": 854,\n",
              " 'meant': 855,\n",
              " 'list': 856,\n",
              " 'expecting': 857,\n",
              " 'attempts': 858,\n",
              " 'create': 859,\n",
              " 'william': 860,\n",
              " 'ended': 861,\n",
              " 'ideas': 862,\n",
              " 'recently': 863,\n",
              " 'secret': 864,\n",
              " 'agree': 865,\n",
              " 'manages': 866,\n",
              " 'missing': 867,\n",
              " 'another': 868,\n",
              " 'go': 869,\n",
              " 'talented': 870,\n",
              " 'twist': 871,\n",
              " 'zombie': 872,\n",
              " 'caught': 873,\n",
              " 'fantasy': 874,\n",
              " 'unlike': 875,\n",
              " 'hardly': 876,\n",
              " 'odd': 877,\n",
              " 'german': 878,\n",
              " 'large': 879,\n",
              " 'cute': 880,\n",
              " 'produced': 881,\n",
              " 'itself': 882,\n",
              " 'while': 883,\n",
              " 'even': 884,\n",
              " 'return': 885,\n",
              " 'match': 886,\n",
              " 'clever': 887,\n",
              " 'laughing': 888,\n",
              " 'us': 889,\n",
              " 'plain': 890,\n",
              " 'top': 891,\n",
              " 'nudity': 892,\n",
              " 'members': 893,\n",
              " 'from': 894,\n",
              " 'remake': 895,\n",
              " 'disney': 896,\n",
              " 'escape': 897,\n",
              " 'italian': 898,\n",
              " 'office': 899,\n",
              " 'others': 900,\n",
              " 'potential': 901,\n",
              " 'villain': 902,\n",
              " 'created': 903,\n",
              " 'casting': 904,\n",
              " 'pace': 905,\n",
              " 'missed': 906,\n",
              " 'flat': 907,\n",
              " \"we're\": 908,\n",
              " 'wrote': 909,\n",
              " 'pure': 910,\n",
              " 'married': 911,\n",
              " 'cartoon': 912,\n",
              " 'waiting': 913,\n",
              " 'spoilers': 914,\n",
              " 'state': 915,\n",
              " 'century': 916,\n",
              " 'filled': 917,\n",
              " 'd': 918,\n",
              " 'filmmakers': 919,\n",
              " '6': 920,\n",
              " 'public': 921,\n",
              " 'incredible': 922,\n",
              " 'mentioned': 923,\n",
              " 'cold': 924,\n",
              " 'hold': 925,\n",
              " 'sadly': 926,\n",
              " 'familiar': 927,\n",
              " 'slightly': 928,\n",
              " 'visual': 929,\n",
              " 'van': 930,\n",
              " 'considering': 931,\n",
              " 'when': 932,\n",
              " 'science': 933,\n",
              " 'train': 934,\n",
              " 'still': 935,\n",
              " 'died': 936,\n",
              " 'speak': 937,\n",
              " 'co': 938,\n",
              " 'around': 939,\n",
              " 'by': 940,\n",
              " 'through': 941,\n",
              " 'language': 942,\n",
              " '30': 943,\n",
              " 'popular': 944,\n",
              " 'store': 945,\n",
              " 'company': 946,\n",
              " 'uses': 947,\n",
              " 'tension': 948,\n",
              " 'sweet': 949,\n",
              " 'convincing': 950,\n",
              " 'decides': 951,\n",
              " 'value': 952,\n",
              " 'anti': 953,\n",
              " 'sees': 954,\n",
              " 'credit': 955,\n",
              " 'entirely': 956,\n",
              " 'social': 957,\n",
              " 'bored': 958,\n",
              " 'force': 959,\n",
              " 'dancing': 960,\n",
              " 'hair': 961,\n",
              " 'intelligent': 962,\n",
              " 'compared': 963,\n",
              " 'follows': 964,\n",
              " '15': 965,\n",
              " 'trouble': 966,\n",
              " 'la': 967,\n",
              " 'common': 968,\n",
              " 'appreciate': 969,\n",
              " 'choice': 970,\n",
              " 'portrayal': 971,\n",
              " 'suddenly': 972,\n",
              " 'they': 973,\n",
              " 'fit': 974,\n",
              " 'younger': 975,\n",
              " 'moves': 976,\n",
              " 'mad': 977,\n",
              " 'college': 978,\n",
              " 'violent': 979,\n",
              " 'alive': 980,\n",
              " 'depth': 981,\n",
              " 'brain': 982,\n",
              " 'biggest': 983,\n",
              " 'yeah': 984,\n",
              " 'c': 985,\n",
              " 'images': 986,\n",
              " 'concept': 987,\n",
              " 'fear': 988,\n",
              " 'scott': 989,\n",
              " 'law': 990,\n",
              " 'drug': 991,\n",
              " 'control': 992,\n",
              " 'successful': 993,\n",
              " 'post': 994,\n",
              " 'situations': 995,\n",
              " 'amusing': 996,\n",
              " 'recommended': 997,\n",
              " 'exciting': 998,\n",
              " 'band': 999,\n",
              " 'project': 1000,\n",
              " ...}"
            ]
          },
          "metadata": {},
          "execution_count": 17
        }
      ],
      "source": [
        "tk.word_index\n"
      ]
    },
    {
      "cell_type": "code",
      "execution_count": 18,
      "metadata": {
        "colab": {
          "base_uri": "https://localhost:8080/"
        },
        "id": "-gNM7hH6M29A",
        "outputId": "bd74c14d-5e57-4ecc-c36a-3a5eac7ce4c1"
      },
      "outputs": [
        {
          "output_type": "stream",
          "name": "stdout",
          "text": [
            "29\n",
            "3\n",
            "30\n",
            "1\n"
          ]
        },
        {
          "output_type": "execute_result",
          "data": {
            "text/plain": [
              "[29, 3, 30, 1]"
            ]
          },
          "metadata": {},
          "execution_count": 18
        }
      ],
      "source": [
        "tk.word_index['this']\n",
        "testwords = ['this','movie','is','great']\n",
        "testwords = ['i','like','this','movie']\n",
        "for i in testwords:\n",
        "    print(tk.word_index[i])\n",
        "\n",
        "[tk.word_index[w] for w in testwords]"
      ]
    },
    {
      "cell_type": "code",
      "execution_count": 19,
      "metadata": {
        "colab": {
          "base_uri": "https://localhost:8080/"
        },
        "id": "zRaC2_9irVBu",
        "outputId": "bac05564-c246-437d-ba5f-817115daa3ad"
      },
      "outputs": [
        {
          "output_type": "execute_result",
          "data": {
            "text/plain": [
              "125499"
            ]
          },
          "metadata": {},
          "execution_count": 19
        }
      ],
      "source": [
        "vocab_size = len(tk.word_index)+1\n",
        "vocab_size      #"
      ]
    },
    {
      "cell_type": "code",
      "execution_count": 20,
      "metadata": {
        "id": "nyuz1g0RrWbO"
      },
      "outputs": [],
      "source": [
        "sents_enc = tk.texts_to_sequences(df.review2)"
      ]
    },
    {
      "cell_type": "code",
      "execution_count": 21,
      "metadata": {
        "colab": {
          "base_uri": "https://localhost:8080/"
        },
        "id": "OwuzW1Vnrg6f",
        "outputId": "725e615b-ef0d-415b-ca16-db6473475dd1"
      },
      "outputs": [
        {
          "output_type": "execute_result",
          "data": {
            "text/plain": [
              "[245,\n",
              " 28,\n",
              " 207,\n",
              " 1244,\n",
              " 2870,\n",
              " 17927,\n",
              " 47,\n",
              " 8,\n",
              " 2260,\n",
              " 1449,\n",
              " 261,\n",
              " 13243,\n",
              " 26544,\n",
              " 147,\n",
              " 1715]"
            ]
          },
          "metadata": {},
          "execution_count": 21
        }
      ],
      "source": [
        "sents_enc[1][:15]"
      ]
    },
    {
      "cell_type": "code",
      "execution_count": 22,
      "metadata": {
        "colab": {
          "base_uri": "https://localhost:8080/"
        },
        "id": "48-h-nACYPNn",
        "outputId": "d4f35e39-26d4-4a1b-deb9-78cce6f73c51"
      },
      "outputs": [
        {
          "output_type": "stream",
          "name": "stdout",
          "text": [
            "Average Review length: 115.1484\n",
            "Standard Deviation: 87\n",
            "Min length: 3\n",
            "Max length: 1362\n"
          ]
        }
      ],
      "source": [
        "sents_len = [len(i) for i in sents_enc]\n",
        "\n",
        "print(\"Average Review length:\", np.mean(sents_len))\n",
        "print(\"Standard Deviation:\", round(np.std(sents_len)))\n",
        "print('Min length:', np.min(sents_len))\n",
        "print('Max length:', np.max(sents_len))"
      ]
    },
    {
      "cell_type": "code",
      "execution_count": 23,
      "metadata": {
        "colab": {
          "base_uri": "https://localhost:8080/"
        },
        "id": "jZKG7vJRWos5",
        "outputId": "ff25e6c6-da97-485e-d38f-e5b15f8042b7"
      },
      "outputs": [
        {
          "output_type": "execute_result",
          "data": {
            "text/plain": [
              "[161, 80, 78, 65, 111]"
            ]
          },
          "metadata": {},
          "execution_count": 23
        }
      ],
      "source": [
        "sents_len[:5]"
      ]
    },
    {
      "cell_type": "code",
      "execution_count": 24,
      "metadata": {
        "colab": {
          "base_uri": "https://localhost:8080/",
          "height": 206
        },
        "id": "mJ8LHF6uW1CT",
        "outputId": "0dfcc83f-693b-476b-8fff-6aad8f032f94"
      },
      "outputs": [
        {
          "output_type": "execute_result",
          "data": {
            "text/plain": [
              "   words\n",
              "0    161\n",
              "1     80\n",
              "2     78\n",
              "3     65\n",
              "4    111"
            ],
            "text/html": [
              "\n",
              "  <div id=\"df-bd51478e-09df-4f79-b6cc-6f52424fe3ae\" class=\"colab-df-container\">\n",
              "    <div>\n",
              "<style scoped>\n",
              "    .dataframe tbody tr th:only-of-type {\n",
              "        vertical-align: middle;\n",
              "    }\n",
              "\n",
              "    .dataframe tbody tr th {\n",
              "        vertical-align: top;\n",
              "    }\n",
              "\n",
              "    .dataframe thead th {\n",
              "        text-align: right;\n",
              "    }\n",
              "</style>\n",
              "<table border=\"1\" class=\"dataframe\">\n",
              "  <thead>\n",
              "    <tr style=\"text-align: right;\">\n",
              "      <th></th>\n",
              "      <th>words</th>\n",
              "    </tr>\n",
              "  </thead>\n",
              "  <tbody>\n",
              "    <tr>\n",
              "      <th>0</th>\n",
              "      <td>161</td>\n",
              "    </tr>\n",
              "    <tr>\n",
              "      <th>1</th>\n",
              "      <td>80</td>\n",
              "    </tr>\n",
              "    <tr>\n",
              "      <th>2</th>\n",
              "      <td>78</td>\n",
              "    </tr>\n",
              "    <tr>\n",
              "      <th>3</th>\n",
              "      <td>65</td>\n",
              "    </tr>\n",
              "    <tr>\n",
              "      <th>4</th>\n",
              "      <td>111</td>\n",
              "    </tr>\n",
              "  </tbody>\n",
              "</table>\n",
              "</div>\n",
              "    <div class=\"colab-df-buttons\">\n",
              "\n",
              "  <div class=\"colab-df-container\">\n",
              "    <button class=\"colab-df-convert\" onclick=\"convertToInteractive('df-bd51478e-09df-4f79-b6cc-6f52424fe3ae')\"\n",
              "            title=\"Convert this dataframe to an interactive table.\"\n",
              "            style=\"display:none;\">\n",
              "\n",
              "  <svg xmlns=\"http://www.w3.org/2000/svg\" height=\"24px\" viewBox=\"0 -960 960 960\">\n",
              "    <path d=\"M120-120v-720h720v720H120Zm60-500h600v-160H180v160Zm220 220h160v-160H400v160Zm0 220h160v-160H400v160ZM180-400h160v-160H180v160Zm440 0h160v-160H620v160ZM180-180h160v-160H180v160Zm440 0h160v-160H620v160Z\"/>\n",
              "  </svg>\n",
              "    </button>\n",
              "\n",
              "  <style>\n",
              "    .colab-df-container {\n",
              "      display:flex;\n",
              "      gap: 12px;\n",
              "    }\n",
              "\n",
              "    .colab-df-convert {\n",
              "      background-color: #E8F0FE;\n",
              "      border: none;\n",
              "      border-radius: 50%;\n",
              "      cursor: pointer;\n",
              "      display: none;\n",
              "      fill: #1967D2;\n",
              "      height: 32px;\n",
              "      padding: 0 0 0 0;\n",
              "      width: 32px;\n",
              "    }\n",
              "\n",
              "    .colab-df-convert:hover {\n",
              "      background-color: #E2EBFA;\n",
              "      box-shadow: 0px 1px 2px rgba(60, 64, 67, 0.3), 0px 1px 3px 1px rgba(60, 64, 67, 0.15);\n",
              "      fill: #174EA6;\n",
              "    }\n",
              "\n",
              "    .colab-df-buttons div {\n",
              "      margin-bottom: 4px;\n",
              "    }\n",
              "\n",
              "    [theme=dark] .colab-df-convert {\n",
              "      background-color: #3B4455;\n",
              "      fill: #D2E3FC;\n",
              "    }\n",
              "\n",
              "    [theme=dark] .colab-df-convert:hover {\n",
              "      background-color: #434B5C;\n",
              "      box-shadow: 0px 1px 3px 1px rgba(0, 0, 0, 0.15);\n",
              "      filter: drop-shadow(0px 1px 2px rgba(0, 0, 0, 0.3));\n",
              "      fill: #FFFFFF;\n",
              "    }\n",
              "  </style>\n",
              "\n",
              "    <script>\n",
              "      const buttonEl =\n",
              "        document.querySelector('#df-bd51478e-09df-4f79-b6cc-6f52424fe3ae button.colab-df-convert');\n",
              "      buttonEl.style.display =\n",
              "        google.colab.kernel.accessAllowed ? 'block' : 'none';\n",
              "\n",
              "      async function convertToInteractive(key) {\n",
              "        const element = document.querySelector('#df-bd51478e-09df-4f79-b6cc-6f52424fe3ae');\n",
              "        const dataTable =\n",
              "          await google.colab.kernel.invokeFunction('convertToInteractive',\n",
              "                                                    [key], {});\n",
              "        if (!dataTable) return;\n",
              "\n",
              "        const docLinkHtml = 'Like what you see? Visit the ' +\n",
              "          '<a target=\"_blank\" href=https://colab.research.google.com/notebooks/data_table.ipynb>data table notebook</a>'\n",
              "          + ' to learn more about interactive tables.';\n",
              "        element.innerHTML = '';\n",
              "        dataTable['output_type'] = 'display_data';\n",
              "        await google.colab.output.renderOutput(dataTable, element);\n",
              "        const docLink = document.createElement('div');\n",
              "        docLink.innerHTML = docLinkHtml;\n",
              "        element.appendChild(docLink);\n",
              "      }\n",
              "    </script>\n",
              "  </div>\n",
              "\n",
              "\n",
              "<div id=\"df-3b12b880-6a2e-483b-ab79-a33fc1ee7fc0\">\n",
              "  <button class=\"colab-df-quickchart\" onclick=\"quickchart('df-3b12b880-6a2e-483b-ab79-a33fc1ee7fc0')\"\n",
              "            title=\"Suggest charts\"\n",
              "            style=\"display:none;\">\n",
              "\n",
              "<svg xmlns=\"http://www.w3.org/2000/svg\" height=\"24px\"viewBox=\"0 0 24 24\"\n",
              "     width=\"24px\">\n",
              "    <g>\n",
              "        <path d=\"M19 3H5c-1.1 0-2 .9-2 2v14c0 1.1.9 2 2 2h14c1.1 0 2-.9 2-2V5c0-1.1-.9-2-2-2zM9 17H7v-7h2v7zm4 0h-2V7h2v10zm4 0h-2v-4h2v4z\"/>\n",
              "    </g>\n",
              "</svg>\n",
              "  </button>\n",
              "\n",
              "<style>\n",
              "  .colab-df-quickchart {\n",
              "      --bg-color: #E8F0FE;\n",
              "      --fill-color: #1967D2;\n",
              "      --hover-bg-color: #E2EBFA;\n",
              "      --hover-fill-color: #174EA6;\n",
              "      --disabled-fill-color: #AAA;\n",
              "      --disabled-bg-color: #DDD;\n",
              "  }\n",
              "\n",
              "  [theme=dark] .colab-df-quickchart {\n",
              "      --bg-color: #3B4455;\n",
              "      --fill-color: #D2E3FC;\n",
              "      --hover-bg-color: #434B5C;\n",
              "      --hover-fill-color: #FFFFFF;\n",
              "      --disabled-bg-color: #3B4455;\n",
              "      --disabled-fill-color: #666;\n",
              "  }\n",
              "\n",
              "  .colab-df-quickchart {\n",
              "    background-color: var(--bg-color);\n",
              "    border: none;\n",
              "    border-radius: 50%;\n",
              "    cursor: pointer;\n",
              "    display: none;\n",
              "    fill: var(--fill-color);\n",
              "    height: 32px;\n",
              "    padding: 0;\n",
              "    width: 32px;\n",
              "  }\n",
              "\n",
              "  .colab-df-quickchart:hover {\n",
              "    background-color: var(--hover-bg-color);\n",
              "    box-shadow: 0 1px 2px rgba(60, 64, 67, 0.3), 0 1px 3px 1px rgba(60, 64, 67, 0.15);\n",
              "    fill: var(--button-hover-fill-color);\n",
              "  }\n",
              "\n",
              "  .colab-df-quickchart-complete:disabled,\n",
              "  .colab-df-quickchart-complete:disabled:hover {\n",
              "    background-color: var(--disabled-bg-color);\n",
              "    fill: var(--disabled-fill-color);\n",
              "    box-shadow: none;\n",
              "  }\n",
              "\n",
              "  .colab-df-spinner {\n",
              "    border: 2px solid var(--fill-color);\n",
              "    border-color: transparent;\n",
              "    border-bottom-color: var(--fill-color);\n",
              "    animation:\n",
              "      spin 1s steps(1) infinite;\n",
              "  }\n",
              "\n",
              "  @keyframes spin {\n",
              "    0% {\n",
              "      border-color: transparent;\n",
              "      border-bottom-color: var(--fill-color);\n",
              "      border-left-color: var(--fill-color);\n",
              "    }\n",
              "    20% {\n",
              "      border-color: transparent;\n",
              "      border-left-color: var(--fill-color);\n",
              "      border-top-color: var(--fill-color);\n",
              "    }\n",
              "    30% {\n",
              "      border-color: transparent;\n",
              "      border-left-color: var(--fill-color);\n",
              "      border-top-color: var(--fill-color);\n",
              "      border-right-color: var(--fill-color);\n",
              "    }\n",
              "    40% {\n",
              "      border-color: transparent;\n",
              "      border-right-color: var(--fill-color);\n",
              "      border-top-color: var(--fill-color);\n",
              "    }\n",
              "    60% {\n",
              "      border-color: transparent;\n",
              "      border-right-color: var(--fill-color);\n",
              "    }\n",
              "    80% {\n",
              "      border-color: transparent;\n",
              "      border-right-color: var(--fill-color);\n",
              "      border-bottom-color: var(--fill-color);\n",
              "    }\n",
              "    90% {\n",
              "      border-color: transparent;\n",
              "      border-bottom-color: var(--fill-color);\n",
              "    }\n",
              "  }\n",
              "</style>\n",
              "\n",
              "  <script>\n",
              "    async function quickchart(key) {\n",
              "      const quickchartButtonEl =\n",
              "        document.querySelector('#' + key + ' button');\n",
              "      quickchartButtonEl.disabled = true;  // To prevent multiple clicks.\n",
              "      quickchartButtonEl.classList.add('colab-df-spinner');\n",
              "      try {\n",
              "        const charts = await google.colab.kernel.invokeFunction(\n",
              "            'suggestCharts', [key], {});\n",
              "      } catch (error) {\n",
              "        console.error('Error during call to suggestCharts:', error);\n",
              "      }\n",
              "      quickchartButtonEl.classList.remove('colab-df-spinner');\n",
              "      quickchartButtonEl.classList.add('colab-df-quickchart-complete');\n",
              "    }\n",
              "    (() => {\n",
              "      let quickchartButtonEl =\n",
              "        document.querySelector('#df-3b12b880-6a2e-483b-ab79-a33fc1ee7fc0 button');\n",
              "      quickchartButtonEl.style.display =\n",
              "        google.colab.kernel.accessAllowed ? 'block' : 'none';\n",
              "    })();\n",
              "  </script>\n",
              "</div>\n",
              "\n",
              "    </div>\n",
              "  </div>\n"
            ],
            "application/vnd.google.colaboratory.intrinsic+json": {
              "type": "dataframe",
              "variable_name": "df2",
              "summary": "{\n  \"name\": \"df2\",\n  \"rows\": 50000,\n  \"fields\": [\n    {\n      \"column\": \"words\",\n      \"properties\": {\n        \"dtype\": \"number\",\n        \"std\": 87,\n        \"min\": 3,\n        \"max\": 1362,\n        \"num_unique_values\": 590,\n        \"samples\": [\n          533,\n          355,\n          8\n        ],\n        \"semantic_type\": \"\",\n        \"description\": \"\"\n      }\n    }\n  ]\n}"
            }
          },
          "metadata": {},
          "execution_count": 24
        }
      ],
      "source": [
        "import pandas as pd\n",
        "df2 = pd.DataFrame(sents_len, columns=['words'])\n",
        "df2.describe().round(2)\n",
        "df2.head()"
      ]
    },
    {
      "cell_type": "code",
      "execution_count": 25,
      "metadata": {
        "colab": {
          "base_uri": "https://localhost:8080/",
          "height": 469
        },
        "id": "n6_hMhXAXGd4",
        "outputId": "9428ede1-a3ce-46c4-eb2e-3cd0b1fd0c25"
      },
      "outputs": [
        {
          "output_type": "execute_result",
          "data": {
            "text/plain": [
              "array([[<Axes: title={'center': 'words'}>]], dtype=object)"
            ]
          },
          "metadata": {},
          "execution_count": 25
        },
        {
          "output_type": "display_data",
          "data": {
            "text/plain": [
              "<Figure size 640x480 with 1 Axes>"
            ],
            "image/png": "[encoded data removed]"
          },
          "metadata": {}
        }
      ],
      "source": [
        "df2.hist(bins=50)"
      ]
    },
    {
      "cell_type": "code",
      "execution_count": 26,
      "metadata": {
        "colab": {
          "base_uri": "https://localhost:8080/"
        },
        "id": "jnDJD4TLZPuM",
        "outputId": "1bc73408-ca7e-411d-9a7b-1d914826bb82"
      },
      "outputs": [
        {
          "output_type": "execute_result",
          "data": {
            "text/plain": [
              "[161, 80, 78, 65, 111, 61, 73, 71, 60, 17]"
            ]
          },
          "metadata": {},
          "execution_count": 26
        }
      ],
      "source": [
        "sents_len[:10]"
      ]
    },
    {
      "cell_type": "code",
      "execution_count": 27,
      "metadata": {
        "id": "vwnqSnt8rnjC"
      },
      "outputs": [],
      "source": [
        "max_len = 200 #"
      ]
    },
    {
      "cell_type": "code",
      "execution_count": 28,
      "metadata": {
        "id": "9N83mJ1drvmT"
      },
      "outputs": [],
      "source": [
        "sents_pad = pad_sequences(sents_enc, truncating='post', padding='post', maxlen=max_len)"
      ]
    },
    {
      "cell_type": "code",
      "execution_count": 29,
      "metadata": {
        "colab": {
          "base_uri": "https://localhost:8080/"
        },
        "id": "PxFwe5cnryx7",
        "outputId": "dd5ab1f8-a512-4772-ee93-b49f47ba1a38"
      },
      "outputs": [
        {
          "output_type": "execute_result",
          "data": {
            "text/plain": [
              "[\"reviewers mentioned watching 1 oz episode you'll hooked right exactly happened me the thing struck oz brutality unflinching scenes violence set right word go trust me faint hearted timid pulls punches regards drugs sex violence hardcore classic use word it called oz nickname given oswald maximum security state penitentary focuses mainly emerald city experimental section prison cells glass fronts face inwards privacy high agenda em city home many aryans muslims gangstas latinos christians italians irish more so scuffles death stares dodgy dealings shady agreements far away i main appeal fact goes shows wouldn't dare forget pretty pictures painted mainstream audiences forget charm forget romance oz doesn't mess around episode saw struck nasty surreal couldn't ready it watched more developed taste oz got accustomed high levels graphic violence violence injustice crooked guards who'll sold nickel inmates who'll kill order away it mannered middle class inmates turned prison bitches lack street skills prison experience watching oz comfortable uncomfortable viewing thats touch darker side\",\n",
              " \"wonderful little production filming technique unassuming old time bbc fashion gives comforting discomforting sense realism entire piece actors extremely chosen michael sheen has got polari voices pat too truly seamless editing guided references williams' diary entries worth watching terrificly written performed piece masterful production great master's comedy life realism comes home little things fantasy guard which use traditional 'dream' techniques remains solid disappears plays knowledge senses particularly scenes concerning orton halliwell sets particularly flat halliwell's murals decorating surface terribly done\"]"
            ]
          },
          "metadata": {},
          "execution_count": 29
        }
      ],
      "source": [
        "check_reviews = sents_pad[:2]\n",
        "tk.sequences_to_texts(check_reviews)  #"
      ]
    },
    {
      "cell_type": "markdown",
      "metadata": {
        "id": "gdPq7eXmSY2w"
      },
      "source": [
        "### save and load Tokenizer tk"
      ]
    },
    {
      "cell_type": "code",
      "execution_count": 30,
      "metadata": {
        "id": "6vYGf6-ASOjm"
      },
      "outputs": [],
      "source": [
        "import pickle\n",
        "\n",
        "with open('IMDB_tokenizer.pickle', 'wb') as handle:\n",
        "    pickle.dump(tk, handle, protocol=pickle.HIGHEST_PROTOCOL)"
      ]
    },
    {
      "cell_type": "code",
      "execution_count": 31,
      "metadata": {
        "id": "Segm5BFHSXd5"
      },
      "outputs": [],
      "source": [
        "# load\n",
        "with open('IMDB_tokenizer.pickle', 'rb') as handle:\n",
        "    tk2 = pickle.load(handle)"
      ]
    },
    {
      "cell_type": "markdown",
      "metadata": {
        "id": "ktX1t8SWnXps"
      },
      "source": [
        "# Train test"
      ]
    },
    {
      "cell_type": "code",
      "execution_count": 32,
      "metadata": {
        "id": "Q9GqQIf6r2XH"
      },
      "outputs": [],
      "source": [
        "from sklearn.model_selection import train_test_split\n",
        "\n",
        "X_train, X_test, y_train, y_test = train_test_split(sents_pad, df.label, test_size=.5, random_state=1)"
      ]
    },
    {
      "cell_type": "code",
      "execution_count": 33,
      "metadata": {
        "colab": {
          "base_uri": "https://localhost:8080/"
        },
        "id": "xaAJ3GLPr3rj",
        "outputId": "b97925fd-df07-4f52-fbb2-7c4ac9a0eeb9"
      },
      "outputs": [
        {
          "output_type": "execute_result",
          "data": {
            "text/plain": [
              "((25000, 200), (25000, 200))"
            ]
          },
          "metadata": {},
          "execution_count": 33
        }
      ],
      "source": [
        "X_train.shape, X_test.shape"
      ]
    },
    {
      "cell_type": "markdown",
      "metadata": {
        "id": "h4VDSv2ZnuMT"
      },
      "source": [
        "## Embedding matrix"
      ]
    },
    {
      "cell_type": "code",
      "execution_count": 34,
      "metadata": {
        "colab": {
          "base_uri": "https://localhost:8080/"
        },
        "id": "1lGGJYs0tGBE",
        "outputId": "074e8718-16de-441f-b0b9-b6187fbb2c8c"
      },
      "outputs": [
        {
          "output_type": "execute_result",
          "data": {
            "text/plain": [
              "(125499, 100)"
            ]
          },
          "metadata": {},
          "execution_count": 34
        }
      ],
      "source": [
        "embed_size = wv.vector_size  #\n",
        "\n",
        "embedding_matrix = np.zeros((vocab_size, embed_size))\n",
        "for word, i in tk.word_index.items():\n",
        "    if i>=vocab_size:\n",
        "        continue\n",
        "    try:\n",
        "        embedding_vector = wv[word]\n",
        "        embedding_matrix[i] = embedding_vector[:embed_size]\n",
        "    except KeyError:\n",
        "        embedding_matrix[i]=np.random.normal(0,np.sqrt(0.25), embed_size)\n",
        "\n",
        "embedding_matrix.shape"
      ]
    },
    {
      "cell_type": "code",
      "execution_count": 35,
      "metadata": {
        "colab": {
          "base_uri": "https://localhost:8080/"
        },
        "id": "Ovc0_niYtobv",
        "outputId": "da0a64ab-bb9c-4bc5-c52b-a4b7a3736083"
      },
      "outputs": [
        {
          "output_type": "execute_result",
          "data": {
            "text/plain": [
              "(125499, 100)"
            ]
          },
          "metadata": {},
          "execution_count": 35
        }
      ],
      "source": [
        "embedding_matrix.shape"
      ]
    },
    {
      "cell_type": "code",
      "execution_count": 36,
      "metadata": {
        "id": "CsnhjGfCn_I0",
        "colab": {
          "base_uri": "https://localhost:8080/"
        },
        "outputId": "9d937d27-cfe4-479b-d21e-46de52d19336"
      },
      "outputs": [
        {
          "output_type": "execute_result",
          "data": {
            "text/plain": [
              "array([0., 0., 0., 0., 0., 0., 0., 0., 0., 0., 0., 0., 0., 0., 0., 0., 0.,\n",
              "       0., 0., 0., 0., 0., 0., 0., 0.])"
            ]
          },
          "metadata": {},
          "execution_count": 36
        }
      ],
      "source": [
        "embedding_matrix[0][:25]"
      ]
    },
    {
      "cell_type": "markdown",
      "metadata": {
        "id": "ZIBT3L8VN4ig"
      },
      "source": [
        "Model"
      ]
    },
    {
      "cell_type": "markdown",
      "metadata": {
        "id": "IR_4XWdJwd_Q"
      },
      "source": [
        "#### LSTM"
      ]
    },
    {
      "cell_type": "code",
      "execution_count": 37,
      "metadata": {
        "id": "cP4M8P-_vN6C"
      },
      "outputs": [],
      "source": [
        "# model=Sequential()\n",
        "# model.add(Embedding(vocab_size, embed_size,\n",
        "#                      weights=[embedding_matrix],\n",
        "#                      trainable=True # False #,\n",
        "#                 #    input_shape=(X_train.shape[1],) #\n",
        "#                     ))\n",
        "# # model.add(LSTM(units=128, activation='tanh'))\n",
        "# model.add(Bidirectional(LSTM(units=128, activation='tanh')))\n",
        "# model.add(Dense(units=1, activation='sigmoid'))\n",
        "# model.summary()"
      ]
    },
    {
      "cell_type": "markdown",
      "metadata": {
        "id": "CVwe_64zzg5U"
      },
      "source": [
        "#### GRU"
      ]
    },
    {
      "cell_type": "code",
      "execution_count": 38,
      "metadata": {
        "colab": {
          "base_uri": "https://localhost:8080/",
          "height": 225
        },
        "id": "qESFAsjpxo5E",
        "outputId": "940bafbe-c76d-44f6-dbfe-25deeaac4bda"
      },
      "outputs": [
        {
          "output_type": "display_data",
          "data": {
            "text/plain": [
              "\u001b[1mModel: \"sequential\"\u001b[0m\n"
            ],
            "text/html": [
              "<pre style=\"white-space:pre;overflow-x:auto;line-height:normal;font-family:Menlo,'DejaVu Sans Mono',consolas,'Courier New',monospace\"><span style=\"font-weight: bold\">Model: \"sequential\"</span>\n",
              "</pre>\n"
            ]
          },
          "metadata": {}
        },
        {
          "output_type": "display_data",
          "data": {
            "text/plain": [
              "┏━━━━━━━━━━━━━━━━━━━━━━━━━━━━━━━━━━━━━━┳━━━━━━━━━━━━━━━━━━━━━━━━━━━━━┳━━━━━━━━━━━━━━━━━┓\n",
              "┃\u001b[1m \u001b[0m\u001b[1mLayer (type)                        \u001b[0m\u001b[1m \u001b[0m┃\u001b[1m \u001b[0m\u001b[1mOutput Shape               \u001b[0m\u001b[1m \u001b[0m┃\u001b[1m \u001b[0m\u001b[1m        Param #\u001b[0m\u001b[1m \u001b[0m┃\n",
              "┡━━━━━━━━━━━━━━━━━━━━━━━━━━━━━━━━━━━━━━╇━━━━━━━━━━━━━━━━━━━━━━━━━━━━━╇━━━━━━━━━━━━━━━━━┩\n",
              "│ embedding (\u001b[38;5;33mEmbedding\u001b[0m)                │ ?                           │      \u001b[38;5;34m12,549,900\u001b[0m │\n",
              "├──────────────────────────────────────┼─────────────────────────────┼─────────────────┤\n",
              "│ bidirectional (\u001b[38;5;33mBidirectional\u001b[0m)        │ ?                           │     \u001b[38;5;34m0\u001b[0m (unbuilt) │\n",
              "├──────────────────────────────────────┼─────────────────────────────┼─────────────────┤\n",
              "│ dense (\u001b[38;5;33mDense\u001b[0m)                        │ ?                           │     \u001b[38;5;34m0\u001b[0m (unbuilt) │\n",
              "└──────────────────────────────────────┴─────────────────────────────┴─────────────────┘\n"
            ],
            "text/html": [
              "<pre style=\"white-space:pre;overflow-x:auto;line-height:normal;font-family:Menlo,'DejaVu Sans Mono',consolas,'Courier New',monospace\">┏━━━━━━━━━━━━━━━━━━━━━━━━━━━━━━━━━━━━━━┳━━━━━━━━━━━━━━━━━━━━━━━━━━━━━┳━━━━━━━━━━━━━━━━━┓\n",
              "┃<span style=\"font-weight: bold\"> Layer (type)                         </span>┃<span style=\"font-weight: bold\"> Output Shape                </span>┃<span style=\"font-weight: bold\">         Param # </span>┃\n",
              "┡━━━━━━━━━━━━━━━━━━━━━━━━━━━━━━━━━━━━━━╇━━━━━━━━━━━━━━━━━━━━━━━━━━━━━╇━━━━━━━━━━━━━━━━━┩\n",
              "│ embedding (<span style=\"color: #0087ff; text-decoration-color: #0087ff\">Embedding</span>)                │ ?                           │      <span style=\"color: #00af00; text-decoration-color: #00af00\">12,549,900</span> │\n",
              "├──────────────────────────────────────┼─────────────────────────────┼─────────────────┤\n",
              "│ bidirectional (<span style=\"color: #0087ff; text-decoration-color: #0087ff\">Bidirectional</span>)        │ ?                           │     <span style=\"color: #00af00; text-decoration-color: #00af00\">0</span> (unbuilt) │\n",
              "├──────────────────────────────────────┼─────────────────────────────┼─────────────────┤\n",
              "│ dense (<span style=\"color: #0087ff; text-decoration-color: #0087ff\">Dense</span>)                        │ ?                           │     <span style=\"color: #00af00; text-decoration-color: #00af00\">0</span> (unbuilt) │\n",
              "└──────────────────────────────────────┴─────────────────────────────┴─────────────────┘\n",
              "</pre>\n"
            ]
          },
          "metadata": {}
        },
        {
          "output_type": "display_data",
          "data": {
            "text/plain": [
              "\u001b[1m Total params: \u001b[0m\u001b[38;5;34m12,549,900\u001b[0m (47.87 MB)\n"
            ],
            "text/html": [
              "<pre style=\"white-space:pre;overflow-x:auto;line-height:normal;font-family:Menlo,'DejaVu Sans Mono',consolas,'Courier New',monospace\"><span style=\"font-weight: bold\"> Total params: </span><span style=\"color: #00af00; text-decoration-color: #00af00\">12,549,900</span> (47.87 MB)\n",
              "</pre>\n"
            ]
          },
          "metadata": {}
        },
        {
          "output_type": "display_data",
          "data": {
            "text/plain": [
              "\u001b[1m Trainable params: \u001b[0m\u001b[38;5;34m12,549,900\u001b[0m (47.87 MB)\n"
            ],
            "text/html": [
              "<pre style=\"white-space:pre;overflow-x:auto;line-height:normal;font-family:Menlo,'DejaVu Sans Mono',consolas,'Courier New',monospace\"><span style=\"font-weight: bold\"> Trainable params: </span><span style=\"color: #00af00; text-decoration-color: #00af00\">12,549,900</span> (47.87 MB)\n",
              "</pre>\n"
            ]
          },
          "metadata": {}
        },
        {
          "output_type": "display_data",
          "data": {
            "text/plain": [
              "\u001b[1m Non-trainable params: \u001b[0m\u001b[38;5;34m0\u001b[0m (0.00 B)\n"
            ],
            "text/html": [
              "<pre style=\"white-space:pre;overflow-x:auto;line-height:normal;font-family:Menlo,'DejaVu Sans Mono',consolas,'Courier New',monospace\"><span style=\"font-weight: bold\"> Non-trainable params: </span><span style=\"color: #00af00; text-decoration-color: #00af00\">0</span> (0.00 B)\n",
              "</pre>\n"
            ]
          },
          "metadata": {}
        }
      ],
      "source": [
        "from keras.layers import GRU, Bidirectional\n",
        "\n",
        "model=Sequential()\n",
        "model.add(Embedding(vocab_size, embed_size,\n",
        "                     weights=[embedding_matrix],\n",
        "                     trainable=True\n",
        "                #    input_shape=(X_train.shape[1],) #\n",
        "                    ))\n",
        "model.add(Bidirectional(GRU(units=128, activation='tanh')))\n",
        "model.add(Dense(units=1, activation='sigmoid'))\n",
        "model.summary()"
      ]
    },
    {
      "cell_type": "code",
      "execution_count": 39,
      "metadata": {
        "colab": {
          "base_uri": "https://localhost:8080/"
        },
        "id": "3riLeGPHr8ow",
        "outputId": "36278f3e-2c2c-4709-a436-76ec0691e212"
      },
      "outputs": [
        {
          "output_type": "stream",
          "name": "stdout",
          "text": [
            "Epoch 1/10\n",
            "\u001b[1m196/196\u001b[0m \u001b[32m━━━━━━━━━━━━━━━━━━━━\u001b[0m\u001b[37m\u001b[0m \u001b[1m15s\u001b[0m 48ms/step - accuracy: 0.6803 - loss: 0.5795 - val_accuracy: 0.8575 - val_loss: 0.3564\n",
            "Epoch 2/10\n",
            "\u001b[1m196/196\u001b[0m \u001b[32m━━━━━━━━━━━━━━━━━━━━\u001b[0m\u001b[37m\u001b[0m \u001b[1m9s\u001b[0m 47ms/step - accuracy: 0.8894 - loss: 0.2838 - val_accuracy: 0.8724 - val_loss: 0.3077\n",
            "Epoch 3/10\n",
            "\u001b[1m196/196\u001b[0m \u001b[32m━━━━━━━━━━━━━━━━━━━━\u001b[0m\u001b[37m\u001b[0m \u001b[1m10s\u001b[0m 47ms/step - accuracy: 0.9458 - loss: 0.1542 - val_accuracy: 0.8852 - val_loss: 0.2927\n",
            "Epoch 4/10\n",
            "\u001b[1m196/196\u001b[0m \u001b[32m━━━━━━━━━━━━━━━━━━━━\u001b[0m\u001b[37m\u001b[0m \u001b[1m10s\u001b[0m 46ms/step - accuracy: 0.9790 - loss: 0.0689 - val_accuracy: 0.8799 - val_loss: 0.3912\n",
            "Epoch 5/10\n",
            "\u001b[1m196/196\u001b[0m \u001b[32m━━━━━━━━━━━━━━━━━━━━\u001b[0m\u001b[37m\u001b[0m \u001b[1m9s\u001b[0m 46ms/step - accuracy: 0.9915 - loss: 0.0301 - val_accuracy: 0.8746 - val_loss: 0.4854\n",
            "Epoch 6/10\n",
            "\u001b[1m196/196\u001b[0m \u001b[32m━━━━━━━━━━━━━━━━━━━━\u001b[0m\u001b[37m\u001b[0m \u001b[1m9s\u001b[0m 47ms/step - accuracy: 0.9970 - loss: 0.0129 - val_accuracy: 0.8742 - val_loss: 0.6021\n",
            "Epoch 7/10\n",
            "\u001b[1m196/196\u001b[0m \u001b[32m━━━━━━━━━━━━━━━━━━━━\u001b[0m\u001b[37m\u001b[0m \u001b[1m9s\u001b[0m 48ms/step - accuracy: 0.9975 - loss: 0.0097 - val_accuracy: 0.8631 - val_loss: 0.5821\n",
            "Epoch 8/10\n",
            "\u001b[1m196/196\u001b[0m \u001b[32m━━━━━━━━━━━━━━━━━━━━\u001b[0m\u001b[37m\u001b[0m \u001b[1m9s\u001b[0m 45ms/step - accuracy: 0.9987 - loss: 0.0048 - val_accuracy: 0.8653 - val_loss: 0.6555\n",
            "Epoch 9/10\n",
            "\u001b[1m196/196\u001b[0m \u001b[32m━━━━━━━━━━━━━━━━━━━━\u001b[0m\u001b[37m\u001b[0m \u001b[1m9s\u001b[0m 48ms/step - accuracy: 0.9993 - loss: 0.0021 - val_accuracy: 0.8658 - val_loss: 0.7560\n",
            "Epoch 10/10\n",
            "\u001b[1m196/196\u001b[0m \u001b[32m━━━━━━━━━━━━━━━━━━━━\u001b[0m\u001b[37m\u001b[0m \u001b[1m10s\u001b[0m 45ms/step - accuracy: 0.9999 - loss: 9.4499e-04 - val_accuracy: 0.8639 - val_loss: 0.8325\n"
          ]
        }
      ],
      "source": [
        "model.compile(optimizer='adam', loss='binary_crossentropy', metrics=['accuracy']) #\n",
        "\n",
        "history = model.fit(X_train, y_train, epochs=10, batch_size=128,\n",
        "                    verbose=1, validation_data=(X_test,y_test))"
      ]
    },
    {
      "cell_type": "code",
      "execution_count": 40,
      "metadata": {
        "colab": {
          "base_uri": "https://localhost:8080/"
        },
        "id": "1a0Z9-4wsEsu",
        "outputId": "4ec917cb-08f6-458c-b5ae-3a994b00ebc5"
      },
      "outputs": [
        {
          "output_type": "stream",
          "name": "stdout",
          "text": [
            "\u001b[1m782/782\u001b[0m \u001b[32m━━━━━━━━━━━━━━━━━━━━\u001b[0m\u001b[37m\u001b[0m \u001b[1m6s\u001b[0m 8ms/step - accuracy: 0.8625 - loss: 0.8436\n",
            "Test accuracy: 0.864\n"
          ]
        }
      ],
      "source": [
        "loss, acurracy = model.evaluate(X_test, y_test)\n",
        "print(\"Test accuracy: {:.3f}\".format(acurracy))"
      ]
    },
    {
      "cell_type": "code",
      "execution_count": 41,
      "metadata": {
        "colab": {
          "base_uri": "https://localhost:8080/",
          "height": 352
        },
        "id": "KKQ5_PgMvHfT",
        "outputId": "68061a00-ddb1-496f-e0b1-e77f82541410"
      },
      "outputs": [
        {
          "output_type": "display_data",
          "data": {
            "text/plain": [
              "<Figure size 1000x350 with 2 Axes>"
            ],
            "image/png": "[encoded data removed]"
          },
          "metadata": {}
        }
      ],
      "source": [
        "import matplotlib.pyplot as plt\n",
        "\n",
        "plt.figure(figsize=(10, 3.5))\n",
        "plt.subplot(1, 2, 1)\n",
        "\n",
        "plt.title('Loss')\n",
        "plt.plot(history.history['loss'], label='Training Loss')\n",
        "plt.plot(history.history['val_loss'],'r', lw=3.2, label='Validation loss')\n",
        "plt.legend()\n",
        "\n",
        "plt.subplot(1, 2, 2)\n",
        "plt.title('Accuracy')\n",
        "\n",
        "plt.plot(history.history['accuracy'], label='Training')\n",
        "plt.plot(history.history['val_accuracy'], 'r', lw=3.2, label='Validation')\n",
        "plt.legend()\n",
        "plt.show()"
      ]
    },
    {
      "cell_type": "markdown",
      "metadata": {
        "id": "MJiEJoHfRMBs"
      },
      "source": [
        "## Predict"
      ]
    },
    {
      "cell_type": "code",
      "execution_count": 43,
      "metadata": {
        "colab": {
          "base_uri": "https://localhost:8080/"
        },
        "id": "EvuA0NTNRp7C",
        "outputId": "496b6d91-d43c-4bd4-8615-d90ad095068a"
      },
      "outputs": [
        {
          "output_type": "execute_result",
          "data": {
            "text/plain": [
              "['this',\n",
              " 'film',\n",
              " 'is',\n",
              " 'about',\n",
              " 'politics',\n",
              " 'i',\n",
              " 'do',\n",
              " 'not',\n",
              " 'like',\n",
              " 'it',\n",
              " 'it',\n",
              " 'sucks',\n",
              " 'horrible',\n",
              " 'can',\n",
              " 'i',\n",
              " 'get',\n",
              " 'money',\n",
              " 'back',\n",
              " 'i',\n",
              " 'do',\n",
              " 'not',\n",
              " 'recommend',\n",
              " 'it']"
            ]
          },
          "metadata": {},
          "execution_count": 43
        }
      ],
      "source": [
        "from tensorflow.keras.preprocessing.text import text_to_word_sequence\n",
        "\n",
        "# define the document\n",
        "comment1 = 'this film is about politics. i do not like it. It sucks, horrible. Can i get money back i do not recommend it'\n",
        "comment2 = 'this film is about politics. people talk about it. the film is not good. i do not recommend it'\n",
        "comment3= 'this film is about politics. people like it. my opinion is different.'\n",
        "\n",
        "words_tk = text_to_word_sequence(comment1)\n",
        "words_tk"
      ]
    },
    {
      "cell_type": "code",
      "execution_count": 44,
      "metadata": {
        "colab": {
          "base_uri": "https://localhost:8080/"
        },
        "id": "KS3nXfMyQEme",
        "outputId": "209abd0a-adfa-45a6-ca60-d39632fba50c"
      },
      "outputs": [
        {
          "output_type": "execute_result",
          "data": {
            "text/plain": [
              "(30, 2)"
            ]
          },
          "metadata": {},
          "execution_count": 44
        }
      ],
      "source": [
        "tk.word_index['this'] , tk.word_index['film']"
      ]
    },
    {
      "cell_type": "code",
      "execution_count": 45,
      "metadata": {
        "colab": {
          "base_uri": "https://localhost:8080/"
        },
        "id": "miOhsvbNR5Eu",
        "outputId": "256d073b-5324-4dee-c78e-5179b561040b"
      },
      "outputs": [
        {
          "output_type": "execute_result",
          "data": {
            "text/plain": [
              "[[30,\n",
              "  2,\n",
              "  92,\n",
              "  550,\n",
              "  2421,\n",
              "  12,\n",
              "  554,\n",
              "  550,\n",
              "  6,\n",
              "  7,\n",
              "  2,\n",
              "  92,\n",
              "  188,\n",
              "  5,\n",
              "  29,\n",
              "  370,\n",
              "  188,\n",
              "  230,\n",
              "  6]]"
            ]
          },
          "metadata": {},
          "execution_count": 45
        }
      ],
      "source": [
        "new_words_enc = tk.texts_to_sequences([comment2])\n",
        "new_words_enc"
      ]
    },
    {
      "cell_type": "code",
      "execution_count": 46,
      "metadata": {
        "colab": {
          "base_uri": "https://localhost:8080/"
        },
        "id": "gKjvtydIRHl0",
        "outputId": "56b7f597-f453-4798-e0b1-f458428e5f0e"
      },
      "outputs": [
        {
          "output_type": "execute_result",
          "data": {
            "text/plain": [
              "array([[  30,    2,   92,  550, 2421,   12,  554,  550,    6,    7,    2,\n",
              "          92,  188,    5,   29,  370,  188,  230,    6,    0,    0,    0,\n",
              "           0,    0,    0,    0,    0,    0,    0,    0,    0,    0,    0,\n",
              "           0,    0,    0,    0,    0,    0,    0,    0,    0,    0,    0,\n",
              "           0,    0,    0,    0,    0,    0,    0,    0,    0,    0,    0,\n",
              "           0,    0,    0,    0,    0,    0,    0,    0,    0,    0,    0,\n",
              "           0,    0,    0,    0,    0,    0,    0,    0,    0,    0,    0,\n",
              "           0,    0,    0,    0,    0,    0,    0,    0,    0,    0,    0,\n",
              "           0,    0,    0,    0,    0,    0,    0,    0,    0,    0,    0,\n",
              "           0,    0,    0,    0,    0,    0,    0,    0,    0,    0,    0,\n",
              "           0,    0,    0,    0,    0,    0,    0,    0,    0,    0,    0,\n",
              "           0,    0,    0,    0,    0,    0,    0,    0,    0,    0,    0,\n",
              "           0,    0,    0,    0,    0,    0,    0,    0,    0,    0,    0,\n",
              "           0,    0,    0,    0,    0,    0,    0,    0,    0,    0,    0,\n",
              "           0,    0,    0,    0,    0,    0,    0,    0,    0,    0,    0,\n",
              "           0,    0,    0,    0,    0,    0,    0,    0,    0,    0,    0,\n",
              "           0,    0,    0,    0,    0,    0,    0,    0,    0,    0,    0,\n",
              "           0,    0,    0,    0,    0,    0,    0,    0,    0,    0,    0,\n",
              "           0,    0]], dtype=int32)"
            ]
          },
          "metadata": {},
          "execution_count": 46
        }
      ],
      "source": [
        "\n",
        "X_new = pad_sequences(new_words_enc, truncating='post', padding='post', maxlen=max_len)\n",
        "\n",
        "X_new"
      ]
    },
    {
      "cell_type": "code",
      "execution_count": 47,
      "metadata": {
        "colab": {
          "base_uri": "https://localhost:8080/"
        },
        "id": "IFTSik9TTN1j",
        "outputId": "c3ddcee3-be6a-47de-ae37-840459a87ace"
      },
      "outputs": [
        {
          "output_type": "execute_result",
          "data": {
            "text/plain": [
              "['this film is about politics people talk about it the film is not good i do not recommend it']"
            ]
          },
          "metadata": {},
          "execution_count": 47
        }
      ],
      "source": [
        "\n",
        "tk.sequences_to_texts(X_new)"
      ]
    },
    {
      "cell_type": "code",
      "execution_count": 48,
      "metadata": {
        "colab": {
          "base_uri": "https://localhost:8080/"
        },
        "id": "i3qQhPx7S62V",
        "outputId": "7917c980-f9ea-431b-c180-b71c177eb321"
      },
      "outputs": [
        {
          "output_type": "stream",
          "name": "stdout",
          "text": [
            "\u001b[1m1/1\u001b[0m \u001b[32m━━━━━━━━━━━━━━━━━━━━\u001b[0m\u001b[37m\u001b[0m \u001b[1m0s\u001b[0m 196ms/step\n",
            "0.989\n",
            "Positive\n"
          ]
        }
      ],
      "source": [
        "result = model.predict(X_new)\n",
        "print(np.squeeze(result).round(3))\n",
        "print('Positive' if result[0] > 0.5 else 'Negative')"
      ]
    },
    {
      "cell_type": "code",
      "execution_count": 49,
      "metadata": {
        "colab": {
          "base_uri": "https://localhost:8080/"
        },
        "id": "58BJW0EvTBOU",
        "outputId": "8524c48e-fe27-437b-9cfa-e7dc37ae7097"
      },
      "outputs": [
        {
          "output_type": "stream",
          "name": "stdout",
          "text": [
            "this film is about politics. i do not like it. It sucks, horrible. Can i get money back i do not recommend it\n",
            "this film is about politics. people talk about it. the film is not good. i do not recommend it\n",
            "this film is about politics. people like it. my opinion is different.\n"
          ]
        }
      ],
      "source": [
        "reviews_new = [comment1, comment2, comment3]\n",
        "# print(reviews_new)\n",
        "\n",
        "for i in reviews_new:\n",
        "    print(i)"
      ]
    },
    {
      "cell_type": "code",
      "execution_count": 50,
      "metadata": {
        "colab": {
          "base_uri": "https://localhost:8080/"
        },
        "id": "yUx8XvQRTffN",
        "outputId": "625ceeb9-7709-42d2-e283-d167a7cb83a6"
      },
      "outputs": [
        {
          "output_type": "stream",
          "name": "stdout",
          "text": [
            "\u001b[1m1/1\u001b[0m \u001b[32m━━━━━━━━━━━━━━━━━━━━\u001b[0m\u001b[37m\u001b[0m \u001b[1m0s\u001b[0m 188ms/step\n",
            "[[0.001]\n",
            " [0.989]\n",
            " [1.   ]]\n"
          ]
        }
      ],
      "source": [
        "new_words_enc = tk.texts_to_sequences(reviews_new)\n",
        "# new_words_enc\n",
        "X_new = pad_sequences(new_words_enc, truncating='post', padding='post', maxlen=max_len)\n",
        "results = model.predict(X_new)\n",
        "print(results.round(3))"
      ]
    },
    {
      "cell_type": "code",
      "execution_count": 51,
      "metadata": {
        "colab": {
          "base_uri": "https://localhost:8080/"
        },
        "id": "bKZRM7AlTwdu",
        "outputId": "b82f4bdd-767b-4922-c4b1-37962fae75e6"
      },
      "outputs": [
        {
          "output_type": "execute_result",
          "data": {
            "text/plain": [
              "[0, 0, 0, 0, 1, 0, 0, 0, 0, 0, 1, 1, 1, 1, 0]"
            ]
          },
          "metadata": {},
          "execution_count": 51
        }
      ],
      "source": [
        "y_test[:15].tolist()"
      ]
    },
    {
      "cell_type": "code",
      "execution_count": 52,
      "metadata": {
        "colab": {
          "base_uri": "https://localhost:8080/"
        },
        "id": "GY8jLSeOTxtQ",
        "outputId": "587da1b6-7ff2-4aca-be47-e59a0892f5cb"
      },
      "outputs": [
        {
          "output_type": "stream",
          "name": "stdout",
          "text": [
            "\u001b[1m1/1\u001b[0m \u001b[32m━━━━━━━━━━━━━━━━━━━━\u001b[0m\u001b[37m\u001b[0m \u001b[1m0s\u001b[0m 37ms/step\n",
            "[0.22 0.   0.   0.   1.   0.   1.   0.   0.   0.   0.03 0.   1.   1.\n",
            " 0.  ]\n"
          ]
        }
      ],
      "source": [
        "result = model.predict(X_test[:15])\n",
        "print(np.squeeze(result).round(2))"
      ]
    },
    {
      "cell_type": "code",
      "execution_count": 52,
      "metadata": {
        "id": "vqkdVf7KiT6S"
      },
      "outputs": [],
      "source": []
    }
  ],
  "metadata": {
    "colab": {
      "collapsed_sections": [
        "3DQ7tuYQWKqw",
        "9ubFbpp1WCd7",
        "2w6JjoAGfJVs",
        "h4VDSv2ZnuMT",
        "IR_4XWdJwd_Q",
        "CVwe_64zzg5U",
        "iqVpQkLb5JTA",
        "CX2zMFGraLLV"
      ],
      "provenance": [],
      "toc_visible": true,
      "gpuType": "T4"
    },
    "kernelspec": {
      "display_name": "Python 3",
      "name": "python3"
    },
    "language_info": {
      "codemirror_mode": {
        "name": "ipython",
        "version": 3
      },
      "file_extension": ".py",
      "mimetype": "text/x-python",
      "name": "python",
      "nbconvert_exporter": "python",
      "pygments_lexer": "ipython3",
      "version": "3.12.5"
    },
    "accelerator": "GPU"
  },
  "nbformat": 4,
  "nbformat_minor": 0
}